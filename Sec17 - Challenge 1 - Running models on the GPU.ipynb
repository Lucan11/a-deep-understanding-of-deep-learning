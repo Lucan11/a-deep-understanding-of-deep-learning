{
 "nbformat": 4,
 "nbformat_minor": 0,
 "metadata": {
  "colab": {
   "name": "DUDL_autoenc_denoisingMNIST.ipynb",
   "provenance": [
    {
     "file_id": "1FcEBC0NAESIlHQkv6_85R-XDUKGE8XbM",
     "timestamp": 1619155961717
    },
    {
     "file_id": "1qKgZ8kVcqNgwtBzHbWq5yJH_HqI6DxWW",
     "timestamp": 1617803880910
    },
    {
     "file_id": "15cpyHkJ435B4MqbyGjAH1poN4nCy_DE4",
     "timestamp": 1617737766196
    },
    {
     "file_id": "1OLuWuaFu0hcFgkQ2hh5BqbRuqUZD7XcQ",
     "timestamp": 1617734878578
    },
    {
     "file_id": "1XvzVGJPTJifVh8OpZVB7ykLxyUqYwQ1j",
     "timestamp": 1617196833019
    },
    {
     "file_id": "1bv1_y32e3KEExFKKlPfC3rpw1JxmBr8H",
     "timestamp": 1617124341706
    },
    {
     "file_id": "1GMq8u7KyHB2AE7Teyls9gK1T01OduQSn",
     "timestamp": 1616697516760
    },
    {
     "file_id": "1Ui3kyHim-e0XLgDs2mkBxVlYg7TKYtcg",
     "timestamp": 1616615469755
    },
    {
     "file_id": "1YpHocGI4rApOxIBb1ZghCU5L-hFnv4CK",
     "timestamp": 1616608248670
    }
   ],
   "collapsed_sections": [],
   "authorship_tag": "ABX9TyMMYBOs+CJWj6NXJ0M+a+1O"
  },
  "kernelspec": {
   "name": "python3",
   "display_name": "Python 3"
  }
 },
 "cells": [
  {
   "cell_type": "markdown",
   "metadata": {
    "id": "bhWV8oes-wKR"
   },
   "source": [
    "# COURSE: A deep understanding of deep learning\n",
    "## SECTION: Autoencoders\n",
    "### LECTURE: Denoising MNIST\n",
    "#### TEACHER: Mike X Cohen, sincxpress.com\n",
    "##### COURSE URL: udemy.com/course/deeplearning_x/?couponCode=202210"
   ]
  },
  {
   "cell_type": "code",
   "metadata": {
    "id": "YeuAheYyhdZw"
   },
   "source": [
    "# import libraries\n",
    "import numpy as np\n",
    "import sys\n",
    "\n",
    "import torch\n",
    "import torch.nn as nn\n",
    "import torch.nn.functional as F\n",
    "\n",
    "import matplotlib.pyplot as plt\n",
    "from IPython import display\n",
    "display.set_matplotlib_formats('svg')"
   ],
   "execution_count": 1,
   "outputs": [
    {
     "name": "stderr",
     "output_type": "stream",
     "text": [
      "C:\\Users\\lucan\\AppData\\Local\\Temp\\ipykernel_8676\\3064566235.py:11: DeprecationWarning: `set_matplotlib_formats` is deprecated since IPython 7.23, directly use `matplotlib_inline.backend_inline.set_matplotlib_formats()`\n",
      "  display.set_matplotlib_formats('svg')\n"
     ]
    }
   ]
  },
  {
   "cell_type": "markdown",
   "source": [
    "# Use GPU"
   ],
   "metadata": {
    "collapsed": false
   }
  },
  {
   "cell_type": "code",
   "execution_count": 4,
   "outputs": [
    {
     "name": "stdout",
     "output_type": "stream",
     "text": [
      "cuda:0\n"
     ]
    }
   ],
   "source": [
    "device = torch.device('cuda:0' if torch.cuda.is_available() else 'cpu')\n",
    "print(device)"
   ],
   "metadata": {
    "collapsed": false
   }
  },
  {
   "cell_type": "markdown",
   "metadata": {
    "id": "0HOkOefftqyg"
   },
   "source": [
    "# Import and process the data"
   ]
  },
  {
   "cell_type": "code",
   "metadata": {
    "id": "MU7rvmWuhjud"
   },
   "source": [
    "# import dataset (comes with colab!)\n",
    "data = np.loadtxt(open('FFN/mnist_train_small.csv','rb'),delimiter=',')\n",
    "\n",
    "# don't need labels!\n",
    "data = data[:,1:]\n",
    "\n",
    "# normalize the data to a range of [0 1]\n",
    "dataNorm = data / np.max(data)\n",
    "\n",
    "# convert to tensor\n",
    "dataT = torch.tensor( dataNorm ).float()"
   ],
   "execution_count": 5,
   "outputs": []
  },
  {
   "cell_type": "markdown",
   "metadata": {
    "id": "OK8Opkhgp0bO"
   },
   "source": [
    "# Create the DL model"
   ]
  },
  {
   "cell_type": "code",
   "metadata": {
    "id": "JK3OO3tAtZkA"
   },
   "source": [
    "# create a class for the model\n",
    "def createTheMNISTAE(n_encode: int, n_bottleneck: int):\n",
    "\n",
    "  class aenet(nn.Module):\n",
    "    def __init__(self, n_encode: int, n_bottleneck: int):\n",
    "      super().__init__()\n",
    "\n",
    "      ### input layer\n",
    "      self.input = nn.Linear(784,n_encode)\n",
    "      \n",
    "      ### encoder layer\n",
    "      self.enc = nn.Linear(n_encode,n_bottleneck)\n",
    "\n",
    "      ### latent layer\n",
    "      self.lat = nn.Linear(n_bottleneck,n_encode)\n",
    "\n",
    "      ### decoder layer\n",
    "      self.dec = nn.Linear(n_encode,784)\n",
    "\n",
    "    # forward pass\n",
    "    def forward(self,x):\n",
    "      x = F.relu( self.input(x) )\n",
    "      x = F.relu( self.enc(x) )\n",
    "      x = F.relu( self.lat(x) )\n",
    "      y = torch.sigmoid( self.dec(x) )\n",
    "      return y\n",
    "  \n",
    "  # create the model instance\n",
    "  net = aenet(n_encode, n_bottleneck)\n",
    "  \n",
    "  # loss function\n",
    "  lossfun = nn.MSELoss()\n",
    "\n",
    "  # optimizer\n",
    "  optimizer = torch.optim.Adam(net.parameters(),lr=.001)\n",
    "\n",
    "  return net,lossfun,optimizer"
   ],
   "execution_count": 6,
   "outputs": []
  },
  {
   "cell_type": "markdown",
   "source": [
    "# Test the model"
   ],
   "metadata": {
    "collapsed": false
   }
  },
  {
   "cell_type": "code",
   "metadata": {
    "id": "y6icEJcXp0el"
   },
   "source": [
    "# test the model with a bit of data on the CPU and GPU\n",
    "net,lossfun,optimizer = createTheMNISTAE(500, 10)\n",
    "\n",
    "X = dataT[:5,:]\n",
    "yHat = net(X)\n",
    "\n",
    "print(X.shape)\n",
    "print(yHat.shape)\n",
    "\n",
    "net.to(device)\n",
    "dataTD = dataT.to(device)\n",
    "net(dataTD)"
   ],
   "execution_count": 11,
   "outputs": [
    {
     "name": "stdout",
     "output_type": "stream",
     "text": [
      "torch.Size([5, 784])\n",
      "torch.Size([5, 784])\n"
     ]
    },
    {
     "data": {
      "text/plain": "tensor([[0.5189, 0.5258, 0.5002,  ..., 0.4708, 0.4897, 0.5072],\n        [0.5176, 0.5257, 0.4992,  ..., 0.4733, 0.4875, 0.5108],\n        [0.5212, 0.5281, 0.4989,  ..., 0.4706, 0.4890, 0.5069],\n        ...,\n        [0.5193, 0.5308, 0.4986,  ..., 0.4709, 0.4870, 0.5043],\n        [0.5194, 0.5254, 0.4984,  ..., 0.4734, 0.4856, 0.5125],\n        [0.5216, 0.5295, 0.4968,  ..., 0.4712, 0.4873, 0.5012]],\n       device='cuda:0', grad_fn=<SigmoidBackward0>)"
     },
     "execution_count": 11,
     "metadata": {},
     "output_type": "execute_result"
    }
   ]
  },
  {
   "cell_type": "markdown",
   "metadata": {
    "id": "dvfGQIRGp0ht"
   },
   "source": [
    "# Create a function that trains the model"
   ]
  },
  {
   "cell_type": "code",
   "execution_count": 51,
   "outputs": [
    {
     "name": "stdout",
     "output_type": "stream",
     "text": [
      "torch.Size([20000, 784])\n",
      "torch.Size([625, 32, 784])\n",
      "torch.Size([15680000])\n",
      "torch.Size([15680000])\n"
     ]
    }
   ],
   "source": [
    "def create_dataloader(dataT: torch.tensor, batch_size: int):\n",
    "\n",
    "  # Calculate how many batches we can create, and what we need to discard\n",
    "  number_of_batches = dataT.shape[0] // batch_size\n",
    "  samples_to_discard = dataT.shape[0] % batch_size\n",
    "\n",
    "  # Shuffle the input data\n",
    "  dataT_shuffled = dataT[torch.randperm(len(dataT))]\n",
    "\n",
    "  # Remove excess values\n",
    "  if samples_to_discard > 0:\n",
    "    data_adj = dataT_shuffled[:-samples_to_discard, :]\n",
    "  else:\n",
    "    data_adj = dataT_shuffled\n",
    "\n",
    "  # Create batches\n",
    "  reshaped_data = data_adj.reshape((number_of_batches, batch_size, dataT.shape[-1]))\n",
    "\n",
    "  ## Shuffle the data\n",
    "  return reshaped_data\n",
    "\n",
    "reshaped_data = create_dataloader(dataT, 32)\n",
    "print(dataT.shape)\n",
    "print(reshaped_data.shape)\n",
    "print(dataT.flatten().size())\n",
    "print(reshaped_data.flatten().size())"
   ],
   "metadata": {
    "collapsed": false
   }
  },
  {
   "cell_type": "code",
   "metadata": {
    "id": "IblJo1NCp0kl"
   },
   "source": [
    "def function2trainTheModel(n_encode: int, n_bottleneck: int, CUDA: bool):\n",
    "\n",
    "  # number of epochs\n",
    "  numepochs = 15\n",
    "  \n",
    "  # create a new model\n",
    "  net,lossfun,optimizer = createTheMNISTAE(n_encode, n_bottleneck)\n",
    "\n",
    "  # Load the model and data to the GPU\n",
    "  if CUDA:\n",
    "    net.to(device)\n",
    "    dataTD = dataT.to(device)\n",
    "  else:\n",
    "    dataTD = dataT\n",
    "\n",
    "  # initialize losses\n",
    "  losses = torch.zeros(numepochs)\n",
    "\n",
    "  # loop over epochs\n",
    "  for epochi in range(numepochs):\n",
    "    sys.stdout.write(f\"\\rRunning... [{epochi}/{numepochs}].\")\n",
    "    sys.stdout.flush()\n",
    "\n",
    "    data_loader = create_dataloader(dataTD, batch_size=32)\n",
    "    number_of_batches = data_loader.shape[0]\n",
    "    for X in data_loader:\n",
    "\n",
    "      # forward pass and loss\n",
    "      yHat = net(X)\n",
    "      loss = lossfun(yHat, X)\n",
    "\n",
    "      # backprop\n",
    "      optimizer.zero_grad()\n",
    "      loss.backward()\n",
    "      optimizer.step()\n",
    "\n",
    "      # losses in this epoch\n",
    "      losses[epochi] += loss.item() / number_of_batches\n",
    "  # end epochs\n",
    "\n",
    "  # function output\n",
    "  return losses,net.cpu()"
   ],
   "execution_count": 76,
   "outputs": []
  },
  {
   "cell_type": "markdown",
   "metadata": {
    "id": "XpGm9xdQ27Ob"
   },
   "source": [
    "# Run the model and show the results!"
   ]
  },
  {
   "cell_type": "code",
   "metadata": {
    "id": "l9pCC1R2p0nu"
   },
   "source": [
    "from time import perf_counter\n",
    "\n",
    "encoding_sizes = np.linspace(10, 500, 12).astype(int)\n",
    "bottleneck_sizes = np.linspace(5, 100, 8).astype(int)\n",
    "\n",
    "losses = np.zeros((len(encoding_sizes), len(bottleneck_sizes)))\n",
    "\n",
    "cuda_start = perf_counter()\n",
    "for es_idx, es in enumerate(encoding_sizes):\n",
    "  for bs_idx, bs in enumerate(bottleneck_sizes):\n",
    "    print(f\"\\nRunning encoding size: {es} and bottleneck size: {bs}.\")\n",
    "    losses[es_idx, bs_idx] = torch.mean(function2trainTheModel(es, bs, CUDA=True)[0][-3:]).item()\n",
    "cuda_end = perf_counter()\n",
    "\n",
    "cpu_start = perf_counter()\n",
    "for es_idx, es in enumerate(encoding_sizes):\n",
    "  for bs_idx, bs in enumerate(bottleneck_sizes):\n",
    "    print(f\"\\nRunning encoding size: {es} and bottleneck size: {bs}.\")\n",
    "    losses[es_idx, bs_idx] = torch.mean(function2trainTheModel(es, bs, CUDA=False)[0][-3:]).item()\n",
    "cpu_end = perf_counter()\n",
    "\n",
    "print(f\"Done! CUDA: [{cuda_end - cuda_start:.2f}s] CPU: [{cpu_end - cpu_start:.2f}s]\")"
   ],
   "execution_count": 77,
   "outputs": [
    {
     "name": "stdout",
     "output_type": "stream",
     "text": [
      "\n",
      "Running encoding size: 10 and bottleneck size: 5.\n",
      "Running... [14/15].\n",
      "Running encoding size: 10 and bottleneck size: 18.\n",
      "Running... [14/15].\n",
      "Running encoding size: 10 and bottleneck size: 32.\n",
      "Running... [14/15].\n",
      "Running encoding size: 10 and bottleneck size: 45.\n",
      "Running... [14/15].\n",
      "Running encoding size: 10 and bottleneck size: 59.\n",
      "Running... [14/15].\n",
      "Running encoding size: 10 and bottleneck size: 72.\n",
      "Running... [14/15].\n",
      "Running encoding size: 10 and bottleneck size: 86.\n",
      "Running... [14/15].\n",
      "Running encoding size: 10 and bottleneck size: 100.\n",
      "Running... [14/15].\n",
      "Running encoding size: 54 and bottleneck size: 5.\n",
      "Running... [14/15].\n",
      "Running encoding size: 54 and bottleneck size: 18.\n",
      "Running... [14/15].\n",
      "Running encoding size: 54 and bottleneck size: 32.\n",
      "Running... [14/15].\n",
      "Running encoding size: 54 and bottleneck size: 45.\n",
      "Running... [14/15].\n",
      "Running encoding size: 54 and bottleneck size: 59.\n",
      "Running... [14/15].\n",
      "Running encoding size: 54 and bottleneck size: 72.\n",
      "Running... [14/15].\n",
      "Running encoding size: 54 and bottleneck size: 86.\n",
      "Running... [14/15].\n",
      "Running encoding size: 54 and bottleneck size: 100.\n",
      "Running... [14/15].\n",
      "Running encoding size: 99 and bottleneck size: 5.\n",
      "Running... [14/15].\n",
      "Running encoding size: 99 and bottleneck size: 18.\n",
      "Running... [14/15].\n",
      "Running encoding size: 99 and bottleneck size: 32.\n",
      "Running... [14/15].\n",
      "Running encoding size: 99 and bottleneck size: 45.\n",
      "Running... [14/15].\n",
      "Running encoding size: 99 and bottleneck size: 59.\n",
      "Running... [14/15].\n",
      "Running encoding size: 99 and bottleneck size: 72.\n",
      "Running... [14/15].\n",
      "Running encoding size: 99 and bottleneck size: 86.\n",
      "Running... [14/15].\n",
      "Running encoding size: 99 and bottleneck size: 100.\n",
      "Running... [14/15].\n",
      "Running encoding size: 143 and bottleneck size: 5.\n",
      "Running... [14/15].\n",
      "Running encoding size: 143 and bottleneck size: 18.\n",
      "Running... [14/15].\n",
      "Running encoding size: 143 and bottleneck size: 32.\n",
      "Running... [14/15].\n",
      "Running encoding size: 143 and bottleneck size: 45.\n",
      "Running... [14/15].\n",
      "Running encoding size: 143 and bottleneck size: 59.\n",
      "Running... [14/15].\n",
      "Running encoding size: 143 and bottleneck size: 72.\n",
      "Running... [14/15].\n",
      "Running encoding size: 143 and bottleneck size: 86.\n",
      "Running... [14/15].\n",
      "Running encoding size: 143 and bottleneck size: 100.\n",
      "Running... [14/15].\n",
      "Running encoding size: 188 and bottleneck size: 5.\n",
      "Running... [14/15].\n",
      "Running encoding size: 188 and bottleneck size: 18.\n",
      "Running... [14/15].\n",
      "Running encoding size: 188 and bottleneck size: 32.\n",
      "Running... [14/15].\n",
      "Running encoding size: 188 and bottleneck size: 45.\n",
      "Running... [14/15].\n",
      "Running encoding size: 188 and bottleneck size: 59.\n",
      "Running... [14/15].\n",
      "Running encoding size: 188 and bottleneck size: 72.\n",
      "Running... [14/15].\n",
      "Running encoding size: 188 and bottleneck size: 86.\n",
      "Running... [14/15].\n",
      "Running encoding size: 188 and bottleneck size: 100.\n",
      "Running... [14/15].\n",
      "Running encoding size: 232 and bottleneck size: 5.\n",
      "Running... [14/15].\n",
      "Running encoding size: 232 and bottleneck size: 18.\n",
      "Running... [14/15].\n",
      "Running encoding size: 232 and bottleneck size: 32.\n",
      "Running... [14/15].\n",
      "Running encoding size: 232 and bottleneck size: 45.\n",
      "Running... [14/15].\n",
      "Running encoding size: 232 and bottleneck size: 59.\n",
      "Running... [14/15].\n",
      "Running encoding size: 232 and bottleneck size: 72.\n",
      "Running... [14/15].\n",
      "Running encoding size: 232 and bottleneck size: 86.\n",
      "Running... [14/15].\n",
      "Running encoding size: 232 and bottleneck size: 100.\n",
      "Running... [14/15].\n",
      "Running encoding size: 277 and bottleneck size: 5.\n",
      "Running... [14/15].\n",
      "Running encoding size: 277 and bottleneck size: 18.\n",
      "Running... [14/15].\n",
      "Running encoding size: 277 and bottleneck size: 32.\n",
      "Running... [14/15].\n",
      "Running encoding size: 277 and bottleneck size: 45.\n",
      "Running... [14/15].\n",
      "Running encoding size: 277 and bottleneck size: 59.\n",
      "Running... [14/15].\n",
      "Running encoding size: 277 and bottleneck size: 72.\n",
      "Running... [14/15].\n",
      "Running encoding size: 277 and bottleneck size: 86.\n",
      "Running... [14/15].\n",
      "Running encoding size: 277 and bottleneck size: 100.\n",
      "Running... [14/15].\n",
      "Running encoding size: 321 and bottleneck size: 5.\n",
      "Running... [14/15].\n",
      "Running encoding size: 321 and bottleneck size: 18.\n",
      "Running... [14/15].\n",
      "Running encoding size: 321 and bottleneck size: 32.\n",
      "Running... [14/15].\n",
      "Running encoding size: 321 and bottleneck size: 45.\n",
      "Running... [14/15].\n",
      "Running encoding size: 321 and bottleneck size: 59.\n",
      "Running... [14/15].\n",
      "Running encoding size: 321 and bottleneck size: 72.\n",
      "Running... [14/15].\n",
      "Running encoding size: 321 and bottleneck size: 86.\n",
      "Running... [14/15].\n",
      "Running encoding size: 321 and bottleneck size: 100.\n",
      "Running... [14/15].\n",
      "Running encoding size: 366 and bottleneck size: 5.\n",
      "Running... [14/15].\n",
      "Running encoding size: 366 and bottleneck size: 18.\n",
      "Running... [14/15].\n",
      "Running encoding size: 366 and bottleneck size: 32.\n",
      "Running... [14/15].\n",
      "Running encoding size: 366 and bottleneck size: 45.\n",
      "Running... [14/15].\n",
      "Running encoding size: 366 and bottleneck size: 59.\n",
      "Running... [14/15].\n",
      "Running encoding size: 366 and bottleneck size: 72.\n",
      "Running... [14/15].\n",
      "Running encoding size: 366 and bottleneck size: 86.\n",
      "Running... [14/15].\n",
      "Running encoding size: 366 and bottleneck size: 100.\n",
      "Running... [14/15].\n",
      "Running encoding size: 410 and bottleneck size: 5.\n",
      "Running... [14/15].\n",
      "Running encoding size: 410 and bottleneck size: 18.\n",
      "Running... [14/15].\n",
      "Running encoding size: 410 and bottleneck size: 32.\n",
      "Running... [14/15].\n",
      "Running encoding size: 410 and bottleneck size: 45.\n",
      "Running... [14/15].\n",
      "Running encoding size: 410 and bottleneck size: 59.\n",
      "Running... [14/15].\n",
      "Running encoding size: 410 and bottleneck size: 72.\n",
      "Running... [14/15].\n",
      "Running encoding size: 410 and bottleneck size: 86.\n",
      "Running... [14/15].\n",
      "Running encoding size: 410 and bottleneck size: 100.\n",
      "Running... [14/15].\n",
      "Running encoding size: 455 and bottleneck size: 5.\n",
      "Running... [14/15].\n",
      "Running encoding size: 455 and bottleneck size: 18.\n",
      "Running... [14/15].\n",
      "Running encoding size: 455 and bottleneck size: 32.\n",
      "Running... [14/15].\n",
      "Running encoding size: 455 and bottleneck size: 45.\n",
      "Running... [14/15].\n",
      "Running encoding size: 455 and bottleneck size: 59.\n",
      "Running... [14/15].\n",
      "Running encoding size: 455 and bottleneck size: 72.\n",
      "Running... [14/15].\n",
      "Running encoding size: 455 and bottleneck size: 86.\n",
      "Running... [14/15].\n",
      "Running encoding size: 455 and bottleneck size: 100.\n",
      "Running... [14/15].\n",
      "Running encoding size: 500 and bottleneck size: 5.\n",
      "Running... [14/15].\n",
      "Running encoding size: 500 and bottleneck size: 18.\n",
      "Running... [14/15].\n",
      "Running encoding size: 500 and bottleneck size: 32.\n",
      "Running... [14/15].\n",
      "Running encoding size: 500 and bottleneck size: 45.\n",
      "Running... [14/15].\n",
      "Running encoding size: 500 and bottleneck size: 59.\n",
      "Running... [14/15].\n",
      "Running encoding size: 500 and bottleneck size: 72.\n",
      "Running... [14/15].\n",
      "Running encoding size: 500 and bottleneck size: 86.\n",
      "Running... [14/15].\n",
      "Running encoding size: 500 and bottleneck size: 100.\n",
      "Running... [14/15].\n",
      "Running encoding size: 10 and bottleneck size: 5.\n",
      "Running... [14/15].\n",
      "Running encoding size: 10 and bottleneck size: 18.\n",
      "Running... [14/15].\n",
      "Running encoding size: 10 and bottleneck size: 32.\n",
      "Running... [14/15].\n",
      "Running encoding size: 10 and bottleneck size: 45.\n",
      "Running... [14/15].\n",
      "Running encoding size: 10 and bottleneck size: 59.\n",
      "Running... [14/15].\n",
      "Running encoding size: 10 and bottleneck size: 72.\n",
      "Running... [14/15].\n",
      "Running encoding size: 10 and bottleneck size: 86.\n",
      "Running... [14/15].\n",
      "Running encoding size: 10 and bottleneck size: 100.\n",
      "Running... [14/15].\n",
      "Running encoding size: 54 and bottleneck size: 5.\n",
      "Running... [14/15].\n",
      "Running encoding size: 54 and bottleneck size: 18.\n",
      "Running... [14/15].\n",
      "Running encoding size: 54 and bottleneck size: 32.\n",
      "Running... [14/15].\n",
      "Running encoding size: 54 and bottleneck size: 45.\n",
      "Running... [14/15].\n",
      "Running encoding size: 54 and bottleneck size: 59.\n",
      "Running... [14/15].\n",
      "Running encoding size: 54 and bottleneck size: 72.\n",
      "Running... [14/15].\n",
      "Running encoding size: 54 and bottleneck size: 86.\n",
      "Running... [14/15].\n",
      "Running encoding size: 54 and bottleneck size: 100.\n",
      "Running... [14/15].\n",
      "Running encoding size: 99 and bottleneck size: 5.\n",
      "Running... [14/15].\n",
      "Running encoding size: 99 and bottleneck size: 18.\n",
      "Running... [14/15].\n",
      "Running encoding size: 99 and bottleneck size: 32.\n",
      "Running... [14/15].\n",
      "Running encoding size: 99 and bottleneck size: 45.\n",
      "Running... [14/15].\n",
      "Running encoding size: 99 and bottleneck size: 59.\n",
      "Running... [14/15].\n",
      "Running encoding size: 99 and bottleneck size: 72.\n",
      "Running... [14/15].\n",
      "Running encoding size: 99 and bottleneck size: 86.\n",
      "Running... [14/15].\n",
      "Running encoding size: 99 and bottleneck size: 100.\n",
      "Running... [14/15].\n",
      "Running encoding size: 143 and bottleneck size: 5.\n",
      "Running... [14/15].\n",
      "Running encoding size: 143 and bottleneck size: 18.\n",
      "Running... [14/15].\n",
      "Running encoding size: 143 and bottleneck size: 32.\n",
      "Running... [14/15].\n",
      "Running encoding size: 143 and bottleneck size: 45.\n",
      "Running... [14/15].\n",
      "Running encoding size: 143 and bottleneck size: 59.\n",
      "Running... [14/15].\n",
      "Running encoding size: 143 and bottleneck size: 72.\n",
      "Running... [14/15].\n",
      "Running encoding size: 143 and bottleneck size: 86.\n",
      "Running... [14/15].\n",
      "Running encoding size: 143 and bottleneck size: 100.\n",
      "Running... [14/15].\n",
      "Running encoding size: 188 and bottleneck size: 5.\n",
      "Running... [14/15].\n",
      "Running encoding size: 188 and bottleneck size: 18.\n",
      "Running... [14/15].\n",
      "Running encoding size: 188 and bottleneck size: 32.\n",
      "Running... [14/15].\n",
      "Running encoding size: 188 and bottleneck size: 45.\n",
      "Running... [14/15].\n",
      "Running encoding size: 188 and bottleneck size: 59.\n",
      "Running... [14/15].\n",
      "Running encoding size: 188 and bottleneck size: 72.\n",
      "Running... [14/15].\n",
      "Running encoding size: 188 and bottleneck size: 86.\n",
      "Running... [14/15].\n",
      "Running encoding size: 188 and bottleneck size: 100.\n",
      "Running... [14/15].\n",
      "Running encoding size: 232 and bottleneck size: 5.\n",
      "Running... [14/15].\n",
      "Running encoding size: 232 and bottleneck size: 18.\n",
      "Running... [14/15].\n",
      "Running encoding size: 232 and bottleneck size: 32.\n",
      "Running... [14/15].\n",
      "Running encoding size: 232 and bottleneck size: 45.\n",
      "Running... [14/15].\n",
      "Running encoding size: 232 and bottleneck size: 59.\n",
      "Running... [14/15].\n",
      "Running encoding size: 232 and bottleneck size: 72.\n",
      "Running... [14/15].\n",
      "Running encoding size: 232 and bottleneck size: 86.\n",
      "Running... [14/15].\n",
      "Running encoding size: 232 and bottleneck size: 100.\n",
      "Running... [14/15].\n",
      "Running encoding size: 277 and bottleneck size: 5.\n",
      "Running... [14/15].\n",
      "Running encoding size: 277 and bottleneck size: 18.\n",
      "Running... [14/15].\n",
      "Running encoding size: 277 and bottleneck size: 32.\n",
      "Running... [14/15].\n",
      "Running encoding size: 277 and bottleneck size: 45.\n",
      "Running... [14/15].\n",
      "Running encoding size: 277 and bottleneck size: 59.\n",
      "Running... [14/15].\n",
      "Running encoding size: 277 and bottleneck size: 72.\n",
      "Running... [14/15].\n",
      "Running encoding size: 277 and bottleneck size: 86.\n",
      "Running... [14/15].\n",
      "Running encoding size: 277 and bottleneck size: 100.\n",
      "Running... [14/15].\n",
      "Running encoding size: 321 and bottleneck size: 5.\n",
      "Running... [14/15].\n",
      "Running encoding size: 321 and bottleneck size: 18.\n",
      "Running... [14/15].\n",
      "Running encoding size: 321 and bottleneck size: 32.\n",
      "Running... [14/15].\n",
      "Running encoding size: 321 and bottleneck size: 45.\n",
      "Running... [14/15].\n",
      "Running encoding size: 321 and bottleneck size: 59.\n",
      "Running... [14/15].\n",
      "Running encoding size: 321 and bottleneck size: 72.\n",
      "Running... [14/15].\n",
      "Running encoding size: 321 and bottleneck size: 86.\n",
      "Running... [14/15].\n",
      "Running encoding size: 321 and bottleneck size: 100.\n",
      "Running... [14/15].\n",
      "Running encoding size: 366 and bottleneck size: 5.\n",
      "Running... [14/15].\n",
      "Running encoding size: 366 and bottleneck size: 18.\n",
      "Running... [14/15].\n",
      "Running encoding size: 366 and bottleneck size: 32.\n",
      "Running... [14/15].\n",
      "Running encoding size: 366 and bottleneck size: 45.\n",
      "Running... [14/15].\n",
      "Running encoding size: 366 and bottleneck size: 59.\n",
      "Running... [14/15].\n",
      "Running encoding size: 366 and bottleneck size: 72.\n",
      "Running... [14/15].\n",
      "Running encoding size: 366 and bottleneck size: 86.\n",
      "Running... [14/15].\n",
      "Running encoding size: 366 and bottleneck size: 100.\n",
      "Running... [14/15].\n",
      "Running encoding size: 410 and bottleneck size: 5.\n",
      "Running... [14/15].\n",
      "Running encoding size: 410 and bottleneck size: 18.\n",
      "Running... [14/15].\n",
      "Running encoding size: 410 and bottleneck size: 32.\n",
      "Running... [14/15].\n",
      "Running encoding size: 410 and bottleneck size: 45.\n",
      "Running... [14/15].\n",
      "Running encoding size: 410 and bottleneck size: 59.\n",
      "Running... [14/15].\n",
      "Running encoding size: 410 and bottleneck size: 72.\n",
      "Running... [14/15].\n",
      "Running encoding size: 410 and bottleneck size: 86.\n",
      "Running... [14/15].\n",
      "Running encoding size: 410 and bottleneck size: 100.\n",
      "Running... [14/15].\n",
      "Running encoding size: 455 and bottleneck size: 5.\n",
      "Running... [14/15].\n",
      "Running encoding size: 455 and bottleneck size: 18.\n",
      "Running... [14/15].\n",
      "Running encoding size: 455 and bottleneck size: 32.\n",
      "Running... [14/15].\n",
      "Running encoding size: 455 and bottleneck size: 45.\n",
      "Running... [14/15].\n",
      "Running encoding size: 455 and bottleneck size: 59.\n",
      "Running... [14/15].\n",
      "Running encoding size: 455 and bottleneck size: 72.\n",
      "Running... [14/15].\n",
      "Running encoding size: 455 and bottleneck size: 86.\n",
      "Running... [14/15].\n",
      "Running encoding size: 455 and bottleneck size: 100.\n",
      "Running... [14/15].\n",
      "Running encoding size: 500 and bottleneck size: 5.\n",
      "Running... [14/15].\n",
      "Running encoding size: 500 and bottleneck size: 18.\n",
      "Running... [14/15].\n",
      "Running encoding size: 500 and bottleneck size: 32.\n",
      "Running... [14/15].\n",
      "Running encoding size: 500 and bottleneck size: 45.\n",
      "Running... [14/15].\n",
      "Running encoding size: 500 and bottleneck size: 59.\n",
      "Running... [14/15].\n",
      "Running encoding size: 500 and bottleneck size: 72.\n",
      "Running... [14/15].\n",
      "Running encoding size: 500 and bottleneck size: 86.\n",
      "Running... [14/15].\n",
      "Running encoding size: 500 and bottleneck size: 100.\n",
      "Running... [14/15].Done! CUDA: [2710.94s] CPU: [4123.96s]\n"
     ]
    }
   ]
  },
  {
   "cell_type": "code",
   "execution_count": 20,
   "outputs": [
    {
     "data": {
      "text/plain": "<Figure size 640x480 with 2 Axes>",
      "image/svg+xml": "<?xml version=\"1.0\" encoding=\"utf-8\" standalone=\"no\"?>\n<!DOCTYPE svg PUBLIC \"-//W3C//DTD SVG 1.1//EN\"\n  \"http://www.w3.org/Graphics/SVG/1.1/DTD/svg11.dtd\">\n<svg xmlns:xlink=\"http://www.w3.org/1999/xlink\" width=\"292.00085pt\" height=\"325.986375pt\" viewBox=\"0 0 292.00085 325.986375\" xmlns=\"http://www.w3.org/2000/svg\" version=\"1.1\">\n <metadata>\n  <rdf:RDF xmlns:dc=\"http://purl.org/dc/elements/1.1/\" xmlns:cc=\"http://creativecommons.org/ns#\" xmlns:rdf=\"http://www.w3.org/1999/02/22-rdf-syntax-ns#\">\n   <cc:Work>\n    <dc:type rdf:resource=\"http://purl.org/dc/dcmitype/StillImage\"/>\n    <dc:date>2022-11-18T08:37:24.196667</dc:date>\n    <dc:format>image/svg+xml</dc:format>\n    <dc:creator>\n     <cc:Agent>\n      <dc:title>Matplotlib v3.6.2, https://matplotlib.org/</dc:title>\n     </cc:Agent>\n    </dc:creator>\n   </cc:Work>\n  </rdf:RDF>\n </metadata>\n <defs>\n  <style type=\"text/css\">*{stroke-linejoin: round; stroke-linecap: butt}</style>\n </defs>\n <g id=\"figure_1\">\n  <g id=\"patch_1\">\n   <path d=\"M 0 325.986375 \nL 292.00085 325.986375 \nL 292.00085 0 \nL 0 0 \nz\n\" style=\"fill: #ffffff\"/>\n  </g>\n  <g id=\"axes_1\">\n   <g id=\"patch_2\">\n    <path d=\"M 46.965625 288.430125 \nL 224.373625 288.430125 \nL 224.373625 22.318125 \nL 46.965625 22.318125 \nz\n\" style=\"fill: #ffffff\"/>\n   </g>\n   <g clip-path=\"url(#p7d243be646)\">\n    <image xlink:href=\"data:image/png;base64,\niVBORw0KGgoAAAANSUhEUgAAAPcAAAFyCAYAAAAphkyMAAAF/ElEQVR4nO3dO6qdZRiG4XX4XRF3dhKViEgQCUTBIo0BmxRprJyBnVjbOBcLCztxDIIDsBLE2sMIxKDIgqyThWOQF+59XRN4+Hdyr698119/9cNlNeTxBw+mplePHr42tr27tYzsbrebkd1pN/W7b+ZXww0gbogSN0SJG6LEDVHihihxQ5S4IUrcECVuiBI3RIkbosQNUeKGKHFDlLghStwQJW6IEjdEiRuixA1R4oYocUOUuCFK3BAlbogSN0SJG6LEDVHihqjldBq74Lu6//rV2PZl7rNXq6Ht8+k8M7xarTaDZ3TP57l/7M1mPbc9tgz8r8QNUeKGKHFDlLghStwQJW6IEjdEiRuixA1R4oYocUOUuCFK3BAlbogSN0SJG6LEDVHihihxQ5S4IUrcECVuiBI3RIkbosQNUeKGKHFDlLghStwQtXz7+Xdj4x/98t7Y9rLM/a5NHZRdr+fOyU5uz/3FZ09Fe7khStwQJW6IEjdEiRuixA1R4oYocUOUuCFK3BAlbogSN0SJG6LEDVHihihxQ5S4IUrcECVuiBI3RIkbosQNUeKGKHFDlLghStwQJW6IEjdEiRuixA1Ry9MvPhwb3++PY9vnwduq28lrtkMu58FbtoN/78nLxV5uiBI3RIkbosQNUeKGKHFDlLghStwQJW6IEjdEiRuixA1R4oYocUOUuCFK3BAlbogSN0SJG6LEDVHihihxQ5S4IUrcECVuiBI3RIkbosQNUeKGqGX3ym5sfDt47vJ4OI9tL9uh39TBn/LL5KXNwfHTae7/mZcbosQNUeKGKHFDlLghStwQJW6IEjdEiRuixA1R4oYocUOUuCFK3BAlbogSN0SJG6LEDVHihihxQ5S4IUrcECVuiBI3RIkbosQNUeKGKHFDlLghStwQtfz0zc9j459+9mRse/J88Pl8Gdndrue++TLzyf9ZT47P8XJDlLghStwQJW6IEjdEiRuixA1R4oYocUOUuCFK3BAlbogSN0SJG6LEDVHihihxQ5S4IUrcECVuiBI3RIkbosQNUeKGKHFDlLghStwQJW6IEjdEiRuilj9+fT42fjydx7YPh7ntKZvt4G/57A3fuenB7/ZyQ5S4IUrcECVuiBI3RIkbosQNUeKGKHFDlLghStwQJW6IEjdEiRuixA1R4oYocUOUuCFK3BAlbogSN0SJG6LEDVHihihxQ5S4IUrcECVuiBI3RIkbopaHz94eG9/vj2Pbr959eWx7s5n5TT0d584Wrwev6G42c+OTh4u93BAlbogSN0SJG6LEDVHihihxQ5S4IUrcECVuiBI3RIkbosQNUeKGKHFDlLghStwQJW6IEjdEiRuixA1R4oYocUOUuCFK3BAlbogSN0SJG6LEDVHihqjl8cfvjo1vt3OnVf/6+8XY9vXt3cju5Bnd9eAZ3dXc5eJRXm6IEjdEiRuixA1R4oYocUOUuCFK3BAlbogSN0SJG6LEDVHihihxQ5S4IUrcECVuiBI3RIkbosQNUeKGKHFDlLghStwQJW6IEjdEiRuixA1R4oYocUPUcu/erbHx/f44tn3n9tx3Hw6nkd314A3fyRO+y+Cp6MtlbNrLDVXihihxQ5S4IUrcECVuiBI3RIkbosQNUeKGKHFDlLghStwQJW6IEjdEiRuixA1R4oYocUOUuCFK3BAlbogSN0SJG6LEDVHihihxQ5S4IUrcELX8+P1vY+PvPLo/tn119dLY9k20223Hts+nuVObm8ELo15uiBI3RIkbosQNUeKGKHFDlLghStwQJW6IEjdEiRuixA1R4oYocUOUuCFK3BAlbogSN0SJG6LEDVHihihxQ5S4IUrcECVuiBI3RIkbosQNUeKGKHFD1PqTJ1+O3Te9++B6anp1/dadse3DPy9GdtebuXOyf/7+fGz76o2rse033587U+3lhihxQ5S4IUrcECVuiBI3RIkbosQNUeKGKHFDlLghStwQJW6IEjdEiRuixA1R4oYocUOUuCFK3BAlbogSN0SJG6LEDVHihihxQ5S4IUrcECVuiBI3RP0LsCxlGTRZTNkAAAAASUVORK5CYII=\" id=\"image079125cbbb\" transform=\"scale(1 -1) translate(0 -266.4)\" x=\"46.965625\" y=\"-22.030125\" width=\"177.84\" height=\"266.4\"/>\n   </g>\n   <g id=\"matplotlib.axis_1\">\n    <g id=\"xtick_1\">\n     <g id=\"line2d_1\">\n      <defs>\n       <path id=\"m790b264efd\" d=\"M 0 0 \nL 0 3.5 \n\" style=\"stroke: #000000; stroke-width: 0.8\"/>\n      </defs>\n      <g>\n       <use xlink:href=\"#m790b264efd\" x=\"58.053625\" y=\"288.430125\" style=\"stroke: #000000; stroke-width: 0.8\"/>\n      </g>\n     </g>\n     <g id=\"text_1\">\n      <!-- 5 -->\n      <g transform=\"translate(54.872375 303.028562) scale(0.1 -0.1)\">\n       <defs>\n        <path id=\"DejaVuSans-35\" d=\"M 691 4666 \nL 3169 4666 \nL 3169 4134 \nL 1269 4134 \nL 1269 2991 \nQ 1406 3038 1543 3061 \nQ 1681 3084 1819 3084 \nQ 2600 3084 3056 2656 \nQ 3513 2228 3513 1497 \nQ 3513 744 3044 326 \nQ 2575 -91 1722 -91 \nQ 1428 -91 1123 -41 \nQ 819 9 494 109 \nL 494 744 \nQ 775 591 1075 516 \nQ 1375 441 1709 441 \nQ 2250 441 2565 725 \nQ 2881 1009 2881 1497 \nQ 2881 1984 2565 2268 \nQ 2250 2553 1709 2553 \nQ 1456 2553 1204 2497 \nQ 953 2441 691 2322 \nL 691 4666 \nz\n\" transform=\"scale(0.015625)\"/>\n       </defs>\n       <use xlink:href=\"#DejaVuSans-35\"/>\n      </g>\n     </g>\n    </g>\n    <g id=\"xtick_2\">\n     <g id=\"line2d_2\">\n      <g>\n       <use xlink:href=\"#m790b264efd\" x=\"80.229625\" y=\"288.430125\" style=\"stroke: #000000; stroke-width: 0.8\"/>\n      </g>\n     </g>\n     <g id=\"text_2\">\n      <!-- 18 -->\n      <g transform=\"translate(73.867125 303.028562) scale(0.1 -0.1)\">\n       <defs>\n        <path id=\"DejaVuSans-31\" d=\"M 794 531 \nL 1825 531 \nL 1825 4091 \nL 703 3866 \nL 703 4441 \nL 1819 4666 \nL 2450 4666 \nL 2450 531 \nL 3481 531 \nL 3481 0 \nL 794 0 \nL 794 531 \nz\n\" transform=\"scale(0.015625)\"/>\n        <path id=\"DejaVuSans-38\" d=\"M 2034 2216 \nQ 1584 2216 1326 1975 \nQ 1069 1734 1069 1313 \nQ 1069 891 1326 650 \nQ 1584 409 2034 409 \nQ 2484 409 2743 651 \nQ 3003 894 3003 1313 \nQ 3003 1734 2745 1975 \nQ 2488 2216 2034 2216 \nz\nM 1403 2484 \nQ 997 2584 770 2862 \nQ 544 3141 544 3541 \nQ 544 4100 942 4425 \nQ 1341 4750 2034 4750 \nQ 2731 4750 3128 4425 \nQ 3525 4100 3525 3541 \nQ 3525 3141 3298 2862 \nQ 3072 2584 2669 2484 \nQ 3125 2378 3379 2068 \nQ 3634 1759 3634 1313 \nQ 3634 634 3220 271 \nQ 2806 -91 2034 -91 \nQ 1263 -91 848 271 \nQ 434 634 434 1313 \nQ 434 1759 690 2068 \nQ 947 2378 1403 2484 \nz\nM 1172 3481 \nQ 1172 3119 1398 2916 \nQ 1625 2713 2034 2713 \nQ 2441 2713 2670 2916 \nQ 2900 3119 2900 3481 \nQ 2900 3844 2670 4047 \nQ 2441 4250 2034 4250 \nQ 1625 4250 1398 4047 \nQ 1172 3844 1172 3481 \nz\n\" transform=\"scale(0.015625)\"/>\n       </defs>\n       <use xlink:href=\"#DejaVuSans-31\"/>\n       <use xlink:href=\"#DejaVuSans-38\" x=\"63.623047\"/>\n      </g>\n     </g>\n    </g>\n    <g id=\"xtick_3\">\n     <g id=\"line2d_3\">\n      <g>\n       <use xlink:href=\"#m790b264efd\" x=\"102.405625\" y=\"288.430125\" style=\"stroke: #000000; stroke-width: 0.8\"/>\n      </g>\n     </g>\n     <g id=\"text_3\">\n      <!-- 32 -->\n      <g transform=\"translate(96.043125 303.028562) scale(0.1 -0.1)\">\n       <defs>\n        <path id=\"DejaVuSans-33\" d=\"M 2597 2516 \nQ 3050 2419 3304 2112 \nQ 3559 1806 3559 1356 \nQ 3559 666 3084 287 \nQ 2609 -91 1734 -91 \nQ 1441 -91 1130 -33 \nQ 819 25 488 141 \nL 488 750 \nQ 750 597 1062 519 \nQ 1375 441 1716 441 \nQ 2309 441 2620 675 \nQ 2931 909 2931 1356 \nQ 2931 1769 2642 2001 \nQ 2353 2234 1838 2234 \nL 1294 2234 \nL 1294 2753 \nL 1863 2753 \nQ 2328 2753 2575 2939 \nQ 2822 3125 2822 3475 \nQ 2822 3834 2567 4026 \nQ 2313 4219 1838 4219 \nQ 1578 4219 1281 4162 \nQ 984 4106 628 3988 \nL 628 4550 \nQ 988 4650 1302 4700 \nQ 1616 4750 1894 4750 \nQ 2613 4750 3031 4423 \nQ 3450 4097 3450 3541 \nQ 3450 3153 3228 2886 \nQ 3006 2619 2597 2516 \nz\n\" transform=\"scale(0.015625)\"/>\n        <path id=\"DejaVuSans-32\" d=\"M 1228 531 \nL 3431 531 \nL 3431 0 \nL 469 0 \nL 469 531 \nQ 828 903 1448 1529 \nQ 2069 2156 2228 2338 \nQ 2531 2678 2651 2914 \nQ 2772 3150 2772 3378 \nQ 2772 3750 2511 3984 \nQ 2250 4219 1831 4219 \nQ 1534 4219 1204 4116 \nQ 875 4013 500 3803 \nL 500 4441 \nQ 881 4594 1212 4672 \nQ 1544 4750 1819 4750 \nQ 2544 4750 2975 4387 \nQ 3406 4025 3406 3419 \nQ 3406 3131 3298 2873 \nQ 3191 2616 2906 2266 \nQ 2828 2175 2409 1742 \nQ 1991 1309 1228 531 \nz\n\" transform=\"scale(0.015625)\"/>\n       </defs>\n       <use xlink:href=\"#DejaVuSans-33\"/>\n       <use xlink:href=\"#DejaVuSans-32\" x=\"63.623047\"/>\n      </g>\n     </g>\n    </g>\n    <g id=\"xtick_4\">\n     <g id=\"line2d_4\">\n      <g>\n       <use xlink:href=\"#m790b264efd\" x=\"124.581625\" y=\"288.430125\" style=\"stroke: #000000; stroke-width: 0.8\"/>\n      </g>\n     </g>\n     <g id=\"text_4\">\n      <!-- 45 -->\n      <g transform=\"translate(118.219125 303.028562) scale(0.1 -0.1)\">\n       <defs>\n        <path id=\"DejaVuSans-34\" d=\"M 2419 4116 \nL 825 1625 \nL 2419 1625 \nL 2419 4116 \nz\nM 2253 4666 \nL 3047 4666 \nL 3047 1625 \nL 3713 1625 \nL 3713 1100 \nL 3047 1100 \nL 3047 0 \nL 2419 0 \nL 2419 1100 \nL 313 1100 \nL 313 1709 \nL 2253 4666 \nz\n\" transform=\"scale(0.015625)\"/>\n       </defs>\n       <use xlink:href=\"#DejaVuSans-34\"/>\n       <use xlink:href=\"#DejaVuSans-35\" x=\"63.623047\"/>\n      </g>\n     </g>\n    </g>\n    <g id=\"xtick_5\">\n     <g id=\"line2d_5\">\n      <g>\n       <use xlink:href=\"#m790b264efd\" x=\"146.757625\" y=\"288.430125\" style=\"stroke: #000000; stroke-width: 0.8\"/>\n      </g>\n     </g>\n     <g id=\"text_5\">\n      <!-- 59 -->\n      <g transform=\"translate(140.395125 303.028562) scale(0.1 -0.1)\">\n       <defs>\n        <path id=\"DejaVuSans-39\" d=\"M 703 97 \nL 703 672 \nQ 941 559 1184 500 \nQ 1428 441 1663 441 \nQ 2288 441 2617 861 \nQ 2947 1281 2994 2138 \nQ 2813 1869 2534 1725 \nQ 2256 1581 1919 1581 \nQ 1219 1581 811 2004 \nQ 403 2428 403 3163 \nQ 403 3881 828 4315 \nQ 1253 4750 1959 4750 \nQ 2769 4750 3195 4129 \nQ 3622 3509 3622 2328 \nQ 3622 1225 3098 567 \nQ 2575 -91 1691 -91 \nQ 1453 -91 1209 -44 \nQ 966 3 703 97 \nz\nM 1959 2075 \nQ 2384 2075 2632 2365 \nQ 2881 2656 2881 3163 \nQ 2881 3666 2632 3958 \nQ 2384 4250 1959 4250 \nQ 1534 4250 1286 3958 \nQ 1038 3666 1038 3163 \nQ 1038 2656 1286 2365 \nQ 1534 2075 1959 2075 \nz\n\" transform=\"scale(0.015625)\"/>\n       </defs>\n       <use xlink:href=\"#DejaVuSans-35\"/>\n       <use xlink:href=\"#DejaVuSans-39\" x=\"63.623047\"/>\n      </g>\n     </g>\n    </g>\n    <g id=\"xtick_6\">\n     <g id=\"line2d_6\">\n      <g>\n       <use xlink:href=\"#m790b264efd\" x=\"168.933625\" y=\"288.430125\" style=\"stroke: #000000; stroke-width: 0.8\"/>\n      </g>\n     </g>\n     <g id=\"text_6\">\n      <!-- 72 -->\n      <g transform=\"translate(162.571125 303.028562) scale(0.1 -0.1)\">\n       <defs>\n        <path id=\"DejaVuSans-37\" d=\"M 525 4666 \nL 3525 4666 \nL 3525 4397 \nL 1831 0 \nL 1172 0 \nL 2766 4134 \nL 525 4134 \nL 525 4666 \nz\n\" transform=\"scale(0.015625)\"/>\n       </defs>\n       <use xlink:href=\"#DejaVuSans-37\"/>\n       <use xlink:href=\"#DejaVuSans-32\" x=\"63.623047\"/>\n      </g>\n     </g>\n    </g>\n    <g id=\"xtick_7\">\n     <g id=\"line2d_7\">\n      <g>\n       <use xlink:href=\"#m790b264efd\" x=\"191.109625\" y=\"288.430125\" style=\"stroke: #000000; stroke-width: 0.8\"/>\n      </g>\n     </g>\n     <g id=\"text_7\">\n      <!-- 86 -->\n      <g transform=\"translate(184.747125 303.028562) scale(0.1 -0.1)\">\n       <defs>\n        <path id=\"DejaVuSans-36\" d=\"M 2113 2584 \nQ 1688 2584 1439 2293 \nQ 1191 2003 1191 1497 \nQ 1191 994 1439 701 \nQ 1688 409 2113 409 \nQ 2538 409 2786 701 \nQ 3034 994 3034 1497 \nQ 3034 2003 2786 2293 \nQ 2538 2584 2113 2584 \nz\nM 3366 4563 \nL 3366 3988 \nQ 3128 4100 2886 4159 \nQ 2644 4219 2406 4219 \nQ 1781 4219 1451 3797 \nQ 1122 3375 1075 2522 \nQ 1259 2794 1537 2939 \nQ 1816 3084 2150 3084 \nQ 2853 3084 3261 2657 \nQ 3669 2231 3669 1497 \nQ 3669 778 3244 343 \nQ 2819 -91 2113 -91 \nQ 1303 -91 875 529 \nQ 447 1150 447 2328 \nQ 447 3434 972 4092 \nQ 1497 4750 2381 4750 \nQ 2619 4750 2861 4703 \nQ 3103 4656 3366 4563 \nz\n\" transform=\"scale(0.015625)\"/>\n       </defs>\n       <use xlink:href=\"#DejaVuSans-38\"/>\n       <use xlink:href=\"#DejaVuSans-36\" x=\"63.623047\"/>\n      </g>\n     </g>\n    </g>\n    <g id=\"xtick_8\">\n     <g id=\"line2d_8\">\n      <g>\n       <use xlink:href=\"#m790b264efd\" x=\"213.285625\" y=\"288.430125\" style=\"stroke: #000000; stroke-width: 0.8\"/>\n      </g>\n     </g>\n     <g id=\"text_8\">\n      <!-- 100 -->\n      <g transform=\"translate(203.741875 303.028562) scale(0.1 -0.1)\">\n       <defs>\n        <path id=\"DejaVuSans-30\" d=\"M 2034 4250 \nQ 1547 4250 1301 3770 \nQ 1056 3291 1056 2328 \nQ 1056 1369 1301 889 \nQ 1547 409 2034 409 \nQ 2525 409 2770 889 \nQ 3016 1369 3016 2328 \nQ 3016 3291 2770 3770 \nQ 2525 4250 2034 4250 \nz\nM 2034 4750 \nQ 2819 4750 3233 4129 \nQ 3647 3509 3647 2328 \nQ 3647 1150 3233 529 \nQ 2819 -91 2034 -91 \nQ 1250 -91 836 529 \nQ 422 1150 422 2328 \nQ 422 3509 836 4129 \nQ 1250 4750 2034 4750 \nz\n\" transform=\"scale(0.015625)\"/>\n       </defs>\n       <use xlink:href=\"#DejaVuSans-31\"/>\n       <use xlink:href=\"#DejaVuSans-30\" x=\"63.623047\"/>\n       <use xlink:href=\"#DejaVuSans-30\" x=\"127.246094\"/>\n      </g>\n     </g>\n    </g>\n    <g id=\"text_9\">\n     <!-- Encoder size -->\n     <g transform=\"translate(103.943062 316.706687) scale(0.1 -0.1)\">\n      <defs>\n       <path id=\"DejaVuSans-45\" d=\"M 628 4666 \nL 3578 4666 \nL 3578 4134 \nL 1259 4134 \nL 1259 2753 \nL 3481 2753 \nL 3481 2222 \nL 1259 2222 \nL 1259 531 \nL 3634 531 \nL 3634 0 \nL 628 0 \nL 628 4666 \nz\n\" transform=\"scale(0.015625)\"/>\n       <path id=\"DejaVuSans-6e\" d=\"M 3513 2113 \nL 3513 0 \nL 2938 0 \nL 2938 2094 \nQ 2938 2591 2744 2837 \nQ 2550 3084 2163 3084 \nQ 1697 3084 1428 2787 \nQ 1159 2491 1159 1978 \nL 1159 0 \nL 581 0 \nL 581 3500 \nL 1159 3500 \nL 1159 2956 \nQ 1366 3272 1645 3428 \nQ 1925 3584 2291 3584 \nQ 2894 3584 3203 3211 \nQ 3513 2838 3513 2113 \nz\n\" transform=\"scale(0.015625)\"/>\n       <path id=\"DejaVuSans-63\" d=\"M 3122 3366 \nL 3122 2828 \nQ 2878 2963 2633 3030 \nQ 2388 3097 2138 3097 \nQ 1578 3097 1268 2742 \nQ 959 2388 959 1747 \nQ 959 1106 1268 751 \nQ 1578 397 2138 397 \nQ 2388 397 2633 464 \nQ 2878 531 3122 666 \nL 3122 134 \nQ 2881 22 2623 -34 \nQ 2366 -91 2075 -91 \nQ 1284 -91 818 406 \nQ 353 903 353 1747 \nQ 353 2603 823 3093 \nQ 1294 3584 2113 3584 \nQ 2378 3584 2631 3529 \nQ 2884 3475 3122 3366 \nz\n\" transform=\"scale(0.015625)\"/>\n       <path id=\"DejaVuSans-6f\" d=\"M 1959 3097 \nQ 1497 3097 1228 2736 \nQ 959 2375 959 1747 \nQ 959 1119 1226 758 \nQ 1494 397 1959 397 \nQ 2419 397 2687 759 \nQ 2956 1122 2956 1747 \nQ 2956 2369 2687 2733 \nQ 2419 3097 1959 3097 \nz\nM 1959 3584 \nQ 2709 3584 3137 3096 \nQ 3566 2609 3566 1747 \nQ 3566 888 3137 398 \nQ 2709 -91 1959 -91 \nQ 1206 -91 779 398 \nQ 353 888 353 1747 \nQ 353 2609 779 3096 \nQ 1206 3584 1959 3584 \nz\n\" transform=\"scale(0.015625)\"/>\n       <path id=\"DejaVuSans-64\" d=\"M 2906 2969 \nL 2906 4863 \nL 3481 4863 \nL 3481 0 \nL 2906 0 \nL 2906 525 \nQ 2725 213 2448 61 \nQ 2172 -91 1784 -91 \nQ 1150 -91 751 415 \nQ 353 922 353 1747 \nQ 353 2572 751 3078 \nQ 1150 3584 1784 3584 \nQ 2172 3584 2448 3432 \nQ 2725 3281 2906 2969 \nz\nM 947 1747 \nQ 947 1113 1208 752 \nQ 1469 391 1925 391 \nQ 2381 391 2643 752 \nQ 2906 1113 2906 1747 \nQ 2906 2381 2643 2742 \nQ 2381 3103 1925 3103 \nQ 1469 3103 1208 2742 \nQ 947 2381 947 1747 \nz\n\" transform=\"scale(0.015625)\"/>\n       <path id=\"DejaVuSans-65\" d=\"M 3597 1894 \nL 3597 1613 \nL 953 1613 \nQ 991 1019 1311 708 \nQ 1631 397 2203 397 \nQ 2534 397 2845 478 \nQ 3156 559 3463 722 \nL 3463 178 \nQ 3153 47 2828 -22 \nQ 2503 -91 2169 -91 \nQ 1331 -91 842 396 \nQ 353 884 353 1716 \nQ 353 2575 817 3079 \nQ 1281 3584 2069 3584 \nQ 2775 3584 3186 3129 \nQ 3597 2675 3597 1894 \nz\nM 3022 2063 \nQ 3016 2534 2758 2815 \nQ 2500 3097 2075 3097 \nQ 1594 3097 1305 2825 \nQ 1016 2553 972 2059 \nL 3022 2063 \nz\n\" transform=\"scale(0.015625)\"/>\n       <path id=\"DejaVuSans-72\" d=\"M 2631 2963 \nQ 2534 3019 2420 3045 \nQ 2306 3072 2169 3072 \nQ 1681 3072 1420 2755 \nQ 1159 2438 1159 1844 \nL 1159 0 \nL 581 0 \nL 581 3500 \nL 1159 3500 \nL 1159 2956 \nQ 1341 3275 1631 3429 \nQ 1922 3584 2338 3584 \nQ 2397 3584 2469 3576 \nQ 2541 3569 2628 3553 \nL 2631 2963 \nz\n\" transform=\"scale(0.015625)\"/>\n       <path id=\"DejaVuSans-20\" transform=\"scale(0.015625)\"/>\n       <path id=\"DejaVuSans-73\" d=\"M 2834 3397 \nL 2834 2853 \nQ 2591 2978 2328 3040 \nQ 2066 3103 1784 3103 \nQ 1356 3103 1142 2972 \nQ 928 2841 928 2578 \nQ 928 2378 1081 2264 \nQ 1234 2150 1697 2047 \nL 1894 2003 \nQ 2506 1872 2764 1633 \nQ 3022 1394 3022 966 \nQ 3022 478 2636 193 \nQ 2250 -91 1575 -91 \nQ 1294 -91 989 -36 \nQ 684 19 347 128 \nL 347 722 \nQ 666 556 975 473 \nQ 1284 391 1588 391 \nQ 1994 391 2212 530 \nQ 2431 669 2431 922 \nQ 2431 1156 2273 1281 \nQ 2116 1406 1581 1522 \nL 1381 1569 \nQ 847 1681 609 1914 \nQ 372 2147 372 2553 \nQ 372 3047 722 3315 \nQ 1072 3584 1716 3584 \nQ 2034 3584 2315 3537 \nQ 2597 3491 2834 3397 \nz\n\" transform=\"scale(0.015625)\"/>\n       <path id=\"DejaVuSans-69\" d=\"M 603 3500 \nL 1178 3500 \nL 1178 0 \nL 603 0 \nL 603 3500 \nz\nM 603 4863 \nL 1178 4863 \nL 1178 4134 \nL 603 4134 \nL 603 4863 \nz\n\" transform=\"scale(0.015625)\"/>\n       <path id=\"DejaVuSans-7a\" d=\"M 353 3500 \nL 3084 3500 \nL 3084 2975 \nL 922 459 \nL 3084 459 \nL 3084 0 \nL 275 0 \nL 275 525 \nL 2438 3041 \nL 353 3041 \nL 353 3500 \nz\n\" transform=\"scale(0.015625)\"/>\n      </defs>\n      <use xlink:href=\"#DejaVuSans-45\"/>\n      <use xlink:href=\"#DejaVuSans-6e\" x=\"63.183594\"/>\n      <use xlink:href=\"#DejaVuSans-63\" x=\"126.5625\"/>\n      <use xlink:href=\"#DejaVuSans-6f\" x=\"181.542969\"/>\n      <use xlink:href=\"#DejaVuSans-64\" x=\"242.724609\"/>\n      <use xlink:href=\"#DejaVuSans-65\" x=\"306.201172\"/>\n      <use xlink:href=\"#DejaVuSans-72\" x=\"367.724609\"/>\n      <use xlink:href=\"#DejaVuSans-20\" x=\"408.837891\"/>\n      <use xlink:href=\"#DejaVuSans-73\" x=\"440.625\"/>\n      <use xlink:href=\"#DejaVuSans-69\" x=\"492.724609\"/>\n      <use xlink:href=\"#DejaVuSans-7a\" x=\"520.507812\"/>\n      <use xlink:href=\"#DejaVuSans-65\" x=\"572.998047\"/>\n     </g>\n    </g>\n   </g>\n   <g id=\"matplotlib.axis_2\">\n    <g id=\"ytick_1\">\n     <g id=\"line2d_9\">\n      <defs>\n       <path id=\"m08c6e41b5f\" d=\"M 0 0 \nL -3.5 0 \n\" style=\"stroke: #000000; stroke-width: 0.8\"/>\n      </defs>\n      <g>\n       <use xlink:href=\"#m08c6e41b5f\" x=\"46.965625\" y=\"33.406125\" style=\"stroke: #000000; stroke-width: 0.8\"/>\n      </g>\n     </g>\n     <g id=\"text_10\">\n      <!-- 10 -->\n      <g transform=\"translate(27.240625 37.205344) scale(0.1 -0.1)\">\n       <use xlink:href=\"#DejaVuSans-31\"/>\n       <use xlink:href=\"#DejaVuSans-30\" x=\"63.623047\"/>\n      </g>\n     </g>\n    </g>\n    <g id=\"ytick_2\">\n     <g id=\"line2d_10\">\n      <g>\n       <use xlink:href=\"#m08c6e41b5f\" x=\"46.965625\" y=\"55.582125\" style=\"stroke: #000000; stroke-width: 0.8\"/>\n      </g>\n     </g>\n     <g id=\"text_11\">\n      <!-- 54 -->\n      <g transform=\"translate(27.240625 59.381344) scale(0.1 -0.1)\">\n       <use xlink:href=\"#DejaVuSans-35\"/>\n       <use xlink:href=\"#DejaVuSans-34\" x=\"63.623047\"/>\n      </g>\n     </g>\n    </g>\n    <g id=\"ytick_3\">\n     <g id=\"line2d_11\">\n      <g>\n       <use xlink:href=\"#m08c6e41b5f\" x=\"46.965625\" y=\"77.758125\" style=\"stroke: #000000; stroke-width: 0.8\"/>\n      </g>\n     </g>\n     <g id=\"text_12\">\n      <!-- 99 -->\n      <g transform=\"translate(27.240625 81.557344) scale(0.1 -0.1)\">\n       <use xlink:href=\"#DejaVuSans-39\"/>\n       <use xlink:href=\"#DejaVuSans-39\" x=\"63.623047\"/>\n      </g>\n     </g>\n    </g>\n    <g id=\"ytick_4\">\n     <g id=\"line2d_12\">\n      <g>\n       <use xlink:href=\"#m08c6e41b5f\" x=\"46.965625\" y=\"99.934125\" style=\"stroke: #000000; stroke-width: 0.8\"/>\n      </g>\n     </g>\n     <g id=\"text_13\">\n      <!-- 143 -->\n      <g transform=\"translate(20.878125 103.733344) scale(0.1 -0.1)\">\n       <use xlink:href=\"#DejaVuSans-31\"/>\n       <use xlink:href=\"#DejaVuSans-34\" x=\"63.623047\"/>\n       <use xlink:href=\"#DejaVuSans-33\" x=\"127.246094\"/>\n      </g>\n     </g>\n    </g>\n    <g id=\"ytick_5\">\n     <g id=\"line2d_13\">\n      <g>\n       <use xlink:href=\"#m08c6e41b5f\" x=\"46.965625\" y=\"122.110125\" style=\"stroke: #000000; stroke-width: 0.8\"/>\n      </g>\n     </g>\n     <g id=\"text_14\">\n      <!-- 188 -->\n      <g transform=\"translate(20.878125 125.909344) scale(0.1 -0.1)\">\n       <use xlink:href=\"#DejaVuSans-31\"/>\n       <use xlink:href=\"#DejaVuSans-38\" x=\"63.623047\"/>\n       <use xlink:href=\"#DejaVuSans-38\" x=\"127.246094\"/>\n      </g>\n     </g>\n    </g>\n    <g id=\"ytick_6\">\n     <g id=\"line2d_14\">\n      <g>\n       <use xlink:href=\"#m08c6e41b5f\" x=\"46.965625\" y=\"144.286125\" style=\"stroke: #000000; stroke-width: 0.8\"/>\n      </g>\n     </g>\n     <g id=\"text_15\">\n      <!-- 232 -->\n      <g transform=\"translate(20.878125 148.085344) scale(0.1 -0.1)\">\n       <use xlink:href=\"#DejaVuSans-32\"/>\n       <use xlink:href=\"#DejaVuSans-33\" x=\"63.623047\"/>\n       <use xlink:href=\"#DejaVuSans-32\" x=\"127.246094\"/>\n      </g>\n     </g>\n    </g>\n    <g id=\"ytick_7\">\n     <g id=\"line2d_15\">\n      <g>\n       <use xlink:href=\"#m08c6e41b5f\" x=\"46.965625\" y=\"166.462125\" style=\"stroke: #000000; stroke-width: 0.8\"/>\n      </g>\n     </g>\n     <g id=\"text_16\">\n      <!-- 277 -->\n      <g transform=\"translate(20.878125 170.261344) scale(0.1 -0.1)\">\n       <use xlink:href=\"#DejaVuSans-32\"/>\n       <use xlink:href=\"#DejaVuSans-37\" x=\"63.623047\"/>\n       <use xlink:href=\"#DejaVuSans-37\" x=\"127.246094\"/>\n      </g>\n     </g>\n    </g>\n    <g id=\"ytick_8\">\n     <g id=\"line2d_16\">\n      <g>\n       <use xlink:href=\"#m08c6e41b5f\" x=\"46.965625\" y=\"188.638125\" style=\"stroke: #000000; stroke-width: 0.8\"/>\n      </g>\n     </g>\n     <g id=\"text_17\">\n      <!-- 321 -->\n      <g transform=\"translate(20.878125 192.437344) scale(0.1 -0.1)\">\n       <use xlink:href=\"#DejaVuSans-33\"/>\n       <use xlink:href=\"#DejaVuSans-32\" x=\"63.623047\"/>\n       <use xlink:href=\"#DejaVuSans-31\" x=\"127.246094\"/>\n      </g>\n     </g>\n    </g>\n    <g id=\"ytick_9\">\n     <g id=\"line2d_17\">\n      <g>\n       <use xlink:href=\"#m08c6e41b5f\" x=\"46.965625\" y=\"210.814125\" style=\"stroke: #000000; stroke-width: 0.8\"/>\n      </g>\n     </g>\n     <g id=\"text_18\">\n      <!-- 366 -->\n      <g transform=\"translate(20.878125 214.613344) scale(0.1 -0.1)\">\n       <use xlink:href=\"#DejaVuSans-33\"/>\n       <use xlink:href=\"#DejaVuSans-36\" x=\"63.623047\"/>\n       <use xlink:href=\"#DejaVuSans-36\" x=\"127.246094\"/>\n      </g>\n     </g>\n    </g>\n    <g id=\"ytick_10\">\n     <g id=\"line2d_18\">\n      <g>\n       <use xlink:href=\"#m08c6e41b5f\" x=\"46.965625\" y=\"232.990125\" style=\"stroke: #000000; stroke-width: 0.8\"/>\n      </g>\n     </g>\n     <g id=\"text_19\">\n      <!-- 410 -->\n      <g transform=\"translate(20.878125 236.789344) scale(0.1 -0.1)\">\n       <use xlink:href=\"#DejaVuSans-34\"/>\n       <use xlink:href=\"#DejaVuSans-31\" x=\"63.623047\"/>\n       <use xlink:href=\"#DejaVuSans-30\" x=\"127.246094\"/>\n      </g>\n     </g>\n    </g>\n    <g id=\"ytick_11\">\n     <g id=\"line2d_19\">\n      <g>\n       <use xlink:href=\"#m08c6e41b5f\" x=\"46.965625\" y=\"255.166125\" style=\"stroke: #000000; stroke-width: 0.8\"/>\n      </g>\n     </g>\n     <g id=\"text_20\">\n      <!-- 455 -->\n      <g transform=\"translate(20.878125 258.965344) scale(0.1 -0.1)\">\n       <use xlink:href=\"#DejaVuSans-34\"/>\n       <use xlink:href=\"#DejaVuSans-35\" x=\"63.623047\"/>\n       <use xlink:href=\"#DejaVuSans-35\" x=\"127.246094\"/>\n      </g>\n     </g>\n    </g>\n    <g id=\"ytick_12\">\n     <g id=\"line2d_20\">\n      <g>\n       <use xlink:href=\"#m08c6e41b5f\" x=\"46.965625\" y=\"277.342125\" style=\"stroke: #000000; stroke-width: 0.8\"/>\n      </g>\n     </g>\n     <g id=\"text_21\">\n      <!-- 500 -->\n      <g transform=\"translate(20.878125 281.141344) scale(0.1 -0.1)\">\n       <use xlink:href=\"#DejaVuSans-35\"/>\n       <use xlink:href=\"#DejaVuSans-30\" x=\"63.623047\"/>\n       <use xlink:href=\"#DejaVuSans-30\" x=\"127.246094\"/>\n      </g>\n     </g>\n    </g>\n    <g id=\"text_22\">\n     <!-- Bottleneck sizes -->\n     <g transform=\"translate(14.798438 196.028031) rotate(-90) scale(0.1 -0.1)\">\n      <defs>\n       <path id=\"DejaVuSans-42\" d=\"M 1259 2228 \nL 1259 519 \nL 2272 519 \nQ 2781 519 3026 730 \nQ 3272 941 3272 1375 \nQ 3272 1813 3026 2020 \nQ 2781 2228 2272 2228 \nL 1259 2228 \nz\nM 1259 4147 \nL 1259 2741 \nL 2194 2741 \nQ 2656 2741 2882 2914 \nQ 3109 3088 3109 3444 \nQ 3109 3797 2882 3972 \nQ 2656 4147 2194 4147 \nL 1259 4147 \nz\nM 628 4666 \nL 2241 4666 \nQ 2963 4666 3353 4366 \nQ 3744 4066 3744 3513 \nQ 3744 3084 3544 2831 \nQ 3344 2578 2956 2516 \nQ 3422 2416 3680 2098 \nQ 3938 1781 3938 1306 \nQ 3938 681 3513 340 \nQ 3088 0 2303 0 \nL 628 0 \nL 628 4666 \nz\n\" transform=\"scale(0.015625)\"/>\n       <path id=\"DejaVuSans-74\" d=\"M 1172 4494 \nL 1172 3500 \nL 2356 3500 \nL 2356 3053 \nL 1172 3053 \nL 1172 1153 \nQ 1172 725 1289 603 \nQ 1406 481 1766 481 \nL 2356 481 \nL 2356 0 \nL 1766 0 \nQ 1100 0 847 248 \nQ 594 497 594 1153 \nL 594 3053 \nL 172 3053 \nL 172 3500 \nL 594 3500 \nL 594 4494 \nL 1172 4494 \nz\n\" transform=\"scale(0.015625)\"/>\n       <path id=\"DejaVuSans-6c\" d=\"M 603 4863 \nL 1178 4863 \nL 1178 0 \nL 603 0 \nL 603 4863 \nz\n\" transform=\"scale(0.015625)\"/>\n       <path id=\"DejaVuSans-6b\" d=\"M 581 4863 \nL 1159 4863 \nL 1159 1991 \nL 2875 3500 \nL 3609 3500 \nL 1753 1863 \nL 3688 0 \nL 2938 0 \nL 1159 1709 \nL 1159 0 \nL 581 0 \nL 581 4863 \nz\n\" transform=\"scale(0.015625)\"/>\n      </defs>\n      <use xlink:href=\"#DejaVuSans-42\"/>\n      <use xlink:href=\"#DejaVuSans-6f\" x=\"68.603516\"/>\n      <use xlink:href=\"#DejaVuSans-74\" x=\"129.785156\"/>\n      <use xlink:href=\"#DejaVuSans-74\" x=\"168.994141\"/>\n      <use xlink:href=\"#DejaVuSans-6c\" x=\"208.203125\"/>\n      <use xlink:href=\"#DejaVuSans-65\" x=\"235.986328\"/>\n      <use xlink:href=\"#DejaVuSans-6e\" x=\"297.509766\"/>\n      <use xlink:href=\"#DejaVuSans-65\" x=\"360.888672\"/>\n      <use xlink:href=\"#DejaVuSans-63\" x=\"422.412109\"/>\n      <use xlink:href=\"#DejaVuSans-6b\" x=\"477.392578\"/>\n      <use xlink:href=\"#DejaVuSans-20\" x=\"535.302734\"/>\n      <use xlink:href=\"#DejaVuSans-73\" x=\"567.089844\"/>\n      <use xlink:href=\"#DejaVuSans-69\" x=\"619.189453\"/>\n      <use xlink:href=\"#DejaVuSans-7a\" x=\"646.972656\"/>\n      <use xlink:href=\"#DejaVuSans-65\" x=\"699.462891\"/>\n      <use xlink:href=\"#DejaVuSans-73\" x=\"760.986328\"/>\n     </g>\n    </g>\n   </g>\n   <g id=\"patch_3\">\n    <path d=\"M 46.965625 288.430125 \nL 46.965625 22.318125 \n\" style=\"fill: none; stroke: #000000; stroke-width: 0.8; stroke-linejoin: miter; stroke-linecap: square\"/>\n   </g>\n   <g id=\"patch_4\">\n    <path d=\"M 224.373625 288.430125 \nL 224.373625 22.318125 \n\" style=\"fill: none; stroke: #000000; stroke-width: 0.8; stroke-linejoin: miter; stroke-linecap: square\"/>\n   </g>\n   <g id=\"patch_5\">\n    <path d=\"M 46.965625 288.430125 \nL 224.373625 288.430125 \n\" style=\"fill: none; stroke: #000000; stroke-width: 0.8; stroke-linejoin: miter; stroke-linecap: square\"/>\n   </g>\n   <g id=\"patch_6\">\n    <path d=\"M 46.965625 22.318125 \nL 224.373625 22.318125 \n\" style=\"fill: none; stroke: #000000; stroke-width: 0.8; stroke-linejoin: miter; stroke-linecap: square\"/>\n   </g>\n   <g id=\"text_23\">\n    <!-- Loss over autoencoder size -->\n    <g transform=\"translate(53.839 16.318125) scale(0.12 -0.12)\">\n     <defs>\n      <path id=\"DejaVuSans-4c\" d=\"M 628 4666 \nL 1259 4666 \nL 1259 531 \nL 3531 531 \nL 3531 0 \nL 628 0 \nL 628 4666 \nz\n\" transform=\"scale(0.015625)\"/>\n      <path id=\"DejaVuSans-76\" d=\"M 191 3500 \nL 800 3500 \nL 1894 563 \nL 2988 3500 \nL 3597 3500 \nL 2284 0 \nL 1503 0 \nL 191 3500 \nz\n\" transform=\"scale(0.015625)\"/>\n      <path id=\"DejaVuSans-61\" d=\"M 2194 1759 \nQ 1497 1759 1228 1600 \nQ 959 1441 959 1056 \nQ 959 750 1161 570 \nQ 1363 391 1709 391 \nQ 2188 391 2477 730 \nQ 2766 1069 2766 1631 \nL 2766 1759 \nL 2194 1759 \nz\nM 3341 1997 \nL 3341 0 \nL 2766 0 \nL 2766 531 \nQ 2569 213 2275 61 \nQ 1981 -91 1556 -91 \nQ 1019 -91 701 211 \nQ 384 513 384 1019 \nQ 384 1609 779 1909 \nQ 1175 2209 1959 2209 \nL 2766 2209 \nL 2766 2266 \nQ 2766 2663 2505 2880 \nQ 2244 3097 1772 3097 \nQ 1472 3097 1187 3025 \nQ 903 2953 641 2809 \nL 641 3341 \nQ 956 3463 1253 3523 \nQ 1550 3584 1831 3584 \nQ 2591 3584 2966 3190 \nQ 3341 2797 3341 1997 \nz\n\" transform=\"scale(0.015625)\"/>\n      <path id=\"DejaVuSans-75\" d=\"M 544 1381 \nL 544 3500 \nL 1119 3500 \nL 1119 1403 \nQ 1119 906 1312 657 \nQ 1506 409 1894 409 \nQ 2359 409 2629 706 \nQ 2900 1003 2900 1516 \nL 2900 3500 \nL 3475 3500 \nL 3475 0 \nL 2900 0 \nL 2900 538 \nQ 2691 219 2414 64 \nQ 2138 -91 1772 -91 \nQ 1169 -91 856 284 \nQ 544 659 544 1381 \nz\nM 1991 3584 \nL 1991 3584 \nz\n\" transform=\"scale(0.015625)\"/>\n     </defs>\n     <use xlink:href=\"#DejaVuSans-4c\"/>\n     <use xlink:href=\"#DejaVuSans-6f\" x=\"53.962891\"/>\n     <use xlink:href=\"#DejaVuSans-73\" x=\"115.144531\"/>\n     <use xlink:href=\"#DejaVuSans-73\" x=\"167.244141\"/>\n     <use xlink:href=\"#DejaVuSans-20\" x=\"219.34375\"/>\n     <use xlink:href=\"#DejaVuSans-6f\" x=\"251.130859\"/>\n     <use xlink:href=\"#DejaVuSans-76\" x=\"312.3125\"/>\n     <use xlink:href=\"#DejaVuSans-65\" x=\"371.492188\"/>\n     <use xlink:href=\"#DejaVuSans-72\" x=\"433.015625\"/>\n     <use xlink:href=\"#DejaVuSans-20\" x=\"474.128906\"/>\n     <use xlink:href=\"#DejaVuSans-61\" x=\"505.916016\"/>\n     <use xlink:href=\"#DejaVuSans-75\" x=\"567.195312\"/>\n     <use xlink:href=\"#DejaVuSans-74\" x=\"630.574219\"/>\n     <use xlink:href=\"#DejaVuSans-6f\" x=\"669.783203\"/>\n     <use xlink:href=\"#DejaVuSans-65\" x=\"730.964844\"/>\n     <use xlink:href=\"#DejaVuSans-6e\" x=\"792.488281\"/>\n     <use xlink:href=\"#DejaVuSans-63\" x=\"855.867188\"/>\n     <use xlink:href=\"#DejaVuSans-6f\" x=\"910.847656\"/>\n     <use xlink:href=\"#DejaVuSans-64\" x=\"972.029297\"/>\n     <use xlink:href=\"#DejaVuSans-65\" x=\"1035.505859\"/>\n     <use xlink:href=\"#DejaVuSans-72\" x=\"1097.029297\"/>\n     <use xlink:href=\"#DejaVuSans-20\" x=\"1138.142578\"/>\n     <use xlink:href=\"#DejaVuSans-73\" x=\"1169.929688\"/>\n     <use xlink:href=\"#DejaVuSans-69\" x=\"1222.029297\"/>\n     <use xlink:href=\"#DejaVuSans-7a\" x=\"1249.8125\"/>\n     <use xlink:href=\"#DejaVuSans-65\" x=\"1302.302734\"/>\n    </g>\n   </g>\n  </g>\n  <g id=\"axes_2\">\n   <g id=\"patch_7\">\n    <path d=\"M 242.229625 288.430125 \nL 255.535225 288.430125 \nL 255.535225 22.318125 \nL 242.229625 22.318125 \nz\n\" style=\"fill: #ffffff\"/>\n   </g>\n   <g id=\"patch_8\">\n    <path clip-path=\"url(#p24f4a99fc3)\" style=\"fill: #ffffff; stroke: #ffffff; stroke-width: 0.01; stroke-linejoin: miter\"/>\n   </g>\n   <image xlink:href=\"data:image/png;base64,\niVBORw0KGgoAAAANSUhEUgAAABMAAAFyCAYAAAAXj+GHAAAByklEQVR4nO2aWw4DMQwCt1Xvf+E+tmcgmo+RgAMgYQfbcfL4vL/3BeFJEeFkr/vGVLplcmRimReo8wWGDJcJkollgjprYsbKlBbHkmx6iyPcnUiyjqPhzeYGlxxopUUdYI4ZaXRy1vDKXDZziGV2dKfF7IDMK5M1urU4sh29pgcsZiG8C0zvrc6bAHHZ1i6WvEb3xszb0dWVFiWTZtNcHK3nrEcmSiZ1QI1MlKzFAQ172mXziAzjapFZMtPuaOSYzBxemeIpaHf0A7Jfh0ztoZ3RY3hjppbpzSZJtnoWk2n/n3ljpjY6xjWZB0BLUE3M1uoOyCYzhPjQspdXccxQshKZHJnYAZN5QqZ1AEq2o5FiMnOY/7p7jV7S6jr+OWqN3uOAEpkcmdgBLf+CrCsv8wOz+KWCdIBYJkpmlUkmYDE7IPPKvH8gmfkVEW11GJdZJnsT7ugB5lYn7QEr2znYabvl3ck6BZkXmOJ6BpKJBxfroVXHjCTTytS+VIgdID601sWS2gEg2VpdDLHRvfVMO5/1xAzjct/RrUa/OuYzbdleq8shlul1QI3Rtcs4rdFbdo4l9WxjaEymvfDP6Dlm9BOyGT0nm9FToDL/epEeo8bYmygAAAAASUVORK5CYII=\" id=\"image30152413cf\" transform=\"scale(1 -1) translate(0 -266.4)\" x=\"241.92\" y=\"-21.6\" width=\"13.68\" height=\"266.4\"/>\n   <g id=\"matplotlib.axis_3\"/>\n   <g id=\"matplotlib.axis_4\">\n    <g id=\"ytick_13\">\n     <g id=\"line2d_21\">\n      <defs>\n       <path id=\"m3065d851da\" d=\"M 0 0 \nL 3.5 0 \n\" style=\"stroke: #000000; stroke-width: 0.8\"/>\n      </defs>\n      <g>\n       <use xlink:href=\"#m3065d851da\" x=\"255.535225\" y=\"266.904364\" style=\"stroke: #000000; stroke-width: 0.8\"/>\n      </g>\n     </g>\n     <g id=\"text_24\">\n      <!-- 0.01 -->\n      <g transform=\"translate(262.535225 270.703582) scale(0.1 -0.1)\">\n       <defs>\n        <path id=\"DejaVuSans-2e\" d=\"M 684 794 \nL 1344 794 \nL 1344 0 \nL 684 0 \nL 684 794 \nz\n\" transform=\"scale(0.015625)\"/>\n       </defs>\n       <use xlink:href=\"#DejaVuSans-30\"/>\n       <use xlink:href=\"#DejaVuSans-2e\" x=\"63.623047\"/>\n       <use xlink:href=\"#DejaVuSans-30\" x=\"95.410156\"/>\n       <use xlink:href=\"#DejaVuSans-31\" x=\"159.033203\"/>\n      </g>\n     </g>\n    </g>\n    <g id=\"ytick_14\">\n     <g id=\"line2d_22\">\n      <g>\n       <use xlink:href=\"#m3065d851da\" x=\"255.535225\" y=\"215.690175\" style=\"stroke: #000000; stroke-width: 0.8\"/>\n      </g>\n     </g>\n     <g id=\"text_25\">\n      <!-- 0.02 -->\n      <g transform=\"translate(262.535225 219.489394) scale(0.1 -0.1)\">\n       <use xlink:href=\"#DejaVuSans-30\"/>\n       <use xlink:href=\"#DejaVuSans-2e\" x=\"63.623047\"/>\n       <use xlink:href=\"#DejaVuSans-30\" x=\"95.410156\"/>\n       <use xlink:href=\"#DejaVuSans-32\" x=\"159.033203\"/>\n      </g>\n     </g>\n    </g>\n    <g id=\"ytick_15\">\n     <g id=\"line2d_23\">\n      <g>\n       <use xlink:href=\"#m3065d851da\" x=\"255.535225\" y=\"164.475987\" style=\"stroke: #000000; stroke-width: 0.8\"/>\n      </g>\n     </g>\n     <g id=\"text_26\">\n      <!-- 0.03 -->\n      <g transform=\"translate(262.535225 168.275206) scale(0.1 -0.1)\">\n       <use xlink:href=\"#DejaVuSans-30\"/>\n       <use xlink:href=\"#DejaVuSans-2e\" x=\"63.623047\"/>\n       <use xlink:href=\"#DejaVuSans-30\" x=\"95.410156\"/>\n       <use xlink:href=\"#DejaVuSans-33\" x=\"159.033203\"/>\n      </g>\n     </g>\n    </g>\n    <g id=\"ytick_16\">\n     <g id=\"line2d_24\">\n      <g>\n       <use xlink:href=\"#m3065d851da\" x=\"255.535225\" y=\"113.261799\" style=\"stroke: #000000; stroke-width: 0.8\"/>\n      </g>\n     </g>\n     <g id=\"text_27\">\n      <!-- 0.04 -->\n      <g transform=\"translate(262.535225 117.061018) scale(0.1 -0.1)\">\n       <use xlink:href=\"#DejaVuSans-30\"/>\n       <use xlink:href=\"#DejaVuSans-2e\" x=\"63.623047\"/>\n       <use xlink:href=\"#DejaVuSans-30\" x=\"95.410156\"/>\n       <use xlink:href=\"#DejaVuSans-34\" x=\"159.033203\"/>\n      </g>\n     </g>\n    </g>\n    <g id=\"ytick_17\">\n     <g id=\"line2d_25\">\n      <g>\n       <use xlink:href=\"#m3065d851da\" x=\"255.535225\" y=\"62.047611\" style=\"stroke: #000000; stroke-width: 0.8\"/>\n      </g>\n     </g>\n     <g id=\"text_28\">\n      <!-- 0.05 -->\n      <g transform=\"translate(262.535225 65.846829) scale(0.1 -0.1)\">\n       <use xlink:href=\"#DejaVuSans-30\"/>\n       <use xlink:href=\"#DejaVuSans-2e\" x=\"63.623047\"/>\n       <use xlink:href=\"#DejaVuSans-30\" x=\"95.410156\"/>\n       <use xlink:href=\"#DejaVuSans-35\" x=\"159.033203\"/>\n      </g>\n     </g>\n    </g>\n   </g>\n   <g id=\"LineCollection_1\"/>\n   <g id=\"patch_9\">\n    <path d=\"M 242.229625 288.430125 \nL 248.882425 288.430125 \nL 255.535225 288.430125 \nL 255.535225 22.318125 \nL 248.882425 22.318125 \nL 242.229625 22.318125 \nL 242.229625 288.430125 \nz\n\" style=\"fill: none; stroke: #000000; stroke-width: 0.8; stroke-linejoin: miter; stroke-linecap: square\"/>\n   </g>\n  </g>\n </g>\n <defs>\n  <clipPath id=\"p7d243be646\">\n   <rect x=\"46.965625\" y=\"22.318125\" width=\"177.408\" height=\"266.112\"/>\n  </clipPath>\n  <clipPath id=\"p24f4a99fc3\">\n   <rect x=\"242.229625\" y=\"22.318125\" width=\"13.3056\" height=\"266.112\"/>\n  </clipPath>\n </defs>\n</svg>\n"
     },
     "metadata": {},
     "output_type": "display_data"
    }
   ],
   "source": [
    "\n",
    "plt.figure()\n",
    "\n",
    "plt.imshow(losses, cmap=\"Purples\")\n",
    "plt.colorbar()\n",
    "plt.yticks(range(len(encoding_sizes)), encoding_sizes)\n",
    "plt.xticks(range(len(bottleneck_sizes)), bottleneck_sizes)\n",
    "\n",
    "plt.xlabel(\"Encoder size\")\n",
    "plt.ylabel(\"Bottleneck sizes\")\n",
    "plt.title(\"Loss over autoencoder size\")\n",
    "\n",
    "plt.show()\n"
   ],
   "metadata": {
    "collapsed": false
   }
  },
  {
   "cell_type": "code",
   "execution_count": 18,
   "outputs": [],
   "source": [],
   "metadata": {
    "collapsed": false
   }
  }
 ]
}
