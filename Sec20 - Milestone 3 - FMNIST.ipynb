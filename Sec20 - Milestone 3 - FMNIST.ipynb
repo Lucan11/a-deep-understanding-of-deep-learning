{
 "cells": [
  {
   "cell_type": "code",
   "execution_count": 1,
   "metadata": {
    "collapsed": true
   },
   "outputs": [
    {
     "name": "stderr",
     "output_type": "stream",
     "text": [
      "C:\\Users\\lucan\\AppData\\Local\\Programs\\Python\\Python310\\lib\\site-packages\\scipy\\__init__.py:146: UserWarning: A NumPy version >=1.16.5 and <1.23.0 is required for this version of SciPy (detected version 1.23.4\n",
      "  warnings.warn(f\"A NumPy version >={np_minversion} and <{np_maxversion}\"\n",
      "C:\\Users\\lucan\\AppData\\Local\\Temp\\ipykernel_16836\\2014596840.py:17: DeprecationWarning: `set_matplotlib_formats` is deprecated since IPython 7.23, directly use `matplotlib_inline.backend_inline.set_matplotlib_formats()`\n",
      "  display.set_matplotlib_formats('svg')\n"
     ]
    }
   ],
   "source": [
    "# import libraries\n",
    "import numpy as np\n",
    "\n",
    "import torch\n",
    "import torch.nn as nn\n",
    "import torch.nn.functional as F\n",
    "from torch.utils.data import DataLoader,TensorDataset,Subset\n",
    "import copy\n",
    "from sklearn.model_selection import train_test_split\n",
    "\n",
    "# for importing data\n",
    "import torchvision\n",
    "import torchvision.transforms as T\n",
    "\n",
    "import matplotlib.pyplot as plt\n",
    "from IPython import display\n",
    "display.set_matplotlib_formats('svg')"
   ]
  },
  {
   "cell_type": "code",
   "execution_count": 2,
   "outputs": [
    {
     "name": "stdout",
     "output_type": "stream",
     "text": [
      "cuda:0\n"
     ]
    }
   ],
   "source": [
    "# use GPU if available\n",
    "device = torch.device('cuda:0' if torch.cuda.is_available() else 'cpu')\n",
    "print(device)"
   ],
   "metadata": {
    "collapsed": false
   }
  },
  {
   "cell_type": "code",
   "execution_count": 58,
   "outputs": [],
   "source": [
    "# download the dataset with enhancements\n",
    "custom_transform = T.Compose([\n",
    "    # T.AutoAugment(T.AutoAugmentPolicy.CIFAR10),      # Cheating a bit?\n",
    "    T.ToTensor(),\n",
    "    T.Normalize([.5],[.5]),\n",
    "    # T.RandomVerticalFlip(p=.5),\n",
    "    # T.RandomRotation(180)\n",
    "])\n",
    "\n",
    "trainset = torchvision.datasets.FashionMNIST(root='FMNIST', train=True, download=True, transform=custom_transform)\n",
    "dev_test_set = torchvision.datasets.FashionMNIST(root='FMNIST', train=False, download=True, transform=custom_transform)"
   ],
   "metadata": {
    "collapsed": false
   }
  },
  {
   "cell_type": "code",
   "execution_count": 59,
   "outputs": [
    {
     "name": "stdout",
     "output_type": "stream",
     "text": [
      "Data shape: torch.Size([60000, 28, 28]) -> 60000 images of 28x28 pixels in grayscale\n",
      "Data labels: {'T-shirt/top': 0, 'Trouser': 1, 'Pullover': 2, 'Dress': 3, 'Coat': 4, 'Sandal': 5, 'Shirt': 6, 'Sneaker': 7, 'Bag': 8, 'Ankle boot': 9}\n",
      "[0 1 2 3 4 5 6 7 8 9] -> Zero-indexed\n",
      "Data contains nans: 0 -> Great!\n"
     ]
    }
   ],
   "source": [
    "# Check the data parameters\n",
    "print(f\"Data shape: {trainset.data.shape} -> 60000 images of 28x28 pixels in grayscale\")\n",
    "print(f\"Data labels: {trainset.class_to_idx}\")\n",
    "print(f\"{np.unique(trainset.targets)} -> Zero-indexed\")\n",
    "print(f\"Data contains nans: {np.isnan(trainset.data).any()} -> Great!\")"
   ],
   "metadata": {
    "collapsed": false
   }
  },
  {
   "cell_type": "markdown",
   "source": [
    "# Plot some figures"
   ],
   "metadata": {
    "collapsed": false
   }
  },
  {
   "cell_type": "code",
   "execution_count": 60,
   "outputs": [
    {
     "data": {
      "text/plain": "<Figure size 1500x1000 with 5 Axes>",
      "image/svg+xml": "<?xml version=\"1.0\" encoding=\"utf-8\" standalone=\"no\"?>\n<!DOCTYPE svg PUBLIC \"-//W3C//DTD SVG 1.1//EN\"\n  \"http://www.w3.org/Graphics/SVG/1.1/DTD/svg11.dtd\">\n<svg xmlns:xlink=\"http://www.w3.org/1999/xlink\" width=\"871.125pt\" height=\"190.506595pt\" viewBox=\"0 0 871.125 190.506595\" xmlns=\"http://www.w3.org/2000/svg\" version=\"1.1\">\n <metadata>\n  <rdf:RDF xmlns:dc=\"http://purl.org/dc/elements/1.1/\" xmlns:cc=\"http://creativecommons.org/ns#\" xmlns:rdf=\"http://www.w3.org/1999/02/22-rdf-syntax-ns#\">\n   <cc:Work>\n    <dc:type rdf:resource=\"http://purl.org/dc/dcmitype/StillImage\"/>\n    <dc:date>2022-11-24T10:03:00.496204</dc:date>\n    <dc:format>image/svg+xml</dc:format>\n    <dc:creator>\n     <cc:Agent>\n      <dc:title>Matplotlib v3.5.0, https://matplotlib.org/</dc:title>\n     </cc:Agent>\n    </dc:creator>\n   </cc:Work>\n  </rdf:RDF>\n </metadata>\n <defs>\n  <style type=\"text/css\">*{stroke-linejoin: round; stroke-linecap: butt}</style>\n </defs>\n <g id=\"figure_1\">\n  <g id=\"patch_1\">\n   <path d=\"M 0 190.506595 \nL 871.125 190.506595 \nL 871.125 0 \nL 0 0 \nz\n\" style=\"fill: #ffffff\"/>\n  </g>\n  <g id=\"axes_1\">\n   <g id=\"patch_2\">\n    <path d=\"M 26.925 166.62847 \nL 171.235345 166.62847 \nL 171.235345 22.318125 \nL 26.925 22.318125 \nz\n\" style=\"fill: #ffffff\"/>\n   </g>\n   <g clip-path=\"url(#p38bb825295)\">\n    <image xlink:href=\"data:image/png;base64,\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\" id=\"image3d2e420290\" transform=\"scale(1 -1)translate(0 -144.72)\" x=\"26.925\" y=\"-21.90847\" width=\"144.72\" height=\"144.72\"/>\n   </g>\n   <g id=\"matplotlib.axis_1\">\n    <g id=\"xtick_1\">\n     <g id=\"line2d_1\">\n      <defs>\n       <path id=\"m5652c1c399\" d=\"M 0 0 \nL 0 3.5 \n\" style=\"stroke: #000000; stroke-width: 0.8\"/>\n      </defs>\n      <g>\n       <use xlink:href=\"#m5652c1c399\" x=\"29.50197\" y=\"166.62847\" style=\"stroke: #000000; stroke-width: 0.8\"/>\n      </g>\n     </g>\n     <g id=\"text_1\">\n      <!-- 0 -->\n      <g transform=\"translate(26.32072 181.226907)scale(0.1 -0.1)\">\n       <defs>\n        <path id=\"DejaVuSans-30\" d=\"M 2034 4250 \nQ 1547 4250 1301 3770 \nQ 1056 3291 1056 2328 \nQ 1056 1369 1301 889 \nQ 1547 409 2034 409 \nQ 2525 409 2770 889 \nQ 3016 1369 3016 2328 \nQ 3016 3291 2770 3770 \nQ 2525 4250 2034 4250 \nz\nM 2034 4750 \nQ 2819 4750 3233 4129 \nQ 3647 3509 3647 2328 \nQ 3647 1150 3233 529 \nQ 2819 -91 2034 -91 \nQ 1250 -91 836 529 \nQ 422 1150 422 2328 \nQ 422 3509 836 4129 \nQ 1250 4750 2034 4750 \nz\n\" transform=\"scale(0.015625)\"/>\n       </defs>\n       <use xlink:href=\"#DejaVuSans-30\"/>\n      </g>\n     </g>\n    </g>\n    <g id=\"xtick_2\">\n     <g id=\"line2d_2\">\n      <g>\n       <use xlink:href=\"#m5652c1c399\" x=\"81.041379\" y=\"166.62847\" style=\"stroke: #000000; stroke-width: 0.8\"/>\n      </g>\n     </g>\n     <g id=\"text_2\">\n      <!-- 10 -->\n      <g transform=\"translate(74.678879 181.226907)scale(0.1 -0.1)\">\n       <defs>\n        <path id=\"DejaVuSans-31\" d=\"M 794 531 \nL 1825 531 \nL 1825 4091 \nL 703 3866 \nL 703 4441 \nL 1819 4666 \nL 2450 4666 \nL 2450 531 \nL 3481 531 \nL 3481 0 \nL 794 0 \nL 794 531 \nz\n\" transform=\"scale(0.015625)\"/>\n       </defs>\n       <use xlink:href=\"#DejaVuSans-31\"/>\n       <use xlink:href=\"#DejaVuSans-30\" x=\"63.623047\"/>\n      </g>\n     </g>\n    </g>\n    <g id=\"xtick_3\">\n     <g id=\"line2d_3\">\n      <g>\n       <use xlink:href=\"#m5652c1c399\" x=\"132.580788\" y=\"166.62847\" style=\"stroke: #000000; stroke-width: 0.8\"/>\n      </g>\n     </g>\n     <g id=\"text_3\">\n      <!-- 20 -->\n      <g transform=\"translate(126.218288 181.226907)scale(0.1 -0.1)\">\n       <defs>\n        <path id=\"DejaVuSans-32\" d=\"M 1228 531 \nL 3431 531 \nL 3431 0 \nL 469 0 \nL 469 531 \nQ 828 903 1448 1529 \nQ 2069 2156 2228 2338 \nQ 2531 2678 2651 2914 \nQ 2772 3150 2772 3378 \nQ 2772 3750 2511 3984 \nQ 2250 4219 1831 4219 \nQ 1534 4219 1204 4116 \nQ 875 4013 500 3803 \nL 500 4441 \nQ 881 4594 1212 4672 \nQ 1544 4750 1819 4750 \nQ 2544 4750 2975 4387 \nQ 3406 4025 3406 3419 \nQ 3406 3131 3298 2873 \nQ 3191 2616 2906 2266 \nQ 2828 2175 2409 1742 \nQ 1991 1309 1228 531 \nz\n\" transform=\"scale(0.015625)\"/>\n       </defs>\n       <use xlink:href=\"#DejaVuSans-32\"/>\n       <use xlink:href=\"#DejaVuSans-30\" x=\"63.623047\"/>\n      </g>\n     </g>\n    </g>\n   </g>\n   <g id=\"matplotlib.axis_2\">\n    <g id=\"ytick_1\">\n     <g id=\"line2d_4\">\n      <defs>\n       <path id=\"m5c55d34b94\" d=\"M 0 0 \nL -3.5 0 \n\" style=\"stroke: #000000; stroke-width: 0.8\"/>\n      </defs>\n      <g>\n       <use xlink:href=\"#m5c55d34b94\" x=\"26.925\" y=\"24.895095\" style=\"stroke: #000000; stroke-width: 0.8\"/>\n      </g>\n     </g>\n     <g id=\"text_4\">\n      <!-- 0 -->\n      <g transform=\"translate(13.5625 28.694314)scale(0.1 -0.1)\">\n       <use xlink:href=\"#DejaVuSans-30\"/>\n      </g>\n     </g>\n    </g>\n    <g id=\"ytick_2\">\n     <g id=\"line2d_5\">\n      <g>\n       <use xlink:href=\"#m5c55d34b94\" x=\"26.925\" y=\"50.6648\" style=\"stroke: #000000; stroke-width: 0.8\"/>\n      </g>\n     </g>\n     <g id=\"text_5\">\n      <!-- 5 -->\n      <g transform=\"translate(13.5625 54.464019)scale(0.1 -0.1)\">\n       <defs>\n        <path id=\"DejaVuSans-35\" d=\"M 691 4666 \nL 3169 4666 \nL 3169 4134 \nL 1269 4134 \nL 1269 2991 \nQ 1406 3038 1543 3061 \nQ 1681 3084 1819 3084 \nQ 2600 3084 3056 2656 \nQ 3513 2228 3513 1497 \nQ 3513 744 3044 326 \nQ 2575 -91 1722 -91 \nQ 1428 -91 1123 -41 \nQ 819 9 494 109 \nL 494 744 \nQ 775 591 1075 516 \nQ 1375 441 1709 441 \nQ 2250 441 2565 725 \nQ 2881 1009 2881 1497 \nQ 2881 1984 2565 2268 \nQ 2250 2553 1709 2553 \nQ 1456 2553 1204 2497 \nQ 953 2441 691 2322 \nL 691 4666 \nz\n\" transform=\"scale(0.015625)\"/>\n       </defs>\n       <use xlink:href=\"#DejaVuSans-35\"/>\n      </g>\n     </g>\n    </g>\n    <g id=\"ytick_3\">\n     <g id=\"line2d_6\">\n      <g>\n       <use xlink:href=\"#m5c55d34b94\" x=\"26.925\" y=\"76.434504\" style=\"stroke: #000000; stroke-width: 0.8\"/>\n      </g>\n     </g>\n     <g id=\"text_6\">\n      <!-- 10 -->\n      <g transform=\"translate(7.2 80.233723)scale(0.1 -0.1)\">\n       <use xlink:href=\"#DejaVuSans-31\"/>\n       <use xlink:href=\"#DejaVuSans-30\" x=\"63.623047\"/>\n      </g>\n     </g>\n    </g>\n    <g id=\"ytick_4\">\n     <g id=\"line2d_7\">\n      <g>\n       <use xlink:href=\"#m5c55d34b94\" x=\"26.925\" y=\"102.204209\" style=\"stroke: #000000; stroke-width: 0.8\"/>\n      </g>\n     </g>\n     <g id=\"text_7\">\n      <!-- 15 -->\n      <g transform=\"translate(7.2 106.003427)scale(0.1 -0.1)\">\n       <use xlink:href=\"#DejaVuSans-31\"/>\n       <use xlink:href=\"#DejaVuSans-35\" x=\"63.623047\"/>\n      </g>\n     </g>\n    </g>\n    <g id=\"ytick_5\">\n     <g id=\"line2d_8\">\n      <g>\n       <use xlink:href=\"#m5c55d34b94\" x=\"26.925\" y=\"127.973913\" style=\"stroke: #000000; stroke-width: 0.8\"/>\n      </g>\n     </g>\n     <g id=\"text_8\">\n      <!-- 20 -->\n      <g transform=\"translate(7.2 131.773132)scale(0.1 -0.1)\">\n       <use xlink:href=\"#DejaVuSans-32\"/>\n       <use xlink:href=\"#DejaVuSans-30\" x=\"63.623047\"/>\n      </g>\n     </g>\n    </g>\n    <g id=\"ytick_6\">\n     <g id=\"line2d_9\">\n      <g>\n       <use xlink:href=\"#m5c55d34b94\" x=\"26.925\" y=\"153.743618\" style=\"stroke: #000000; stroke-width: 0.8\"/>\n      </g>\n     </g>\n     <g id=\"text_9\">\n      <!-- 25 -->\n      <g transform=\"translate(7.2 157.542836)scale(0.1 -0.1)\">\n       <use xlink:href=\"#DejaVuSans-32\"/>\n       <use xlink:href=\"#DejaVuSans-35\" x=\"63.623047\"/>\n      </g>\n     </g>\n    </g>\n   </g>\n   <g id=\"patch_3\">\n    <path d=\"M 26.925 166.62847 \nL 26.925 22.318125 \n\" style=\"fill: none; stroke: #000000; stroke-width: 0.8; stroke-linejoin: miter; stroke-linecap: square\"/>\n   </g>\n   <g id=\"patch_4\">\n    <path d=\"M 171.235345 166.62847 \nL 171.235345 22.318125 \n\" style=\"fill: none; stroke: #000000; stroke-width: 0.8; stroke-linejoin: miter; stroke-linecap: square\"/>\n   </g>\n   <g id=\"patch_5\">\n    <path d=\"M 26.925 166.62847 \nL 171.235345 166.62847 \n\" style=\"fill: none; stroke: #000000; stroke-width: 0.8; stroke-linejoin: miter; stroke-linecap: square\"/>\n   </g>\n   <g id=\"patch_6\">\n    <path d=\"M 26.925 22.318125 \nL 171.235345 22.318125 \n\" style=\"fill: none; stroke: #000000; stroke-width: 0.8; stroke-linejoin: miter; stroke-linecap: square\"/>\n   </g>\n   <g id=\"text_10\">\n    <!-- Ankle boot -->\n    <g transform=\"translate(66.929547 16.318125)scale(0.12 -0.12)\">\n     <defs>\n      <path id=\"DejaVuSans-41\" d=\"M 2188 4044 \nL 1331 1722 \nL 3047 1722 \nL 2188 4044 \nz\nM 1831 4666 \nL 2547 4666 \nL 4325 0 \nL 3669 0 \nL 3244 1197 \nL 1141 1197 \nL 716 0 \nL 50 0 \nL 1831 4666 \nz\n\" transform=\"scale(0.015625)\"/>\n      <path id=\"DejaVuSans-6e\" d=\"M 3513 2113 \nL 3513 0 \nL 2938 0 \nL 2938 2094 \nQ 2938 2591 2744 2837 \nQ 2550 3084 2163 3084 \nQ 1697 3084 1428 2787 \nQ 1159 2491 1159 1978 \nL 1159 0 \nL 581 0 \nL 581 3500 \nL 1159 3500 \nL 1159 2956 \nQ 1366 3272 1645 3428 \nQ 1925 3584 2291 3584 \nQ 2894 3584 3203 3211 \nQ 3513 2838 3513 2113 \nz\n\" transform=\"scale(0.015625)\"/>\n      <path id=\"DejaVuSans-6b\" d=\"M 581 4863 \nL 1159 4863 \nL 1159 1991 \nL 2875 3500 \nL 3609 3500 \nL 1753 1863 \nL 3688 0 \nL 2938 0 \nL 1159 1709 \nL 1159 0 \nL 581 0 \nL 581 4863 \nz\n\" transform=\"scale(0.015625)\"/>\n      <path id=\"DejaVuSans-6c\" d=\"M 603 4863 \nL 1178 4863 \nL 1178 0 \nL 603 0 \nL 603 4863 \nz\n\" transform=\"scale(0.015625)\"/>\n      <path id=\"DejaVuSans-65\" d=\"M 3597 1894 \nL 3597 1613 \nL 953 1613 \nQ 991 1019 1311 708 \nQ 1631 397 2203 397 \nQ 2534 397 2845 478 \nQ 3156 559 3463 722 \nL 3463 178 \nQ 3153 47 2828 -22 \nQ 2503 -91 2169 -91 \nQ 1331 -91 842 396 \nQ 353 884 353 1716 \nQ 353 2575 817 3079 \nQ 1281 3584 2069 3584 \nQ 2775 3584 3186 3129 \nQ 3597 2675 3597 1894 \nz\nM 3022 2063 \nQ 3016 2534 2758 2815 \nQ 2500 3097 2075 3097 \nQ 1594 3097 1305 2825 \nQ 1016 2553 972 2059 \nL 3022 2063 \nz\n\" transform=\"scale(0.015625)\"/>\n      <path id=\"DejaVuSans-20\" transform=\"scale(0.015625)\"/>\n      <path id=\"DejaVuSans-62\" d=\"M 3116 1747 \nQ 3116 2381 2855 2742 \nQ 2594 3103 2138 3103 \nQ 1681 3103 1420 2742 \nQ 1159 2381 1159 1747 \nQ 1159 1113 1420 752 \nQ 1681 391 2138 391 \nQ 2594 391 2855 752 \nQ 3116 1113 3116 1747 \nz\nM 1159 2969 \nQ 1341 3281 1617 3432 \nQ 1894 3584 2278 3584 \nQ 2916 3584 3314 3078 \nQ 3713 2572 3713 1747 \nQ 3713 922 3314 415 \nQ 2916 -91 2278 -91 \nQ 1894 -91 1617 61 \nQ 1341 213 1159 525 \nL 1159 0 \nL 581 0 \nL 581 4863 \nL 1159 4863 \nL 1159 2969 \nz\n\" transform=\"scale(0.015625)\"/>\n      <path id=\"DejaVuSans-6f\" d=\"M 1959 3097 \nQ 1497 3097 1228 2736 \nQ 959 2375 959 1747 \nQ 959 1119 1226 758 \nQ 1494 397 1959 397 \nQ 2419 397 2687 759 \nQ 2956 1122 2956 1747 \nQ 2956 2369 2687 2733 \nQ 2419 3097 1959 3097 \nz\nM 1959 3584 \nQ 2709 3584 3137 3096 \nQ 3566 2609 3566 1747 \nQ 3566 888 3137 398 \nQ 2709 -91 1959 -91 \nQ 1206 -91 779 398 \nQ 353 888 353 1747 \nQ 353 2609 779 3096 \nQ 1206 3584 1959 3584 \nz\n\" transform=\"scale(0.015625)\"/>\n      <path id=\"DejaVuSans-74\" d=\"M 1172 4494 \nL 1172 3500 \nL 2356 3500 \nL 2356 3053 \nL 1172 3053 \nL 1172 1153 \nQ 1172 725 1289 603 \nQ 1406 481 1766 481 \nL 2356 481 \nL 2356 0 \nL 1766 0 \nQ 1100 0 847 248 \nQ 594 497 594 1153 \nL 594 3053 \nL 172 3053 \nL 172 3500 \nL 594 3500 \nL 594 4494 \nL 1172 4494 \nz\n\" transform=\"scale(0.015625)\"/>\n     </defs>\n     <use xlink:href=\"#DejaVuSans-41\"/>\n     <use xlink:href=\"#DejaVuSans-6e\" x=\"68.408203\"/>\n     <use xlink:href=\"#DejaVuSans-6b\" x=\"131.787109\"/>\n     <use xlink:href=\"#DejaVuSans-6c\" x=\"189.697266\"/>\n     <use xlink:href=\"#DejaVuSans-65\" x=\"217.480469\"/>\n     <use xlink:href=\"#DejaVuSans-20\" x=\"279.003906\"/>\n     <use xlink:href=\"#DejaVuSans-62\" x=\"310.791016\"/>\n     <use xlink:href=\"#DejaVuSans-6f\" x=\"374.267578\"/>\n     <use xlink:href=\"#DejaVuSans-6f\" x=\"435.449219\"/>\n     <use xlink:href=\"#DejaVuSans-74\" x=\"496.630859\"/>\n    </g>\n   </g>\n  </g>\n  <g id=\"axes_2\">\n   <g id=\"patch_7\">\n    <path d=\"M 200.097414 166.62847 \nL 344.407759 166.62847 \nL 344.407759 22.318125 \nL 200.097414 22.318125 \nz\n\" style=\"fill: #ffffff\"/>\n   </g>\n   <g clip-path=\"url(#p4acebff8f0)\">\n    <image xlink:href=\"data:image/png;base64,\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\" id=\"imagedde2eb0f45\" transform=\"scale(1 -1)translate(0 -144.72)\" x=\"200.097414\" y=\"-21.90847\" width=\"144.72\" height=\"144.72\"/>\n   </g>\n   <g id=\"matplotlib.axis_3\">\n    <g id=\"xtick_4\">\n     <g id=\"line2d_10\">\n      <g>\n       <use xlink:href=\"#m5652c1c399\" x=\"202.674384\" y=\"166.62847\" style=\"stroke: #000000; stroke-width: 0.8\"/>\n      </g>\n     </g>\n     <g id=\"text_11\">\n      <!-- 0 -->\n      <g transform=\"translate(199.493134 181.226907)scale(0.1 -0.1)\">\n       <use xlink:href=\"#DejaVuSans-30\"/>\n      </g>\n     </g>\n    </g>\n    <g id=\"xtick_5\">\n     <g id=\"line2d_11\">\n      <g>\n       <use xlink:href=\"#m5652c1c399\" x=\"254.213793\" y=\"166.62847\" style=\"stroke: #000000; stroke-width: 0.8\"/>\n      </g>\n     </g>\n     <g id=\"text_12\">\n      <!-- 10 -->\n      <g transform=\"translate(247.851293 181.226907)scale(0.1 -0.1)\">\n       <use xlink:href=\"#DejaVuSans-31\"/>\n       <use xlink:href=\"#DejaVuSans-30\" x=\"63.623047\"/>\n      </g>\n     </g>\n    </g>\n    <g id=\"xtick_6\">\n     <g id=\"line2d_12\">\n      <g>\n       <use xlink:href=\"#m5652c1c399\" x=\"305.753202\" y=\"166.62847\" style=\"stroke: #000000; stroke-width: 0.8\"/>\n      </g>\n     </g>\n     <g id=\"text_13\">\n      <!-- 20 -->\n      <g transform=\"translate(299.390702 181.226907)scale(0.1 -0.1)\">\n       <use xlink:href=\"#DejaVuSans-32\"/>\n       <use xlink:href=\"#DejaVuSans-30\" x=\"63.623047\"/>\n      </g>\n     </g>\n    </g>\n   </g>\n   <g id=\"matplotlib.axis_4\">\n    <g id=\"ytick_7\">\n     <g id=\"line2d_13\">\n      <g>\n       <use xlink:href=\"#m5c55d34b94\" x=\"200.097414\" y=\"24.895095\" style=\"stroke: #000000; stroke-width: 0.8\"/>\n      </g>\n     </g>\n     <g id=\"text_14\">\n      <!-- 0 -->\n      <g transform=\"translate(186.734914 28.694314)scale(0.1 -0.1)\">\n       <use xlink:href=\"#DejaVuSans-30\"/>\n      </g>\n     </g>\n    </g>\n    <g id=\"ytick_8\">\n     <g id=\"line2d_14\">\n      <g>\n       <use xlink:href=\"#m5c55d34b94\" x=\"200.097414\" y=\"50.6648\" style=\"stroke: #000000; stroke-width: 0.8\"/>\n      </g>\n     </g>\n     <g id=\"text_15\">\n      <!-- 5 -->\n      <g transform=\"translate(186.734914 54.464019)scale(0.1 -0.1)\">\n       <use xlink:href=\"#DejaVuSans-35\"/>\n      </g>\n     </g>\n    </g>\n    <g id=\"ytick_9\">\n     <g id=\"line2d_15\">\n      <g>\n       <use xlink:href=\"#m5c55d34b94\" x=\"200.097414\" y=\"76.434504\" style=\"stroke: #000000; stroke-width: 0.8\"/>\n      </g>\n     </g>\n     <g id=\"text_16\">\n      <!-- 10 -->\n      <g transform=\"translate(180.372414 80.233723)scale(0.1 -0.1)\">\n       <use xlink:href=\"#DejaVuSans-31\"/>\n       <use xlink:href=\"#DejaVuSans-30\" x=\"63.623047\"/>\n      </g>\n     </g>\n    </g>\n    <g id=\"ytick_10\">\n     <g id=\"line2d_16\">\n      <g>\n       <use xlink:href=\"#m5c55d34b94\" x=\"200.097414\" y=\"102.204209\" style=\"stroke: #000000; stroke-width: 0.8\"/>\n      </g>\n     </g>\n     <g id=\"text_17\">\n      <!-- 15 -->\n      <g transform=\"translate(180.372414 106.003427)scale(0.1 -0.1)\">\n       <use xlink:href=\"#DejaVuSans-31\"/>\n       <use xlink:href=\"#DejaVuSans-35\" x=\"63.623047\"/>\n      </g>\n     </g>\n    </g>\n    <g id=\"ytick_11\">\n     <g id=\"line2d_17\">\n      <g>\n       <use xlink:href=\"#m5c55d34b94\" x=\"200.097414\" y=\"127.973913\" style=\"stroke: #000000; stroke-width: 0.8\"/>\n      </g>\n     </g>\n     <g id=\"text_18\">\n      <!-- 20 -->\n      <g transform=\"translate(180.372414 131.773132)scale(0.1 -0.1)\">\n       <use xlink:href=\"#DejaVuSans-32\"/>\n       <use xlink:href=\"#DejaVuSans-30\" x=\"63.623047\"/>\n      </g>\n     </g>\n    </g>\n    <g id=\"ytick_12\">\n     <g id=\"line2d_18\">\n      <g>\n       <use xlink:href=\"#m5c55d34b94\" x=\"200.097414\" y=\"153.743618\" style=\"stroke: #000000; stroke-width: 0.8\"/>\n      </g>\n     </g>\n     <g id=\"text_19\">\n      <!-- 25 -->\n      <g transform=\"translate(180.372414 157.542836)scale(0.1 -0.1)\">\n       <use xlink:href=\"#DejaVuSans-32\"/>\n       <use xlink:href=\"#DejaVuSans-35\" x=\"63.623047\"/>\n      </g>\n     </g>\n    </g>\n   </g>\n   <g id=\"patch_8\">\n    <path d=\"M 200.097414 166.62847 \nL 200.097414 22.318125 \n\" style=\"fill: none; stroke: #000000; stroke-width: 0.8; stroke-linejoin: miter; stroke-linecap: square\"/>\n   </g>\n   <g id=\"patch_9\">\n    <path d=\"M 344.407759 166.62847 \nL 344.407759 22.318125 \n\" style=\"fill: none; stroke: #000000; stroke-width: 0.8; stroke-linejoin: miter; stroke-linecap: square\"/>\n   </g>\n   <g id=\"patch_10\">\n    <path d=\"M 200.097414 166.62847 \nL 344.407759 166.62847 \n\" style=\"fill: none; stroke: #000000; stroke-width: 0.8; stroke-linejoin: miter; stroke-linecap: square\"/>\n   </g>\n   <g id=\"patch_11\">\n    <path d=\"M 200.097414 22.318125 \nL 344.407759 22.318125 \n\" style=\"fill: none; stroke: #000000; stroke-width: 0.8; stroke-linejoin: miter; stroke-linecap: square\"/>\n   </g>\n   <g id=\"text_20\">\n    <!-- T-shirt/top -->\n    <g transform=\"translate(241.703211 16.318125)scale(0.12 -0.12)\">\n     <defs>\n      <path id=\"DejaVuSans-54\" d=\"M -19 4666 \nL 3928 4666 \nL 3928 4134 \nL 2272 4134 \nL 2272 0 \nL 1638 0 \nL 1638 4134 \nL -19 4134 \nL -19 4666 \nz\n\" transform=\"scale(0.015625)\"/>\n      <path id=\"DejaVuSans-2d\" d=\"M 313 2009 \nL 1997 2009 \nL 1997 1497 \nL 313 1497 \nL 313 2009 \nz\n\" transform=\"scale(0.015625)\"/>\n      <path id=\"DejaVuSans-73\" d=\"M 2834 3397 \nL 2834 2853 \nQ 2591 2978 2328 3040 \nQ 2066 3103 1784 3103 \nQ 1356 3103 1142 2972 \nQ 928 2841 928 2578 \nQ 928 2378 1081 2264 \nQ 1234 2150 1697 2047 \nL 1894 2003 \nQ 2506 1872 2764 1633 \nQ 3022 1394 3022 966 \nQ 3022 478 2636 193 \nQ 2250 -91 1575 -91 \nQ 1294 -91 989 -36 \nQ 684 19 347 128 \nL 347 722 \nQ 666 556 975 473 \nQ 1284 391 1588 391 \nQ 1994 391 2212 530 \nQ 2431 669 2431 922 \nQ 2431 1156 2273 1281 \nQ 2116 1406 1581 1522 \nL 1381 1569 \nQ 847 1681 609 1914 \nQ 372 2147 372 2553 \nQ 372 3047 722 3315 \nQ 1072 3584 1716 3584 \nQ 2034 3584 2315 3537 \nQ 2597 3491 2834 3397 \nz\n\" transform=\"scale(0.015625)\"/>\n      <path id=\"DejaVuSans-68\" d=\"M 3513 2113 \nL 3513 0 \nL 2938 0 \nL 2938 2094 \nQ 2938 2591 2744 2837 \nQ 2550 3084 2163 3084 \nQ 1697 3084 1428 2787 \nQ 1159 2491 1159 1978 \nL 1159 0 \nL 581 0 \nL 581 4863 \nL 1159 4863 \nL 1159 2956 \nQ 1366 3272 1645 3428 \nQ 1925 3584 2291 3584 \nQ 2894 3584 3203 3211 \nQ 3513 2838 3513 2113 \nz\n\" transform=\"scale(0.015625)\"/>\n      <path id=\"DejaVuSans-69\" d=\"M 603 3500 \nL 1178 3500 \nL 1178 0 \nL 603 0 \nL 603 3500 \nz\nM 603 4863 \nL 1178 4863 \nL 1178 4134 \nL 603 4134 \nL 603 4863 \nz\n\" transform=\"scale(0.015625)\"/>\n      <path id=\"DejaVuSans-72\" d=\"M 2631 2963 \nQ 2534 3019 2420 3045 \nQ 2306 3072 2169 3072 \nQ 1681 3072 1420 2755 \nQ 1159 2438 1159 1844 \nL 1159 0 \nL 581 0 \nL 581 3500 \nL 1159 3500 \nL 1159 2956 \nQ 1341 3275 1631 3429 \nQ 1922 3584 2338 3584 \nQ 2397 3584 2469 3576 \nQ 2541 3569 2628 3553 \nL 2631 2963 \nz\n\" transform=\"scale(0.015625)\"/>\n      <path id=\"DejaVuSans-2f\" d=\"M 1625 4666 \nL 2156 4666 \nL 531 -594 \nL 0 -594 \nL 1625 4666 \nz\n\" transform=\"scale(0.015625)\"/>\n      <path id=\"DejaVuSans-70\" d=\"M 1159 525 \nL 1159 -1331 \nL 581 -1331 \nL 581 3500 \nL 1159 3500 \nL 1159 2969 \nQ 1341 3281 1617 3432 \nQ 1894 3584 2278 3584 \nQ 2916 3584 3314 3078 \nQ 3713 2572 3713 1747 \nQ 3713 922 3314 415 \nQ 2916 -91 2278 -91 \nQ 1894 -91 1617 61 \nQ 1341 213 1159 525 \nz\nM 3116 1747 \nQ 3116 2381 2855 2742 \nQ 2594 3103 2138 3103 \nQ 1681 3103 1420 2742 \nQ 1159 2381 1159 1747 \nQ 1159 1113 1420 752 \nQ 1681 391 2138 391 \nQ 2594 391 2855 752 \nQ 3116 1113 3116 1747 \nz\n\" transform=\"scale(0.015625)\"/>\n     </defs>\n     <use xlink:href=\"#DejaVuSans-54\"/>\n     <use xlink:href=\"#DejaVuSans-2d\" x=\"51.958984\"/>\n     <use xlink:href=\"#DejaVuSans-73\" x=\"88.042969\"/>\n     <use xlink:href=\"#DejaVuSans-68\" x=\"140.142578\"/>\n     <use xlink:href=\"#DejaVuSans-69\" x=\"203.521484\"/>\n     <use xlink:href=\"#DejaVuSans-72\" x=\"231.304688\"/>\n     <use xlink:href=\"#DejaVuSans-74\" x=\"272.417969\"/>\n     <use xlink:href=\"#DejaVuSans-2f\" x=\"311.626953\"/>\n     <use xlink:href=\"#DejaVuSans-74\" x=\"345.318359\"/>\n     <use xlink:href=\"#DejaVuSans-6f\" x=\"384.527344\"/>\n     <use xlink:href=\"#DejaVuSans-70\" x=\"445.708984\"/>\n    </g>\n   </g>\n  </g>\n  <g id=\"axes_3\">\n   <g id=\"patch_12\">\n    <path d=\"M 373.269828 166.62847 \nL 517.580172 166.62847 \nL 517.580172 22.318125 \nL 373.269828 22.318125 \nz\n\" style=\"fill: #ffffff\"/>\n   </g>\n   <g clip-path=\"url(#p348bbc2b5b)\">\n    <image xlink:href=\"data:image/png;base64,\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\" id=\"imagea0aaaad44c\" transform=\"scale(1 -1)translate(0 -144.72)\" x=\"373.269828\" y=\"-21.90847\" width=\"144.72\" height=\"144.72\"/>\n   </g>\n   <g id=\"matplotlib.axis_5\">\n    <g id=\"xtick_7\">\n     <g id=\"line2d_19\">\n      <g>\n       <use xlink:href=\"#m5652c1c399\" x=\"375.846798\" y=\"166.62847\" style=\"stroke: #000000; stroke-width: 0.8\"/>\n      </g>\n     </g>\n     <g id=\"text_21\">\n      <!-- 0 -->\n      <g transform=\"translate(372.665548 181.226907)scale(0.1 -0.1)\">\n       <use xlink:href=\"#DejaVuSans-30\"/>\n      </g>\n     </g>\n    </g>\n    <g id=\"xtick_8\">\n     <g id=\"line2d_20\">\n      <g>\n       <use xlink:href=\"#m5652c1c399\" x=\"427.386207\" y=\"166.62847\" style=\"stroke: #000000; stroke-width: 0.8\"/>\n      </g>\n     </g>\n     <g id=\"text_22\">\n      <!-- 10 -->\n      <g transform=\"translate(421.023707 181.226907)scale(0.1 -0.1)\">\n       <use xlink:href=\"#DejaVuSans-31\"/>\n       <use xlink:href=\"#DejaVuSans-30\" x=\"63.623047\"/>\n      </g>\n     </g>\n    </g>\n    <g id=\"xtick_9\">\n     <g id=\"line2d_21\">\n      <g>\n       <use xlink:href=\"#m5652c1c399\" x=\"478.925616\" y=\"166.62847\" style=\"stroke: #000000; stroke-width: 0.8\"/>\n      </g>\n     </g>\n     <g id=\"text_23\">\n      <!-- 20 -->\n      <g transform=\"translate(472.563116 181.226907)scale(0.1 -0.1)\">\n       <use xlink:href=\"#DejaVuSans-32\"/>\n       <use xlink:href=\"#DejaVuSans-30\" x=\"63.623047\"/>\n      </g>\n     </g>\n    </g>\n   </g>\n   <g id=\"matplotlib.axis_6\">\n    <g id=\"ytick_13\">\n     <g id=\"line2d_22\">\n      <g>\n       <use xlink:href=\"#m5c55d34b94\" x=\"373.269828\" y=\"24.895095\" style=\"stroke: #000000; stroke-width: 0.8\"/>\n      </g>\n     </g>\n     <g id=\"text_24\">\n      <!-- 0 -->\n      <g transform=\"translate(359.907328 28.694314)scale(0.1 -0.1)\">\n       <use xlink:href=\"#DejaVuSans-30\"/>\n      </g>\n     </g>\n    </g>\n    <g id=\"ytick_14\">\n     <g id=\"line2d_23\">\n      <g>\n       <use xlink:href=\"#m5c55d34b94\" x=\"373.269828\" y=\"50.6648\" style=\"stroke: #000000; stroke-width: 0.8\"/>\n      </g>\n     </g>\n     <g id=\"text_25\">\n      <!-- 5 -->\n      <g transform=\"translate(359.907328 54.464019)scale(0.1 -0.1)\">\n       <use xlink:href=\"#DejaVuSans-35\"/>\n      </g>\n     </g>\n    </g>\n    <g id=\"ytick_15\">\n     <g id=\"line2d_24\">\n      <g>\n       <use xlink:href=\"#m5c55d34b94\" x=\"373.269828\" y=\"76.434504\" style=\"stroke: #000000; stroke-width: 0.8\"/>\n      </g>\n     </g>\n     <g id=\"text_26\">\n      <!-- 10 -->\n      <g transform=\"translate(353.544828 80.233723)scale(0.1 -0.1)\">\n       <use xlink:href=\"#DejaVuSans-31\"/>\n       <use xlink:href=\"#DejaVuSans-30\" x=\"63.623047\"/>\n      </g>\n     </g>\n    </g>\n    <g id=\"ytick_16\">\n     <g id=\"line2d_25\">\n      <g>\n       <use xlink:href=\"#m5c55d34b94\" x=\"373.269828\" y=\"102.204209\" style=\"stroke: #000000; stroke-width: 0.8\"/>\n      </g>\n     </g>\n     <g id=\"text_27\">\n      <!-- 15 -->\n      <g transform=\"translate(353.544828 106.003427)scale(0.1 -0.1)\">\n       <use xlink:href=\"#DejaVuSans-31\"/>\n       <use xlink:href=\"#DejaVuSans-35\" x=\"63.623047\"/>\n      </g>\n     </g>\n    </g>\n    <g id=\"ytick_17\">\n     <g id=\"line2d_26\">\n      <g>\n       <use xlink:href=\"#m5c55d34b94\" x=\"373.269828\" y=\"127.973913\" style=\"stroke: #000000; stroke-width: 0.8\"/>\n      </g>\n     </g>\n     <g id=\"text_28\">\n      <!-- 20 -->\n      <g transform=\"translate(353.544828 131.773132)scale(0.1 -0.1)\">\n       <use xlink:href=\"#DejaVuSans-32\"/>\n       <use xlink:href=\"#DejaVuSans-30\" x=\"63.623047\"/>\n      </g>\n     </g>\n    </g>\n    <g id=\"ytick_18\">\n     <g id=\"line2d_27\">\n      <g>\n       <use xlink:href=\"#m5c55d34b94\" x=\"373.269828\" y=\"153.743618\" style=\"stroke: #000000; stroke-width: 0.8\"/>\n      </g>\n     </g>\n     <g id=\"text_29\">\n      <!-- 25 -->\n      <g transform=\"translate(353.544828 157.542836)scale(0.1 -0.1)\">\n       <use xlink:href=\"#DejaVuSans-32\"/>\n       <use xlink:href=\"#DejaVuSans-35\" x=\"63.623047\"/>\n      </g>\n     </g>\n    </g>\n   </g>\n   <g id=\"patch_13\">\n    <path d=\"M 373.269828 166.62847 \nL 373.269828 22.318125 \n\" style=\"fill: none; stroke: #000000; stroke-width: 0.8; stroke-linejoin: miter; stroke-linecap: square\"/>\n   </g>\n   <g id=\"patch_14\">\n    <path d=\"M 517.580172 166.62847 \nL 517.580172 22.318125 \n\" style=\"fill: none; stroke: #000000; stroke-width: 0.8; stroke-linejoin: miter; stroke-linecap: square\"/>\n   </g>\n   <g id=\"patch_15\">\n    <path d=\"M 373.269828 166.62847 \nL 517.580172 166.62847 \n\" style=\"fill: none; stroke: #000000; stroke-width: 0.8; stroke-linejoin: miter; stroke-linecap: square\"/>\n   </g>\n   <g id=\"patch_16\">\n    <path d=\"M 373.269828 22.318125 \nL 517.580172 22.318125 \n\" style=\"fill: none; stroke: #000000; stroke-width: 0.8; stroke-linejoin: miter; stroke-linecap: square\"/>\n   </g>\n   <g id=\"text_30\">\n    <!-- T-shirt/top -->\n    <g transform=\"translate(414.875625 16.318125)scale(0.12 -0.12)\">\n     <use xlink:href=\"#DejaVuSans-54\"/>\n     <use xlink:href=\"#DejaVuSans-2d\" x=\"51.958984\"/>\n     <use xlink:href=\"#DejaVuSans-73\" x=\"88.042969\"/>\n     <use xlink:href=\"#DejaVuSans-68\" x=\"140.142578\"/>\n     <use xlink:href=\"#DejaVuSans-69\" x=\"203.521484\"/>\n     <use xlink:href=\"#DejaVuSans-72\" x=\"231.304688\"/>\n     <use xlink:href=\"#DejaVuSans-74\" x=\"272.417969\"/>\n     <use xlink:href=\"#DejaVuSans-2f\" x=\"311.626953\"/>\n     <use xlink:href=\"#DejaVuSans-74\" x=\"345.318359\"/>\n     <use xlink:href=\"#DejaVuSans-6f\" x=\"384.527344\"/>\n     <use xlink:href=\"#DejaVuSans-70\" x=\"445.708984\"/>\n    </g>\n   </g>\n  </g>\n  <g id=\"axes_4\">\n   <g id=\"patch_17\">\n    <path d=\"M 546.442241 166.62847 \nL 690.752586 166.62847 \nL 690.752586 22.318125 \nL 546.442241 22.318125 \nz\n\" style=\"fill: #ffffff\"/>\n   </g>\n   <g clip-path=\"url(#p230414526b)\">\n    <image xlink:href=\"data:image/png;base64,\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\" id=\"imageceec40adb6\" transform=\"scale(1 -1)translate(0 -144.72)\" x=\"546.442241\" y=\"-21.90847\" width=\"144.72\" height=\"144.72\"/>\n   </g>\n   <g id=\"matplotlib.axis_7\">\n    <g id=\"xtick_10\">\n     <g id=\"line2d_28\">\n      <g>\n       <use xlink:href=\"#m5652c1c399\" x=\"549.019212\" y=\"166.62847\" style=\"stroke: #000000; stroke-width: 0.8\"/>\n      </g>\n     </g>\n     <g id=\"text_31\">\n      <!-- 0 -->\n      <g transform=\"translate(545.837962 181.226907)scale(0.1 -0.1)\">\n       <use xlink:href=\"#DejaVuSans-30\"/>\n      </g>\n     </g>\n    </g>\n    <g id=\"xtick_11\">\n     <g id=\"line2d_29\">\n      <g>\n       <use xlink:href=\"#m5652c1c399\" x=\"600.558621\" y=\"166.62847\" style=\"stroke: #000000; stroke-width: 0.8\"/>\n      </g>\n     </g>\n     <g id=\"text_32\">\n      <!-- 10 -->\n      <g transform=\"translate(594.196121 181.226907)scale(0.1 -0.1)\">\n       <use xlink:href=\"#DejaVuSans-31\"/>\n       <use xlink:href=\"#DejaVuSans-30\" x=\"63.623047\"/>\n      </g>\n     </g>\n    </g>\n    <g id=\"xtick_12\">\n     <g id=\"line2d_30\">\n      <g>\n       <use xlink:href=\"#m5652c1c399\" x=\"652.09803\" y=\"166.62847\" style=\"stroke: #000000; stroke-width: 0.8\"/>\n      </g>\n     </g>\n     <g id=\"text_33\">\n      <!-- 20 -->\n      <g transform=\"translate(645.73553 181.226907)scale(0.1 -0.1)\">\n       <use xlink:href=\"#DejaVuSans-32\"/>\n       <use xlink:href=\"#DejaVuSans-30\" x=\"63.623047\"/>\n      </g>\n     </g>\n    </g>\n   </g>\n   <g id=\"matplotlib.axis_8\">\n    <g id=\"ytick_19\">\n     <g id=\"line2d_31\">\n      <g>\n       <use xlink:href=\"#m5c55d34b94\" x=\"546.442241\" y=\"24.895095\" style=\"stroke: #000000; stroke-width: 0.8\"/>\n      </g>\n     </g>\n     <g id=\"text_34\">\n      <!-- 0 -->\n      <g transform=\"translate(533.079741 28.694314)scale(0.1 -0.1)\">\n       <use xlink:href=\"#DejaVuSans-30\"/>\n      </g>\n     </g>\n    </g>\n    <g id=\"ytick_20\">\n     <g id=\"line2d_32\">\n      <g>\n       <use xlink:href=\"#m5c55d34b94\" x=\"546.442241\" y=\"50.6648\" style=\"stroke: #000000; stroke-width: 0.8\"/>\n      </g>\n     </g>\n     <g id=\"text_35\">\n      <!-- 5 -->\n      <g transform=\"translate(533.079741 54.464019)scale(0.1 -0.1)\">\n       <use xlink:href=\"#DejaVuSans-35\"/>\n      </g>\n     </g>\n    </g>\n    <g id=\"ytick_21\">\n     <g id=\"line2d_33\">\n      <g>\n       <use xlink:href=\"#m5c55d34b94\" x=\"546.442241\" y=\"76.434504\" style=\"stroke: #000000; stroke-width: 0.8\"/>\n      </g>\n     </g>\n     <g id=\"text_36\">\n      <!-- 10 -->\n      <g transform=\"translate(526.717241 80.233723)scale(0.1 -0.1)\">\n       <use xlink:href=\"#DejaVuSans-31\"/>\n       <use xlink:href=\"#DejaVuSans-30\" x=\"63.623047\"/>\n      </g>\n     </g>\n    </g>\n    <g id=\"ytick_22\">\n     <g id=\"line2d_34\">\n      <g>\n       <use xlink:href=\"#m5c55d34b94\" x=\"546.442241\" y=\"102.204209\" style=\"stroke: #000000; stroke-width: 0.8\"/>\n      </g>\n     </g>\n     <g id=\"text_37\">\n      <!-- 15 -->\n      <g transform=\"translate(526.717241 106.003427)scale(0.1 -0.1)\">\n       <use xlink:href=\"#DejaVuSans-31\"/>\n       <use xlink:href=\"#DejaVuSans-35\" x=\"63.623047\"/>\n      </g>\n     </g>\n    </g>\n    <g id=\"ytick_23\">\n     <g id=\"line2d_35\">\n      <g>\n       <use xlink:href=\"#m5c55d34b94\" x=\"546.442241\" y=\"127.973913\" style=\"stroke: #000000; stroke-width: 0.8\"/>\n      </g>\n     </g>\n     <g id=\"text_38\">\n      <!-- 20 -->\n      <g transform=\"translate(526.717241 131.773132)scale(0.1 -0.1)\">\n       <use xlink:href=\"#DejaVuSans-32\"/>\n       <use xlink:href=\"#DejaVuSans-30\" x=\"63.623047\"/>\n      </g>\n     </g>\n    </g>\n    <g id=\"ytick_24\">\n     <g id=\"line2d_36\">\n      <g>\n       <use xlink:href=\"#m5c55d34b94\" x=\"546.442241\" y=\"153.743618\" style=\"stroke: #000000; stroke-width: 0.8\"/>\n      </g>\n     </g>\n     <g id=\"text_39\">\n      <!-- 25 -->\n      <g transform=\"translate(526.717241 157.542836)scale(0.1 -0.1)\">\n       <use xlink:href=\"#DejaVuSans-32\"/>\n       <use xlink:href=\"#DejaVuSans-35\" x=\"63.623047\"/>\n      </g>\n     </g>\n    </g>\n   </g>\n   <g id=\"patch_18\">\n    <path d=\"M 546.442241 166.62847 \nL 546.442241 22.318125 \n\" style=\"fill: none; stroke: #000000; stroke-width: 0.8; stroke-linejoin: miter; stroke-linecap: square\"/>\n   </g>\n   <g id=\"patch_19\">\n    <path d=\"M 690.752586 166.62847 \nL 690.752586 22.318125 \n\" style=\"fill: none; stroke: #000000; stroke-width: 0.8; stroke-linejoin: miter; stroke-linecap: square\"/>\n   </g>\n   <g id=\"patch_20\">\n    <path d=\"M 546.442241 166.62847 \nL 690.752586 166.62847 \n\" style=\"fill: none; stroke: #000000; stroke-width: 0.8; stroke-linejoin: miter; stroke-linecap: square\"/>\n   </g>\n   <g id=\"patch_21\">\n    <path d=\"M 546.442241 22.318125 \nL 690.752586 22.318125 \n\" style=\"fill: none; stroke: #000000; stroke-width: 0.8; stroke-linejoin: miter; stroke-linecap: square\"/>\n   </g>\n   <g id=\"text_40\">\n    <!-- Dress -->\n    <g transform=\"translate(601.702726 16.318125)scale(0.12 -0.12)\">\n     <defs>\n      <path id=\"DejaVuSans-44\" d=\"M 1259 4147 \nL 1259 519 \nL 2022 519 \nQ 2988 519 3436 956 \nQ 3884 1394 3884 2338 \nQ 3884 3275 3436 3711 \nQ 2988 4147 2022 4147 \nL 1259 4147 \nz\nM 628 4666 \nL 1925 4666 \nQ 3281 4666 3915 4102 \nQ 4550 3538 4550 2338 \nQ 4550 1131 3912 565 \nQ 3275 0 1925 0 \nL 628 0 \nL 628 4666 \nz\n\" transform=\"scale(0.015625)\"/>\n     </defs>\n     <use xlink:href=\"#DejaVuSans-44\"/>\n     <use xlink:href=\"#DejaVuSans-72\" x=\"77.001953\"/>\n     <use xlink:href=\"#DejaVuSans-65\" x=\"115.865234\"/>\n     <use xlink:href=\"#DejaVuSans-73\" x=\"177.388672\"/>\n     <use xlink:href=\"#DejaVuSans-73\" x=\"229.488281\"/>\n    </g>\n   </g>\n  </g>\n  <g id=\"axes_5\">\n   <g id=\"patch_22\">\n    <path d=\"M 719.614655 166.62847 \nL 863.925 166.62847 \nL 863.925 22.318125 \nL 719.614655 22.318125 \nz\n\" style=\"fill: #ffffff\"/>\n   </g>\n   <g clip-path=\"url(#pbd8bc356bb)\">\n    <image xlink:href=\"data:image/png;base64,\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\" id=\"image5529b7e414\" transform=\"scale(1 -1)translate(0 -144.72)\" x=\"719.614655\" y=\"-21.90847\" width=\"144.72\" height=\"144.72\"/>\n   </g>\n   <g id=\"matplotlib.axis_9\">\n    <g id=\"xtick_13\">\n     <g id=\"line2d_37\">\n      <g>\n       <use xlink:href=\"#m5652c1c399\" x=\"722.191626\" y=\"166.62847\" style=\"stroke: #000000; stroke-width: 0.8\"/>\n      </g>\n     </g>\n     <g id=\"text_41\">\n      <!-- 0 -->\n      <g transform=\"translate(719.010376 181.226907)scale(0.1 -0.1)\">\n       <use xlink:href=\"#DejaVuSans-30\"/>\n      </g>\n     </g>\n    </g>\n    <g id=\"xtick_14\">\n     <g id=\"line2d_38\">\n      <g>\n       <use xlink:href=\"#m5652c1c399\" x=\"773.731034\" y=\"166.62847\" style=\"stroke: #000000; stroke-width: 0.8\"/>\n      </g>\n     </g>\n     <g id=\"text_42\">\n      <!-- 10 -->\n      <g transform=\"translate(767.368534 181.226907)scale(0.1 -0.1)\">\n       <use xlink:href=\"#DejaVuSans-31\"/>\n       <use xlink:href=\"#DejaVuSans-30\" x=\"63.623047\"/>\n      </g>\n     </g>\n    </g>\n    <g id=\"xtick_15\">\n     <g id=\"line2d_39\">\n      <g>\n       <use xlink:href=\"#m5652c1c399\" x=\"825.270443\" y=\"166.62847\" style=\"stroke: #000000; stroke-width: 0.8\"/>\n      </g>\n     </g>\n     <g id=\"text_43\">\n      <!-- 20 -->\n      <g transform=\"translate(818.907943 181.226907)scale(0.1 -0.1)\">\n       <use xlink:href=\"#DejaVuSans-32\"/>\n       <use xlink:href=\"#DejaVuSans-30\" x=\"63.623047\"/>\n      </g>\n     </g>\n    </g>\n   </g>\n   <g id=\"matplotlib.axis_10\">\n    <g id=\"ytick_25\">\n     <g id=\"line2d_40\">\n      <g>\n       <use xlink:href=\"#m5c55d34b94\" x=\"719.614655\" y=\"24.895095\" style=\"stroke: #000000; stroke-width: 0.8\"/>\n      </g>\n     </g>\n     <g id=\"text_44\">\n      <!-- 0 -->\n      <g transform=\"translate(706.252155 28.694314)scale(0.1 -0.1)\">\n       <use xlink:href=\"#DejaVuSans-30\"/>\n      </g>\n     </g>\n    </g>\n    <g id=\"ytick_26\">\n     <g id=\"line2d_41\">\n      <g>\n       <use xlink:href=\"#m5c55d34b94\" x=\"719.614655\" y=\"50.6648\" style=\"stroke: #000000; stroke-width: 0.8\"/>\n      </g>\n     </g>\n     <g id=\"text_45\">\n      <!-- 5 -->\n      <g transform=\"translate(706.252155 54.464019)scale(0.1 -0.1)\">\n       <use xlink:href=\"#DejaVuSans-35\"/>\n      </g>\n     </g>\n    </g>\n    <g id=\"ytick_27\">\n     <g id=\"line2d_42\">\n      <g>\n       <use xlink:href=\"#m5c55d34b94\" x=\"719.614655\" y=\"76.434504\" style=\"stroke: #000000; stroke-width: 0.8\"/>\n      </g>\n     </g>\n     <g id=\"text_46\">\n      <!-- 10 -->\n      <g transform=\"translate(699.889655 80.233723)scale(0.1 -0.1)\">\n       <use xlink:href=\"#DejaVuSans-31\"/>\n       <use xlink:href=\"#DejaVuSans-30\" x=\"63.623047\"/>\n      </g>\n     </g>\n    </g>\n    <g id=\"ytick_28\">\n     <g id=\"line2d_43\">\n      <g>\n       <use xlink:href=\"#m5c55d34b94\" x=\"719.614655\" y=\"102.204209\" style=\"stroke: #000000; stroke-width: 0.8\"/>\n      </g>\n     </g>\n     <g id=\"text_47\">\n      <!-- 15 -->\n      <g transform=\"translate(699.889655 106.003427)scale(0.1 -0.1)\">\n       <use xlink:href=\"#DejaVuSans-31\"/>\n       <use xlink:href=\"#DejaVuSans-35\" x=\"63.623047\"/>\n      </g>\n     </g>\n    </g>\n    <g id=\"ytick_29\">\n     <g id=\"line2d_44\">\n      <g>\n       <use xlink:href=\"#m5c55d34b94\" x=\"719.614655\" y=\"127.973913\" style=\"stroke: #000000; stroke-width: 0.8\"/>\n      </g>\n     </g>\n     <g id=\"text_48\">\n      <!-- 20 -->\n      <g transform=\"translate(699.889655 131.773132)scale(0.1 -0.1)\">\n       <use xlink:href=\"#DejaVuSans-32\"/>\n       <use xlink:href=\"#DejaVuSans-30\" x=\"63.623047\"/>\n      </g>\n     </g>\n    </g>\n    <g id=\"ytick_30\">\n     <g id=\"line2d_45\">\n      <g>\n       <use xlink:href=\"#m5c55d34b94\" x=\"719.614655\" y=\"153.743618\" style=\"stroke: #000000; stroke-width: 0.8\"/>\n      </g>\n     </g>\n     <g id=\"text_49\">\n      <!-- 25 -->\n      <g transform=\"translate(699.889655 157.542836)scale(0.1 -0.1)\">\n       <use xlink:href=\"#DejaVuSans-32\"/>\n       <use xlink:href=\"#DejaVuSans-35\" x=\"63.623047\"/>\n      </g>\n     </g>\n    </g>\n   </g>\n   <g id=\"patch_23\">\n    <path d=\"M 719.614655 166.62847 \nL 719.614655 22.318125 \n\" style=\"fill: none; stroke: #000000; stroke-width: 0.8; stroke-linejoin: miter; stroke-linecap: square\"/>\n   </g>\n   <g id=\"patch_24\">\n    <path d=\"M 863.925 166.62847 \nL 863.925 22.318125 \n\" style=\"fill: none; stroke: #000000; stroke-width: 0.8; stroke-linejoin: miter; stroke-linecap: square\"/>\n   </g>\n   <g id=\"patch_25\">\n    <path d=\"M 719.614655 166.62847 \nL 863.925 166.62847 \n\" style=\"fill: none; stroke: #000000; stroke-width: 0.8; stroke-linejoin: miter; stroke-linecap: square\"/>\n   </g>\n   <g id=\"patch_26\">\n    <path d=\"M 719.614655 22.318125 \nL 863.925 22.318125 \n\" style=\"fill: none; stroke: #000000; stroke-width: 0.8; stroke-linejoin: miter; stroke-linecap: square\"/>\n   </g>\n   <g id=\"text_50\">\n    <!-- T-shirt/top -->\n    <g transform=\"translate(761.220453 16.318125)scale(0.12 -0.12)\">\n     <use xlink:href=\"#DejaVuSans-54\"/>\n     <use xlink:href=\"#DejaVuSans-2d\" x=\"51.958984\"/>\n     <use xlink:href=\"#DejaVuSans-73\" x=\"88.042969\"/>\n     <use xlink:href=\"#DejaVuSans-68\" x=\"140.142578\"/>\n     <use xlink:href=\"#DejaVuSans-69\" x=\"203.521484\"/>\n     <use xlink:href=\"#DejaVuSans-72\" x=\"231.304688\"/>\n     <use xlink:href=\"#DejaVuSans-74\" x=\"272.417969\"/>\n     <use xlink:href=\"#DejaVuSans-2f\" x=\"311.626953\"/>\n     <use xlink:href=\"#DejaVuSans-74\" x=\"345.318359\"/>\n     <use xlink:href=\"#DejaVuSans-6f\" x=\"384.527344\"/>\n     <use xlink:href=\"#DejaVuSans-70\" x=\"445.708984\"/>\n    </g>\n   </g>\n  </g>\n </g>\n <defs>\n  <clipPath id=\"p38bb825295\">\n   <rect x=\"26.925\" y=\"22.318125\" width=\"144.310345\" height=\"144.310345\"/>\n  </clipPath>\n  <clipPath id=\"p4acebff8f0\">\n   <rect x=\"200.097414\" y=\"22.318125\" width=\"144.310345\" height=\"144.310345\"/>\n  </clipPath>\n  <clipPath id=\"p348bbc2b5b\">\n   <rect x=\"373.269828\" y=\"22.318125\" width=\"144.310345\" height=\"144.310345\"/>\n  </clipPath>\n  <clipPath id=\"p230414526b\">\n   <rect x=\"546.442241\" y=\"22.318125\" width=\"144.310345\" height=\"144.310345\"/>\n  </clipPath>\n  <clipPath id=\"pbd8bc356bb\">\n   <rect x=\"719.614655\" y=\"22.318125\" width=\"144.310345\" height=\"144.310345\"/>\n  </clipPath>\n </defs>\n</svg>\n"
     },
     "metadata": {},
     "output_type": "display_data"
    }
   ],
   "source": [
    "## PLot some figures\n",
    "plt.figure(figsize=(15, 10))\n",
    "\n",
    "for i in range(5):\n",
    "    plt.subplot(151 + i)\n",
    "    plt.imshow(trainset.data[i, :, :], cmap=\"gray\")\n",
    "    plt.title(f\"{list(trainset.class_to_idx.keys())[trainset.targets[i]]}\")\n",
    "\n",
    "plt.show()"
   ],
   "metadata": {
    "collapsed": false
   }
  },
  {
   "cell_type": "markdown",
   "source": [
    "# Split sets"
   ],
   "metadata": {
    "collapsed": false
   }
  },
  {
   "cell_type": "code",
   "execution_count": 61,
   "outputs": [
    {
     "name": "stdout",
     "output_type": "stream",
     "text": [
      "Testset size: 5000\n",
      "Devset size: 5000\n"
     ]
    }
   ],
   "source": [
    "# Reserve 10% of original data for testing set\n",
    "n_test: int = int(len(dev_test_set) // 2)\n",
    "\n",
    "testset_random_idxs = np.random.permutation(len(dev_test_set))\n",
    "testset = Subset(dev_test_set, testset_random_idxs[:n_test])\n",
    "devset  = Subset(dev_test_set, testset_random_idxs[n_test:])\n",
    "\n",
    "print(f\"Testset size: {len(testset)}\")\n",
    "print(f\"Devset size: {len(devset)}\")"
   ],
   "metadata": {
    "collapsed": false
   }
  },
  {
   "cell_type": "markdown",
   "source": [
    "# Create dataloaders"
   ],
   "metadata": {
    "collapsed": false
   }
  },
  {
   "cell_type": "code",
   "execution_count": 62,
   "outputs": [],
   "source": [
    "# Step 4: translate into dataloader objects\n",
    "batchsize    = 32\n",
    "train_loader = DataLoader(trainset, batch_size=batchsize, shuffle=True, drop_last=True)\n",
    "dev_loader   = DataLoader(devset, batch_size=len(devset))\n",
    "test_loader  = DataLoader(testset, batch_size=len(testset))"
   ],
   "metadata": {
    "collapsed": false
   }
  },
  {
   "cell_type": "markdown",
   "source": [
    "# Create CNN"
   ],
   "metadata": {
    "collapsed": false
   }
  },
  {
   "cell_type": "code",
   "execution_count": 63,
   "outputs": [],
   "source": [
    "def get_conv_layer_output_size(input_size: (int, int), padding: (int, int), kernel_size: (int, int), stride: (int, int), pool_size: (int, int)) -> (int, int):\n",
    "    dim0 = int((((input_size[0] + (2 * padding[0]) - kernel_size[0]) / stride[0]) + 1) / pool_size[0])\n",
    "    dim1 = int((((input_size[1] + (2 * padding[1]) - kernel_size[1]) / stride[1]) + 1) / pool_size[1])\n",
    "    return dim0, dim1\n",
    "\n",
    "\n",
    "class MyCIFAR10CNN(nn.Module):\n",
    "    def __init__(self,printtoggle):\n",
    "        super().__init__()\n",
    "\n",
    "        # print toggle\n",
    "        self.print = printtoggle\n",
    "\n",
    "        ### -------------- feature map layers -------------- ###\n",
    "        # first convolution layer\n",
    "        self.conv1  = nn.Conv2d(1,128,3,padding=1)\n",
    "        self.bnorm1 = nn.BatchNorm2d(128) # input the number of channels in this layer\n",
    "        # output size: (28+2*1-3)/1 + 1 = 28/2 = 14 (/2 b/c maxpool)\n",
    "\n",
    "        # second convolution layer\n",
    "        self.conv2  = nn.Conv2d(128,256,3,padding=1)\n",
    "        self.bnorm2 = nn.BatchNorm2d(256) # input the number of channels in this layer\n",
    "        # output size: (14+2*1-3)/1 + 1 = 14/2 = 7 (/2 b/c maxpool)\n",
    "\n",
    "        # third convolution layer\n",
    "        self.conv3  = nn.Conv2d(256,512,3,padding=1)\n",
    "        self.bnorm3 = nn.BatchNorm2d(512) # input the number of channels in this layer\n",
    "        # output size: (7+2*1-3)/1 + 1 = 7/2 = 3 (/2 b/c maxpool)\n",
    "\n",
    "        # fourth convolution layer\n",
    "        self.conv4  = nn.Conv2d(512,1024,3,padding=1)\n",
    "        self.bnorm4 = nn.BatchNorm2d(1024) # input the number of channels in this layer\n",
    "        # output size: (3+2*1-3)/1 + 1 = 3/2 = 1 (/2 b/c maxpool)\n",
    "\n",
    "        ### -------------- linear decision layers -------------- ###\n",
    "        self.fc1 = nn.Linear(1*1*self.conv4.out_channels, 512)\n",
    "        self.fc2 = nn.Linear(512, 64)\n",
    "        self.fc3 = nn.Linear(64, 10)\n",
    "\n",
    "    def forward(self,x):\n",
    "\n",
    "        if self.print: print(f'Input: {list(x.shape)}')\n",
    "\n",
    "        # first block: convolution -> maxpool -> batchnorm -> relu\n",
    "        x = F.max_pool2d(self.conv1(x),2)\n",
    "        x = F.leaky_relu(self.bnorm1(x))\n",
    "        # x = F.dropout(x, p=0.25, training=self.training)\n",
    "        if self.print: print(f'First CPR block: {list(x.shape)}')\n",
    "\n",
    "        # second block: convolution -> maxpool -> batchnorm -> relu\n",
    "        x = F.max_pool2d(self.conv2(x),2)\n",
    "        x = F.leaky_relu(self.bnorm2(x))\n",
    "        # x = F.dropout(x, p=0.25, training=self.training)\n",
    "        if self.print: print(f'Second CPR block: {list(x.shape)}')\n",
    "\n",
    "        # third block: convolution -> maxpool -> batchnorm -> relu\n",
    "        x = F.max_pool2d(self.conv3(x),2)\n",
    "        x = F.leaky_relu(self.bnorm3(x))\n",
    "        # x = F.dropout(x, p=0.25, training=self.training)\n",
    "        if self.print: print(f'Third CPR block: {list(x.shape)}')\n",
    "\n",
    "        # fourth block: convolution -> maxpool -> batchnorm -> relu\n",
    "        x = F.max_pool2d(self.conv4(x),2)\n",
    "        x = F.leaky_relu(self.bnorm4(x))\n",
    "        # x = F.dropout(x, p=0.25, training=self.training)\n",
    "        if self.print: print(f'Third CPR block: {list(x.shape)}')\n",
    "\n",
    "        # reshape for linear layer\n",
    "        nUnits = x.shape.numel()/x.shape[0]\n",
    "        x = x.view(-1,int(nUnits))\n",
    "        if self.print: print(f'Vectorized: {list(x.shape)}')\n",
    "\n",
    "        # linear layers\n",
    "        x = F.leaky_relu(self.fc1(x))\n",
    "        x = F.dropout(x, p=0.5, training=self.training)\n",
    "        x = F.leaky_relu(self.fc2(x))\n",
    "        x = F.dropout(x, p=0.5, training=self.training)\n",
    "        x = self.fc3(x)\n",
    "        if self.print: print(f'Final output: {list(x.shape)}')\n",
    "\n",
    "        return x\n",
    "\n",
    "def create_the_net(print: bool = False):\n",
    "    # create the model instance and copy to device (GPU)\n",
    "    net = MyCIFAR10CNN(print).to(device)\n",
    "\n",
    "    # loss function\n",
    "    lossfun = nn.CrossEntropyLoss()\n",
    "\n",
    "    # optimizer\n",
    "    optimizer = torch.optim.Adam(net.parameters(), lr=.001, weight_decay=0.0001)\n",
    "\n",
    "    return net,lossfun,optimizer"
   ],
   "metadata": {
    "collapsed": false
   }
  },
  {
   "cell_type": "code",
   "execution_count": 64,
   "outputs": [
    {
     "name": "stdout",
     "output_type": "stream",
     "text": [
      "Input: [32, 1, 28, 28]\n",
      "First CPR block: [32, 128, 14, 14]\n",
      "Second CPR block: [32, 256, 7, 7]\n",
      "Third CPR block: [32, 512, 3, 3]\n",
      "Third CPR block: [32, 1024, 1, 1]\n",
      "Vectorized: [32, 1024]\n",
      "Final output: [32, 10]\n",
      "\n",
      "Output size:\n",
      "torch.Size([32, 10])\n",
      "torch.Size([32])\n",
      " \n",
      "Loss:\n",
      "tensor(2.3532, grad_fn=<NllLossBackward0>)\n"
     ]
    }
   ],
   "source": [
    "# test the model with one batch\n",
    "net,lossfun,optimizer = create_the_net(True)\n",
    "\n",
    "X,y = next(iter(train_loader))\n",
    "yHat = net(X.to(device)).cpu()\n",
    "\n",
    "# check size of output\n",
    "print('\\nOutput size:')\n",
    "print(yHat.shape)\n",
    "print(y.shape)\n",
    "\n",
    "# # now let's compute the loss\n",
    "loss = lossfun(yHat,y)\n",
    "print(' ')\n",
    "print('Loss:')\n",
    "print(loss)"
   ],
   "metadata": {
    "collapsed": false
   }
  },
  {
   "cell_type": "markdown",
   "source": [
    "# Function to train the model"
   ],
   "metadata": {
    "collapsed": false
   }
  },
  {
   "cell_type": "code",
   "execution_count": 65,
   "outputs": [],
   "source": [
    "# a function that trains the model\n",
    "def function2trainTheModel(net=None):\n",
    "\n",
    "    # number of epochs\n",
    "    numepochs = 15\n",
    "\n",
    "    numbatches = len(list(train_loader))\n",
    "\n",
    "    # create a new model, or use exisiting net\n",
    "    net_,lossfun,optimizer = create_the_net()\n",
    "    if net is None:\n",
    "        net = net_\n",
    "\n",
    "    # initialize losses\n",
    "    trainLoss = torch.zeros(numepochs)\n",
    "    devLoss  = torch.zeros(numepochs)\n",
    "    trainAcc  = torch.zeros(numepochs)\n",
    "    devAcc   = torch.zeros(numepochs)\n",
    "\n",
    "    # loop over epochs\n",
    "    for epochi in range(numepochs):\n",
    "        print(f\"Starting epoch {epochi}...\")\n",
    "\n",
    "        # loop over training data batches\n",
    "        net.train()\n",
    "        batchLoss = torch.zeros(numbatches)\n",
    "        batchAcc  = torch.zeros(numbatches)\n",
    "        batch_idx = 0\n",
    "        for X,y in train_loader:\n",
    "            X = X.to(device)\n",
    "            y = y.to(device)\n",
    "\n",
    "            # forward pass and loss\n",
    "            yHat = net(X)\n",
    "            loss = lossfun(yHat, y)\n",
    "\n",
    "            # backprop\n",
    "            optimizer.zero_grad()\n",
    "            loss.backward()\n",
    "            optimizer.step()\n",
    "\n",
    "            # loss and Accuracy from this batch\n",
    "            batchLoss[batch_idx] = loss\n",
    "            batchAcc[batch_idx] = torch.mean((torch.argmax(yHat,axis=1) == y).float())\n",
    "            batch_idx += 1\n",
    "        # end of batch loop...\n",
    "\n",
    "        # and get average losses and accuracies rates across the batches\n",
    "        trainLoss[epochi] = torch.mean(batchLoss)\n",
    "        trainAcc[epochi]  = 100*torch.mean(batchAcc)\n",
    "\n",
    "        ### dev performance\n",
    "        net.eval()\n",
    "        X,y = next(iter(dev_loader)) # extract X,y from test dataloader\n",
    "        X = X.to(device)\n",
    "        y = y.to(device)\n",
    "        with torch.no_grad(): # deactivates autograd\n",
    "            yHat = net(X)\n",
    "            loss = lossfun(yHat, y)\n",
    "\n",
    "        # get loss and accuracy rate from the devset\n",
    "        devLoss[epochi] = loss\n",
    "        devAcc[epochi]  = 100*torch.mean((torch.argmax(yHat,axis=1) == y).float())\n",
    "\n",
    "        print(f\"Training... Epoch [{epochi+1}/{numepochs}] done. Accuracy: {devAcc[epochi]:.02f}%\")\n",
    "\n",
    "    # end epochs\n",
    "\n",
    "    # function output\n",
    "    return trainLoss,devLoss,trainAcc,devAcc,net"
   ],
   "metadata": {
    "collapsed": false
   }
  },
  {
   "cell_type": "markdown",
   "source": [
    "# Train the model"
   ],
   "metadata": {
    "collapsed": false
   }
  },
  {
   "cell_type": "code",
   "execution_count": 66,
   "outputs": [
    {
     "name": "stdout",
     "output_type": "stream",
     "text": [
      "Starting epoch 0...\n",
      "Training... Epoch [1/15] done. Accuracy: 88.08%\n",
      "Starting epoch 1...\n",
      "Training... Epoch [2/15] done. Accuracy: 89.44%\n",
      "Starting epoch 2...\n",
      "Training... Epoch [3/15] done. Accuracy: 90.80%\n",
      "Starting epoch 3...\n",
      "Training... Epoch [4/15] done. Accuracy: 90.82%\n",
      "Starting epoch 4...\n",
      "Training... Epoch [5/15] done. Accuracy: 90.82%\n",
      "Starting epoch 5...\n",
      "Training... Epoch [6/15] done. Accuracy: 92.44%\n",
      "Starting epoch 6...\n",
      "Training... Epoch [7/15] done. Accuracy: 92.16%\n",
      "Starting epoch 7...\n",
      "Training... Epoch [8/15] done. Accuracy: 92.38%\n",
      "Starting epoch 8...\n",
      "Training... Epoch [9/15] done. Accuracy: 92.00%\n",
      "Starting epoch 9...\n",
      "Training... Epoch [10/15] done. Accuracy: 92.34%\n",
      "Starting epoch 10...\n",
      "Training... Epoch [11/15] done. Accuracy: 92.34%\n",
      "Starting epoch 11...\n",
      "Training... Epoch [12/15] done. Accuracy: 92.32%\n",
      "Starting epoch 12...\n",
      "Training... Epoch [13/15] done. Accuracy: 91.64%\n",
      "Starting epoch 13...\n",
      "Training... Epoch [14/15] done. Accuracy: 92.10%\n",
      "Starting epoch 14...\n",
      "Training... Epoch [15/15] done. Accuracy: 92.56%\n"
     ]
    }
   ],
   "source": [
    "trainLoss,devLoss,trainAcc,devAcc,net = function2trainTheModel()"
   ],
   "metadata": {
    "collapsed": false
   }
  },
  {
   "cell_type": "code",
   "execution_count": null,
   "outputs": [],
   "source": [
    "# Transfer learning, if required\n",
    "trainLoss_,devLoss_,trainAcc_,devAcc_, net = function2trainTheModel(net)\n",
    "\n",
    "# Concatenate data\n",
    "trainLoss = torch.cat((trainLoss, trainLoss_))\n",
    "devLoss = torch.cat((devLoss, devLoss_))\n",
    "trainAcc = torch.cat((trainAcc, trainAcc_))\n",
    "devAcc = torch.cat((devAcc, devAcc_))"
   ],
   "metadata": {
    "collapsed": false
   }
  },
  {
   "cell_type": "markdown",
   "source": [
    "# Evaluate test set"
   ],
   "metadata": {
    "collapsed": false
   }
  },
  {
   "cell_type": "code",
   "execution_count": 67,
   "outputs": [
    {
     "name": "stdout",
     "output_type": "stream",
     "text": [
      "Testset accuracy: 92.580%\n"
     ]
    }
   ],
   "source": [
    "net.eval()\n",
    "X, y = next(iter(test_loader))\n",
    "yHat = net.cpu()(X)\n",
    "testAcc = 100 * torch.mean((torch.argmax(yHat, axis=1) == y).float()).item()\n",
    "print(f\"Testset accuracy: {testAcc:.3f}%\")"
   ],
   "metadata": {
    "collapsed": false
   }
  },
  {
   "cell_type": "code",
   "execution_count": 68,
   "outputs": [
    {
     "data": {
      "text/plain": "<Figure size 800x400 with 2 Axes>",
      "image/svg+xml": "<?xml version=\"1.0\" encoding=\"utf-8\" standalone=\"no\"?>\n<!DOCTYPE svg PUBLIC \"-//W3C//DTD SVG 1.1//EN\"\n  \"http://www.w3.org/Graphics/SVG/1.1/DTD/svg11.dtd\">\n<svg xmlns:xlink=\"http://www.w3.org/1999/xlink\" width=\"568.52375pt\" height=\"279.763599pt\" viewBox=\"0 0 568.52375 279.763599\" xmlns=\"http://www.w3.org/2000/svg\" version=\"1.1\">\n <metadata>\n  <rdf:RDF xmlns:dc=\"http://purl.org/dc/elements/1.1/\" xmlns:cc=\"http://creativecommons.org/ns#\" xmlns:rdf=\"http://www.w3.org/1999/02/22-rdf-syntax-ns#\">\n   <cc:Work>\n    <dc:type rdf:resource=\"http://purl.org/dc/dcmitype/StillImage\"/>\n    <dc:date>2022-11-24T10:19:17.894204</dc:date>\n    <dc:format>image/svg+xml</dc:format>\n    <dc:creator>\n     <cc:Agent>\n      <dc:title>Matplotlib v3.5.0, https://matplotlib.org/</dc:title>\n     </cc:Agent>\n    </dc:creator>\n   </cc:Work>\n  </rdf:RDF>\n </metadata>\n <defs>\n  <style type=\"text/css\">*{stroke-linejoin: round; stroke-linecap: butt}</style>\n </defs>\n <g id=\"figure_1\">\n  <g id=\"patch_1\">\n   <path d=\"M 0 279.763599 \nL 568.52375 279.763599 \nL 568.52375 0 \nL 0 0 \nz\n\" style=\"fill: #ffffff\"/>\n  </g>\n  <g id=\"axes_1\">\n   <g id=\"patch_2\">\n    <path d=\"M 50.14375 242.207349 \nL 283.40375 242.207349 \nL 283.40375 9.474828 \nL 50.14375 9.474828 \nz\n\" style=\"fill: #ffffff\"/>\n   </g>\n   <g id=\"matplotlib.axis_1\">\n    <g id=\"xtick_1\">\n     <g id=\"line2d_1\">\n      <defs>\n       <path id=\"m021d55533d\" d=\"M 0 0 \nL 0 3.5 \n\" style=\"stroke: #000000; stroke-width: 0.8\"/>\n      </defs>\n      <g>\n       <use xlink:href=\"#m021d55533d\" x=\"60.746477\" y=\"242.207349\" style=\"stroke: #000000; stroke-width: 0.8\"/>\n      </g>\n     </g>\n     <g id=\"text_1\">\n      <!-- 0.0 -->\n      <g transform=\"translate(52.794915 256.805787)scale(0.1 -0.1)\">\n       <defs>\n        <path id=\"DejaVuSans-30\" d=\"M 2034 4250 \nQ 1547 4250 1301 3770 \nQ 1056 3291 1056 2328 \nQ 1056 1369 1301 889 \nQ 1547 409 2034 409 \nQ 2525 409 2770 889 \nQ 3016 1369 3016 2328 \nQ 3016 3291 2770 3770 \nQ 2525 4250 2034 4250 \nz\nM 2034 4750 \nQ 2819 4750 3233 4129 \nQ 3647 3509 3647 2328 \nQ 3647 1150 3233 529 \nQ 2819 -91 2034 -91 \nQ 1250 -91 836 529 \nQ 422 1150 422 2328 \nQ 422 3509 836 4129 \nQ 1250 4750 2034 4750 \nz\n\" transform=\"scale(0.015625)\"/>\n        <path id=\"DejaVuSans-2e\" d=\"M 684 794 \nL 1344 794 \nL 1344 0 \nL 684 0 \nL 684 794 \nz\n\" transform=\"scale(0.015625)\"/>\n       </defs>\n       <use xlink:href=\"#DejaVuSans-30\"/>\n       <use xlink:href=\"#DejaVuSans-2e\" x=\"63.623047\"/>\n       <use xlink:href=\"#DejaVuSans-30\" x=\"95.410156\"/>\n      </g>\n     </g>\n    </g>\n    <g id=\"xtick_2\">\n     <g id=\"line2d_2\">\n      <g>\n       <use xlink:href=\"#m021d55533d\" x=\"98.61336\" y=\"242.207349\" style=\"stroke: #000000; stroke-width: 0.8\"/>\n      </g>\n     </g>\n     <g id=\"text_2\">\n      <!-- 2.5 -->\n      <g transform=\"translate(90.661798 256.805787)scale(0.1 -0.1)\">\n       <defs>\n        <path id=\"DejaVuSans-32\" d=\"M 1228 531 \nL 3431 531 \nL 3431 0 \nL 469 0 \nL 469 531 \nQ 828 903 1448 1529 \nQ 2069 2156 2228 2338 \nQ 2531 2678 2651 2914 \nQ 2772 3150 2772 3378 \nQ 2772 3750 2511 3984 \nQ 2250 4219 1831 4219 \nQ 1534 4219 1204 4116 \nQ 875 4013 500 3803 \nL 500 4441 \nQ 881 4594 1212 4672 \nQ 1544 4750 1819 4750 \nQ 2544 4750 2975 4387 \nQ 3406 4025 3406 3419 \nQ 3406 3131 3298 2873 \nQ 3191 2616 2906 2266 \nQ 2828 2175 2409 1742 \nQ 1991 1309 1228 531 \nz\n\" transform=\"scale(0.015625)\"/>\n        <path id=\"DejaVuSans-35\" d=\"M 691 4666 \nL 3169 4666 \nL 3169 4134 \nL 1269 4134 \nL 1269 2991 \nQ 1406 3038 1543 3061 \nQ 1681 3084 1819 3084 \nQ 2600 3084 3056 2656 \nQ 3513 2228 3513 1497 \nQ 3513 744 3044 326 \nQ 2575 -91 1722 -91 \nQ 1428 -91 1123 -41 \nQ 819 9 494 109 \nL 494 744 \nQ 775 591 1075 516 \nQ 1375 441 1709 441 \nQ 2250 441 2565 725 \nQ 2881 1009 2881 1497 \nQ 2881 1984 2565 2268 \nQ 2250 2553 1709 2553 \nQ 1456 2553 1204 2497 \nQ 953 2441 691 2322 \nL 691 4666 \nz\n\" transform=\"scale(0.015625)\"/>\n       </defs>\n       <use xlink:href=\"#DejaVuSans-32\"/>\n       <use xlink:href=\"#DejaVuSans-2e\" x=\"63.623047\"/>\n       <use xlink:href=\"#DejaVuSans-35\" x=\"95.410156\"/>\n      </g>\n     </g>\n    </g>\n    <g id=\"xtick_3\">\n     <g id=\"line2d_3\">\n      <g>\n       <use xlink:href=\"#m021d55533d\" x=\"136.480244\" y=\"242.207349\" style=\"stroke: #000000; stroke-width: 0.8\"/>\n      </g>\n     </g>\n     <g id=\"text_3\">\n      <!-- 5.0 -->\n      <g transform=\"translate(128.528681 256.805787)scale(0.1 -0.1)\">\n       <use xlink:href=\"#DejaVuSans-35\"/>\n       <use xlink:href=\"#DejaVuSans-2e\" x=\"63.623047\"/>\n       <use xlink:href=\"#DejaVuSans-30\" x=\"95.410156\"/>\n      </g>\n     </g>\n    </g>\n    <g id=\"xtick_4\">\n     <g id=\"line2d_4\">\n      <g>\n       <use xlink:href=\"#m021d55533d\" x=\"174.347127\" y=\"242.207349\" style=\"stroke: #000000; stroke-width: 0.8\"/>\n      </g>\n     </g>\n     <g id=\"text_4\">\n      <!-- 7.5 -->\n      <g transform=\"translate(166.395564 256.805787)scale(0.1 -0.1)\">\n       <defs>\n        <path id=\"DejaVuSans-37\" d=\"M 525 4666 \nL 3525 4666 \nL 3525 4397 \nL 1831 0 \nL 1172 0 \nL 2766 4134 \nL 525 4134 \nL 525 4666 \nz\n\" transform=\"scale(0.015625)\"/>\n       </defs>\n       <use xlink:href=\"#DejaVuSans-37\"/>\n       <use xlink:href=\"#DejaVuSans-2e\" x=\"63.623047\"/>\n       <use xlink:href=\"#DejaVuSans-35\" x=\"95.410156\"/>\n      </g>\n     </g>\n    </g>\n    <g id=\"xtick_5\">\n     <g id=\"line2d_5\">\n      <g>\n       <use xlink:href=\"#m021d55533d\" x=\"212.21401\" y=\"242.207349\" style=\"stroke: #000000; stroke-width: 0.8\"/>\n      </g>\n     </g>\n     <g id=\"text_5\">\n      <!-- 10.0 -->\n      <g transform=\"translate(201.081197 256.805787)scale(0.1 -0.1)\">\n       <defs>\n        <path id=\"DejaVuSans-31\" d=\"M 794 531 \nL 1825 531 \nL 1825 4091 \nL 703 3866 \nL 703 4441 \nL 1819 4666 \nL 2450 4666 \nL 2450 531 \nL 3481 531 \nL 3481 0 \nL 794 0 \nL 794 531 \nz\n\" transform=\"scale(0.015625)\"/>\n       </defs>\n       <use xlink:href=\"#DejaVuSans-31\"/>\n       <use xlink:href=\"#DejaVuSans-30\" x=\"63.623047\"/>\n       <use xlink:href=\"#DejaVuSans-2e\" x=\"127.246094\"/>\n       <use xlink:href=\"#DejaVuSans-30\" x=\"159.033203\"/>\n      </g>\n     </g>\n    </g>\n    <g id=\"xtick_6\">\n     <g id=\"line2d_6\">\n      <g>\n       <use xlink:href=\"#m021d55533d\" x=\"250.080893\" y=\"242.207349\" style=\"stroke: #000000; stroke-width: 0.8\"/>\n      </g>\n     </g>\n     <g id=\"text_6\">\n      <!-- 12.5 -->\n      <g transform=\"translate(238.94808 256.805787)scale(0.1 -0.1)\">\n       <use xlink:href=\"#DejaVuSans-31\"/>\n       <use xlink:href=\"#DejaVuSans-32\" x=\"63.623047\"/>\n       <use xlink:href=\"#DejaVuSans-2e\" x=\"127.246094\"/>\n       <use xlink:href=\"#DejaVuSans-35\" x=\"159.033203\"/>\n      </g>\n     </g>\n    </g>\n    <g id=\"text_7\">\n     <!-- Epoch -->\n     <g transform=\"translate(151.462812 270.483912)scale(0.1 -0.1)\">\n      <defs>\n       <path id=\"DejaVuSans-45\" d=\"M 628 4666 \nL 3578 4666 \nL 3578 4134 \nL 1259 4134 \nL 1259 2753 \nL 3481 2753 \nL 3481 2222 \nL 1259 2222 \nL 1259 531 \nL 3634 531 \nL 3634 0 \nL 628 0 \nL 628 4666 \nz\n\" transform=\"scale(0.015625)\"/>\n       <path id=\"DejaVuSans-70\" d=\"M 1159 525 \nL 1159 -1331 \nL 581 -1331 \nL 581 3500 \nL 1159 3500 \nL 1159 2969 \nQ 1341 3281 1617 3432 \nQ 1894 3584 2278 3584 \nQ 2916 3584 3314 3078 \nQ 3713 2572 3713 1747 \nQ 3713 922 3314 415 \nQ 2916 -91 2278 -91 \nQ 1894 -91 1617 61 \nQ 1341 213 1159 525 \nz\nM 3116 1747 \nQ 3116 2381 2855 2742 \nQ 2594 3103 2138 3103 \nQ 1681 3103 1420 2742 \nQ 1159 2381 1159 1747 \nQ 1159 1113 1420 752 \nQ 1681 391 2138 391 \nQ 2594 391 2855 752 \nQ 3116 1113 3116 1747 \nz\n\" transform=\"scale(0.015625)\"/>\n       <path id=\"DejaVuSans-6f\" d=\"M 1959 3097 \nQ 1497 3097 1228 2736 \nQ 959 2375 959 1747 \nQ 959 1119 1226 758 \nQ 1494 397 1959 397 \nQ 2419 397 2687 759 \nQ 2956 1122 2956 1747 \nQ 2956 2369 2687 2733 \nQ 2419 3097 1959 3097 \nz\nM 1959 3584 \nQ 2709 3584 3137 3096 \nQ 3566 2609 3566 1747 \nQ 3566 888 3137 398 \nQ 2709 -91 1959 -91 \nQ 1206 -91 779 398 \nQ 353 888 353 1747 \nQ 353 2609 779 3096 \nQ 1206 3584 1959 3584 \nz\n\" transform=\"scale(0.015625)\"/>\n       <path id=\"DejaVuSans-63\" d=\"M 3122 3366 \nL 3122 2828 \nQ 2878 2963 2633 3030 \nQ 2388 3097 2138 3097 \nQ 1578 3097 1268 2742 \nQ 959 2388 959 1747 \nQ 959 1106 1268 751 \nQ 1578 397 2138 397 \nQ 2388 397 2633 464 \nQ 2878 531 3122 666 \nL 3122 134 \nQ 2881 22 2623 -34 \nQ 2366 -91 2075 -91 \nQ 1284 -91 818 406 \nQ 353 903 353 1747 \nQ 353 2603 823 3093 \nQ 1294 3584 2113 3584 \nQ 2378 3584 2631 3529 \nQ 2884 3475 3122 3366 \nz\n\" transform=\"scale(0.015625)\"/>\n       <path id=\"DejaVuSans-68\" d=\"M 3513 2113 \nL 3513 0 \nL 2938 0 \nL 2938 2094 \nQ 2938 2591 2744 2837 \nQ 2550 3084 2163 3084 \nQ 1697 3084 1428 2787 \nQ 1159 2491 1159 1978 \nL 1159 0 \nL 581 0 \nL 581 4863 \nL 1159 4863 \nL 1159 2956 \nQ 1366 3272 1645 3428 \nQ 1925 3584 2291 3584 \nQ 2894 3584 3203 3211 \nQ 3513 2838 3513 2113 \nz\n\" transform=\"scale(0.015625)\"/>\n      </defs>\n      <use xlink:href=\"#DejaVuSans-45\"/>\n      <use xlink:href=\"#DejaVuSans-70\" x=\"63.183594\"/>\n      <use xlink:href=\"#DejaVuSans-6f\" x=\"126.660156\"/>\n      <use xlink:href=\"#DejaVuSans-63\" x=\"187.841797\"/>\n      <use xlink:href=\"#DejaVuSans-68\" x=\"242.822266\"/>\n     </g>\n    </g>\n   </g>\n   <g id=\"matplotlib.axis_2\">\n    <g id=\"ytick_1\">\n     <g id=\"line2d_7\">\n      <defs>\n       <path id=\"ma797259744\" d=\"M 0 0 \nL -3.5 0 \n\" style=\"stroke: #000000; stroke-width: 0.8\"/>\n      </defs>\n      <g>\n       <use xlink:href=\"#ma797259744\" x=\"50.14375\" y=\"219.295574\" style=\"stroke: #000000; stroke-width: 0.8\"/>\n      </g>\n     </g>\n     <g id=\"text_8\">\n      <!-- 0.15 -->\n      <g transform=\"translate(20.878125 223.094793)scale(0.1 -0.1)\">\n       <use xlink:href=\"#DejaVuSans-30\"/>\n       <use xlink:href=\"#DejaVuSans-2e\" x=\"63.623047\"/>\n       <use xlink:href=\"#DejaVuSans-31\" x=\"95.410156\"/>\n       <use xlink:href=\"#DejaVuSans-35\" x=\"159.033203\"/>\n      </g>\n     </g>\n    </g>\n    <g id=\"ytick_2\">\n     <g id=\"line2d_8\">\n      <g>\n       <use xlink:href=\"#ma797259744\" x=\"50.14375\" y=\"189.538952\" style=\"stroke: #000000; stroke-width: 0.8\"/>\n      </g>\n     </g>\n     <g id=\"text_9\">\n      <!-- 0.20 -->\n      <g transform=\"translate(20.878125 193.338171)scale(0.1 -0.1)\">\n       <use xlink:href=\"#DejaVuSans-30\"/>\n       <use xlink:href=\"#DejaVuSans-2e\" x=\"63.623047\"/>\n       <use xlink:href=\"#DejaVuSans-32\" x=\"95.410156\"/>\n       <use xlink:href=\"#DejaVuSans-30\" x=\"159.033203\"/>\n      </g>\n     </g>\n    </g>\n    <g id=\"ytick_3\">\n     <g id=\"line2d_9\">\n      <g>\n       <use xlink:href=\"#ma797259744\" x=\"50.14375\" y=\"159.78233\" style=\"stroke: #000000; stroke-width: 0.8\"/>\n      </g>\n     </g>\n     <g id=\"text_10\">\n      <!-- 0.25 -->\n      <g transform=\"translate(20.878125 163.581549)scale(0.1 -0.1)\">\n       <use xlink:href=\"#DejaVuSans-30\"/>\n       <use xlink:href=\"#DejaVuSans-2e\" x=\"63.623047\"/>\n       <use xlink:href=\"#DejaVuSans-32\" x=\"95.410156\"/>\n       <use xlink:href=\"#DejaVuSans-35\" x=\"159.033203\"/>\n      </g>\n     </g>\n    </g>\n    <g id=\"ytick_4\">\n     <g id=\"line2d_10\">\n      <g>\n       <use xlink:href=\"#ma797259744\" x=\"50.14375\" y=\"130.025708\" style=\"stroke: #000000; stroke-width: 0.8\"/>\n      </g>\n     </g>\n     <g id=\"text_11\">\n      <!-- 0.30 -->\n      <g transform=\"translate(20.878125 133.824926)scale(0.1 -0.1)\">\n       <defs>\n        <path id=\"DejaVuSans-33\" d=\"M 2597 2516 \nQ 3050 2419 3304 2112 \nQ 3559 1806 3559 1356 \nQ 3559 666 3084 287 \nQ 2609 -91 1734 -91 \nQ 1441 -91 1130 -33 \nQ 819 25 488 141 \nL 488 750 \nQ 750 597 1062 519 \nQ 1375 441 1716 441 \nQ 2309 441 2620 675 \nQ 2931 909 2931 1356 \nQ 2931 1769 2642 2001 \nQ 2353 2234 1838 2234 \nL 1294 2234 \nL 1294 2753 \nL 1863 2753 \nQ 2328 2753 2575 2939 \nQ 2822 3125 2822 3475 \nQ 2822 3834 2567 4026 \nQ 2313 4219 1838 4219 \nQ 1578 4219 1281 4162 \nQ 984 4106 628 3988 \nL 628 4550 \nQ 988 4650 1302 4700 \nQ 1616 4750 1894 4750 \nQ 2613 4750 3031 4423 \nQ 3450 4097 3450 3541 \nQ 3450 3153 3228 2886 \nQ 3006 2619 2597 2516 \nz\n\" transform=\"scale(0.015625)\"/>\n       </defs>\n       <use xlink:href=\"#DejaVuSans-30\"/>\n       <use xlink:href=\"#DejaVuSans-2e\" x=\"63.623047\"/>\n       <use xlink:href=\"#DejaVuSans-33\" x=\"95.410156\"/>\n       <use xlink:href=\"#DejaVuSans-30\" x=\"159.033203\"/>\n      </g>\n     </g>\n    </g>\n    <g id=\"ytick_5\">\n     <g id=\"line2d_11\">\n      <g>\n       <use xlink:href=\"#ma797259744\" x=\"50.14375\" y=\"100.269085\" style=\"stroke: #000000; stroke-width: 0.8\"/>\n      </g>\n     </g>\n     <g id=\"text_12\">\n      <!-- 0.35 -->\n      <g transform=\"translate(20.878125 104.068304)scale(0.1 -0.1)\">\n       <use xlink:href=\"#DejaVuSans-30\"/>\n       <use xlink:href=\"#DejaVuSans-2e\" x=\"63.623047\"/>\n       <use xlink:href=\"#DejaVuSans-33\" x=\"95.410156\"/>\n       <use xlink:href=\"#DejaVuSans-35\" x=\"159.033203\"/>\n      </g>\n     </g>\n    </g>\n    <g id=\"ytick_6\">\n     <g id=\"line2d_12\">\n      <g>\n       <use xlink:href=\"#ma797259744\" x=\"50.14375\" y=\"70.512463\" style=\"stroke: #000000; stroke-width: 0.8\"/>\n      </g>\n     </g>\n     <g id=\"text_13\">\n      <!-- 0.40 -->\n      <g transform=\"translate(20.878125 74.311682)scale(0.1 -0.1)\">\n       <defs>\n        <path id=\"DejaVuSans-34\" d=\"M 2419 4116 \nL 825 1625 \nL 2419 1625 \nL 2419 4116 \nz\nM 2253 4666 \nL 3047 4666 \nL 3047 1625 \nL 3713 1625 \nL 3713 1100 \nL 3047 1100 \nL 3047 0 \nL 2419 0 \nL 2419 1100 \nL 313 1100 \nL 313 1709 \nL 2253 4666 \nz\n\" transform=\"scale(0.015625)\"/>\n       </defs>\n       <use xlink:href=\"#DejaVuSans-30\"/>\n       <use xlink:href=\"#DejaVuSans-2e\" x=\"63.623047\"/>\n       <use xlink:href=\"#DejaVuSans-34\" x=\"95.410156\"/>\n       <use xlink:href=\"#DejaVuSans-30\" x=\"159.033203\"/>\n      </g>\n     </g>\n    </g>\n    <g id=\"ytick_7\">\n     <g id=\"line2d_13\">\n      <g>\n       <use xlink:href=\"#ma797259744\" x=\"50.14375\" y=\"40.755841\" style=\"stroke: #000000; stroke-width: 0.8\"/>\n      </g>\n     </g>\n     <g id=\"text_14\">\n      <!-- 0.45 -->\n      <g transform=\"translate(20.878125 44.55506)scale(0.1 -0.1)\">\n       <use xlink:href=\"#DejaVuSans-30\"/>\n       <use xlink:href=\"#DejaVuSans-2e\" x=\"63.623047\"/>\n       <use xlink:href=\"#DejaVuSans-34\" x=\"95.410156\"/>\n       <use xlink:href=\"#DejaVuSans-35\" x=\"159.033203\"/>\n      </g>\n     </g>\n    </g>\n    <g id=\"ytick_8\">\n     <g id=\"line2d_14\">\n      <g>\n       <use xlink:href=\"#ma797259744\" x=\"50.14375\" y=\"10.999219\" style=\"stroke: #000000; stroke-width: 0.8\"/>\n      </g>\n     </g>\n     <g id=\"text_15\">\n      <!-- 0.50 -->\n      <g transform=\"translate(20.878125 14.798438)scale(0.1 -0.1)\">\n       <use xlink:href=\"#DejaVuSans-30\"/>\n       <use xlink:href=\"#DejaVuSans-2e\" x=\"63.623047\"/>\n       <use xlink:href=\"#DejaVuSans-35\" x=\"95.410156\"/>\n       <use xlink:href=\"#DejaVuSans-30\" x=\"159.033203\"/>\n      </g>\n     </g>\n    </g>\n    <g id=\"text_16\">\n     <!-- Loss -->\n     <g transform=\"translate(14.798438 136.808276)rotate(-90)scale(0.1 -0.1)\">\n      <defs>\n       <path id=\"DejaVuSans-4c\" d=\"M 628 4666 \nL 1259 4666 \nL 1259 531 \nL 3531 531 \nL 3531 0 \nL 628 0 \nL 628 4666 \nz\n\" transform=\"scale(0.015625)\"/>\n       <path id=\"DejaVuSans-73\" d=\"M 2834 3397 \nL 2834 2853 \nQ 2591 2978 2328 3040 \nQ 2066 3103 1784 3103 \nQ 1356 3103 1142 2972 \nQ 928 2841 928 2578 \nQ 928 2378 1081 2264 \nQ 1234 2150 1697 2047 \nL 1894 2003 \nQ 2506 1872 2764 1633 \nQ 3022 1394 3022 966 \nQ 3022 478 2636 193 \nQ 2250 -91 1575 -91 \nQ 1294 -91 989 -36 \nQ 684 19 347 128 \nL 347 722 \nQ 666 556 975 473 \nQ 1284 391 1588 391 \nQ 1994 391 2212 530 \nQ 2431 669 2431 922 \nQ 2431 1156 2273 1281 \nQ 2116 1406 1581 1522 \nL 1381 1569 \nQ 847 1681 609 1914 \nQ 372 2147 372 2553 \nQ 372 3047 722 3315 \nQ 1072 3584 1716 3584 \nQ 2034 3584 2315 3537 \nQ 2597 3491 2834 3397 \nz\n\" transform=\"scale(0.015625)\"/>\n      </defs>\n      <use xlink:href=\"#DejaVuSans-4c\"/>\n      <use xlink:href=\"#DejaVuSans-6f\" x=\"53.962891\"/>\n      <use xlink:href=\"#DejaVuSans-73\" x=\"115.144531\"/>\n      <use xlink:href=\"#DejaVuSans-73\" x=\"167.244141\"/>\n     </g>\n    </g>\n   </g>\n   <g id=\"line2d_15\">\n    <path d=\"M 60.746477 20.053579 \nL 75.893231 109.398722 \nL 91.039984 131.178243 \nL 106.186737 152.835666 \nL 121.33349 163.774201 \nL 136.480244 176.387649 \nL 151.626997 185.911055 \nL 166.77375 194.694928 \nL 181.920503 202.979141 \nL 197.067256 206.158059 \nL 212.21401 212.873078 \nL 227.360763 218.623745 \nL 242.507516 223.977119 \nL 257.654269 225.055736 \nL 272.801023 231.628598 \n\" clip-path=\"url(#p3638930b66)\" style=\"fill: none; stroke: #1f77b4; stroke-width: 1.5; stroke-linecap: square\"/>\n    <defs>\n     <path id=\"m893f5c90d0\" d=\"M -3 3 \nL 3 3 \nL 3 -3 \nL -3 -3 \nz\n\" style=\"stroke: #1f77b4; stroke-linejoin: miter\"/>\n    </defs>\n    <g clip-path=\"url(#p3638930b66)\">\n     <use xlink:href=\"#m893f5c90d0\" x=\"60.746477\" y=\"20.053579\" style=\"fill: #1f77b4; stroke: #1f77b4; stroke-linejoin: miter\"/>\n     <use xlink:href=\"#m893f5c90d0\" x=\"75.893231\" y=\"109.398722\" style=\"fill: #1f77b4; stroke: #1f77b4; stroke-linejoin: miter\"/>\n     <use xlink:href=\"#m893f5c90d0\" x=\"91.039984\" y=\"131.178243\" style=\"fill: #1f77b4; stroke: #1f77b4; stroke-linejoin: miter\"/>\n     <use xlink:href=\"#m893f5c90d0\" x=\"106.186737\" y=\"152.835666\" style=\"fill: #1f77b4; stroke: #1f77b4; stroke-linejoin: miter\"/>\n     <use xlink:href=\"#m893f5c90d0\" x=\"121.33349\" y=\"163.774201\" style=\"fill: #1f77b4; stroke: #1f77b4; stroke-linejoin: miter\"/>\n     <use xlink:href=\"#m893f5c90d0\" x=\"136.480244\" y=\"176.387649\" style=\"fill: #1f77b4; stroke: #1f77b4; stroke-linejoin: miter\"/>\n     <use xlink:href=\"#m893f5c90d0\" x=\"151.626997\" y=\"185.911055\" style=\"fill: #1f77b4; stroke: #1f77b4; stroke-linejoin: miter\"/>\n     <use xlink:href=\"#m893f5c90d0\" x=\"166.77375\" y=\"194.694928\" style=\"fill: #1f77b4; stroke: #1f77b4; stroke-linejoin: miter\"/>\n     <use xlink:href=\"#m893f5c90d0\" x=\"181.920503\" y=\"202.979141\" style=\"fill: #1f77b4; stroke: #1f77b4; stroke-linejoin: miter\"/>\n     <use xlink:href=\"#m893f5c90d0\" x=\"197.067256\" y=\"206.158059\" style=\"fill: #1f77b4; stroke: #1f77b4; stroke-linejoin: miter\"/>\n     <use xlink:href=\"#m893f5c90d0\" x=\"212.21401\" y=\"212.873078\" style=\"fill: #1f77b4; stroke: #1f77b4; stroke-linejoin: miter\"/>\n     <use xlink:href=\"#m893f5c90d0\" x=\"227.360763\" y=\"218.623745\" style=\"fill: #1f77b4; stroke: #1f77b4; stroke-linejoin: miter\"/>\n     <use xlink:href=\"#m893f5c90d0\" x=\"242.507516\" y=\"223.977119\" style=\"fill: #1f77b4; stroke: #1f77b4; stroke-linejoin: miter\"/>\n     <use xlink:href=\"#m893f5c90d0\" x=\"257.654269\" y=\"225.055736\" style=\"fill: #1f77b4; stroke: #1f77b4; stroke-linejoin: miter\"/>\n     <use xlink:href=\"#m893f5c90d0\" x=\"272.801023\" y=\"231.628598\" style=\"fill: #1f77b4; stroke: #1f77b4; stroke-linejoin: miter\"/>\n    </g>\n   </g>\n   <g id=\"line2d_16\">\n    <path d=\"M 60.746477 101.5112 \nL 75.893231 133.585719 \nL 91.039984 154.194925 \nL 106.186737 151.542528 \nL 121.33349 156.773912 \nL 136.480244 173.790261 \nL 151.626997 153.531374 \nL 166.77375 175.580601 \nL 181.920503 170.350859 \nL 197.067256 168.512701 \nL 212.21401 165.911659 \nL 227.360763 164.295587 \nL 242.507516 149.507018 \nL 257.654269 159.704716 \nL 272.801023 153.86244 \n\" clip-path=\"url(#p3638930b66)\" style=\"fill: none; stroke: #ff7f0e; stroke-width: 1.5; stroke-linecap: square\"/>\n    <defs>\n     <path id=\"me363a538bf\" d=\"M 0 -3 \nL -3 3 \nL 3 3 \nz\n\" style=\"stroke: #ff7f0e; stroke-linejoin: miter\"/>\n    </defs>\n    <g clip-path=\"url(#p3638930b66)\">\n     <use xlink:href=\"#me363a538bf\" x=\"60.746477\" y=\"101.5112\" style=\"fill: #ff7f0e; stroke: #ff7f0e; stroke-linejoin: miter\"/>\n     <use xlink:href=\"#me363a538bf\" x=\"75.893231\" y=\"133.585719\" style=\"fill: #ff7f0e; stroke: #ff7f0e; stroke-linejoin: miter\"/>\n     <use xlink:href=\"#me363a538bf\" x=\"91.039984\" y=\"154.194925\" style=\"fill: #ff7f0e; stroke: #ff7f0e; stroke-linejoin: miter\"/>\n     <use xlink:href=\"#me363a538bf\" x=\"106.186737\" y=\"151.542528\" style=\"fill: #ff7f0e; stroke: #ff7f0e; stroke-linejoin: miter\"/>\n     <use xlink:href=\"#me363a538bf\" x=\"121.33349\" y=\"156.773912\" style=\"fill: #ff7f0e; stroke: #ff7f0e; stroke-linejoin: miter\"/>\n     <use xlink:href=\"#me363a538bf\" x=\"136.480244\" y=\"173.790261\" style=\"fill: #ff7f0e; stroke: #ff7f0e; stroke-linejoin: miter\"/>\n     <use xlink:href=\"#me363a538bf\" x=\"151.626997\" y=\"153.531374\" style=\"fill: #ff7f0e; stroke: #ff7f0e; stroke-linejoin: miter\"/>\n     <use xlink:href=\"#me363a538bf\" x=\"166.77375\" y=\"175.580601\" style=\"fill: #ff7f0e; stroke: #ff7f0e; stroke-linejoin: miter\"/>\n     <use xlink:href=\"#me363a538bf\" x=\"181.920503\" y=\"170.350859\" style=\"fill: #ff7f0e; stroke: #ff7f0e; stroke-linejoin: miter\"/>\n     <use xlink:href=\"#me363a538bf\" x=\"197.067256\" y=\"168.512701\" style=\"fill: #ff7f0e; stroke: #ff7f0e; stroke-linejoin: miter\"/>\n     <use xlink:href=\"#me363a538bf\" x=\"212.21401\" y=\"165.911659\" style=\"fill: #ff7f0e; stroke: #ff7f0e; stroke-linejoin: miter\"/>\n     <use xlink:href=\"#me363a538bf\" x=\"227.360763\" y=\"164.295587\" style=\"fill: #ff7f0e; stroke: #ff7f0e; stroke-linejoin: miter\"/>\n     <use xlink:href=\"#me363a538bf\" x=\"242.507516\" y=\"149.507018\" style=\"fill: #ff7f0e; stroke: #ff7f0e; stroke-linejoin: miter\"/>\n     <use xlink:href=\"#me363a538bf\" x=\"257.654269\" y=\"159.704716\" style=\"fill: #ff7f0e; stroke: #ff7f0e; stroke-linejoin: miter\"/>\n     <use xlink:href=\"#me363a538bf\" x=\"272.801023\" y=\"153.86244\" style=\"fill: #ff7f0e; stroke: #ff7f0e; stroke-linejoin: miter\"/>\n    </g>\n   </g>\n   <g id=\"patch_3\">\n    <path d=\"M 50.14375 242.207349 \nL 50.14375 9.474828 \n\" style=\"fill: none; stroke: #000000; stroke-width: 0.8; stroke-linejoin: miter; stroke-linecap: square\"/>\n   </g>\n   <g id=\"patch_4\">\n    <path d=\"M 283.40375 242.207349 \nL 283.40375 9.474828 \n\" style=\"fill: none; stroke: #000000; stroke-width: 0.8; stroke-linejoin: miter; stroke-linecap: square\"/>\n   </g>\n   <g id=\"patch_5\">\n    <path d=\"M 50.14375 242.207349 \nL 283.40375 242.207349 \n\" style=\"fill: none; stroke: #000000; stroke-width: 0.8; stroke-linejoin: miter; stroke-linecap: square\"/>\n   </g>\n   <g id=\"patch_6\">\n    <path d=\"M 50.14375 9.474828 \nL 283.40375 9.474828 \n\" style=\"fill: none; stroke: #000000; stroke-width: 0.8; stroke-linejoin: miter; stroke-linecap: square\"/>\n   </g>\n   <g id=\"legend_1\">\n    <g id=\"patch_7\">\n     <path d=\"M 220.41625 46.831078 \nL 276.40375 46.831078 \nQ 278.40375 46.831078 278.40375 44.831078 \nL 278.40375 16.474828 \nQ 278.40375 14.474828 276.40375 14.474828 \nL 220.41625 14.474828 \nQ 218.41625 14.474828 218.41625 16.474828 \nL 218.41625 44.831078 \nQ 218.41625 46.831078 220.41625 46.831078 \nz\n\" style=\"fill: #ffffff; opacity: 0.8; stroke: #cccccc; stroke-linejoin: miter\"/>\n    </g>\n    <g id=\"line2d_17\">\n     <path d=\"M 222.41625 22.573266 \nL 232.41625 22.573266 \nL 242.41625 22.573266 \n\" style=\"fill: none; stroke: #1f77b4; stroke-width: 1.5; stroke-linecap: square\"/>\n     <g>\n      <use xlink:href=\"#m893f5c90d0\" x=\"232.41625\" y=\"22.573266\" style=\"fill: #1f77b4; stroke: #1f77b4; stroke-linejoin: miter\"/>\n     </g>\n    </g>\n    <g id=\"text_17\">\n     <!-- Train -->\n     <g transform=\"translate(250.41625 26.073266)scale(0.1 -0.1)\">\n      <defs>\n       <path id=\"DejaVuSans-54\" d=\"M -19 4666 \nL 3928 4666 \nL 3928 4134 \nL 2272 4134 \nL 2272 0 \nL 1638 0 \nL 1638 4134 \nL -19 4134 \nL -19 4666 \nz\n\" transform=\"scale(0.015625)\"/>\n       <path id=\"DejaVuSans-72\" d=\"M 2631 2963 \nQ 2534 3019 2420 3045 \nQ 2306 3072 2169 3072 \nQ 1681 3072 1420 2755 \nQ 1159 2438 1159 1844 \nL 1159 0 \nL 581 0 \nL 581 3500 \nL 1159 3500 \nL 1159 2956 \nQ 1341 3275 1631 3429 \nQ 1922 3584 2338 3584 \nQ 2397 3584 2469 3576 \nQ 2541 3569 2628 3553 \nL 2631 2963 \nz\n\" transform=\"scale(0.015625)\"/>\n       <path id=\"DejaVuSans-61\" d=\"M 2194 1759 \nQ 1497 1759 1228 1600 \nQ 959 1441 959 1056 \nQ 959 750 1161 570 \nQ 1363 391 1709 391 \nQ 2188 391 2477 730 \nQ 2766 1069 2766 1631 \nL 2766 1759 \nL 2194 1759 \nz\nM 3341 1997 \nL 3341 0 \nL 2766 0 \nL 2766 531 \nQ 2569 213 2275 61 \nQ 1981 -91 1556 -91 \nQ 1019 -91 701 211 \nQ 384 513 384 1019 \nQ 384 1609 779 1909 \nQ 1175 2209 1959 2209 \nL 2766 2209 \nL 2766 2266 \nQ 2766 2663 2505 2880 \nQ 2244 3097 1772 3097 \nQ 1472 3097 1187 3025 \nQ 903 2953 641 2809 \nL 641 3341 \nQ 956 3463 1253 3523 \nQ 1550 3584 1831 3584 \nQ 2591 3584 2966 3190 \nQ 3341 2797 3341 1997 \nz\n\" transform=\"scale(0.015625)\"/>\n       <path id=\"DejaVuSans-69\" d=\"M 603 3500 \nL 1178 3500 \nL 1178 0 \nL 603 0 \nL 603 3500 \nz\nM 603 4863 \nL 1178 4863 \nL 1178 4134 \nL 603 4134 \nL 603 4863 \nz\n\" transform=\"scale(0.015625)\"/>\n       <path id=\"DejaVuSans-6e\" d=\"M 3513 2113 \nL 3513 0 \nL 2938 0 \nL 2938 2094 \nQ 2938 2591 2744 2837 \nQ 2550 3084 2163 3084 \nQ 1697 3084 1428 2787 \nQ 1159 2491 1159 1978 \nL 1159 0 \nL 581 0 \nL 581 3500 \nL 1159 3500 \nL 1159 2956 \nQ 1366 3272 1645 3428 \nQ 1925 3584 2291 3584 \nQ 2894 3584 3203 3211 \nQ 3513 2838 3513 2113 \nz\n\" transform=\"scale(0.015625)\"/>\n      </defs>\n      <use xlink:href=\"#DejaVuSans-54\"/>\n      <use xlink:href=\"#DejaVuSans-72\" x=\"46.333984\"/>\n      <use xlink:href=\"#DejaVuSans-61\" x=\"87.447266\"/>\n      <use xlink:href=\"#DejaVuSans-69\" x=\"148.726562\"/>\n      <use xlink:href=\"#DejaVuSans-6e\" x=\"176.509766\"/>\n     </g>\n    </g>\n    <g id=\"line2d_18\">\n     <path d=\"M 222.41625 37.251391 \nL 232.41625 37.251391 \nL 242.41625 37.251391 \n\" style=\"fill: none; stroke: #ff7f0e; stroke-width: 1.5; stroke-linecap: square\"/>\n     <g>\n      <use xlink:href=\"#me363a538bf\" x=\"232.41625\" y=\"37.251391\" style=\"fill: #ff7f0e; stroke: #ff7f0e; stroke-linejoin: miter\"/>\n     </g>\n    </g>\n    <g id=\"text_18\">\n     <!-- Dev -->\n     <g transform=\"translate(250.41625 40.751391)scale(0.1 -0.1)\">\n      <defs>\n       <path id=\"DejaVuSans-44\" d=\"M 1259 4147 \nL 1259 519 \nL 2022 519 \nQ 2988 519 3436 956 \nQ 3884 1394 3884 2338 \nQ 3884 3275 3436 3711 \nQ 2988 4147 2022 4147 \nL 1259 4147 \nz\nM 628 4666 \nL 1925 4666 \nQ 3281 4666 3915 4102 \nQ 4550 3538 4550 2338 \nQ 4550 1131 3912 565 \nQ 3275 0 1925 0 \nL 628 0 \nL 628 4666 \nz\n\" transform=\"scale(0.015625)\"/>\n       <path id=\"DejaVuSans-65\" d=\"M 3597 1894 \nL 3597 1613 \nL 953 1613 \nQ 991 1019 1311 708 \nQ 1631 397 2203 397 \nQ 2534 397 2845 478 \nQ 3156 559 3463 722 \nL 3463 178 \nQ 3153 47 2828 -22 \nQ 2503 -91 2169 -91 \nQ 1331 -91 842 396 \nQ 353 884 353 1716 \nQ 353 2575 817 3079 \nQ 1281 3584 2069 3584 \nQ 2775 3584 3186 3129 \nQ 3597 2675 3597 1894 \nz\nM 3022 2063 \nQ 3016 2534 2758 2815 \nQ 2500 3097 2075 3097 \nQ 1594 3097 1305 2825 \nQ 1016 2553 972 2059 \nL 3022 2063 \nz\n\" transform=\"scale(0.015625)\"/>\n       <path id=\"DejaVuSans-76\" d=\"M 191 3500 \nL 800 3500 \nL 1894 563 \nL 2988 3500 \nL 3597 3500 \nL 2284 0 \nL 1503 0 \nL 191 3500 \nz\n\" transform=\"scale(0.015625)\"/>\n      </defs>\n      <use xlink:href=\"#DejaVuSans-44\"/>\n      <use xlink:href=\"#DejaVuSans-65\" x=\"77.001953\"/>\n      <use xlink:href=\"#DejaVuSans-76\" x=\"138.525391\"/>\n     </g>\n    </g>\n   </g>\n  </g>\n  <g id=\"axes_2\">\n   <g id=\"patch_8\">\n    <path d=\"M 328.06375 242.207349 \nL 561.32375 242.207349 \nL 561.32375 9.474828 \nL 328.06375 9.474828 \nz\n\" style=\"fill: #ffffff\"/>\n   </g>\n   <g id=\"PathCollection_1\">\n    <defs>\n     <path id=\"ma7d87f6abb\" d=\"M -4.898979 0 \nL 4.898979 0 \nM 0 4.898979 \nL 0 -4.898979 \n\" style=\"stroke: #008000; stroke-width: 1.5\"/>\n    </defs>\n    <g clip-path=\"url(#p2781420308)\">\n     <use xlink:href=\"#ma7d87f6abb\" x=\"550.721023\" y=\"75.53792\" style=\"fill: #008000; stroke: #008000; stroke-width: 1.5\"/>\n    </g>\n   </g>\n   <g id=\"matplotlib.axis_3\">\n    <g id=\"xtick_7\">\n     <g id=\"line2d_19\">\n      <g>\n       <use xlink:href=\"#m021d55533d\" x=\"338.666477\" y=\"242.207349\" style=\"stroke: #000000; stroke-width: 0.8\"/>\n      </g>\n     </g>\n     <g id=\"text_19\">\n      <!-- 0.0 -->\n      <g transform=\"translate(330.714915 256.805787)scale(0.1 -0.1)\">\n       <use xlink:href=\"#DejaVuSans-30\"/>\n       <use xlink:href=\"#DejaVuSans-2e\" x=\"63.623047\"/>\n       <use xlink:href=\"#DejaVuSans-30\" x=\"95.410156\"/>\n      </g>\n     </g>\n    </g>\n    <g id=\"xtick_8\">\n     <g id=\"line2d_20\">\n      <g>\n       <use xlink:href=\"#m021d55533d\" x=\"376.53336\" y=\"242.207349\" style=\"stroke: #000000; stroke-width: 0.8\"/>\n      </g>\n     </g>\n     <g id=\"text_20\">\n      <!-- 2.5 -->\n      <g transform=\"translate(368.581798 256.805787)scale(0.1 -0.1)\">\n       <use xlink:href=\"#DejaVuSans-32\"/>\n       <use xlink:href=\"#DejaVuSans-2e\" x=\"63.623047\"/>\n       <use xlink:href=\"#DejaVuSans-35\" x=\"95.410156\"/>\n      </g>\n     </g>\n    </g>\n    <g id=\"xtick_9\">\n     <g id=\"line2d_21\">\n      <g>\n       <use xlink:href=\"#m021d55533d\" x=\"414.400244\" y=\"242.207349\" style=\"stroke: #000000; stroke-width: 0.8\"/>\n      </g>\n     </g>\n     <g id=\"text_21\">\n      <!-- 5.0 -->\n      <g transform=\"translate(406.448681 256.805787)scale(0.1 -0.1)\">\n       <use xlink:href=\"#DejaVuSans-35\"/>\n       <use xlink:href=\"#DejaVuSans-2e\" x=\"63.623047\"/>\n       <use xlink:href=\"#DejaVuSans-30\" x=\"95.410156\"/>\n      </g>\n     </g>\n    </g>\n    <g id=\"xtick_10\">\n     <g id=\"line2d_22\">\n      <g>\n       <use xlink:href=\"#m021d55533d\" x=\"452.267127\" y=\"242.207349\" style=\"stroke: #000000; stroke-width: 0.8\"/>\n      </g>\n     </g>\n     <g id=\"text_22\">\n      <!-- 7.5 -->\n      <g transform=\"translate(444.315564 256.805787)scale(0.1 -0.1)\">\n       <use xlink:href=\"#DejaVuSans-37\"/>\n       <use xlink:href=\"#DejaVuSans-2e\" x=\"63.623047\"/>\n       <use xlink:href=\"#DejaVuSans-35\" x=\"95.410156\"/>\n      </g>\n     </g>\n    </g>\n    <g id=\"xtick_11\">\n     <g id=\"line2d_23\">\n      <g>\n       <use xlink:href=\"#m021d55533d\" x=\"490.13401\" y=\"242.207349\" style=\"stroke: #000000; stroke-width: 0.8\"/>\n      </g>\n     </g>\n     <g id=\"text_23\">\n      <!-- 10.0 -->\n      <g transform=\"translate(479.001197 256.805787)scale(0.1 -0.1)\">\n       <use xlink:href=\"#DejaVuSans-31\"/>\n       <use xlink:href=\"#DejaVuSans-30\" x=\"63.623047\"/>\n       <use xlink:href=\"#DejaVuSans-2e\" x=\"127.246094\"/>\n       <use xlink:href=\"#DejaVuSans-30\" x=\"159.033203\"/>\n      </g>\n     </g>\n    </g>\n    <g id=\"xtick_12\">\n     <g id=\"line2d_24\">\n      <g>\n       <use xlink:href=\"#m021d55533d\" x=\"528.000893\" y=\"242.207349\" style=\"stroke: #000000; stroke-width: 0.8\"/>\n      </g>\n     </g>\n     <g id=\"text_24\">\n      <!-- 12.5 -->\n      <g transform=\"translate(516.86808 256.805787)scale(0.1 -0.1)\">\n       <use xlink:href=\"#DejaVuSans-31\"/>\n       <use xlink:href=\"#DejaVuSans-32\" x=\"63.623047\"/>\n       <use xlink:href=\"#DejaVuSans-2e\" x=\"127.246094\"/>\n       <use xlink:href=\"#DejaVuSans-35\" x=\"159.033203\"/>\n      </g>\n     </g>\n    </g>\n    <g id=\"text_25\">\n     <!-- Epoch -->\n     <g transform=\"translate(429.382812 270.483912)scale(0.1 -0.1)\">\n      <use xlink:href=\"#DejaVuSans-45\"/>\n      <use xlink:href=\"#DejaVuSans-70\" x=\"63.183594\"/>\n      <use xlink:href=\"#DejaVuSans-6f\" x=\"126.660156\"/>\n      <use xlink:href=\"#DejaVuSans-63\" x=\"187.841797\"/>\n      <use xlink:href=\"#DejaVuSans-68\" x=\"242.822266\"/>\n     </g>\n    </g>\n   </g>\n   <g id=\"matplotlib.axis_4\">\n    <g id=\"ytick_9\">\n     <g id=\"line2d_25\">\n      <g>\n       <use xlink:href=\"#ma797259744\" x=\"328.06375\" y=\"227.957299\" style=\"stroke: #000000; stroke-width: 0.8\"/>\n      </g>\n     </g>\n     <g id=\"text_26\">\n      <!-- 84 -->\n      <g transform=\"translate(308.33875 231.756518)scale(0.1 -0.1)\">\n       <defs>\n        <path id=\"DejaVuSans-38\" d=\"M 2034 2216 \nQ 1584 2216 1326 1975 \nQ 1069 1734 1069 1313 \nQ 1069 891 1326 650 \nQ 1584 409 2034 409 \nQ 2484 409 2743 651 \nQ 3003 894 3003 1313 \nQ 3003 1734 2745 1975 \nQ 2488 2216 2034 2216 \nz\nM 1403 2484 \nQ 997 2584 770 2862 \nQ 544 3141 544 3541 \nQ 544 4100 942 4425 \nQ 1341 4750 2034 4750 \nQ 2731 4750 3128 4425 \nQ 3525 4100 3525 3541 \nQ 3525 3141 3298 2862 \nQ 3072 2584 2669 2484 \nQ 3125 2378 3379 2068 \nQ 3634 1759 3634 1313 \nQ 3634 634 3220 271 \nQ 2806 -91 2034 -91 \nQ 1263 -91 848 271 \nQ 434 634 434 1313 \nQ 434 1759 690 2068 \nQ 947 2378 1403 2484 \nz\nM 1172 3481 \nQ 1172 3119 1398 2916 \nQ 1625 2713 2034 2713 \nQ 2441 2713 2670 2916 \nQ 2900 3119 2900 3481 \nQ 2900 3844 2670 4047 \nQ 2441 4250 2034 4250 \nQ 1625 4250 1398 4047 \nQ 1172 3844 1172 3481 \nz\n\" transform=\"scale(0.015625)\"/>\n       </defs>\n       <use xlink:href=\"#DejaVuSans-38\"/>\n       <use xlink:href=\"#DejaVuSans-34\" x=\"63.623047\"/>\n      </g>\n     </g>\n    </g>\n    <g id=\"ytick_10\">\n     <g id=\"line2d_26\">\n      <g>\n       <use xlink:href=\"#ma797259744\" x=\"328.06375\" y=\"192.428317\" style=\"stroke: #000000; stroke-width: 0.8\"/>\n      </g>\n     </g>\n     <g id=\"text_27\">\n      <!-- 86 -->\n      <g transform=\"translate(308.33875 196.227535)scale(0.1 -0.1)\">\n       <defs>\n        <path id=\"DejaVuSans-36\" d=\"M 2113 2584 \nQ 1688 2584 1439 2293 \nQ 1191 2003 1191 1497 \nQ 1191 994 1439 701 \nQ 1688 409 2113 409 \nQ 2538 409 2786 701 \nQ 3034 994 3034 1497 \nQ 3034 2003 2786 2293 \nQ 2538 2584 2113 2584 \nz\nM 3366 4563 \nL 3366 3988 \nQ 3128 4100 2886 4159 \nQ 2644 4219 2406 4219 \nQ 1781 4219 1451 3797 \nQ 1122 3375 1075 2522 \nQ 1259 2794 1537 2939 \nQ 1816 3084 2150 3084 \nQ 2853 3084 3261 2657 \nQ 3669 2231 3669 1497 \nQ 3669 778 3244 343 \nQ 2819 -91 2113 -91 \nQ 1303 -91 875 529 \nQ 447 1150 447 2328 \nQ 447 3434 972 4092 \nQ 1497 4750 2381 4750 \nQ 2619 4750 2861 4703 \nQ 3103 4656 3366 4563 \nz\n\" transform=\"scale(0.015625)\"/>\n       </defs>\n       <use xlink:href=\"#DejaVuSans-38\"/>\n       <use xlink:href=\"#DejaVuSans-36\" x=\"63.623047\"/>\n      </g>\n     </g>\n    </g>\n    <g id=\"ytick_11\">\n     <g id=\"line2d_27\">\n      <g>\n       <use xlink:href=\"#ma797259744\" x=\"328.06375\" y=\"156.899334\" style=\"stroke: #000000; stroke-width: 0.8\"/>\n      </g>\n     </g>\n     <g id=\"text_28\">\n      <!-- 88 -->\n      <g transform=\"translate(308.33875 160.698553)scale(0.1 -0.1)\">\n       <use xlink:href=\"#DejaVuSans-38\"/>\n       <use xlink:href=\"#DejaVuSans-38\" x=\"63.623047\"/>\n      </g>\n     </g>\n    </g>\n    <g id=\"ytick_12\">\n     <g id=\"line2d_28\">\n      <g>\n       <use xlink:href=\"#ma797259744\" x=\"328.06375\" y=\"121.370352\" style=\"stroke: #000000; stroke-width: 0.8\"/>\n      </g>\n     </g>\n     <g id=\"text_29\">\n      <!-- 90 -->\n      <g transform=\"translate(308.33875 125.169571)scale(0.1 -0.1)\">\n       <defs>\n        <path id=\"DejaVuSans-39\" d=\"M 703 97 \nL 703 672 \nQ 941 559 1184 500 \nQ 1428 441 1663 441 \nQ 2288 441 2617 861 \nQ 2947 1281 2994 2138 \nQ 2813 1869 2534 1725 \nQ 2256 1581 1919 1581 \nQ 1219 1581 811 2004 \nQ 403 2428 403 3163 \nQ 403 3881 828 4315 \nQ 1253 4750 1959 4750 \nQ 2769 4750 3195 4129 \nQ 3622 3509 3622 2328 \nQ 3622 1225 3098 567 \nQ 2575 -91 1691 -91 \nQ 1453 -91 1209 -44 \nQ 966 3 703 97 \nz\nM 1959 2075 \nQ 2384 2075 2632 2365 \nQ 2881 2656 2881 3163 \nQ 2881 3666 2632 3958 \nQ 2384 4250 1959 4250 \nQ 1534 4250 1286 3958 \nQ 1038 3666 1038 3163 \nQ 1038 2656 1286 2365 \nQ 1534 2075 1959 2075 \nz\n\" transform=\"scale(0.015625)\"/>\n       </defs>\n       <use xlink:href=\"#DejaVuSans-39\"/>\n       <use xlink:href=\"#DejaVuSans-30\" x=\"63.623047\"/>\n      </g>\n     </g>\n    </g>\n    <g id=\"ytick_13\">\n     <g id=\"line2d_29\">\n      <g>\n       <use xlink:href=\"#ma797259744\" x=\"328.06375\" y=\"85.84137\" style=\"stroke: #000000; stroke-width: 0.8\"/>\n      </g>\n     </g>\n     <g id=\"text_30\">\n      <!-- 92 -->\n      <g transform=\"translate(308.33875 89.640589)scale(0.1 -0.1)\">\n       <use xlink:href=\"#DejaVuSans-39\"/>\n       <use xlink:href=\"#DejaVuSans-32\" x=\"63.623047\"/>\n      </g>\n     </g>\n    </g>\n    <g id=\"ytick_14\">\n     <g id=\"line2d_30\">\n      <g>\n       <use xlink:href=\"#ma797259744\" x=\"328.06375\" y=\"50.312388\" style=\"stroke: #000000; stroke-width: 0.8\"/>\n      </g>\n     </g>\n     <g id=\"text_31\">\n      <!-- 94 -->\n      <g transform=\"translate(308.33875 54.111606)scale(0.1 -0.1)\">\n       <use xlink:href=\"#DejaVuSans-39\"/>\n       <use xlink:href=\"#DejaVuSans-34\" x=\"63.623047\"/>\n      </g>\n     </g>\n    </g>\n    <g id=\"ytick_15\">\n     <g id=\"line2d_31\">\n      <g>\n       <use xlink:href=\"#ma797259744\" x=\"328.06375\" y=\"14.783405\" style=\"stroke: #000000; stroke-width: 0.8\"/>\n      </g>\n     </g>\n     <g id=\"text_32\">\n      <!-- 96 -->\n      <g transform=\"translate(308.33875 18.582624)scale(0.1 -0.1)\">\n       <use xlink:href=\"#DejaVuSans-39\"/>\n       <use xlink:href=\"#DejaVuSans-36\" x=\"63.623047\"/>\n      </g>\n     </g>\n    </g>\n    <g id=\"text_33\">\n     <!-- Accuracy [%] -->\n     <g transform=\"translate(302.259063 158.91062)rotate(-90)scale(0.1 -0.1)\">\n      <defs>\n       <path id=\"DejaVuSans-41\" d=\"M 2188 4044 \nL 1331 1722 \nL 3047 1722 \nL 2188 4044 \nz\nM 1831 4666 \nL 2547 4666 \nL 4325 0 \nL 3669 0 \nL 3244 1197 \nL 1141 1197 \nL 716 0 \nL 50 0 \nL 1831 4666 \nz\n\" transform=\"scale(0.015625)\"/>\n       <path id=\"DejaVuSans-75\" d=\"M 544 1381 \nL 544 3500 \nL 1119 3500 \nL 1119 1403 \nQ 1119 906 1312 657 \nQ 1506 409 1894 409 \nQ 2359 409 2629 706 \nQ 2900 1003 2900 1516 \nL 2900 3500 \nL 3475 3500 \nL 3475 0 \nL 2900 0 \nL 2900 538 \nQ 2691 219 2414 64 \nQ 2138 -91 1772 -91 \nQ 1169 -91 856 284 \nQ 544 659 544 1381 \nz\nM 1991 3584 \nL 1991 3584 \nz\n\" transform=\"scale(0.015625)\"/>\n       <path id=\"DejaVuSans-79\" d=\"M 2059 -325 \nQ 1816 -950 1584 -1140 \nQ 1353 -1331 966 -1331 \nL 506 -1331 \nL 506 -850 \nL 844 -850 \nQ 1081 -850 1212 -737 \nQ 1344 -625 1503 -206 \nL 1606 56 \nL 191 3500 \nL 800 3500 \nL 1894 763 \nL 2988 3500 \nL 3597 3500 \nL 2059 -325 \nz\n\" transform=\"scale(0.015625)\"/>\n       <path id=\"DejaVuSans-20\" transform=\"scale(0.015625)\"/>\n       <path id=\"DejaVuSans-5b\" d=\"M 550 4863 \nL 1875 4863 \nL 1875 4416 \nL 1125 4416 \nL 1125 -397 \nL 1875 -397 \nL 1875 -844 \nL 550 -844 \nL 550 4863 \nz\n\" transform=\"scale(0.015625)\"/>\n       <path id=\"DejaVuSans-25\" d=\"M 4653 2053 \nQ 4381 2053 4226 1822 \nQ 4072 1591 4072 1178 \nQ 4072 772 4226 539 \nQ 4381 306 4653 306 \nQ 4919 306 5073 539 \nQ 5228 772 5228 1178 \nQ 5228 1588 5073 1820 \nQ 4919 2053 4653 2053 \nz\nM 4653 2450 \nQ 5147 2450 5437 2106 \nQ 5728 1763 5728 1178 \nQ 5728 594 5436 251 \nQ 5144 -91 4653 -91 \nQ 4153 -91 3862 251 \nQ 3572 594 3572 1178 \nQ 3572 1766 3864 2108 \nQ 4156 2450 4653 2450 \nz\nM 1428 4353 \nQ 1159 4353 1004 4120 \nQ 850 3888 850 3481 \nQ 850 3069 1003 2837 \nQ 1156 2606 1428 2606 \nQ 1700 2606 1854 2837 \nQ 2009 3069 2009 3481 \nQ 2009 3884 1853 4118 \nQ 1697 4353 1428 4353 \nz\nM 4250 4750 \nL 4750 4750 \nL 1831 -91 \nL 1331 -91 \nL 4250 4750 \nz\nM 1428 4750 \nQ 1922 4750 2215 4408 \nQ 2509 4066 2509 3481 \nQ 2509 2891 2217 2550 \nQ 1925 2209 1428 2209 \nQ 931 2209 642 2551 \nQ 353 2894 353 3481 \nQ 353 4063 643 4406 \nQ 934 4750 1428 4750 \nz\n\" transform=\"scale(0.015625)\"/>\n       <path id=\"DejaVuSans-5d\" d=\"M 1947 4863 \nL 1947 -844 \nL 622 -844 \nL 622 -397 \nL 1369 -397 \nL 1369 4416 \nL 622 4416 \nL 622 4863 \nL 1947 4863 \nz\n\" transform=\"scale(0.015625)\"/>\n      </defs>\n      <use xlink:href=\"#DejaVuSans-41\"/>\n      <use xlink:href=\"#DejaVuSans-63\" x=\"66.658203\"/>\n      <use xlink:href=\"#DejaVuSans-63\" x=\"121.638672\"/>\n      <use xlink:href=\"#DejaVuSans-75\" x=\"176.619141\"/>\n      <use xlink:href=\"#DejaVuSans-72\" x=\"239.998047\"/>\n      <use xlink:href=\"#DejaVuSans-61\" x=\"281.111328\"/>\n      <use xlink:href=\"#DejaVuSans-63\" x=\"342.390625\"/>\n      <use xlink:href=\"#DejaVuSans-79\" x=\"397.371094\"/>\n      <use xlink:href=\"#DejaVuSans-20\" x=\"456.550781\"/>\n      <use xlink:href=\"#DejaVuSans-5b\" x=\"488.337891\"/>\n      <use xlink:href=\"#DejaVuSans-25\" x=\"527.351562\"/>\n      <use xlink:href=\"#DejaVuSans-5d\" x=\"622.371094\"/>\n     </g>\n    </g>\n   </g>\n   <g id=\"line2d_32\">\n    <path d=\"M 338.666477 231.628598 \nL 353.813231 139.756665 \nL 368.959984 121.607263 \nL 384.106737 102.095895 \nL 399.25349 89.127757 \nL 414.400244 75.686069 \nL 429.546997 66.981371 \nL 444.69375 58.632038 \nL 459.840503 51.467123 \nL 474.987256 45.782491 \nL 490.13401 38.765441 \nL 505.280763 35.123824 \nL 520.427516 30.386563 \nL 535.574269 27.603407 \nL 550.721023 20.053579 \n\" clip-path=\"url(#p2781420308)\" style=\"fill: none; stroke: #1f77b4; stroke-width: 1.5; stroke-linecap: square\"/>\n    <g clip-path=\"url(#p2781420308)\">\n     <use xlink:href=\"#m893f5c90d0\" x=\"338.666477\" y=\"231.628598\" style=\"fill: #1f77b4; stroke: #1f77b4; stroke-linejoin: miter\"/>\n     <use xlink:href=\"#m893f5c90d0\" x=\"353.813231\" y=\"139.756665\" style=\"fill: #1f77b4; stroke: #1f77b4; stroke-linejoin: miter\"/>\n     <use xlink:href=\"#m893f5c90d0\" x=\"368.959984\" y=\"121.607263\" style=\"fill: #1f77b4; stroke: #1f77b4; stroke-linejoin: miter\"/>\n     <use xlink:href=\"#m893f5c90d0\" x=\"384.106737\" y=\"102.095895\" style=\"fill: #1f77b4; stroke: #1f77b4; stroke-linejoin: miter\"/>\n     <use xlink:href=\"#m893f5c90d0\" x=\"399.25349\" y=\"89.127757\" style=\"fill: #1f77b4; stroke: #1f77b4; stroke-linejoin: miter\"/>\n     <use xlink:href=\"#m893f5c90d0\" x=\"414.400244\" y=\"75.686069\" style=\"fill: #1f77b4; stroke: #1f77b4; stroke-linejoin: miter\"/>\n     <use xlink:href=\"#m893f5c90d0\" x=\"429.546997\" y=\"66.981371\" style=\"fill: #1f77b4; stroke: #1f77b4; stroke-linejoin: miter\"/>\n     <use xlink:href=\"#m893f5c90d0\" x=\"444.69375\" y=\"58.632038\" style=\"fill: #1f77b4; stroke: #1f77b4; stroke-linejoin: miter\"/>\n     <use xlink:href=\"#m893f5c90d0\" x=\"459.840503\" y=\"51.467123\" style=\"fill: #1f77b4; stroke: #1f77b4; stroke-linejoin: miter\"/>\n     <use xlink:href=\"#m893f5c90d0\" x=\"474.987256\" y=\"45.782491\" style=\"fill: #1f77b4; stroke: #1f77b4; stroke-linejoin: miter\"/>\n     <use xlink:href=\"#m893f5c90d0\" x=\"490.13401\" y=\"38.765441\" style=\"fill: #1f77b4; stroke: #1f77b4; stroke-linejoin: miter\"/>\n     <use xlink:href=\"#m893f5c90d0\" x=\"505.280763\" y=\"35.123824\" style=\"fill: #1f77b4; stroke: #1f77b4; stroke-linejoin: miter\"/>\n     <use xlink:href=\"#m893f5c90d0\" x=\"520.427516\" y=\"30.386563\" style=\"fill: #1f77b4; stroke: #1f77b4; stroke-linejoin: miter\"/>\n     <use xlink:href=\"#m893f5c90d0\" x=\"535.574269\" y=\"27.603407\" style=\"fill: #1f77b4; stroke: #1f77b4; stroke-linejoin: miter\"/>\n     <use xlink:href=\"#m893f5c90d0\" x=\"550.721023\" y=\"20.053579\" style=\"fill: #1f77b4; stroke: #1f77b4; stroke-linejoin: miter\"/>\n    </g>\n   </g>\n   <g id=\"line2d_33\">\n    <path d=\"M 338.666477 155.478278 \nL 353.813231 131.318424 \nL 368.959984 107.158705 \nL 384.106737 106.803475 \nL 399.25349 106.803475 \nL 414.400244 78.025086 \nL 429.546997 82.999122 \nL 444.69375 79.090912 \nL 459.840503 85.841505 \nL 474.987256 79.801508 \nL 490.13401 79.801508 \nL 505.280763 80.156874 \nL 520.427516 92.236597 \nL 535.574269 84.064948 \nL 550.721023 75.893298 \n\" clip-path=\"url(#p2781420308)\" style=\"fill: none; stroke: #ff7f0e; stroke-width: 1.5; stroke-linecap: square\"/>\n    <g clip-path=\"url(#p2781420308)\">\n     <use xlink:href=\"#me363a538bf\" x=\"338.666477\" y=\"155.478278\" style=\"fill: #ff7f0e; stroke: #ff7f0e; stroke-linejoin: miter\"/>\n     <use xlink:href=\"#me363a538bf\" x=\"353.813231\" y=\"131.318424\" style=\"fill: #ff7f0e; stroke: #ff7f0e; stroke-linejoin: miter\"/>\n     <use xlink:href=\"#me363a538bf\" x=\"368.959984\" y=\"107.158705\" style=\"fill: #ff7f0e; stroke: #ff7f0e; stroke-linejoin: miter\"/>\n     <use xlink:href=\"#me363a538bf\" x=\"384.106737\" y=\"106.803475\" style=\"fill: #ff7f0e; stroke: #ff7f0e; stroke-linejoin: miter\"/>\n     <use xlink:href=\"#me363a538bf\" x=\"399.25349\" y=\"106.803475\" style=\"fill: #ff7f0e; stroke: #ff7f0e; stroke-linejoin: miter\"/>\n     <use xlink:href=\"#me363a538bf\" x=\"414.400244\" y=\"78.025086\" style=\"fill: #ff7f0e; stroke: #ff7f0e; stroke-linejoin: miter\"/>\n     <use xlink:href=\"#me363a538bf\" x=\"429.546997\" y=\"82.999122\" style=\"fill: #ff7f0e; stroke: #ff7f0e; stroke-linejoin: miter\"/>\n     <use xlink:href=\"#me363a538bf\" x=\"444.69375\" y=\"79.090912\" style=\"fill: #ff7f0e; stroke: #ff7f0e; stroke-linejoin: miter\"/>\n     <use xlink:href=\"#me363a538bf\" x=\"459.840503\" y=\"85.841505\" style=\"fill: #ff7f0e; stroke: #ff7f0e; stroke-linejoin: miter\"/>\n     <use xlink:href=\"#me363a538bf\" x=\"474.987256\" y=\"79.801508\" style=\"fill: #ff7f0e; stroke: #ff7f0e; stroke-linejoin: miter\"/>\n     <use xlink:href=\"#me363a538bf\" x=\"490.13401\" y=\"79.801508\" style=\"fill: #ff7f0e; stroke: #ff7f0e; stroke-linejoin: miter\"/>\n     <use xlink:href=\"#me363a538bf\" x=\"505.280763\" y=\"80.156874\" style=\"fill: #ff7f0e; stroke: #ff7f0e; stroke-linejoin: miter\"/>\n     <use xlink:href=\"#me363a538bf\" x=\"520.427516\" y=\"92.236597\" style=\"fill: #ff7f0e; stroke: #ff7f0e; stroke-linejoin: miter\"/>\n     <use xlink:href=\"#me363a538bf\" x=\"535.574269\" y=\"84.064948\" style=\"fill: #ff7f0e; stroke: #ff7f0e; stroke-linejoin: miter\"/>\n     <use xlink:href=\"#me363a538bf\" x=\"550.721023\" y=\"75.893298\" style=\"fill: #ff7f0e; stroke: #ff7f0e; stroke-linejoin: miter\"/>\n    </g>\n   </g>\n   <g id=\"patch_9\">\n    <path d=\"M 328.06375 242.207349 \nL 328.06375 9.474828 \n\" style=\"fill: none; stroke: #000000; stroke-width: 0.8; stroke-linejoin: miter; stroke-linecap: square\"/>\n   </g>\n   <g id=\"patch_10\">\n    <path d=\"M 561.32375 242.207349 \nL 561.32375 9.474828 \n\" style=\"fill: none; stroke: #000000; stroke-width: 0.8; stroke-linejoin: miter; stroke-linecap: square\"/>\n   </g>\n   <g id=\"patch_11\">\n    <path d=\"M 328.06375 242.207349 \nL 561.32375 242.207349 \n\" style=\"fill: none; stroke: #000000; stroke-width: 0.8; stroke-linejoin: miter; stroke-linecap: square\"/>\n   </g>\n   <g id=\"patch_12\">\n    <path d=\"M 328.06375 9.474828 \nL 561.32375 9.474828 \n\" style=\"fill: none; stroke: #000000; stroke-width: 0.8; stroke-linejoin: miter; stroke-linecap: square\"/>\n   </g>\n   <g id=\"legend_2\">\n    <g id=\"patch_13\">\n     <path d=\"M 335.06375 61.509203 \nL 391.05125 61.509203 \nQ 393.05125 61.509203 393.05125 59.509203 \nL 393.05125 16.474828 \nQ 393.05125 14.474828 391.05125 14.474828 \nL 335.06375 14.474828 \nQ 333.06375 14.474828 333.06375 16.474828 \nL 333.06375 59.509203 \nQ 333.06375 61.509203 335.06375 61.509203 \nz\n\" style=\"fill: #ffffff; opacity: 0.8; stroke: #cccccc; stroke-linejoin: miter\"/>\n    </g>\n    <g id=\"line2d_34\">\n     <path d=\"M 337.06375 22.573266 \nL 347.06375 22.573266 \nL 357.06375 22.573266 \n\" style=\"fill: none; stroke: #1f77b4; stroke-width: 1.5; stroke-linecap: square\"/>\n     <g>\n      <use xlink:href=\"#m893f5c90d0\" x=\"347.06375\" y=\"22.573266\" style=\"fill: #1f77b4; stroke: #1f77b4; stroke-linejoin: miter\"/>\n     </g>\n    </g>\n    <g id=\"text_34\">\n     <!-- Train -->\n     <g transform=\"translate(365.06375 26.073266)scale(0.1 -0.1)\">\n      <use xlink:href=\"#DejaVuSans-54\"/>\n      <use xlink:href=\"#DejaVuSans-72\" x=\"46.333984\"/>\n      <use xlink:href=\"#DejaVuSans-61\" x=\"87.447266\"/>\n      <use xlink:href=\"#DejaVuSans-69\" x=\"148.726562\"/>\n      <use xlink:href=\"#DejaVuSans-6e\" x=\"176.509766\"/>\n     </g>\n    </g>\n    <g id=\"line2d_35\">\n     <path d=\"M 337.06375 37.251391 \nL 347.06375 37.251391 \nL 357.06375 37.251391 \n\" style=\"fill: none; stroke: #ff7f0e; stroke-width: 1.5; stroke-linecap: square\"/>\n     <g>\n      <use xlink:href=\"#me363a538bf\" x=\"347.06375\" y=\"37.251391\" style=\"fill: #ff7f0e; stroke: #ff7f0e; stroke-linejoin: miter\"/>\n     </g>\n    </g>\n    <g id=\"text_35\">\n     <!-- Dev -->\n     <g transform=\"translate(365.06375 40.751391)scale(0.1 -0.1)\">\n      <use xlink:href=\"#DejaVuSans-44\"/>\n      <use xlink:href=\"#DejaVuSans-65\" x=\"77.001953\"/>\n      <use xlink:href=\"#DejaVuSans-76\" x=\"138.525391\"/>\n     </g>\n    </g>\n    <g id=\"PathCollection_2\">\n     <g>\n      <use xlink:href=\"#ma7d87f6abb\" x=\"347.06375\" y=\"52.804516\" style=\"fill: #008000; stroke: #008000; stroke-width: 1.5\"/>\n     </g>\n    </g>\n    <g id=\"text_36\">\n     <!-- test -->\n     <g transform=\"translate(365.06375 55.429516)scale(0.1 -0.1)\">\n      <defs>\n       <path id=\"DejaVuSans-74\" d=\"M 1172 4494 \nL 1172 3500 \nL 2356 3500 \nL 2356 3053 \nL 1172 3053 \nL 1172 1153 \nQ 1172 725 1289 603 \nQ 1406 481 1766 481 \nL 2356 481 \nL 2356 0 \nL 1766 0 \nQ 1100 0 847 248 \nQ 594 497 594 1153 \nL 594 3053 \nL 172 3053 \nL 172 3500 \nL 594 3500 \nL 594 4494 \nL 1172 4494 \nz\n\" transform=\"scale(0.015625)\"/>\n      </defs>\n      <use xlink:href=\"#DejaVuSans-74\"/>\n      <use xlink:href=\"#DejaVuSans-65\" x=\"39.208984\"/>\n      <use xlink:href=\"#DejaVuSans-73\" x=\"100.732422\"/>\n      <use xlink:href=\"#DejaVuSans-74\" x=\"152.832031\"/>\n     </g>\n    </g>\n   </g>\n  </g>\n </g>\n <defs>\n  <clipPath id=\"p3638930b66\">\n   <rect x=\"50.14375\" y=\"9.474828\" width=\"233.26\" height=\"232.732521\"/>\n  </clipPath>\n  <clipPath id=\"p2781420308\">\n   <rect x=\"328.06375\" y=\"9.474828\" width=\"233.26\" height=\"232.732521\"/>\n  </clipPath>\n </defs>\n</svg>\n"
     },
     "metadata": {},
     "output_type": "display_data"
    }
   ],
   "source": [
    "plt.figure(figsize=(8, 4))\n",
    "\n",
    "plt.subplot(121)\n",
    "plt.plot(trainLoss.detach(), 's-', label=\"Train\")\n",
    "plt.plot(devLoss.detach(), '^-', label=\"Dev\")\n",
    "plt.legend()\n",
    "plt.xlabel(\"Epoch\")\n",
    "plt.ylabel(\"Loss\")\n",
    "\n",
    "plt.subplot(122)\n",
    "plt.plot(trainAcc.detach(), 's-', label=\"Train\")\n",
    "plt.plot(devAcc.detach(), '^-', label=\"Dev\")\n",
    "plt.scatter(len(trainAcc.detach()) - 1, testAcc, marker='+', label=\"test\", color=\"green\", s=96)\n",
    "\n",
    "plt.legend()\n",
    "plt.xlabel(\"Epoch\")\n",
    "plt.ylabel(\"Accuracy [%]\")\n",
    "\n",
    "plt.tight_layout()\n",
    "plt.show()"
   ],
   "metadata": {
    "collapsed": false
   }
  },
  {
   "cell_type": "code",
   "execution_count": null,
   "outputs": [],
   "source": [],
   "metadata": {
    "collapsed": false
   }
  }
 ],
 "metadata": {
  "kernelspec": {
   "display_name": "Python 3",
   "language": "python",
   "name": "python3"
  },
  "language_info": {
   "codemirror_mode": {
    "name": "ipython",
    "version": 2
   },
   "file_extension": ".py",
   "mimetype": "text/x-python",
   "name": "python",
   "nbconvert_exporter": "python",
   "pygments_lexer": "ipython2",
   "version": "2.7.6"
  }
 },
 "nbformat": 4,
 "nbformat_minor": 0
}
