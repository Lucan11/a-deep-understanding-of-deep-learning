{
 "nbformat": 4,
 "nbformat_minor": 0,
 "metadata": {
  "colab": {
   "name": "DUDL_CNN_EMNIST.ipynb",
   "provenance": [
    {
     "file_id": "1eA6J6ztxuctVWX6V1s9jV-6kepO7VfC1",
     "timestamp": 1619797471899
    },
    {
     "file_id": "1FcEBC0NAESIlHQkv6_85R-XDUKGE8XbM",
     "timestamp": 1619549043909
    },
    {
     "file_id": "1qKgZ8kVcqNgwtBzHbWq5yJH_HqI6DxWW",
     "timestamp": 1617803880910
    },
    {
     "file_id": "15cpyHkJ435B4MqbyGjAH1poN4nCy_DE4",
     "timestamp": 1617737766196
    },
    {
     "file_id": "1OLuWuaFu0hcFgkQ2hh5BqbRuqUZD7XcQ",
     "timestamp": 1617734878578
    },
    {
     "file_id": "1XvzVGJPTJifVh8OpZVB7ykLxyUqYwQ1j",
     "timestamp": 1617196833019
    },
    {
     "file_id": "1bv1_y32e3KEExFKKlPfC3rpw1JxmBr8H",
     "timestamp": 1617124341706
    },
    {
     "file_id": "1GMq8u7KyHB2AE7Teyls9gK1T01OduQSn",
     "timestamp": 1616697516760
    },
    {
     "file_id": "1Ui3kyHim-e0XLgDs2mkBxVlYg7TKYtcg",
     "timestamp": 1616615469755
    },
    {
     "file_id": "1YpHocGI4rApOxIBb1ZghCU5L-hFnv4CK",
     "timestamp": 1616608248670
    }
   ],
   "collapsed_sections": [],
   "authorship_tag": "ABX9TyMjupr3y1/6Zyy8f5u+HOUB"
  },
  "kernelspec": {
   "name": "python3",
   "display_name": "Python 3"
  },
  "accelerator": "GPU"
 },
 "cells": [
  {
   "cell_type": "markdown",
   "metadata": {
    "id": "bhWV8oes-wKR"
   },
   "source": [
    "# COURSE: A deep understanding of deep learning\n",
    "## SECTION: Understand and design CNNs\n",
    "### LECTURE: The EMNIST dataset (letter recognition)\n",
    "#### TEACHER: Mike X Cohen, sincxpress.com\n",
    "##### COURSE URL: udemy.com/course/deeplearning_x/?couponCode=202210"
   ]
  },
  {
   "cell_type": "code",
   "metadata": {
    "id": "YeuAheYyhdZw"
   },
   "source": [
    "# import libraries\n",
    "import numpy as np\n",
    "\n",
    "import torch\n",
    "import torch.nn as nn\n",
    "import torch.nn.functional as F\n",
    "from torch.utils.data import DataLoader,TensorDataset,Dataset\n",
    "import copy\n",
    "from sklearn.model_selection import train_test_split\n",
    "\n",
    "\n",
    "# for importing data\n",
    "import torchvision\n",
    "import torchvision.transforms as T\n",
    "\n",
    "import matplotlib.pyplot as plt\n",
    "from IPython import display\n",
    "display.set_matplotlib_formats('svg')"
   ],
   "execution_count": 1,
   "outputs": [
    {
     "name": "stderr",
     "output_type": "stream",
     "text": [
      "C:\\Users\\lucan\\AppData\\Local\\Programs\\Python\\Python310\\lib\\site-packages\\scipy\\__init__.py:146: UserWarning: A NumPy version >=1.16.5 and <1.23.0 is required for this version of SciPy (detected version 1.23.4\n",
      "  warnings.warn(f\"A NumPy version >={np_minversion} and <{np_maxversion}\"\n",
      "C:\\Users\\lucan\\AppData\\Local\\Temp\\ipykernel_9368\\4119783235.py:18: DeprecationWarning: `set_matplotlib_formats` is deprecated since IPython 7.23, directly use `matplotlib_inline.backend_inline.set_matplotlib_formats()`\n",
      "  display.set_matplotlib_formats('svg')\n"
     ]
    }
   ]
  },
  {
   "cell_type": "code",
   "metadata": {
    "id": "IBSQO5HB6Kje"
   },
   "source": [
    "# use GPU if available\n",
    "device = torch.device('cuda:0' if torch.cuda.is_available() else 'cpu')\n",
    "print(device)"
   ],
   "execution_count": 2,
   "outputs": [
    {
     "name": "stdout",
     "output_type": "stream",
     "text": [
      "cuda:0\n"
     ]
    }
   ]
  },
  {
   "cell_type": "markdown",
   "metadata": {
    "id": "0HOkOefftqyg"
   },
   "source": [
    "# Import and inspect the data"
   ]
  },
  {
   "cell_type": "code",
   "metadata": {
    "id": "MU7rvmWuhjud"
   },
   "source": [
    "# download the dataset\n",
    "cdata = torchvision.datasets.EMNIST(root='emnist',split='letters',download=True)\n",
    "\n",
    "# more info: https://www.nist.gov/itl/products-and-services/emnist-dataset"
   ],
   "execution_count": 3,
   "outputs": []
  },
  {
   "cell_type": "code",
   "metadata": {
    "id": "aNXaNwHlrF8G"
   },
   "source": [
    "# inspect the data\n",
    "\n",
    "# the categories (but how many letters??)\n",
    "print(cdata.classes)\n",
    "print(str(len(cdata.classes)) + ' classes')\n",
    "\n",
    "print('\\nData size:')\n",
    "print(cdata.data.shape)\n",
    "\n",
    "# transform to 4D tensor for conv layers (and transform from int8 to float)\n",
    "images_original = cdata.data.view([124800,1,28,28]).float()\n",
    "print('\\nTensor data:')\n",
    "print(images_original.shape)\n",
    "\n",
    "# brief aside: class 'N/A' doesn't exist in the data.\n",
    "print( torch.sum(cdata.targets==0) )\n",
    "\n",
    "# However, it causes problems in one-hot encoding...\n",
    "torch.unique(cdata.targets)\n",
    "print(cdata.class_to_idx)\n",
    "# so we'll eliminate it and subtract 1 from the original\n",
    "\n",
    "# remove the first class category\n",
    "letterCategories = cdata.classes[1:]\n",
    "\n",
    "# relabel labels to start at 0\n",
    "labels_original = copy.deepcopy(cdata.targets)-1\n",
    "print(labels_original.shape)\n",
    "\n",
    "###\n",
    "print( torch.sum(labels_original==0) )\n",
    "print(torch.unique(labels_original))\n",
    "\n",
    "\n",
    "# Normalize data\n",
    "images_original /= torch.max(images_original)"
   ],
   "execution_count": 4,
   "outputs": [
    {
     "name": "stdout",
     "output_type": "stream",
     "text": [
      "['N/A', 'a', 'b', 'c', 'd', 'e', 'f', 'g', 'h', 'i', 'j', 'k', 'l', 'm', 'n', 'o', 'p', 'q', 'r', 's', 't', 'u', 'v', 'w', 'x', 'y', 'z']\n",
      "27 classes\n",
      "\n",
      "Data size:\n",
      "torch.Size([124800, 28, 28])\n",
      "\n",
      "Tensor data:\n",
      "torch.Size([124800, 1, 28, 28])\n",
      "tensor(0)\n",
      "{'N/A': 0, 'a': 1, 'b': 2, 'c': 3, 'd': 4, 'e': 5, 'f': 6, 'g': 7, 'h': 8, 'i': 9, 'j': 10, 'k': 11, 'l': 12, 'm': 13, 'n': 14, 'o': 15, 'p': 16, 'q': 17, 'r': 18, 's': 19, 't': 20, 'u': 21, 'v': 22, 'w': 23, 'x': 24, 'y': 25, 'z': 26}\n",
      "torch.Size([124800])\n",
      "tensor(4800)\n",
      "tensor([ 0,  1,  2,  3,  4,  5,  6,  7,  8,  9, 10, 11, 12, 13, 14, 15, 16, 17,\n",
      "        18, 19, 20, 21, 22, 23, 24, 25])\n"
     ]
    }
   ]
  },
  {
   "cell_type": "markdown",
   "metadata": {
    "id": "OhLQ2YSvpiGj"
   },
   "source": [
    "# Create train/test groups using DataLoader"
   ]
  },
  {
   "cell_type": "code",
   "execution_count": 5,
   "outputs": [],
   "source": [
    "# Add image permutations\n",
    "custom_transform = nn.Sequential(\n",
    "  T.RandomVerticalFlip(p=.5),\n",
    "  T.RandomRotation(180)\n",
    ")\n",
    "\n",
    "# Increase the dataset size\n",
    "images = torch.cat([images_original] * 1)\n",
    "labels = torch.cat([labels_original] * 1)\n",
    "images = custom_transform(images)"
   ],
   "metadata": {
    "collapsed": false
   }
  },
  {
   "cell_type": "code",
   "metadata": {
    "id": "Y_tZ1ymVp0Sf"
   },
   "source": [
    "# Step 2: use scikitlearn to split the data\n",
    "train_data,test_data, train_labels,test_labels = train_test_split(images, labels, test_size=.1)\n",
    "\n",
    "# Step 3: convert into PyTorch Datasets\n",
    "train_data = TensorDataset(train_data, train_labels)\n",
    "test_data  = TensorDataset(test_data, test_labels)\n",
    "\n",
    "# Step 4: translate into dataloader objects\n",
    "batchsize    = 16\n",
    "train_loader = DataLoader(train_data,batch_size=batchsize,shuffle=True,drop_last=True, num_workers=6)\n",
    "test_loader  = DataLoader(test_data,batch_size=test_data.tensors[0].shape[0])"
   ],
   "execution_count": 6,
   "outputs": []
  },
  {
   "cell_type": "code",
   "metadata": {
    "id": "Zhsr13r2rk8I"
   },
   "source": [
    "# check size (should be images X channels X width X height\n",
    "print( train_loader.dataset.tensors[0].shape )\n",
    "print( train_loader.dataset.tensors[1].shape )"
   ],
   "execution_count": 7,
   "outputs": [
    {
     "name": "stdout",
     "output_type": "stream",
     "text": [
      "torch.Size([112320, 1, 28, 28])\n",
      "torch.Size([112320])\n"
     ]
    }
   ]
  },
  {
   "cell_type": "markdown",
   "metadata": {
    "id": "OK8Opkhgp0bO"
   },
   "source": [
    "# Create the DL model"
   ]
  },
  {
   "cell_type": "code",
   "metadata": {
    "id": "JK3OO3tAtZkA"
   },
   "source": [
    "# create a class for the model\n",
    "def makeTheNet(printtoggle=False):\n",
    "\n",
    "  class emnistnet(nn.Module):\n",
    "    def get_conv_layer_output_size(self, input_size: (int, int), padding: (int, int), kernel_size: (int, int), stride: (int, int), pool_size: (int, int)) -> (int, int):\n",
    "      dim0 = int((((input_size[0] + (2 * padding[0]) - kernel_size[0]) / stride[0]) + 1) / pool_size[0])\n",
    "      dim1 = int((((input_size[1] + (2 * padding[1]) - kernel_size[1]) / stride[1]) + 1) / pool_size[1])\n",
    "      return dim0, dim1\n",
    "\n",
    "    def __init__(self,printtoggle):\n",
    "      super().__init__()\n",
    "      \n",
    "      # print toggle\n",
    "      self.print = printtoggle\n",
    "\n",
    "      ### -------------- feature map layers -------------- ###\n",
    "      # first convolution layer\n",
    "      self.conv1  = nn.Conv2d(1, 16, 3, padding=4)\n",
    "      self.bnorm1 = nn.BatchNorm2d(self.conv1.out_channels)\n",
    "      self.conv1_pool_size = (2, 2)\n",
    "      self.conv1_size = self.get_conv_layer_output_size((28, 28), self.conv1.padding, self.conv1.kernel_size, self.conv1.stride, self.conv1_pool_size)\n",
    "\n",
    "      # second convolution layer\n",
    "      self.conv2  = nn.Conv2d(self.conv1.out_channels, 64, 3, padding=2)\n",
    "      self.bnorm2 = nn.BatchNorm2d(self.conv2.out_channels)\n",
    "      self.conv2_pool_size = (2, 2)\n",
    "      self.conv2_size = self.get_conv_layer_output_size(self.conv1_size, self.conv2.padding, self.conv2.kernel_size, self.conv2.stride, self.conv2_pool_size)\n",
    "\n",
    "      # third convolution layer\n",
    "      self.conv3  = nn.Conv2d(self.conv2.out_channels, 256, 3, padding=1)\n",
    "      self.bnorm3 = nn.BatchNorm2d(self.conv3.out_channels)\n",
    "      self.conv3_pool_size = (2, 2)\n",
    "      self.conv3_size = self.get_conv_layer_output_size(self.conv2_size, self.conv3.padding, self.conv3.kernel_size, self.conv3.stride, self.conv3_pool_size)\n",
    "\n",
    "      # fourth convolution layer\n",
    "      self.conv4  = nn.Conv2d(self.conv3.out_channels, 1024, 3, padding=1)\n",
    "      self.bnorm4 = nn.BatchNorm2d(self.conv4.out_channels)\n",
    "      self.conv4_pool_size = (2, 2)\n",
    "      self.conv4_size = self.get_conv_layer_output_size(self.conv3_size, self.conv4.padding, self.conv4.kernel_size, self.conv4.stride, self.conv4_pool_size)\n",
    "\n",
    "      ### -------------- linear decision layers -------------- ###\n",
    "      self.fc1 = nn.Linear(self.conv3.out_channels * self.conv3_size[0] * self.conv3_size[1], 256)\n",
    "      self.fc2 = nn.Linear(self.fc1.out_features, 128)\n",
    "      self.fc3 = nn.Linear(self.fc2.out_features, 26)\n",
    "\n",
    "    def forward(self,x):\n",
    "      \n",
    "      if self.print: print(f'Input: {list(x.shape)}')\n",
    "      \n",
    "      # first block: convolution -> maxpool -> batchnorm -> relu\n",
    "      x = F.max_pool2d(self.conv1(x), self.conv1_pool_size)\n",
    "      x = F.relu(self.bnorm1(x))\n",
    "      x = F.dropout(x, p=0.25, training=self.training)\n",
    "      if self.print: print(f'First CPR block: {list(x.shape)}')\n",
    "\n",
    "      # second block: convolution -> maxpool -> batchnorm -> relu\n",
    "      x = F.max_pool2d(self.conv2(x), self.conv2_pool_size)\n",
    "      x = F.relu(self.bnorm2(x))\n",
    "      x = F.dropout(x, p=0.25, training=self.training)\n",
    "      if self.print: print(f'Second CPR block: {list(x.shape)}')\n",
    "\n",
    "      # third block: convolution -> maxpool -> batchnorm -> relu\n",
    "      x = F.max_pool2d(self.conv3(x), self.conv3_pool_size)\n",
    "      x = F.relu(self.bnorm3(x))\n",
    "      x = F.dropout(x, p=0.25, training=self.training)\n",
    "      if self.print: print(f'Third CPR block: {list(x.shape)}')\n",
    "\n",
    "      # reshape for linear layer\n",
    "      nUnits = x.shape.numel()/x.shape[0]\n",
    "      x = x.view(-1,int(nUnits))\n",
    "      if self.print: print(f'Vectorized: {list(x.shape)}')\n",
    "      \n",
    "      # linear layers\n",
    "      x = F.relu(self.fc1(x))\n",
    "      x = F.dropout(x, p=0.5, training=self.training)\n",
    "      x = F.relu(self.fc2(x))\n",
    "      x = F.dropout(x, p=0.5, training=self.training)\n",
    "      x = self.fc3(x)\n",
    "      if self.print: print(f'Final output: {list(x.shape)}')\n",
    "\n",
    "      return x\n",
    "\n",
    "  # create the model instance and copy to device (GPU)\n",
    "  net = emnistnet(printtoggle).to(device)\n",
    "  \n",
    "  # loss function\n",
    "  lossfun = nn.CrossEntropyLoss()\n",
    "\n",
    "  # optimizer\n",
    "  optimizer = torch.optim.Adam(net.parameters(), lr=.001, weight_decay=0.0001)\n",
    "\n",
    "  return net,lossfun,optimizer"
   ],
   "execution_count": 8,
   "outputs": []
  },
  {
   "cell_type": "code",
   "metadata": {
    "id": "y6icEJcXp0el"
   },
   "source": [
    "# test the model with one batch\n",
    "net,lossfun,optimizer = makeTheNet(True)\n",
    "\n",
    "X,y = next(iter(train_loader))\n",
    "yHat = net(X.to(device)).cpu()\n",
    "\n",
    "# check size of output\n",
    "print('\\nOutput size:')\n",
    "print(yHat.shape)\n",
    "\n",
    "# # now let's compute the loss\n",
    "loss = lossfun(yHat,torch.squeeze(y))\n",
    "print(' ')\n",
    "print('Loss:')\n",
    "print(loss)"
   ],
   "execution_count": 9,
   "outputs": [
    {
     "name": "stdout",
     "output_type": "stream",
     "text": [
      "Input: [16, 1, 28, 28]\n",
      "First CPR block: [16, 16, 17, 17]\n",
      "Second CPR block: [16, 64, 9, 9]\n",
      "Third CPR block: [16, 256, 4, 4]\n",
      "Vectorized: [16, 4096]\n",
      "Final output: [16, 26]\n",
      "\n",
      "Output size:\n",
      "torch.Size([16, 26])\n",
      " \n",
      "Loss:\n",
      "tensor(3.2706, grad_fn=<NllLossBackward0>)\n"
     ]
    }
   ]
  },
  {
   "cell_type": "markdown",
   "metadata": {
    "id": "dvfGQIRGp0ht"
   },
   "source": [
    "# Create a function that trains the model"
   ]
  },
  {
   "cell_type": "code",
   "metadata": {
    "id": "IblJo1NCp0kl"
   },
   "source": [
    "# a function that trains the model\n",
    "def function2trainTheModel():\n",
    "\n",
    "  # number of epochs\n",
    "  numepochs = 5\n",
    "\n",
    "  numbatches = len(list(train_loader))\n",
    "  \n",
    "  # create a new model\n",
    "  net,lossfun,optimizer = makeTheNet()\n",
    "\n",
    "  # initialize losses (calculate everything on device) to reduce IO overhead\n",
    "  trainLoss = torch.zeros(numepochs).to(device)\n",
    "  testLoss  = torch.zeros(numepochs).to(device)\n",
    "  trainErr  = torch.zeros(numepochs).to(device)\n",
    "  testErr   = torch.zeros(numepochs).to(device)\n",
    "\n",
    "  batchLoss = torch.zeros(numbatches).to(device)\n",
    "  batchErr  = torch.zeros(numbatches).to(device)\n",
    "\n",
    "  # loop over epochs\n",
    "  for epochi in range(numepochs):\n",
    "    print(f\"Starting epoch {epochi}...\")\n",
    "    # loop over training data batches\n",
    "    net.train()\n",
    "    batch_idx = 0\n",
    "    for X,y in train_loader:\n",
    "      X = X.to(device)\n",
    "      y = y.to(device)\n",
    "\n",
    "      # forward pass and loss\n",
    "      yHat = net(X)\n",
    "      loss = lossfun(yHat,y)\n",
    "\n",
    "      # backprop\n",
    "      optimizer.zero_grad()\n",
    "      loss.backward()\n",
    "      optimizer.step()\n",
    "\n",
    "      # loss and error from this batch\n",
    "      batchLoss[batch_idx] = loss\n",
    "      batchErr[batch_idx] = torch.mean((torch.argmax(yHat,axis=1) != y).float())\n",
    "      batch_idx += 1\n",
    "    # end of batch loop...\n",
    "\n",
    "    # and get average losses and error rates across the batches\n",
    "    trainLoss[epochi] = torch.mean(batchLoss)\n",
    "    trainErr[epochi]  = 100*torch.mean(batchErr)\n",
    "\n",
    "    ### test performance\n",
    "    net.eval()\n",
    "    X,y = next(iter(test_loader)) # extract X,y from test dataloader\n",
    "    X = X.to(device)\n",
    "    y = y.to(device)\n",
    "    with torch.no_grad(): # deactivates autograd\n",
    "      yHat = net(X)\n",
    "      loss = lossfun(yHat,y)\n",
    "      \n",
    "    # get loss and error rate from the test batch\n",
    "    testLoss[epochi] = loss\n",
    "    testErr[epochi]  = 100*torch.mean((torch.argmax(yHat,axis=1) != y).float())\n",
    "\n",
    "    print(f\"Training... Epoch [{epochi+1}/{numepochs}] done. Error: {testErr[epochi]:.02f}%\")\n",
    "\n",
    "  # end epochs\n",
    "\n",
    "  # Move all results to CPU\n",
    "  trainLoss = trainLoss.cpu().detach().numpy()\n",
    "  testLoss  = testLoss.cpu().detach().numpy()\n",
    "  trainErr  = trainErr.cpu().detach().numpy()\n",
    "  testErr   = testErr.cpu().detach().numpy()\n",
    "\n",
    "  # function output\n",
    "  return trainLoss,testLoss,trainErr,testErr,net"
   ],
   "execution_count": 12,
   "outputs": []
  },
  {
   "cell_type": "markdown",
   "metadata": {
    "id": "XpGm9xdQ27Ob"
   },
   "source": [
    "# Run the model and show the results!"
   ]
  },
  {
   "cell_type": "code",
   "metadata": {
    "id": "l9pCC1R2p0nu",
    "pycharm": {
     "is_executing": true
    }
   },
   "source": [
    "from copy import deepcopy\n",
    "best_train_loss = []\n",
    "best_test_loss = []\n",
    "best_train_err = []\n",
    "best_test_err = []\n",
    "bet_net = []\n",
    "\n",
    "num_repeats = 3\n",
    "for i in range(num_repeats):\n",
    "  trainLoss,testLoss,trainErr,testErr,net = function2trainTheModel()\n",
    "\n",
    "  print(f\"Training [{i+1}/{num_repeats}] finished. Error: [{testErr[-1]:.2f}%]\")\n",
    "\n",
    "  if len(best_test_err) == 0 or best_test_err[-1] > testErr[-1]:\n",
    "    best_train_loss = deepcopy(trainLoss)\n",
    "    best_test_loss = deepcopy(testLoss)\n",
    "    best_train_err = deepcopy(trainErr)\n",
    "    best_test_err = deepcopy(testErr)\n",
    "    bet_net = deepcopy(net)\n"
   ],
   "execution_count": null,
   "outputs": [
    {
     "name": "stdout",
     "output_type": "stream",
     "text": [
      "Starting epoch 0...\n",
      "Training... Epoch [1/5] done. Error: 10.91%\n",
      "Starting epoch 1...\n",
      "Training... Epoch [2/5] done. Error: 8.21%\n",
      "Starting epoch 2...\n",
      "Training... Epoch [3/5] done. Error: 7.41%\n",
      "Starting epoch 3...\n",
      "Training... Epoch [4/5] done. Error: 6.70%\n",
      "Starting epoch 4...\n"
     ]
    }
   ]
  },
  {
   "cell_type": "code",
   "metadata": {
    "id": "gHzKOZjnp0qn"
   },
   "source": [
    "fig,ax = plt.subplots(1,2,figsize=(16,5))\n",
    "\n",
    "ax[0].plot(best_train_loss,'s-',label='Train')\n",
    "ax[0].plot(best_test_loss,'o-',label='Test')\n",
    "ax[0].set_xlabel('Epochs')\n",
    "ax[0].set_ylabel('Loss (MSE)')\n",
    "ax[0].set_title('Model loss')\n",
    "\n",
    "ax[1].plot(best_train_err,'s-',label='Train')\n",
    "ax[1].plot(best_test_err,'o-',label='Test')\n",
    "ax[1].set_xlabel('Epochs')\n",
    "ax[1].set_ylabel('Error rates (%)')\n",
    "ax[1].set_title(f'Final model test error rate: {best_test_err[-1]:.2f}%')\n",
    "ax[1].legend()\n",
    "\n",
    "plt.show()"
   ],
   "execution_count": null,
   "outputs": []
  },
  {
   "cell_type": "code",
   "metadata": {
    "id": "9SnUUHPm7xQE"
   },
   "source": [
    "### visualize some images\n",
    "\n",
    "# extract X,y from test dataloader\n",
    "X,y = next(iter(test_loader))\n",
    "X = X.to(device) # push data to GPU\n",
    "y = y.to(device) # push data to GPU\n",
    "yHat = net(X)\n",
    "\n",
    "# pick some examples at random to show\n",
    "randex = np.random.choice(len(y),size=21,replace=False)\n",
    "\n",
    "# visualize some images\n",
    "fig,axs = plt.subplots(3,7,figsize=(15,6))\n",
    "\n",
    "for i,ax in enumerate(axs.flatten()):\n",
    "\n",
    "  # extract the image and its target letter\n",
    "  I = np.squeeze( X[randex[i],0,:,:] ).cpu() # .cpu() to transfer back from GPU!\n",
    "  trueLetter = letterCategories[ y[randex[i]] ]\n",
    "  predLetter = letterCategories[ torch.argmax(yHat[randex[i],:]) ]\n",
    "  \n",
    "  # color-code the accuracy (using ternary operator)\n",
    "  col = 'gray' if trueLetter==predLetter else 'hot'\n",
    "  \n",
    "  # visualize\n",
    "  ax.imshow(I.T,cmap=col)\n",
    "  ax.set_title('True %s, predicted %s' %(trueLetter,predLetter),fontsize=10)\n",
    "  ax.set_xticks([])\n",
    "  ax.set_yticks([])\n",
    "\n",
    "plt.show()"
   ],
   "execution_count": null,
   "outputs": []
  },
  {
   "cell_type": "markdown",
   "metadata": {
    "id": "rFn0Gn-Q5ElD"
   },
   "source": [
    "# Accuracy by letter"
   ]
  },
  {
   "cell_type": "code",
   "metadata": {
    "id": "ISR7F-tu1t-p"
   },
   "source": [
    "import sklearn.metrics as skm\n",
    "\n",
    "# compute the confusion matrix\n",
    "C = skm.confusion_matrix(y.cpu(),torch.argmax(yHat.cpu(),axis=1),normalize='true')\n",
    "\n",
    "# visualize it\n",
    "fig = plt.figure(figsize=(10,10))\n",
    "plt.imshow(C,'Blues',vmax=.05)\n",
    "\n",
    "# make the plot look nicer\n",
    "plt.xticks(range(26),labels=letterCategories)\n",
    "plt.yticks(range(26),labels=letterCategories)\n",
    "plt.title('TEST confusion matrix')\n",
    "plt.xlabel('True number')\n",
    "plt.xlabel('Predicted number')\n",
    "plt.ylabel('True number')\n",
    "\n",
    "plt.show()"
   ],
   "execution_count": null,
   "outputs": []
  },
  {
   "cell_type": "code",
   "execution_count": null,
   "outputs": [],
   "source": [],
   "metadata": {
    "collapsed": false
   }
  }
 ]
}
