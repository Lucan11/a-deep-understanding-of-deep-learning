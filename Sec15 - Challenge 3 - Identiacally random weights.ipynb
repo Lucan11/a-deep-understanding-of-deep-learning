{
 "nbformat": 4,
 "nbformat_minor": 0,
 "metadata": {
  "colab": {
   "name": "DUDL_measurePerformance_APRFexample1.ipynb",
   "provenance": [
    {
     "file_id": "1IuDazKJ8VD0FyCGt_hC-h3ZSPFypxDM0",
     "timestamp": 1618829295498
    },
    {
     "file_id": "1ZD_ADbh6qrlHE16V7Yc8VF9Vrn2c6bMQ",
     "timestamp": 1617088339885
    }
   ],
   "collapsed_sections": [],
   "authorship_tag": "ABX9TyOum4BG03zvbTGI25oG96M5"
  },
  "kernelspec": {
   "name": "python3",
   "display_name": "Python 3"
  },
  "language_info": {
   "name": "python"
  }
 },
 "cells": [
  {
   "cell_type": "markdown",
   "metadata": {
    "id": "bhWV8oes-wKR"
   },
   "source": [
    "# COURSE: A deep understanding of deep learning\n",
    "## SECTION: Measuring model performance\n",
    "### LECTURE: APRF example 1: wine quality\n",
    "#### TEACHER: Mike X Cohen, sincxpress.com\n",
    "##### COURSE URL: udemy.com/course/deeplearning_x/?couponCode=202210"
   ]
  },
  {
   "cell_type": "code",
   "metadata": {
    "id": "7U3TmybM4yMw"
   },
   "source": [
    "### import libraries\n",
    "import copy\n",
    "\n",
    "# for DL modeling\n",
    "import torch\n",
    "import torch.nn as nn\n",
    "import torch.nn.functional as F\n",
    "from torch.utils.data import DataLoader\n",
    "from sklearn.model_selection import train_test_split\n",
    "\n",
    "# for number-crunching\n",
    "import numpy as np\n",
    "import scipy.stats as stats\n",
    "\n",
    "# for dataset management\n",
    "import pandas as pd\n",
    "\n",
    "# for data visualization\n",
    "import matplotlib.pyplot as plt\n",
    "from IPython import display\n",
    "display.set_matplotlib_formats('svg')"
   ],
   "execution_count": 1,
   "outputs": [
    {
     "name": "stderr",
     "output_type": "stream",
     "text": [
      "C:\\Users\\lucan\\AppData\\Local\\Programs\\Python\\Python310\\lib\\site-packages\\scipy\\__init__.py:146: UserWarning: A NumPy version >=1.16.5 and <1.23.0 is required for this version of SciPy (detected version 1.23.4\n",
      "  warnings.warn(f\"A NumPy version >={np_minversion} and <{np_maxversion}\"\n",
      "C:\\Users\\lucan\\AppData\\Local\\Temp\\ipykernel_19128\\213078501.py:21: DeprecationWarning: `set_matplotlib_formats` is deprecated since IPython 7.23, directly use `matplotlib_inline.backend_inline.set_matplotlib_formats()`\n",
      "  display.set_matplotlib_formats('svg')\n"
     ]
    }
   ]
  },
  {
   "cell_type": "markdown",
   "metadata": {
    "id": "2anVFzBXGdwH"
   },
   "source": [
    "# Create classes"
   ]
  },
  {
   "cell_type": "code",
   "execution_count": 53,
   "outputs": [],
   "source": [
    "net_noseed = nn.Sequential(\n",
    "  nn.Linear(2,8),   # input layer\n",
    "  nn.Linear(8,1),   # hidden layer\n",
    "  nn.Linear(1,1),   # output layer\n",
    ")\n",
    "\n",
    "net_rs1a = copy.deepcopy(net_noseed)\n",
    "net_rs2 = copy.deepcopy(net_noseed)\n",
    "net_rs1b = copy.deepcopy(net_noseed)"
   ],
   "metadata": {
    "collapsed": false
   }
  },
  {
   "cell_type": "markdown",
   "source": [
    "# Set seeds and randomize weights"
   ],
   "metadata": {
    "collapsed": false
   }
  },
  {
   "cell_type": "code",
   "execution_count": 54,
   "outputs": [],
   "source": [
    "weights = [np.array([])] * 4\n",
    "\n",
    "for p in net_noseed.named_parameters():\n",
    "  if 'weight' in p[0]:\n",
    "    weights[0] = np.concatenate( (weights[0], p[1].data.numpy().flatten()), axis=0 )\n",
    "\n",
    "torch.manual_seed(1998)\n",
    "for p in net_rs1a.named_parameters():\n",
    "  if 'weight' in p[0]:\n",
    "    nn.init.xavier_normal_(p[1].data)\n",
    "    weights[1] = np.concatenate( (weights[1], p[1].data.numpy().flatten()), axis=0 )\n",
    "\n",
    "torch.manual_seed(2022)\n",
    "for p in net_rs2.named_parameters():\n",
    "  if 'weight' in p[0]:\n",
    "    nn.init.xavier_normal_(p[1].data)\n",
    "    weights[2] = np.concatenate( (weights[2], p[1].data.numpy().flatten()), axis=0 )\n",
    "\n",
    "torch.manual_seed(1998)\n",
    "for p in net_rs1b.named_parameters():\n",
    "  if 'weight' in p[0]:\n",
    "    nn.init.xavier_normal_(p[1].data)\n",
    "    weights[3] = np.concatenate( (weights[3], p[1].data.numpy().flatten()), axis=0 )"
   ],
   "metadata": {
    "collapsed": false
   }
  },
  {
   "cell_type": "code",
   "execution_count": 55,
   "outputs": [
    {
     "data": {
      "text/plain": "<Figure size 1500x1000 with 1 Axes>",
      "image/svg+xml": "<?xml version=\"1.0\" encoding=\"utf-8\" standalone=\"no\"?>\n<!DOCTYPE svg PUBLIC \"-//W3C//DTD SVG 1.1//EN\"\n  \"http://www.w3.org/Graphics/SVG/1.1/DTD/svg11.dtd\">\n<svg xmlns:xlink=\"http://www.w3.org/1999/xlink\" width=\"882.704403pt\" height=\"585.478125pt\" viewBox=\"0 0 882.704403 585.478125\" xmlns=\"http://www.w3.org/2000/svg\" version=\"1.1\">\n <metadata>\n  <rdf:RDF xmlns:dc=\"http://purl.org/dc/elements/1.1/\" xmlns:cc=\"http://creativecommons.org/ns#\" xmlns:rdf=\"http://www.w3.org/1999/02/22-rdf-syntax-ns#\">\n   <cc:Work>\n    <dc:type rdf:resource=\"http://purl.org/dc/dcmitype/StillImage\"/>\n    <dc:date>2022-11-17T14:10:47.985264</dc:date>\n    <dc:format>image/svg+xml</dc:format>\n    <dc:creator>\n     <cc:Agent>\n      <dc:title>Matplotlib v3.5.0, https://matplotlib.org/</dc:title>\n     </cc:Agent>\n    </dc:creator>\n   </cc:Work>\n  </rdf:RDF>\n </metadata>\n <defs>\n  <style type=\"text/css\">*{stroke-linejoin: round; stroke-linecap: butt}</style>\n </defs>\n <g id=\"figure_1\">\n  <g id=\"patch_1\">\n   <path d=\"M 0 585.478125 \nL 882.704403 585.478125 \nL 882.704403 0 \nL 0 0 \nz\n\" style=\"fill: #ffffff\"/>\n  </g>\n  <g id=\"axes_1\">\n   <g id=\"patch_2\">\n    <path d=\"M 38.482813 561.6 \nL 875.482813 561.6 \nL 875.482813 7.2 \nL 38.482813 7.2 \nz\n\" style=\"fill: #ffffff\"/>\n   </g>\n   <g id=\"PathCollection_1\">\n    <defs>\n     <path id=\"me9e8f180d4\" d=\"M -5.656854 5.656854 \nL 5.656854 5.656854 \nL 5.656854 -5.656854 \nL -5.656854 -5.656854 \nz\n\" style=\"stroke: #1f77b4\"/>\n    </defs>\n    <g clip-path=\"url(#p3507a704ce)\">\n     <use xlink:href=\"#me9e8f180d4\" x=\"76.528267\" y=\"314.99405\" style=\"fill: #1f77b4; stroke: #1f77b4\"/>\n     <use xlink:href=\"#me9e8f180d4\" x=\"108.232813\" y=\"218.21038\" style=\"fill: #1f77b4; stroke: #1f77b4\"/>\n     <use xlink:href=\"#me9e8f180d4\" x=\"139.937358\" y=\"403.042935\" style=\"fill: #1f77b4; stroke: #1f77b4\"/>\n     <use xlink:href=\"#me9e8f180d4\" x=\"171.641903\" y=\"146.607929\" style=\"fill: #1f77b4; stroke: #1f77b4\"/>\n     <use xlink:href=\"#me9e8f180d4\" x=\"203.346449\" y=\"276.234629\" style=\"fill: #1f77b4; stroke: #1f77b4\"/>\n     <use xlink:href=\"#me9e8f180d4\" x=\"235.050994\" y=\"190.052186\" style=\"fill: #1f77b4; stroke: #1f77b4\"/>\n     <use xlink:href=\"#me9e8f180d4\" x=\"266.75554\" y=\"257.637092\" style=\"fill: #1f77b4; stroke: #1f77b4\"/>\n     <use xlink:href=\"#me9e8f180d4\" x=\"298.460085\" y=\"178.788244\" style=\"fill: #1f77b4; stroke: #1f77b4\"/>\n     <use xlink:href=\"#me9e8f180d4\" x=\"330.164631\" y=\"184.856002\" style=\"fill: #1f77b4; stroke: #1f77b4\"/>\n     <use xlink:href=\"#me9e8f180d4\" x=\"361.869176\" y=\"174.927804\" style=\"fill: #1f77b4; stroke: #1f77b4\"/>\n     <use xlink:href=\"#me9e8f180d4\" x=\"393.573722\" y=\"148.453903\" style=\"fill: #1f77b4; stroke: #1f77b4\"/>\n     <use xlink:href=\"#me9e8f180d4\" x=\"425.278267\" y=\"265.711763\" style=\"fill: #1f77b4; stroke: #1f77b4\"/>\n     <use xlink:href=\"#me9e8f180d4\" x=\"456.982813\" y=\"322.764294\" style=\"fill: #1f77b4; stroke: #1f77b4\"/>\n     <use xlink:href=\"#me9e8f180d4\" x=\"488.687358\" y=\"286.996635\" style=\"fill: #1f77b4; stroke: #1f77b4\"/>\n     <use xlink:href=\"#me9e8f180d4\" x=\"520.391903\" y=\"143.688815\" style=\"fill: #1f77b4; stroke: #1f77b4\"/>\n     <use xlink:href=\"#me9e8f180d4\" x=\"552.096449\" y=\"349.511585\" style=\"fill: #1f77b4; stroke: #1f77b4\"/>\n     <use xlink:href=\"#me9e8f180d4\" x=\"583.800994\" y=\"181.193224\" style=\"fill: #1f77b4; stroke: #1f77b4\"/>\n     <use xlink:href=\"#me9e8f180d4\" x=\"615.50554\" y=\"229.310438\" style=\"fill: #1f77b4; stroke: #1f77b4\"/>\n     <use xlink:href=\"#me9e8f180d4\" x=\"647.210085\" y=\"248.593068\" style=\"fill: #1f77b4; stroke: #1f77b4\"/>\n     <use xlink:href=\"#me9e8f180d4\" x=\"678.914631\" y=\"180.14921\" style=\"fill: #1f77b4; stroke: #1f77b4\"/>\n     <use xlink:href=\"#me9e8f180d4\" x=\"710.619176\" y=\"211.339851\" style=\"fill: #1f77b4; stroke: #1f77b4\"/>\n     <use xlink:href=\"#me9e8f180d4\" x=\"742.323722\" y=\"285.433205\" style=\"fill: #1f77b4; stroke: #1f77b4\"/>\n     <use xlink:href=\"#me9e8f180d4\" x=\"774.028267\" y=\"292.25442\" style=\"fill: #1f77b4; stroke: #1f77b4\"/>\n     <use xlink:href=\"#me9e8f180d4\" x=\"805.732813\" y=\"318.567004\" style=\"fill: #1f77b4; stroke: #1f77b4\"/>\n     <use xlink:href=\"#me9e8f180d4\" x=\"837.437358\" y=\"159.629676\" style=\"fill: #1f77b4; stroke: #1f77b4\"/>\n    </g>\n   </g>\n   <g id=\"PathCollection_2\">\n    <defs>\n     <path id=\"mb8cb6d688f\" d=\"M 0 5.656854 \nC 1.500215 5.656854 2.939188 5.060812 4 4 \nC 5.060812 2.939188 5.656854 1.500215 5.656854 0 \nC 5.656854 -1.500215 5.060812 -2.939188 4 -4 \nC 2.939188 -5.060812 1.500215 -5.656854 0 -5.656854 \nC -1.500215 -5.656854 -2.939188 -5.060812 -4 -4 \nC -5.060812 -2.939188 -5.656854 -1.500215 -5.656854 0 \nC -5.656854 1.500215 -5.060812 2.939188 -4 4 \nC -2.939188 5.060812 -1.500215 5.656854 0 5.656854 \nz\n\" style=\"stroke: #ff7f0e\"/>\n    </defs>\n    <g clip-path=\"url(#p3507a704ce)\">\n     <use xlink:href=\"#mb8cb6d688f\" x=\"76.528267\" y=\"254.089165\" style=\"fill: #ff7f0e; stroke: #ff7f0e\"/>\n     <use xlink:href=\"#mb8cb6d688f\" x=\"108.232813\" y=\"327.184846\" style=\"fill: #ff7f0e; stroke: #ff7f0e\"/>\n     <use xlink:href=\"#mb8cb6d688f\" x=\"139.937358\" y=\"32.4\" style=\"fill: #ff7f0e; stroke: #ff7f0e\"/>\n     <use xlink:href=\"#mb8cb6d688f\" x=\"171.641903\" y=\"334.894071\" style=\"fill: #ff7f0e; stroke: #ff7f0e\"/>\n     <use xlink:href=\"#mb8cb6d688f\" x=\"203.346449\" y=\"367.211669\" style=\"fill: #ff7f0e; stroke: #ff7f0e\"/>\n     <use xlink:href=\"#mb8cb6d688f\" x=\"235.050994\" y=\"458.818318\" style=\"fill: #ff7f0e; stroke: #ff7f0e\"/>\n     <use xlink:href=\"#mb8cb6d688f\" x=\"266.75554\" y=\"334.116125\" style=\"fill: #ff7f0e; stroke: #ff7f0e\"/>\n     <use xlink:href=\"#mb8cb6d688f\" x=\"298.460085\" y=\"251.06415\" style=\"fill: #ff7f0e; stroke: #ff7f0e\"/>\n     <use xlink:href=\"#mb8cb6d688f\" x=\"330.164631\" y=\"319.136444\" style=\"fill: #ff7f0e; stroke: #ff7f0e\"/>\n     <use xlink:href=\"#mb8cb6d688f\" x=\"361.869176\" y=\"274.672891\" style=\"fill: #ff7f0e; stroke: #ff7f0e\"/>\n     <use xlink:href=\"#mb8cb6d688f\" x=\"393.573722\" y=\"316.388033\" style=\"fill: #ff7f0e; stroke: #ff7f0e\"/>\n     <use xlink:href=\"#mb8cb6d688f\" x=\"425.278267\" y=\"332.072865\" style=\"fill: #ff7f0e; stroke: #ff7f0e\"/>\n     <use xlink:href=\"#mb8cb6d688f\" x=\"456.982813\" y=\"311.580719\" style=\"fill: #ff7f0e; stroke: #ff7f0e\"/>\n     <use xlink:href=\"#mb8cb6d688f\" x=\"488.687358\" y=\"180.324973\" style=\"fill: #ff7f0e; stroke: #ff7f0e\"/>\n     <use xlink:href=\"#mb8cb6d688f\" x=\"520.391903\" y=\"341.521703\" style=\"fill: #ff7f0e; stroke: #ff7f0e\"/>\n     <use xlink:href=\"#mb8cb6d688f\" x=\"552.096449\" y=\"316.877438\" style=\"fill: #ff7f0e; stroke: #ff7f0e\"/>\n     <use xlink:href=\"#mb8cb6d688f\" x=\"583.800994\" y=\"196.163863\" style=\"fill: #ff7f0e; stroke: #ff7f0e\"/>\n     <use xlink:href=\"#mb8cb6d688f\" x=\"615.50554\" y=\"156.617555\" style=\"fill: #ff7f0e; stroke: #ff7f0e\"/>\n     <use xlink:href=\"#mb8cb6d688f\" x=\"647.210085\" y=\"146.495963\" style=\"fill: #ff7f0e; stroke: #ff7f0e\"/>\n     <use xlink:href=\"#mb8cb6d688f\" x=\"678.914631\" y=\"299.297016\" style=\"fill: #ff7f0e; stroke: #ff7f0e\"/>\n     <use xlink:href=\"#mb8cb6d688f\" x=\"710.619176\" y=\"324.228682\" style=\"fill: #ff7f0e; stroke: #ff7f0e\"/>\n     <use xlink:href=\"#mb8cb6d688f\" x=\"742.323722\" y=\"127.930223\" style=\"fill: #ff7f0e; stroke: #ff7f0e\"/>\n     <use xlink:href=\"#mb8cb6d688f\" x=\"774.028267\" y=\"189.004958\" style=\"fill: #ff7f0e; stroke: #ff7f0e\"/>\n     <use xlink:href=\"#mb8cb6d688f\" x=\"805.732813\" y=\"437.956325\" style=\"fill: #ff7f0e; stroke: #ff7f0e\"/>\n     <use xlink:href=\"#mb8cb6d688f\" x=\"837.437358\" y=\"536.4\" style=\"fill: #ff7f0e; stroke: #ff7f0e\"/>\n    </g>\n   </g>\n   <g id=\"PathCollection_3\">\n    <defs>\n     <path id=\"m368526d767\" d=\"M -5.656854 5.656854 \nL 5.656854 -5.656854 \nM -5.656854 -5.656854 \nL 5.656854 5.656854 \n\" style=\"stroke: #2ca02c; stroke-width: 1.5\"/>\n    </defs>\n    <g clip-path=\"url(#p3507a704ce)\">\n     <use xlink:href=\"#m368526d767\" x=\"76.528267\" y=\"345.767053\" style=\"fill: #2ca02c; stroke: #2ca02c; stroke-width: 1.5\"/>\n     <use xlink:href=\"#m368526d767\" x=\"108.232813\" y=\"397.225627\" style=\"fill: #2ca02c; stroke: #2ca02c; stroke-width: 1.5\"/>\n     <use xlink:href=\"#m368526d767\" x=\"139.937358\" y=\"330.75755\" style=\"fill: #2ca02c; stroke: #2ca02c; stroke-width: 1.5\"/>\n     <use xlink:href=\"#m368526d767\" x=\"171.641903\" y=\"240.277366\" style=\"fill: #2ca02c; stroke: #2ca02c; stroke-width: 1.5\"/>\n     <use xlink:href=\"#m368526d767\" x=\"203.346449\" y=\"245.050159\" style=\"fill: #2ca02c; stroke: #2ca02c; stroke-width: 1.5\"/>\n     <use xlink:href=\"#m368526d767\" x=\"235.050994\" y=\"260.273378\" style=\"fill: #2ca02c; stroke: #2ca02c; stroke-width: 1.5\"/>\n     <use xlink:href=\"#m368526d767\" x=\"266.75554\" y=\"254.34476\" style=\"fill: #2ca02c; stroke: #2ca02c; stroke-width: 1.5\"/>\n     <use xlink:href=\"#m368526d767\" x=\"298.460085\" y=\"407.897573\" style=\"fill: #2ca02c; stroke: #2ca02c; stroke-width: 1.5\"/>\n     <use xlink:href=\"#m368526d767\" x=\"330.164631\" y=\"230.530355\" style=\"fill: #2ca02c; stroke: #2ca02c; stroke-width: 1.5\"/>\n     <use xlink:href=\"#m368526d767\" x=\"361.869176\" y=\"412.490131\" style=\"fill: #2ca02c; stroke: #2ca02c; stroke-width: 1.5\"/>\n     <use xlink:href=\"#m368526d767\" x=\"393.573722\" y=\"393.108027\" style=\"fill: #2ca02c; stroke: #2ca02c; stroke-width: 1.5\"/>\n     <use xlink:href=\"#m368526d767\" x=\"425.278267\" y=\"158.698836\" style=\"fill: #2ca02c; stroke: #2ca02c; stroke-width: 1.5\"/>\n     <use xlink:href=\"#m368526d767\" x=\"456.982813\" y=\"272.928269\" style=\"fill: #2ca02c; stroke: #2ca02c; stroke-width: 1.5\"/>\n     <use xlink:href=\"#m368526d767\" x=\"488.687358\" y=\"342.020227\" style=\"fill: #2ca02c; stroke: #2ca02c; stroke-width: 1.5\"/>\n     <use xlink:href=\"#m368526d767\" x=\"520.391903\" y=\"422.175764\" style=\"fill: #2ca02c; stroke: #2ca02c; stroke-width: 1.5\"/>\n     <use xlink:href=\"#m368526d767\" x=\"552.096449\" y=\"311.931084\" style=\"fill: #2ca02c; stroke: #2ca02c; stroke-width: 1.5\"/>\n     <use xlink:href=\"#m368526d767\" x=\"583.800994\" y=\"43.553024\" style=\"fill: #2ca02c; stroke: #2ca02c; stroke-width: 1.5\"/>\n     <use xlink:href=\"#m368526d767\" x=\"615.50554\" y=\"277.606197\" style=\"fill: #2ca02c; stroke: #2ca02c; stroke-width: 1.5\"/>\n     <use xlink:href=\"#m368526d767\" x=\"647.210085\" y=\"404.723446\" style=\"fill: #2ca02c; stroke: #2ca02c; stroke-width: 1.5\"/>\n     <use xlink:href=\"#m368526d767\" x=\"678.914631\" y=\"381.276076\" style=\"fill: #2ca02c; stroke: #2ca02c; stroke-width: 1.5\"/>\n     <use xlink:href=\"#m368526d767\" x=\"710.619176\" y=\"240.691319\" style=\"fill: #2ca02c; stroke: #2ca02c; stroke-width: 1.5\"/>\n     <use xlink:href=\"#m368526d767\" x=\"742.323722\" y=\"231.199078\" style=\"fill: #2ca02c; stroke: #2ca02c; stroke-width: 1.5\"/>\n     <use xlink:href=\"#m368526d767\" x=\"774.028267\" y=\"248.55305\" style=\"fill: #2ca02c; stroke: #2ca02c; stroke-width: 1.5\"/>\n     <use xlink:href=\"#m368526d767\" x=\"805.732813\" y=\"358.609349\" style=\"fill: #2ca02c; stroke: #2ca02c; stroke-width: 1.5\"/>\n     <use xlink:href=\"#m368526d767\" x=\"837.437358\" y=\"366.503949\" style=\"fill: #2ca02c; stroke: #2ca02c; stroke-width: 1.5\"/>\n    </g>\n   </g>\n   <g id=\"PathCollection_4\">\n    <defs>\n     <path id=\"mc469c0a9ca\" d=\"M 0 -5.656854 \nL -5.656854 5.656854 \nL 5.656854 5.656854 \nz\n\" style=\"stroke: #d62728\"/>\n    </defs>\n    <g clip-path=\"url(#p3507a704ce)\">\n     <use xlink:href=\"#mc469c0a9ca\" x=\"76.528267\" y=\"254.089165\" style=\"fill: #d62728; stroke: #d62728\"/>\n     <use xlink:href=\"#mc469c0a9ca\" x=\"108.232813\" y=\"327.184846\" style=\"fill: #d62728; stroke: #d62728\"/>\n     <use xlink:href=\"#mc469c0a9ca\" x=\"139.937358\" y=\"32.4\" style=\"fill: #d62728; stroke: #d62728\"/>\n     <use xlink:href=\"#mc469c0a9ca\" x=\"171.641903\" y=\"334.894071\" style=\"fill: #d62728; stroke: #d62728\"/>\n     <use xlink:href=\"#mc469c0a9ca\" x=\"203.346449\" y=\"367.211669\" style=\"fill: #d62728; stroke: #d62728\"/>\n     <use xlink:href=\"#mc469c0a9ca\" x=\"235.050994\" y=\"458.818318\" style=\"fill: #d62728; stroke: #d62728\"/>\n     <use xlink:href=\"#mc469c0a9ca\" x=\"266.75554\" y=\"334.116125\" style=\"fill: #d62728; stroke: #d62728\"/>\n     <use xlink:href=\"#mc469c0a9ca\" x=\"298.460085\" y=\"251.06415\" style=\"fill: #d62728; stroke: #d62728\"/>\n     <use xlink:href=\"#mc469c0a9ca\" x=\"330.164631\" y=\"319.136444\" style=\"fill: #d62728; stroke: #d62728\"/>\n     <use xlink:href=\"#mc469c0a9ca\" x=\"361.869176\" y=\"274.672891\" style=\"fill: #d62728; stroke: #d62728\"/>\n     <use xlink:href=\"#mc469c0a9ca\" x=\"393.573722\" y=\"316.388033\" style=\"fill: #d62728; stroke: #d62728\"/>\n     <use xlink:href=\"#mc469c0a9ca\" x=\"425.278267\" y=\"332.072865\" style=\"fill: #d62728; stroke: #d62728\"/>\n     <use xlink:href=\"#mc469c0a9ca\" x=\"456.982813\" y=\"311.580719\" style=\"fill: #d62728; stroke: #d62728\"/>\n     <use xlink:href=\"#mc469c0a9ca\" x=\"488.687358\" y=\"180.324973\" style=\"fill: #d62728; stroke: #d62728\"/>\n     <use xlink:href=\"#mc469c0a9ca\" x=\"520.391903\" y=\"341.521703\" style=\"fill: #d62728; stroke: #d62728\"/>\n     <use xlink:href=\"#mc469c0a9ca\" x=\"552.096449\" y=\"316.877438\" style=\"fill: #d62728; stroke: #d62728\"/>\n     <use xlink:href=\"#mc469c0a9ca\" x=\"583.800994\" y=\"196.163863\" style=\"fill: #d62728; stroke: #d62728\"/>\n     <use xlink:href=\"#mc469c0a9ca\" x=\"615.50554\" y=\"156.617555\" style=\"fill: #d62728; stroke: #d62728\"/>\n     <use xlink:href=\"#mc469c0a9ca\" x=\"647.210085\" y=\"146.495963\" style=\"fill: #d62728; stroke: #d62728\"/>\n     <use xlink:href=\"#mc469c0a9ca\" x=\"678.914631\" y=\"299.297016\" style=\"fill: #d62728; stroke: #d62728\"/>\n     <use xlink:href=\"#mc469c0a9ca\" x=\"710.619176\" y=\"324.228682\" style=\"fill: #d62728; stroke: #d62728\"/>\n     <use xlink:href=\"#mc469c0a9ca\" x=\"742.323722\" y=\"127.930223\" style=\"fill: #d62728; stroke: #d62728\"/>\n     <use xlink:href=\"#mc469c0a9ca\" x=\"774.028267\" y=\"189.004958\" style=\"fill: #d62728; stroke: #d62728\"/>\n     <use xlink:href=\"#mc469c0a9ca\" x=\"805.732813\" y=\"437.956325\" style=\"fill: #d62728; stroke: #d62728\"/>\n     <use xlink:href=\"#mc469c0a9ca\" x=\"837.437358\" y=\"536.4\" style=\"fill: #d62728; stroke: #d62728\"/>\n    </g>\n   </g>\n   <g id=\"matplotlib.axis_1\">\n    <g id=\"xtick_1\">\n     <g id=\"line2d_1\">\n      <defs>\n       <path id=\"m31f29487c9\" d=\"M 0 0 \nL 0 3.5 \n\" style=\"stroke: #000000; stroke-width: 0.8\"/>\n      </defs>\n      <g>\n       <use xlink:href=\"#m31f29487c9\" x=\"76.528267\" y=\"561.6\" style=\"stroke: #000000; stroke-width: 0.8\"/>\n      </g>\n     </g>\n     <g id=\"text_1\">\n      <!-- 0 -->\n      <g transform=\"translate(73.347017 576.198438)scale(0.1 -0.1)\">\n       <defs>\n        <path id=\"DejaVuSans-30\" d=\"M 2034 4250 \nQ 1547 4250 1301 3770 \nQ 1056 3291 1056 2328 \nQ 1056 1369 1301 889 \nQ 1547 409 2034 409 \nQ 2525 409 2770 889 \nQ 3016 1369 3016 2328 \nQ 3016 3291 2770 3770 \nQ 2525 4250 2034 4250 \nz\nM 2034 4750 \nQ 2819 4750 3233 4129 \nQ 3647 3509 3647 2328 \nQ 3647 1150 3233 529 \nQ 2819 -91 2034 -91 \nQ 1250 -91 836 529 \nQ 422 1150 422 2328 \nQ 422 3509 836 4129 \nQ 1250 4750 2034 4750 \nz\n\" transform=\"scale(0.015625)\"/>\n       </defs>\n       <use xlink:href=\"#DejaVuSans-30\"/>\n      </g>\n     </g>\n    </g>\n    <g id=\"xtick_2\">\n     <g id=\"line2d_2\">\n      <g>\n       <use xlink:href=\"#m31f29487c9\" x=\"235.050994\" y=\"561.6\" style=\"stroke: #000000; stroke-width: 0.8\"/>\n      </g>\n     </g>\n     <g id=\"text_2\">\n      <!-- 5 -->\n      <g transform=\"translate(231.869744 576.198438)scale(0.1 -0.1)\">\n       <defs>\n        <path id=\"DejaVuSans-35\" d=\"M 691 4666 \nL 3169 4666 \nL 3169 4134 \nL 1269 4134 \nL 1269 2991 \nQ 1406 3038 1543 3061 \nQ 1681 3084 1819 3084 \nQ 2600 3084 3056 2656 \nQ 3513 2228 3513 1497 \nQ 3513 744 3044 326 \nQ 2575 -91 1722 -91 \nQ 1428 -91 1123 -41 \nQ 819 9 494 109 \nL 494 744 \nQ 775 591 1075 516 \nQ 1375 441 1709 441 \nQ 2250 441 2565 725 \nQ 2881 1009 2881 1497 \nQ 2881 1984 2565 2268 \nQ 2250 2553 1709 2553 \nQ 1456 2553 1204 2497 \nQ 953 2441 691 2322 \nL 691 4666 \nz\n\" transform=\"scale(0.015625)\"/>\n       </defs>\n       <use xlink:href=\"#DejaVuSans-35\"/>\n      </g>\n     </g>\n    </g>\n    <g id=\"xtick_3\">\n     <g id=\"line2d_3\">\n      <g>\n       <use xlink:href=\"#m31f29487c9\" x=\"393.573722\" y=\"561.6\" style=\"stroke: #000000; stroke-width: 0.8\"/>\n      </g>\n     </g>\n     <g id=\"text_3\">\n      <!-- 10 -->\n      <g transform=\"translate(387.211222 576.198438)scale(0.1 -0.1)\">\n       <defs>\n        <path id=\"DejaVuSans-31\" d=\"M 794 531 \nL 1825 531 \nL 1825 4091 \nL 703 3866 \nL 703 4441 \nL 1819 4666 \nL 2450 4666 \nL 2450 531 \nL 3481 531 \nL 3481 0 \nL 794 0 \nL 794 531 \nz\n\" transform=\"scale(0.015625)\"/>\n       </defs>\n       <use xlink:href=\"#DejaVuSans-31\"/>\n       <use xlink:href=\"#DejaVuSans-30\" x=\"63.623047\"/>\n      </g>\n     </g>\n    </g>\n    <g id=\"xtick_4\">\n     <g id=\"line2d_4\">\n      <g>\n       <use xlink:href=\"#m31f29487c9\" x=\"552.096449\" y=\"561.6\" style=\"stroke: #000000; stroke-width: 0.8\"/>\n      </g>\n     </g>\n     <g id=\"text_4\">\n      <!-- 15 -->\n      <g transform=\"translate(545.733949 576.198438)scale(0.1 -0.1)\">\n       <use xlink:href=\"#DejaVuSans-31\"/>\n       <use xlink:href=\"#DejaVuSans-35\" x=\"63.623047\"/>\n      </g>\n     </g>\n    </g>\n    <g id=\"xtick_5\">\n     <g id=\"line2d_5\">\n      <g>\n       <use xlink:href=\"#m31f29487c9\" x=\"710.619176\" y=\"561.6\" style=\"stroke: #000000; stroke-width: 0.8\"/>\n      </g>\n     </g>\n     <g id=\"text_5\">\n      <!-- 20 -->\n      <g transform=\"translate(704.256676 576.198438)scale(0.1 -0.1)\">\n       <defs>\n        <path id=\"DejaVuSans-32\" d=\"M 1228 531 \nL 3431 531 \nL 3431 0 \nL 469 0 \nL 469 531 \nQ 828 903 1448 1529 \nQ 2069 2156 2228 2338 \nQ 2531 2678 2651 2914 \nQ 2772 3150 2772 3378 \nQ 2772 3750 2511 3984 \nQ 2250 4219 1831 4219 \nQ 1534 4219 1204 4116 \nQ 875 4013 500 3803 \nL 500 4441 \nQ 881 4594 1212 4672 \nQ 1544 4750 1819 4750 \nQ 2544 4750 2975 4387 \nQ 3406 4025 3406 3419 \nQ 3406 3131 3298 2873 \nQ 3191 2616 2906 2266 \nQ 2828 2175 2409 1742 \nQ 1991 1309 1228 531 \nz\n\" transform=\"scale(0.015625)\"/>\n       </defs>\n       <use xlink:href=\"#DejaVuSans-32\"/>\n       <use xlink:href=\"#DejaVuSans-30\" x=\"63.623047\"/>\n      </g>\n     </g>\n    </g>\n    <g id=\"xtick_6\">\n     <g id=\"line2d_6\">\n      <g>\n       <use xlink:href=\"#m31f29487c9\" x=\"869.141903\" y=\"561.6\" style=\"stroke: #000000; stroke-width: 0.8\"/>\n      </g>\n     </g>\n     <g id=\"text_6\">\n      <!-- 25 -->\n      <g transform=\"translate(862.779403 576.198438)scale(0.1 -0.1)\">\n       <use xlink:href=\"#DejaVuSans-32\"/>\n       <use xlink:href=\"#DejaVuSans-35\" x=\"63.623047\"/>\n      </g>\n     </g>\n    </g>\n   </g>\n   <g id=\"matplotlib.axis_2\">\n    <g id=\"ytick_1\">\n     <g id=\"line2d_7\">\n      <defs>\n       <path id=\"m36ea3e175f\" d=\"M 0 0 \nL -3.5 0 \n\" style=\"stroke: #000000; stroke-width: 0.8\"/>\n      </defs>\n      <g>\n       <use xlink:href=\"#m36ea3e175f\" x=\"38.482813\" y=\"466.327971\" style=\"stroke: #000000; stroke-width: 0.8\"/>\n      </g>\n     </g>\n     <g id=\"text_7\">\n      <!-- −1.0 -->\n      <g transform=\"translate(7.2 470.12719)scale(0.1 -0.1)\">\n       <defs>\n        <path id=\"DejaVuSans-2212\" d=\"M 678 2272 \nL 4684 2272 \nL 4684 1741 \nL 678 1741 \nL 678 2272 \nz\n\" transform=\"scale(0.015625)\"/>\n        <path id=\"DejaVuSans-2e\" d=\"M 684 794 \nL 1344 794 \nL 1344 0 \nL 684 0 \nL 684 794 \nz\n\" transform=\"scale(0.015625)\"/>\n       </defs>\n       <use xlink:href=\"#DejaVuSans-2212\"/>\n       <use xlink:href=\"#DejaVuSans-31\" x=\"83.789062\"/>\n       <use xlink:href=\"#DejaVuSans-2e\" x=\"147.412109\"/>\n       <use xlink:href=\"#DejaVuSans-30\" x=\"179.199219\"/>\n      </g>\n     </g>\n    </g>\n    <g id=\"ytick_2\">\n     <g id=\"line2d_8\">\n      <g>\n       <use xlink:href=\"#m36ea3e175f\" x=\"38.482813\" y=\"359.121241\" style=\"stroke: #000000; stroke-width: 0.8\"/>\n      </g>\n     </g>\n     <g id=\"text_8\">\n      <!-- −0.5 -->\n      <g transform=\"translate(7.2 362.920459)scale(0.1 -0.1)\">\n       <use xlink:href=\"#DejaVuSans-2212\"/>\n       <use xlink:href=\"#DejaVuSans-30\" x=\"83.789062\"/>\n       <use xlink:href=\"#DejaVuSans-2e\" x=\"147.412109\"/>\n       <use xlink:href=\"#DejaVuSans-35\" x=\"179.199219\"/>\n      </g>\n     </g>\n    </g>\n    <g id=\"ytick_3\">\n     <g id=\"line2d_9\">\n      <g>\n       <use xlink:href=\"#m36ea3e175f\" x=\"38.482813\" y=\"251.91451\" style=\"stroke: #000000; stroke-width: 0.8\"/>\n      </g>\n     </g>\n     <g id=\"text_9\">\n      <!-- 0.0 -->\n      <g transform=\"translate(15.579688 255.713729)scale(0.1 -0.1)\">\n       <use xlink:href=\"#DejaVuSans-30\"/>\n       <use xlink:href=\"#DejaVuSans-2e\" x=\"63.623047\"/>\n       <use xlink:href=\"#DejaVuSans-30\" x=\"95.410156\"/>\n      </g>\n     </g>\n    </g>\n    <g id=\"ytick_4\">\n     <g id=\"line2d_10\">\n      <g>\n       <use xlink:href=\"#m36ea3e175f\" x=\"38.482813\" y=\"144.70778\" style=\"stroke: #000000; stroke-width: 0.8\"/>\n      </g>\n     </g>\n     <g id=\"text_10\">\n      <!-- 0.5 -->\n      <g transform=\"translate(15.579688 148.506999)scale(0.1 -0.1)\">\n       <use xlink:href=\"#DejaVuSans-30\"/>\n       <use xlink:href=\"#DejaVuSans-2e\" x=\"63.623047\"/>\n       <use xlink:href=\"#DejaVuSans-35\" x=\"95.410156\"/>\n      </g>\n     </g>\n    </g>\n    <g id=\"ytick_5\">\n     <g id=\"line2d_11\">\n      <g>\n       <use xlink:href=\"#m36ea3e175f\" x=\"38.482813\" y=\"37.50105\" style=\"stroke: #000000; stroke-width: 0.8\"/>\n      </g>\n     </g>\n     <g id=\"text_11\">\n      <!-- 1.0 -->\n      <g transform=\"translate(15.579688 41.300269)scale(0.1 -0.1)\">\n       <use xlink:href=\"#DejaVuSans-31\"/>\n       <use xlink:href=\"#DejaVuSans-2e\" x=\"63.623047\"/>\n       <use xlink:href=\"#DejaVuSans-30\" x=\"95.410156\"/>\n      </g>\n     </g>\n    </g>\n   </g>\n   <g id=\"patch_3\">\n    <path d=\"M 38.482813 561.6 \nL 38.482813 7.2 \n\" style=\"fill: none; stroke: #000000; stroke-width: 0.8; stroke-linejoin: miter; stroke-linecap: square\"/>\n   </g>\n   <g id=\"patch_4\">\n    <path d=\"M 875.482813 561.6 \nL 875.482813 7.2 \n\" style=\"fill: none; stroke: #000000; stroke-width: 0.8; stroke-linejoin: miter; stroke-linecap: square\"/>\n   </g>\n   <g id=\"patch_5\">\n    <path d=\"M 38.482813 561.6 \nL 875.482813 561.6 \n\" style=\"fill: none; stroke: #000000; stroke-width: 0.8; stroke-linejoin: miter; stroke-linecap: square\"/>\n   </g>\n   <g id=\"patch_6\">\n    <path d=\"M 38.482813 7.2 \nL 875.482813 7.2 \n\" style=\"fill: none; stroke: #000000; stroke-width: 0.8; stroke-linejoin: miter; stroke-linecap: square\"/>\n   </g>\n   <g id=\"legend_1\">\n    <g id=\"patch_7\">\n     <path d=\"M 795.840625 73.9125 \nL 868.482813 73.9125 \nQ 870.482813 73.9125 870.482813 71.9125 \nL 870.482813 14.2 \nQ 870.482813 12.2 868.482813 12.2 \nL 795.840625 12.2 \nQ 793.840625 12.2 793.840625 14.2 \nL 793.840625 71.9125 \nQ 793.840625 73.9125 795.840625 73.9125 \nz\n\" style=\"fill: #ffffff; opacity: 0.8; stroke: #cccccc; stroke-linejoin: miter\"/>\n    </g>\n    <g id=\"PathCollection_5\">\n     <g>\n      <use xlink:href=\"#me9e8f180d4\" x=\"807.840625\" y=\"21.173437\" style=\"fill: #1f77b4; stroke: #1f77b4\"/>\n     </g>\n    </g>\n    <g id=\"text_12\">\n     <!-- No seed -->\n     <g transform=\"translate(825.840625 23.798437)scale(0.1 -0.1)\">\n      <defs>\n       <path id=\"DejaVuSans-4e\" d=\"M 628 4666 \nL 1478 4666 \nL 3547 763 \nL 3547 4666 \nL 4159 4666 \nL 4159 0 \nL 3309 0 \nL 1241 3903 \nL 1241 0 \nL 628 0 \nL 628 4666 \nz\n\" transform=\"scale(0.015625)\"/>\n       <path id=\"DejaVuSans-6f\" d=\"M 1959 3097 \nQ 1497 3097 1228 2736 \nQ 959 2375 959 1747 \nQ 959 1119 1226 758 \nQ 1494 397 1959 397 \nQ 2419 397 2687 759 \nQ 2956 1122 2956 1747 \nQ 2956 2369 2687 2733 \nQ 2419 3097 1959 3097 \nz\nM 1959 3584 \nQ 2709 3584 3137 3096 \nQ 3566 2609 3566 1747 \nQ 3566 888 3137 398 \nQ 2709 -91 1959 -91 \nQ 1206 -91 779 398 \nQ 353 888 353 1747 \nQ 353 2609 779 3096 \nQ 1206 3584 1959 3584 \nz\n\" transform=\"scale(0.015625)\"/>\n       <path id=\"DejaVuSans-20\" transform=\"scale(0.015625)\"/>\n       <path id=\"DejaVuSans-73\" d=\"M 2834 3397 \nL 2834 2853 \nQ 2591 2978 2328 3040 \nQ 2066 3103 1784 3103 \nQ 1356 3103 1142 2972 \nQ 928 2841 928 2578 \nQ 928 2378 1081 2264 \nQ 1234 2150 1697 2047 \nL 1894 2003 \nQ 2506 1872 2764 1633 \nQ 3022 1394 3022 966 \nQ 3022 478 2636 193 \nQ 2250 -91 1575 -91 \nQ 1294 -91 989 -36 \nQ 684 19 347 128 \nL 347 722 \nQ 666 556 975 473 \nQ 1284 391 1588 391 \nQ 1994 391 2212 530 \nQ 2431 669 2431 922 \nQ 2431 1156 2273 1281 \nQ 2116 1406 1581 1522 \nL 1381 1569 \nQ 847 1681 609 1914 \nQ 372 2147 372 2553 \nQ 372 3047 722 3315 \nQ 1072 3584 1716 3584 \nQ 2034 3584 2315 3537 \nQ 2597 3491 2834 3397 \nz\n\" transform=\"scale(0.015625)\"/>\n       <path id=\"DejaVuSans-65\" d=\"M 3597 1894 \nL 3597 1613 \nL 953 1613 \nQ 991 1019 1311 708 \nQ 1631 397 2203 397 \nQ 2534 397 2845 478 \nQ 3156 559 3463 722 \nL 3463 178 \nQ 3153 47 2828 -22 \nQ 2503 -91 2169 -91 \nQ 1331 -91 842 396 \nQ 353 884 353 1716 \nQ 353 2575 817 3079 \nQ 1281 3584 2069 3584 \nQ 2775 3584 3186 3129 \nQ 3597 2675 3597 1894 \nz\nM 3022 2063 \nQ 3016 2534 2758 2815 \nQ 2500 3097 2075 3097 \nQ 1594 3097 1305 2825 \nQ 1016 2553 972 2059 \nL 3022 2063 \nz\n\" transform=\"scale(0.015625)\"/>\n       <path id=\"DejaVuSans-64\" d=\"M 2906 2969 \nL 2906 4863 \nL 3481 4863 \nL 3481 0 \nL 2906 0 \nL 2906 525 \nQ 2725 213 2448 61 \nQ 2172 -91 1784 -91 \nQ 1150 -91 751 415 \nQ 353 922 353 1747 \nQ 353 2572 751 3078 \nQ 1150 3584 1784 3584 \nQ 2172 3584 2448 3432 \nQ 2725 3281 2906 2969 \nz\nM 947 1747 \nQ 947 1113 1208 752 \nQ 1469 391 1925 391 \nQ 2381 391 2643 752 \nQ 2906 1113 2906 1747 \nQ 2906 2381 2643 2742 \nQ 2381 3103 1925 3103 \nQ 1469 3103 1208 2742 \nQ 947 2381 947 1747 \nz\n\" transform=\"scale(0.015625)\"/>\n      </defs>\n      <use xlink:href=\"#DejaVuSans-4e\"/>\n      <use xlink:href=\"#DejaVuSans-6f\" x=\"74.804688\"/>\n      <use xlink:href=\"#DejaVuSans-20\" x=\"135.986328\"/>\n      <use xlink:href=\"#DejaVuSans-73\" x=\"167.773438\"/>\n      <use xlink:href=\"#DejaVuSans-65\" x=\"219.873047\"/>\n      <use xlink:href=\"#DejaVuSans-65\" x=\"281.396484\"/>\n      <use xlink:href=\"#DejaVuSans-64\" x=\"342.919922\"/>\n     </g>\n    </g>\n    <g id=\"PathCollection_6\">\n     <g>\n      <use xlink:href=\"#mb8cb6d688f\" x=\"807.840625\" y=\"35.851562\" style=\"fill: #ff7f0e; stroke: #ff7f0e\"/>\n     </g>\n    </g>\n    <g id=\"text_13\">\n     <!-- 1a -->\n     <g transform=\"translate(825.840625 38.476562)scale(0.1 -0.1)\">\n      <defs>\n       <path id=\"DejaVuSans-61\" d=\"M 2194 1759 \nQ 1497 1759 1228 1600 \nQ 959 1441 959 1056 \nQ 959 750 1161 570 \nQ 1363 391 1709 391 \nQ 2188 391 2477 730 \nQ 2766 1069 2766 1631 \nL 2766 1759 \nL 2194 1759 \nz\nM 3341 1997 \nL 3341 0 \nL 2766 0 \nL 2766 531 \nQ 2569 213 2275 61 \nQ 1981 -91 1556 -91 \nQ 1019 -91 701 211 \nQ 384 513 384 1019 \nQ 384 1609 779 1909 \nQ 1175 2209 1959 2209 \nL 2766 2209 \nL 2766 2266 \nQ 2766 2663 2505 2880 \nQ 2244 3097 1772 3097 \nQ 1472 3097 1187 3025 \nQ 903 2953 641 2809 \nL 641 3341 \nQ 956 3463 1253 3523 \nQ 1550 3584 1831 3584 \nQ 2591 3584 2966 3190 \nQ 3341 2797 3341 1997 \nz\n\" transform=\"scale(0.015625)\"/>\n      </defs>\n      <use xlink:href=\"#DejaVuSans-31\"/>\n      <use xlink:href=\"#DejaVuSans-61\" x=\"63.623047\"/>\n     </g>\n    </g>\n    <g id=\"PathCollection_7\">\n     <g>\n      <use xlink:href=\"#m368526d767\" x=\"807.840625\" y=\"50.529688\" style=\"fill: #2ca02c; stroke: #2ca02c; stroke-width: 1.5\"/>\n     </g>\n    </g>\n    <g id=\"text_14\">\n     <!-- 2 -->\n     <g transform=\"translate(825.840625 53.154688)scale(0.1 -0.1)\">\n      <use xlink:href=\"#DejaVuSans-32\"/>\n     </g>\n    </g>\n    <g id=\"PathCollection_8\">\n     <g>\n      <use xlink:href=\"#mc469c0a9ca\" x=\"807.840625\" y=\"65.207812\" style=\"fill: #d62728; stroke: #d62728\"/>\n     </g>\n    </g>\n    <g id=\"text_15\">\n     <!-- 1b -->\n     <g transform=\"translate(825.840625 67.832812)scale(0.1 -0.1)\">\n      <defs>\n       <path id=\"DejaVuSans-62\" d=\"M 3116 1747 \nQ 3116 2381 2855 2742 \nQ 2594 3103 2138 3103 \nQ 1681 3103 1420 2742 \nQ 1159 2381 1159 1747 \nQ 1159 1113 1420 752 \nQ 1681 391 2138 391 \nQ 2594 391 2855 752 \nQ 3116 1113 3116 1747 \nz\nM 1159 2969 \nQ 1341 3281 1617 3432 \nQ 1894 3584 2278 3584 \nQ 2916 3584 3314 3078 \nQ 3713 2572 3713 1747 \nQ 3713 922 3314 415 \nQ 2916 -91 2278 -91 \nQ 1894 -91 1617 61 \nQ 1341 213 1159 525 \nL 1159 0 \nL 581 0 \nL 581 4863 \nL 1159 4863 \nL 1159 2969 \nz\n\" transform=\"scale(0.015625)\"/>\n      </defs>\n      <use xlink:href=\"#DejaVuSans-31\"/>\n      <use xlink:href=\"#DejaVuSans-62\" x=\"63.623047\"/>\n     </g>\n    </g>\n   </g>\n  </g>\n </g>\n <defs>\n  <clipPath id=\"p3507a704ce\">\n   <rect x=\"38.482813\" y=\"7.2\" width=\"837\" height=\"554.4\"/>\n  </clipPath>\n </defs>\n</svg>\n"
     },
     "metadata": {},
     "output_type": "display_data"
    }
   ],
   "source": [
    "plt.figure(figsize=(15, 10))\n",
    "\n",
    "labels = [\"No seed\", \"1a\", \"2\", \"1b\"]\n",
    "markers = ['s', 'o', 'x', '^']\n",
    "\n",
    "for i in range(4):\n",
    "  plt.scatter(range(len(weights[i])), weights[i], marker=markers[i], s=128, label=labels[i])\n",
    "\n",
    "plt.legend()\n",
    "\n",
    "plt.show()"
   ],
   "metadata": {
    "collapsed": false
   }
  },
  {
   "cell_type": "code",
   "execution_count": 56,
   "outputs": [
    {
     "name": "stdout",
     "output_type": "stream",
     "text": [
      "[0. 0. 0. 0. 0. 0. 0. 0. 0. 0. 0. 0. 0. 0. 0. 0. 0. 0. 0. 0. 0. 0. 0. 0.\n",
      " 0.]\n",
      "[ 0.28405346 -0.50824451  1.7286365  -0.87814516 -0.42430657 -1.25349468\n",
      " -0.35668951 -0.33708661 -0.62626871 -0.46519975 -0.78322569 -0.30950063\n",
      "  0.05215892  0.4975045  -0.9226701   0.15220195 -0.06982136  0.33903134\n",
      "  0.47616929 -0.55569182 -0.52650067  0.734576    0.48154375 -0.55681822\n",
      " -1.75721395]\n",
      "[ 0.42757525  0.32666224  1.39150569 -0.44128156 -0.5697474  -0.92599103\n",
      " -0.37204458  0.73145325 -0.41324873  0.64276394  0.35781333 -0.80859676\n",
      " -0.18027063  0.75412828  0.37616137 -0.02306923 -0.7117596   0.56427727\n",
      "  1.20434362  0.38234101 -0.38960876  0.4816342   0.27772553 -0.37006527\n",
      " -0.79237586]\n"
     ]
    }
   ],
   "source": [
    "print(weights[1] - weights[3])\n",
    "print(weights[1] - weights[0])\n",
    "print(weights[1] - weights[2])"
   ],
   "metadata": {
    "collapsed": false
   }
  },
  {
   "cell_type": "code",
   "execution_count": null,
   "outputs": [],
   "source": [],
   "metadata": {
    "collapsed": false
   }
  }
 ]
}
