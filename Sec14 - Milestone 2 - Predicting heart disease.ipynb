{
 "cells": [
  {
   "cell_type": "markdown",
   "source": [
    "# Milestone 2 Predicting heart disease\n",
    "## Goal: Create an FFN can predict heart disease given the data"
   ],
   "metadata": {
    "collapsed": false
   }
  },
  {
   "cell_type": "code",
   "execution_count": 359,
   "metadata": {
    "collapsed": true
   },
   "outputs": [
    {
     "name": "stderr",
     "output_type": "stream",
     "text": [
      "C:\\Users\\lucan\\AppData\\Local\\Temp\\ipykernel_18744\\1239200458.py:15: DeprecationWarning: `set_matplotlib_formats` is deprecated since IPython 7.23, directly use `matplotlib_inline.backend_inline.set_matplotlib_formats()`\n",
      "  display.set_matplotlib_formats('svg')\n"
     ]
    }
   ],
   "source": [
    "# import libraries\n",
    "import numpy as np\n",
    "import pandas as pd\n",
    "from scipy import stats\n",
    "from time import perf_counter\n",
    "\n",
    "import torch\n",
    "import torch.nn as nn\n",
    "import torch.nn.functional as F\n",
    "from torch.utils.data import DataLoader, TensorDataset\n",
    "from sklearn.model_selection import train_test_split\n",
    "\n",
    "import matplotlib.pyplot as plt\n",
    "from IPython import display\n",
    "display.set_matplotlib_formats('svg')"
   ]
  },
  {
   "cell_type": "markdown",
   "source": [
    "# Import the data"
   ],
   "metadata": {
    "collapsed": false
   }
  },
  {
   "cell_type": "code",
   "execution_count": 360,
   "outputs": [],
   "source": [
    "# import the data\n",
    "url  = 'https://archive.ics.uci.edu/ml/machine-learning-databases/heart-disease/processed.cleveland.data'\n",
    "data = pd.read_csv(url,sep=',',header=None)\n",
    "data.columns = ['age','sex','cp','trestbps','chol','fbs','restecg','thalach','exang','oldpeak','slope','ca','thal','DISEASE']"
   ],
   "metadata": {
    "collapsed": false
   }
  },
  {
   "cell_type": "markdown",
   "source": [
    "# Clean and normalize the data"
   ],
   "metadata": {
    "collapsed": false
   }
  },
  {
   "cell_type": "code",
   "execution_count": 361,
   "outputs": [],
   "source": [
    "# Remove a single \"?\" and make sure the columns are floats\n",
    "data = data.replace(\"?\", np.nan).dropna()\n",
    "data.ca = data.ca.astype(float)\n",
    "data.thal = data.thal.astype(float)\n",
    "\n",
    "# Normalize the data\n",
    "cols2zscore = data.keys()\n",
    "cols2zscore = cols2zscore.drop(['sex', 'fbs', 'exang', 'DISEASE'])\n",
    "data[cols2zscore] = data[cols2zscore].apply(stats.zscore)"
   ],
   "metadata": {
    "collapsed": false
   }
  },
  {
   "cell_type": "markdown",
   "source": [
    "# Create function to get the dataloaders"
   ],
   "metadata": {
    "collapsed": false
   }
  },
  {
   "cell_type": "code",
   "execution_count": 362,
   "outputs": [],
   "source": [
    "def get_dataloaders(data):\n",
    "\n",
    "    # Binarize the disease data\n",
    "    data.DISEASE = (data.DISEASE > 0).astype(int)\n",
    "\n",
    "    print(f\"Data balance: {data.DISEASE.sum() / len(data.DISEASE)}\")\n",
    "\n",
    "    # convert from pandas dataframe to tensor\n",
    "    dataT  = torch.tensor( data[data.keys().drop(\"DISEASE\")].values ).float()\n",
    "\n",
    "    # transform to N-1 column matrix for PyTorch\n",
    "    labels = torch.tensor( np.vstack(data.DISEASE.values) ).float()\n",
    "\n",
    "    # use scikitlearn to split the data\n",
    "    train_data,test_data, train_labels,test_labels = train_test_split(dataT, labels, test_size=50)\n",
    "\n",
    "    # then convert them into PyTorch Datasets (note: already converted to tensors)\n",
    "    train_data = TensorDataset(train_data,train_labels)\n",
    "    test_data  = TensorDataset(test_data,test_labels)\n",
    "\n",
    "    # finally, translate into dataloader objects\n",
    "    batchsize    = 8\n",
    "    train_loader = DataLoader(train_data,batch_size=batchsize,shuffle=True,drop_last=True)\n",
    "    test_loader  = DataLoader(test_data,batch_size=test_data.tensors[0].shape[0])\n",
    "\n",
    "    return train_loader, test_loader"
   ],
   "metadata": {
    "collapsed": false
   }
  },
  {
   "cell_type": "code",
   "execution_count": 363,
   "outputs": [
    {
     "name": "stdout",
     "output_type": "stream",
     "text": [
      "Data balance: 0.4612794612794613\n",
      "torch.Size([8, 13])\n",
      "torch.Size([8, 1])\n",
      "torch.Size([50, 13])\n",
      "torch.Size([50, 1])\n"
     ]
    }
   ],
   "source": [
    "train_loader, test_loader = get_dataloaders(data)\n",
    "print(next(iter(train_loader))[0].size())\n",
    "print(next(iter(train_loader))[1].size())\n",
    "\n",
    "print(next(iter(test_loader))[0].size())\n",
    "print(next(iter(test_loader))[1].size())"
   ],
   "metadata": {
    "collapsed": false
   }
  },
  {
   "cell_type": "markdown",
   "source": [
    "# Create function to get the NN, loss function and optimizer"
   ],
   "metadata": {
    "collapsed": false
   }
  },
  {
   "cell_type": "code",
   "execution_count": 364,
   "outputs": [],
   "source": [
    "class HeartDiseaseANN(nn.Module):\n",
    "    def __init__(self):\n",
    "        super().__init__()\n",
    "\n",
    "        ### input layer\n",
    "        self.input = nn.Linear(13,16)\n",
    "\n",
    "        ### hidden layer 1\n",
    "        self.bnorm1 = nn.BatchNorm1d(16)\n",
    "        self.fc1 = nn.Linear(16,16)\n",
    "\n",
    "        # self.bnorm2 = nn.BatchNorm1d(16)\n",
    "        # self.fc2 = nn.Linear(16,16)\n",
    "\n",
    "        ### output layer\n",
    "        self.output = nn.Linear(16,1)\n",
    "\n",
    "    # forward pass\n",
    "    def forward(self,x):\n",
    "\n",
    "        x = F.relu6(self.input(x))\n",
    "\n",
    "        # Normalize, weights, activate\n",
    "        x = F.relu6(self.fc1( self.bnorm1(x) ))\n",
    "        # x = F.relu6(self.fc2( self.bnorm2(x) ))\n",
    "        # x = F.relu(self.fc3( self.bnorm3(x) ))\n",
    "\n",
    "        # No sigmoid on output -> in loss function\n",
    "        return self.output(x)"
   ],
   "metadata": {
    "collapsed": false
   }
  },
  {
   "cell_type": "code",
   "execution_count": 365,
   "outputs": [],
   "source": [
    "# create a class for the model\n",
    "def createTheNet():\n",
    "\n",
    "    net = HeartDiseaseANN()\n",
    "\n",
    "    # loss function\n",
    "    lossfun = nn.BCEWithLogitsLoss()\n",
    "\n",
    "    # optimizer\n",
    "    optimizer = torch.optim.Adam(net.parameters(), lr=0.001, weight_decay=0.01)\n",
    "\n",
    "    return net,lossfun,optimizer"
   ],
   "metadata": {
    "collapsed": false
   }
  },
  {
   "cell_type": "markdown",
   "source": [
    "# Test the network"
   ],
   "metadata": {
    "collapsed": false
   }
  },
  {
   "cell_type": "code",
   "execution_count": 366,
   "outputs": [],
   "source": [
    "# No errors when passing random data through it?\n",
    "# net, lossfun, optimzer = createTheNet()\n",
    "# randomData = torch.randn((1, 13))\n",
    "# net(randomData)"
   ],
   "metadata": {
    "collapsed": false
   }
  },
  {
   "cell_type": "markdown",
   "source": [
    "# Create function to train the model"
   ],
   "metadata": {
    "collapsed": false
   }
  },
  {
   "cell_type": "code",
   "execution_count": 367,
   "outputs": [],
   "source": [
    "# a function that trains the model\n",
    "\n",
    "# global parameter\n",
    "numepochs = 100\n",
    "\n",
    "def trainTheModel(train_loader, test_loader, net, lossfun, optimzer):\n",
    "    start_time = perf_counter()\n",
    "\n",
    "    # initialize losses\n",
    "    losses   = torch.zeros(numepochs)\n",
    "    trainAcc = []\n",
    "    testAcc  = []\n",
    "\n",
    "    # loop over epochs\n",
    "    for epochi in range(numepochs):\n",
    "\n",
    "        # switch on training mode\n",
    "        net.train()\n",
    "\n",
    "        # loop over training data batches\n",
    "        batchAcc  = []\n",
    "        batchLoss = []\n",
    "        for X,y in train_loader:\n",
    "\n",
    "            # forward pass and loss\n",
    "            yHat = net(X)\n",
    "            loss = lossfun(yHat,y)\n",
    "\n",
    "            # backprop\n",
    "            optimzer.zero_grad()\n",
    "            loss.backward()\n",
    "            optimzer.step()\n",
    "\n",
    "            # loss from this batch\n",
    "            batchLoss.append(loss.item())\n",
    "\n",
    "            # compute training accuracy for this batch\n",
    "            predictions = (torch.sigmoid(yHat)>.5).float()\n",
    "            batchAcc.append( 100*torch.mean((predictions==y).float()) )\n",
    "        # end of batch loop...\n",
    "\n",
    "        # now that we've trained through the batches, get their average training accuracy\n",
    "        trainAcc.append( np.mean(batchAcc) )\n",
    "\n",
    "        # and get average losses across the batches\n",
    "        losses[epochi] = np.mean(batchLoss)\n",
    "\n",
    "        # test accuracy\n",
    "        net.eval()\n",
    "        X,y = next(iter(test_loader)) # extract X,y from test dataloader\n",
    "        with torch.no_grad(): # deactivates autograd\n",
    "            yHat = net(X)\n",
    "        predictions = (torch.sigmoid(yHat)>.5).float()\n",
    "        testAcc.append( 100*torch.mean((predictions==y).float()) )\n",
    "\n",
    "    end_time = perf_counter()\n",
    "    print(f\"Training took {end_time - start_time:.2f}s.\")\n",
    "\n",
    "    # function output\n",
    "    return trainAcc,testAcc,losses"
   ],
   "metadata": {
    "collapsed": false
   }
  },
  {
   "cell_type": "code",
   "execution_count": 368,
   "outputs": [
    {
     "name": "stdout",
     "output_type": "stream",
     "text": [
      "Data balance: 0.4612794612794613\n",
      "Training took 3.67s.\n"
     ]
    }
   ],
   "source": [
    "train_loader, test_loader = get_dataloaders(data)\n",
    "net, lossfun, optimzer = createTheNet()\n",
    "trainAcc,testAcc,losses = trainTheModel(train_loader, test_loader, net, lossfun, optimzer)"
   ],
   "metadata": {
    "collapsed": false
   }
  },
  {
   "cell_type": "code",
   "execution_count": 369,
   "outputs": [
    {
     "data": {
      "text/plain": "<Figure size 1000x400 with 2 Axes>",
      "image/svg+xml": "<?xml version=\"1.0\" encoding=\"utf-8\" standalone=\"no\"?>\n<!DOCTYPE svg PUBLIC \"-//W3C//DTD SVG 1.1//EN\"\n  \"http://www.w3.org/Graphics/SVG/1.1/DTD/svg11.dtd\">\n<svg xmlns:xlink=\"http://www.w3.org/1999/xlink\" width=\"606.445312pt\" height=\"280.18625pt\" viewBox=\"0 0 606.445312 280.18625\" xmlns=\"http://www.w3.org/2000/svg\" version=\"1.1\">\n <metadata>\n  <rdf:RDF xmlns:dc=\"http://purl.org/dc/elements/1.1/\" xmlns:cc=\"http://creativecommons.org/ns#\" xmlns:rdf=\"http://www.w3.org/1999/02/22-rdf-syntax-ns#\">\n   <cc:Work>\n    <dc:type rdf:resource=\"http://purl.org/dc/dcmitype/StillImage\"/>\n    <dc:date>2022-11-15T16:26:02.513757</dc:date>\n    <dc:format>image/svg+xml</dc:format>\n    <dc:creator>\n     <cc:Agent>\n      <dc:title>Matplotlib v3.6.2, https://matplotlib.org/</dc:title>\n     </cc:Agent>\n    </dc:creator>\n   </cc:Work>\n  </rdf:RDF>\n </metadata>\n <defs>\n  <style type=\"text/css\">*{stroke-linejoin: round; stroke-linecap: butt}</style>\n </defs>\n <g id=\"figure_1\">\n  <g id=\"patch_1\">\n   <path d=\"M 0 280.18625 \nL 606.445312 280.18625 \nL 606.445312 0 \nL 0 0 \nz\n\" style=\"fill: #ffffff\"/>\n  </g>\n  <g id=\"axes_1\">\n   <g id=\"patch_2\">\n    <path d=\"M 41.245313 243.695625 \nL 294.881676 243.695625 \nL 294.881676 21.935625 \nL 41.245313 21.935625 \nz\n\" style=\"fill: #ffffff\"/>\n   </g>\n   <g id=\"matplotlib.axis_1\">\n    <g id=\"xtick_1\">\n     <g id=\"line2d_1\">\n      <path d=\"M 52.774238 243.695625 \nL 52.774238 21.935625 \n\" clip-path=\"url(#p4bd89851d2)\" style=\"fill: none; stroke: #cccccc; stroke-width: 0.8; stroke-linecap: round\"/>\n     </g>\n     <g id=\"text_1\">\n      <!-- 0 -->\n      <g style=\"fill: #262626\" transform=\"translate(49.993769 257.853437) scale(0.1 -0.1)\">\n       <defs>\n        <path id=\"ArialMT-30\" d=\"M 266 2259 \nQ 266 3072 433 3567 \nQ 600 4063 929 4331 \nQ 1259 4600 1759 4600 \nQ 2128 4600 2406 4451 \nQ 2684 4303 2865 4023 \nQ 3047 3744 3150 3342 \nQ 3253 2941 3253 2259 \nQ 3253 1453 3087 958 \nQ 2922 463 2592 192 \nQ 2263 -78 1759 -78 \nQ 1097 -78 719 397 \nQ 266 969 266 2259 \nz\nM 844 2259 \nQ 844 1131 1108 757 \nQ 1372 384 1759 384 \nQ 2147 384 2411 759 \nQ 2675 1134 2675 2259 \nQ 2675 3391 2411 3762 \nQ 2147 4134 1753 4134 \nQ 1366 4134 1134 3806 \nQ 844 3388 844 2259 \nz\n\" transform=\"scale(0.015625)\"/>\n       </defs>\n       <use xlink:href=\"#ArialMT-30\"/>\n      </g>\n     </g>\n    </g>\n    <g id=\"xtick_2\">\n     <g id=\"line2d_2\">\n      <path d=\"M 99.355756 243.695625 \nL 99.355756 21.935625 \n\" clip-path=\"url(#p4bd89851d2)\" style=\"fill: none; stroke: #cccccc; stroke-width: 0.8; stroke-linecap: round\"/>\n     </g>\n     <g id=\"text_2\">\n      <!-- 20 -->\n      <g style=\"fill: #262626\" transform=\"translate(93.794818 257.853437) scale(0.1 -0.1)\">\n       <defs>\n        <path id=\"ArialMT-32\" d=\"M 3222 541 \nL 3222 0 \nL 194 0 \nQ 188 203 259 391 \nQ 375 700 629 1000 \nQ 884 1300 1366 1694 \nQ 2113 2306 2375 2664 \nQ 2638 3022 2638 3341 \nQ 2638 3675 2398 3904 \nQ 2159 4134 1775 4134 \nQ 1369 4134 1125 3890 \nQ 881 3647 878 3216 \nL 300 3275 \nQ 359 3922 746 4261 \nQ 1134 4600 1788 4600 \nQ 2447 4600 2831 4234 \nQ 3216 3869 3216 3328 \nQ 3216 3053 3103 2787 \nQ 2991 2522 2730 2228 \nQ 2469 1934 1863 1422 \nQ 1356 997 1212 845 \nQ 1069 694 975 541 \nL 3222 541 \nz\n\" transform=\"scale(0.015625)\"/>\n       </defs>\n       <use xlink:href=\"#ArialMT-32\"/>\n       <use xlink:href=\"#ArialMT-30\" x=\"55.615234\"/>\n      </g>\n     </g>\n    </g>\n    <g id=\"xtick_3\">\n     <g id=\"line2d_3\">\n      <path d=\"M 145.937273 243.695625 \nL 145.937273 21.935625 \n\" clip-path=\"url(#p4bd89851d2)\" style=\"fill: none; stroke: #cccccc; stroke-width: 0.8; stroke-linecap: round\"/>\n     </g>\n     <g id=\"text_3\">\n      <!-- 40 -->\n      <g style=\"fill: #262626\" transform=\"translate(140.376336 257.853437) scale(0.1 -0.1)\">\n       <defs>\n        <path id=\"ArialMT-34\" d=\"M 2069 0 \nL 2069 1097 \nL 81 1097 \nL 81 1613 \nL 2172 4581 \nL 2631 4581 \nL 2631 1613 \nL 3250 1613 \nL 3250 1097 \nL 2631 1097 \nL 2631 0 \nL 2069 0 \nz\nM 2069 1613 \nL 2069 3678 \nL 634 1613 \nL 2069 1613 \nz\n\" transform=\"scale(0.015625)\"/>\n       </defs>\n       <use xlink:href=\"#ArialMT-34\"/>\n       <use xlink:href=\"#ArialMT-30\" x=\"55.615234\"/>\n      </g>\n     </g>\n    </g>\n    <g id=\"xtick_4\">\n     <g id=\"line2d_4\">\n      <path d=\"M 192.518791 243.695625 \nL 192.518791 21.935625 \n\" clip-path=\"url(#p4bd89851d2)\" style=\"fill: none; stroke: #cccccc; stroke-width: 0.8; stroke-linecap: round\"/>\n     </g>\n     <g id=\"text_4\">\n      <!-- 60 -->\n      <g style=\"fill: #262626\" transform=\"translate(186.957854 257.853437) scale(0.1 -0.1)\">\n       <defs>\n        <path id=\"ArialMT-36\" d=\"M 3184 3459 \nL 2625 3416 \nQ 2550 3747 2413 3897 \nQ 2184 4138 1850 4138 \nQ 1581 4138 1378 3988 \nQ 1113 3794 959 3422 \nQ 806 3050 800 2363 \nQ 1003 2672 1297 2822 \nQ 1591 2972 1913 2972 \nQ 2475 2972 2870 2558 \nQ 3266 2144 3266 1488 \nQ 3266 1056 3080 686 \nQ 2894 316 2569 119 \nQ 2244 -78 1831 -78 \nQ 1128 -78 684 439 \nQ 241 956 241 2144 \nQ 241 3472 731 4075 \nQ 1159 4600 1884 4600 \nQ 2425 4600 2770 4297 \nQ 3116 3994 3184 3459 \nz\nM 888 1484 \nQ 888 1194 1011 928 \nQ 1134 663 1356 523 \nQ 1578 384 1822 384 \nQ 2178 384 2434 671 \nQ 2691 959 2691 1453 \nQ 2691 1928 2437 2201 \nQ 2184 2475 1800 2475 \nQ 1419 2475 1153 2201 \nQ 888 1928 888 1484 \nz\n\" transform=\"scale(0.015625)\"/>\n       </defs>\n       <use xlink:href=\"#ArialMT-36\"/>\n       <use xlink:href=\"#ArialMT-30\" x=\"55.615234\"/>\n      </g>\n     </g>\n    </g>\n    <g id=\"xtick_5\">\n     <g id=\"line2d_5\">\n      <path d=\"M 239.100309 243.695625 \nL 239.100309 21.935625 \n\" clip-path=\"url(#p4bd89851d2)\" style=\"fill: none; stroke: #cccccc; stroke-width: 0.8; stroke-linecap: round\"/>\n     </g>\n     <g id=\"text_5\">\n      <!-- 80 -->\n      <g style=\"fill: #262626\" transform=\"translate(233.539371 257.853437) scale(0.1 -0.1)\">\n       <defs>\n        <path id=\"ArialMT-38\" d=\"M 1131 2484 \nQ 781 2613 612 2850 \nQ 444 3088 444 3419 \nQ 444 3919 803 4259 \nQ 1163 4600 1759 4600 \nQ 2359 4600 2725 4251 \nQ 3091 3903 3091 3403 \nQ 3091 3084 2923 2848 \nQ 2756 2613 2416 2484 \nQ 2838 2347 3058 2040 \nQ 3278 1734 3278 1309 \nQ 3278 722 2862 322 \nQ 2447 -78 1769 -78 \nQ 1091 -78 675 323 \nQ 259 725 259 1325 \nQ 259 1772 486 2073 \nQ 713 2375 1131 2484 \nz\nM 1019 3438 \nQ 1019 3113 1228 2906 \nQ 1438 2700 1772 2700 \nQ 2097 2700 2305 2904 \nQ 2513 3109 2513 3406 \nQ 2513 3716 2298 3927 \nQ 2084 4138 1766 4138 \nQ 1444 4138 1231 3931 \nQ 1019 3725 1019 3438 \nz\nM 838 1322 \nQ 838 1081 952 856 \nQ 1066 631 1291 507 \nQ 1516 384 1775 384 \nQ 2178 384 2440 643 \nQ 2703 903 2703 1303 \nQ 2703 1709 2433 1975 \nQ 2163 2241 1756 2241 \nQ 1359 2241 1098 1978 \nQ 838 1716 838 1322 \nz\n\" transform=\"scale(0.015625)\"/>\n       </defs>\n       <use xlink:href=\"#ArialMT-38\"/>\n       <use xlink:href=\"#ArialMT-30\" x=\"55.615234\"/>\n      </g>\n     </g>\n    </g>\n    <g id=\"xtick_6\">\n     <g id=\"line2d_6\">\n      <path d=\"M 285.681826 243.695625 \nL 285.681826 21.935625 \n\" clip-path=\"url(#p4bd89851d2)\" style=\"fill: none; stroke: #cccccc; stroke-width: 0.8; stroke-linecap: round\"/>\n     </g>\n     <g id=\"text_6\">\n      <!-- 100 -->\n      <g style=\"fill: #262626\" transform=\"translate(277.34042 257.853437) scale(0.1 -0.1)\">\n       <defs>\n        <path id=\"ArialMT-31\" d=\"M 2384 0 \nL 1822 0 \nL 1822 3584 \nQ 1619 3391 1289 3197 \nQ 959 3003 697 2906 \nL 697 3450 \nQ 1169 3672 1522 3987 \nQ 1875 4303 2022 4600 \nL 2384 4600 \nL 2384 0 \nz\n\" transform=\"scale(0.015625)\"/>\n       </defs>\n       <use xlink:href=\"#ArialMT-31\"/>\n       <use xlink:href=\"#ArialMT-30\" x=\"55.615234\"/>\n       <use xlink:href=\"#ArialMT-30\" x=\"111.230469\"/>\n      </g>\n     </g>\n    </g>\n    <g id=\"text_7\">\n     <!-- Epoch -->\n     <g style=\"fill: #262626\" transform=\"translate(153.886932 270.99875) scale(0.1 -0.1)\">\n      <defs>\n       <path id=\"ArialMT-45\" d=\"M 506 0 \nL 506 4581 \nL 3819 4581 \nL 3819 4041 \nL 1113 4041 \nL 1113 2638 \nL 3647 2638 \nL 3647 2100 \nL 1113 2100 \nL 1113 541 \nL 3925 541 \nL 3925 0 \nL 506 0 \nz\n\" transform=\"scale(0.015625)\"/>\n       <path id=\"ArialMT-70\" d=\"M 422 -1272 \nL 422 3319 \nL 934 3319 \nL 934 2888 \nQ 1116 3141 1344 3267 \nQ 1572 3394 1897 3394 \nQ 2322 3394 2647 3175 \nQ 2972 2956 3137 2557 \nQ 3303 2159 3303 1684 \nQ 3303 1175 3120 767 \nQ 2938 359 2589 142 \nQ 2241 -75 1856 -75 \nQ 1575 -75 1351 44 \nQ 1128 163 984 344 \nL 984 -1272 \nL 422 -1272 \nz\nM 931 1641 \nQ 931 1000 1190 694 \nQ 1450 388 1819 388 \nQ 2194 388 2461 705 \nQ 2728 1022 2728 1688 \nQ 2728 2322 2467 2637 \nQ 2206 2953 1844 2953 \nQ 1484 2953 1207 2617 \nQ 931 2281 931 1641 \nz\n\" transform=\"scale(0.015625)\"/>\n       <path id=\"ArialMT-6f\" d=\"M 213 1659 \nQ 213 2581 725 3025 \nQ 1153 3394 1769 3394 \nQ 2453 3394 2887 2945 \nQ 3322 2497 3322 1706 \nQ 3322 1066 3130 698 \nQ 2938 331 2570 128 \nQ 2203 -75 1769 -75 \nQ 1072 -75 642 372 \nQ 213 819 213 1659 \nz\nM 791 1659 \nQ 791 1022 1069 705 \nQ 1347 388 1769 388 \nQ 2188 388 2466 706 \nQ 2744 1025 2744 1678 \nQ 2744 2294 2464 2611 \nQ 2184 2928 1769 2928 \nQ 1347 2928 1069 2612 \nQ 791 2297 791 1659 \nz\n\" transform=\"scale(0.015625)\"/>\n       <path id=\"ArialMT-63\" d=\"M 2588 1216 \nL 3141 1144 \nQ 3050 572 2676 248 \nQ 2303 -75 1759 -75 \nQ 1078 -75 664 370 \nQ 250 816 250 1647 \nQ 250 2184 428 2587 \nQ 606 2991 970 3192 \nQ 1334 3394 1763 3394 \nQ 2303 3394 2647 3120 \nQ 2991 2847 3088 2344 \nL 2541 2259 \nQ 2463 2594 2264 2762 \nQ 2066 2931 1784 2931 \nQ 1359 2931 1093 2626 \nQ 828 2322 828 1663 \nQ 828 994 1084 691 \nQ 1341 388 1753 388 \nQ 2084 388 2306 591 \nQ 2528 794 2588 1216 \nz\n\" transform=\"scale(0.015625)\"/>\n       <path id=\"ArialMT-68\" d=\"M 422 0 \nL 422 4581 \nL 984 4581 \nL 984 2938 \nQ 1378 3394 1978 3394 \nQ 2347 3394 2619 3248 \nQ 2891 3103 3008 2847 \nQ 3125 2591 3125 2103 \nL 3125 0 \nL 2563 0 \nL 2563 2103 \nQ 2563 2525 2380 2717 \nQ 2197 2909 1863 2909 \nQ 1613 2909 1392 2779 \nQ 1172 2650 1078 2428 \nQ 984 2206 984 1816 \nL 984 0 \nL 422 0 \nz\n\" transform=\"scale(0.015625)\"/>\n      </defs>\n      <use xlink:href=\"#ArialMT-45\"/>\n      <use xlink:href=\"#ArialMT-70\" x=\"66.699219\"/>\n      <use xlink:href=\"#ArialMT-6f\" x=\"122.314453\"/>\n      <use xlink:href=\"#ArialMT-63\" x=\"177.929688\"/>\n      <use xlink:href=\"#ArialMT-68\" x=\"227.929688\"/>\n     </g>\n    </g>\n   </g>\n   <g id=\"matplotlib.axis_2\">\n    <g id=\"ytick_1\">\n     <g id=\"line2d_7\">\n      <path d=\"M 41.245313 239.840514 \nL 294.881676 239.840514 \n\" clip-path=\"url(#p4bd89851d2)\" style=\"fill: none; stroke: #cccccc; stroke-width: 0.8; stroke-linecap: round\"/>\n     </g>\n     <g id=\"text_8\">\n      <!-- 0.2 -->\n      <g style=\"fill: #262626\" transform=\"translate(20.345313 243.419421) scale(0.1 -0.1)\">\n       <defs>\n        <path id=\"ArialMT-2e\" d=\"M 581 0 \nL 581 641 \nL 1222 641 \nL 1222 0 \nL 581 0 \nz\n\" transform=\"scale(0.015625)\"/>\n       </defs>\n       <use xlink:href=\"#ArialMT-30\"/>\n       <use xlink:href=\"#ArialMT-2e\" x=\"55.615234\"/>\n       <use xlink:href=\"#ArialMT-32\" x=\"83.398438\"/>\n      </g>\n     </g>\n    </g>\n    <g id=\"ytick_2\">\n     <g id=\"line2d_8\">\n      <path d=\"M 41.245313 194.330639 \nL 294.881676 194.330639 \n\" clip-path=\"url(#p4bd89851d2)\" style=\"fill: none; stroke: #cccccc; stroke-width: 0.8; stroke-linecap: round\"/>\n     </g>\n     <g id=\"text_9\">\n      <!-- 0.3 -->\n      <g style=\"fill: #262626\" transform=\"translate(20.345313 197.909545) scale(0.1 -0.1)\">\n       <defs>\n        <path id=\"ArialMT-33\" d=\"M 269 1209 \nL 831 1284 \nQ 928 806 1161 595 \nQ 1394 384 1728 384 \nQ 2125 384 2398 659 \nQ 2672 934 2672 1341 \nQ 2672 1728 2419 1979 \nQ 2166 2231 1775 2231 \nQ 1616 2231 1378 2169 \nL 1441 2663 \nQ 1497 2656 1531 2656 \nQ 1891 2656 2178 2843 \nQ 2466 3031 2466 3422 \nQ 2466 3731 2256 3934 \nQ 2047 4138 1716 4138 \nQ 1388 4138 1169 3931 \nQ 950 3725 888 3313 \nL 325 3413 \nQ 428 3978 793 4289 \nQ 1159 4600 1703 4600 \nQ 2078 4600 2393 4439 \nQ 2709 4278 2876 4000 \nQ 3044 3722 3044 3409 \nQ 3044 3113 2884 2869 \nQ 2725 2625 2413 2481 \nQ 2819 2388 3044 2092 \nQ 3269 1797 3269 1353 \nQ 3269 753 2831 336 \nQ 2394 -81 1725 -81 \nQ 1122 -81 723 278 \nQ 325 638 269 1209 \nz\n\" transform=\"scale(0.015625)\"/>\n       </defs>\n       <use xlink:href=\"#ArialMT-30\"/>\n       <use xlink:href=\"#ArialMT-2e\" x=\"55.615234\"/>\n       <use xlink:href=\"#ArialMT-33\" x=\"83.398438\"/>\n      </g>\n     </g>\n    </g>\n    <g id=\"ytick_3\">\n     <g id=\"line2d_9\">\n      <path d=\"M 41.245313 148.820764 \nL 294.881676 148.820764 \n\" clip-path=\"url(#p4bd89851d2)\" style=\"fill: none; stroke: #cccccc; stroke-width: 0.8; stroke-linecap: round\"/>\n     </g>\n     <g id=\"text_10\">\n      <!-- 0.4 -->\n      <g style=\"fill: #262626\" transform=\"translate(20.345313 152.39967) scale(0.1 -0.1)\">\n       <use xlink:href=\"#ArialMT-30\"/>\n       <use xlink:href=\"#ArialMT-2e\" x=\"55.615234\"/>\n       <use xlink:href=\"#ArialMT-34\" x=\"83.398438\"/>\n      </g>\n     </g>\n    </g>\n    <g id=\"ytick_4\">\n     <g id=\"line2d_10\">\n      <path d=\"M 41.245313 103.310889 \nL 294.881676 103.310889 \n\" clip-path=\"url(#p4bd89851d2)\" style=\"fill: none; stroke: #cccccc; stroke-width: 0.8; stroke-linecap: round\"/>\n     </g>\n     <g id=\"text_11\">\n      <!-- 0.5 -->\n      <g style=\"fill: #262626\" transform=\"translate(20.345313 106.889795) scale(0.1 -0.1)\">\n       <defs>\n        <path id=\"ArialMT-35\" d=\"M 266 1200 \nL 856 1250 \nQ 922 819 1161 601 \nQ 1400 384 1738 384 \nQ 2144 384 2425 690 \nQ 2706 997 2706 1503 \nQ 2706 1984 2436 2262 \nQ 2166 2541 1728 2541 \nQ 1456 2541 1237 2417 \nQ 1019 2294 894 2097 \nL 366 2166 \nL 809 4519 \nL 3088 4519 \nL 3088 3981 \nL 1259 3981 \nL 1013 2750 \nQ 1425 3038 1878 3038 \nQ 2478 3038 2890 2622 \nQ 3303 2206 3303 1553 \nQ 3303 931 2941 478 \nQ 2500 -78 1738 -78 \nQ 1113 -78 717 272 \nQ 322 622 266 1200 \nz\n\" transform=\"scale(0.015625)\"/>\n       </defs>\n       <use xlink:href=\"#ArialMT-30\"/>\n       <use xlink:href=\"#ArialMT-2e\" x=\"55.615234\"/>\n       <use xlink:href=\"#ArialMT-35\" x=\"83.398438\"/>\n      </g>\n     </g>\n    </g>\n    <g id=\"ytick_5\">\n     <g id=\"line2d_11\">\n      <path d=\"M 41.245313 57.801014 \nL 294.881676 57.801014 \n\" clip-path=\"url(#p4bd89851d2)\" style=\"fill: none; stroke: #cccccc; stroke-width: 0.8; stroke-linecap: round\"/>\n     </g>\n     <g id=\"text_12\">\n      <!-- 0.6 -->\n      <g style=\"fill: #262626\" transform=\"translate(20.345313 61.37992) scale(0.1 -0.1)\">\n       <use xlink:href=\"#ArialMT-30\"/>\n       <use xlink:href=\"#ArialMT-2e\" x=\"55.615234\"/>\n       <use xlink:href=\"#ArialMT-36\" x=\"83.398438\"/>\n      </g>\n     </g>\n    </g>\n    <g id=\"text_13\">\n     <!-- Loss -->\n     <g style=\"fill: #262626\" transform=\"translate(14.357813 143.376562) rotate(-90) scale(0.1 -0.1)\">\n      <defs>\n       <path id=\"ArialMT-4c\" d=\"M 469 0 \nL 469 4581 \nL 1075 4581 \nL 1075 541 \nL 3331 541 \nL 3331 0 \nL 469 0 \nz\n\" transform=\"scale(0.015625)\"/>\n       <path id=\"ArialMT-73\" d=\"M 197 991 \nL 753 1078 \nQ 800 744 1014 566 \nQ 1228 388 1613 388 \nQ 2000 388 2187 545 \nQ 2375 703 2375 916 \nQ 2375 1106 2209 1216 \nQ 2094 1291 1634 1406 \nQ 1016 1563 777 1677 \nQ 538 1791 414 1992 \nQ 291 2194 291 2438 \nQ 291 2659 392 2848 \nQ 494 3038 669 3163 \nQ 800 3259 1026 3326 \nQ 1253 3394 1513 3394 \nQ 1903 3394 2198 3281 \nQ 2494 3169 2634 2976 \nQ 2775 2784 2828 2463 \nL 2278 2388 \nQ 2241 2644 2061 2787 \nQ 1881 2931 1553 2931 \nQ 1166 2931 1000 2803 \nQ 834 2675 834 2503 \nQ 834 2394 903 2306 \nQ 972 2216 1119 2156 \nQ 1203 2125 1616 2013 \nQ 2213 1853 2448 1751 \nQ 2684 1650 2818 1456 \nQ 2953 1263 2953 975 \nQ 2953 694 2789 445 \nQ 2625 197 2315 61 \nQ 2006 -75 1616 -75 \nQ 969 -75 630 194 \nQ 291 463 197 991 \nz\n\" transform=\"scale(0.015625)\"/>\n      </defs>\n      <use xlink:href=\"#ArialMT-4c\"/>\n      <use xlink:href=\"#ArialMT-6f\" x=\"55.615234\"/>\n      <use xlink:href=\"#ArialMT-73\" x=\"111.230469\"/>\n      <use xlink:href=\"#ArialMT-73\" x=\"161.230469\"/>\n     </g>\n    </g>\n   </g>\n   <g id=\"line2d_12\">\n    <path d=\"M 52.774238 32.015625 \nL 55.103314 52.434721 \nL 57.43239 71.680156 \nL 59.761466 90.457804 \nL 62.090542 104.468383 \nL 64.419618 109.298791 \nL 66.748693 118.838693 \nL 69.077769 128.139954 \nL 71.406845 131.991344 \nL 73.735921 149.037023 \nL 76.064997 138.025522 \nL 78.394073 142.803686 \nL 80.723149 156.171745 \nL 83.052225 151.246531 \nL 85.3813 170.620083 \nL 87.710376 154.488942 \nL 90.039452 175.182364 \nL 92.368528 163.777034 \nL 94.697604 173.884615 \nL 97.02668 176.284357 \nL 99.355756 173.568692 \nL 101.684832 164.225155 \nL 104.013908 185.363755 \nL 106.342983 179.879176 \nL 108.672059 158.669276 \nL 111.001135 172.079936 \nL 113.330211 181.055021 \nL 115.659287 187.668705 \nL 117.988363 191.565667 \nL 120.317439 182.287694 \nL 122.646515 181.29537 \nL 124.97559 201.826958 \nL 127.304666 187.182824 \nL 129.633742 186.546272 \nL 131.962818 191.163972 \nL 134.291894 200.831664 \nL 136.62097 181.79655 \nL 138.950046 194.938649 \nL 141.279122 171.789376 \nL 143.608198 189.824531 \nL 145.937273 181.984127 \nL 148.266349 192.357787 \nL 150.595425 191.387259 \nL 152.924501 187.511158 \nL 155.253577 186.084371 \nL 157.582653 182.238975 \nL 159.911729 203.85643 \nL 162.240805 186.439735 \nL 164.56988 201.99598 \nL 166.898956 207.157461 \nL 169.228032 207.707481 \nL 171.557108 201.511455 \nL 173.886184 196.488887 \nL 176.21526 193.892644 \nL 178.544336 198.891369 \nL 180.873412 204.490446 \nL 183.202488 197.8873 \nL 185.531563 199.158818 \nL 187.860639 202.09244 \nL 190.189715 180.175867 \nL 192.518791 196.715104 \nL 194.847867 182.793065 \nL 197.176943 183.995967 \nL 199.506019 199.78593 \nL 201.835095 193.508648 \nL 204.164171 208.737618 \nL 206.493246 212.091911 \nL 208.822322 207.408607 \nL 211.151398 200.420434 \nL 213.480474 214.668623 \nL 215.80955 227.520515 \nL 218.138626 224.564242 \nL 220.467702 204.486391 \nL 222.796778 213.228029 \nL 225.125853 206.025995 \nL 227.454929 212.250896 \nL 229.784005 214.702002 \nL 232.113081 216.357189 \nL 234.442157 219.658227 \nL 236.771233 217.469118 \nL 239.100309 211.206939 \nL 241.429385 197.93477 \nL 243.758461 223.090934 \nL 246.087536 207.348754 \nL 248.416612 219.323499 \nL 250.745688 221.949357 \nL 253.074764 217.026266 \nL 255.40384 208.032478 \nL 257.732916 223.353866 \nL 260.061992 222.138154 \nL 262.391068 233.615625 \nL 264.720143 215.168921 \nL 267.049219 209.483678 \nL 269.378295 226.206524 \nL 271.707371 231.011346 \nL 274.036447 208.161313 \nL 276.365523 193.765708 \nL 278.694599 232.339862 \nL 281.023675 216.398123 \nL 283.352751 218.148889 \n\" clip-path=\"url(#p4bd89851d2)\" style=\"fill: none; stroke: #1f77b4; stroke-width: 1.5; stroke-linecap: round\"/>\n   </g>\n   <g id=\"patch_3\">\n    <path d=\"M 41.245313 243.695625 \nL 41.245313 21.935625 \n\" style=\"fill: none; stroke: #cccccc; stroke-width: 0.8; stroke-linejoin: miter; stroke-linecap: square\"/>\n   </g>\n   <g id=\"patch_4\">\n    <path d=\"M 294.881676 243.695625 \nL 294.881676 21.935625 \n\" style=\"fill: none; stroke: #cccccc; stroke-width: 0.8; stroke-linejoin: miter; stroke-linecap: square\"/>\n   </g>\n   <g id=\"patch_5\">\n    <path d=\"M 41.245313 243.695625 \nL 294.881676 243.695625 \n\" style=\"fill: none; stroke: #cccccc; stroke-width: 0.8; stroke-linejoin: miter; stroke-linecap: square\"/>\n   </g>\n   <g id=\"patch_6\">\n    <path d=\"M 41.245313 21.935625 \nL 294.881676 21.935625 \n\" style=\"fill: none; stroke: #cccccc; stroke-width: 0.8; stroke-linejoin: miter; stroke-linecap: square\"/>\n   </g>\n   <g id=\"text_14\">\n    <!-- Model loss -->\n    <g style=\"fill: #262626\" transform=\"translate(139.386307 15.935625) scale(0.12 -0.12)\">\n     <defs>\n      <path id=\"ArialMT-4d\" d=\"M 475 0 \nL 475 4581 \nL 1388 4581 \nL 2472 1338 \nQ 2622 884 2691 659 \nQ 2769 909 2934 1394 \nL 4031 4581 \nL 4847 4581 \nL 4847 0 \nL 4263 0 \nL 4263 3834 \nL 2931 0 \nL 2384 0 \nL 1059 3900 \nL 1059 0 \nL 475 0 \nz\n\" transform=\"scale(0.015625)\"/>\n      <path id=\"ArialMT-64\" d=\"M 2575 0 \nL 2575 419 \nQ 2259 -75 1647 -75 \nQ 1250 -75 917 144 \nQ 584 363 401 755 \nQ 219 1147 219 1656 \nQ 219 2153 384 2558 \nQ 550 2963 881 3178 \nQ 1213 3394 1622 3394 \nQ 1922 3394 2156 3267 \nQ 2391 3141 2538 2938 \nL 2538 4581 \nL 3097 4581 \nL 3097 0 \nL 2575 0 \nz\nM 797 1656 \nQ 797 1019 1065 703 \nQ 1334 388 1700 388 \nQ 2069 388 2326 689 \nQ 2584 991 2584 1609 \nQ 2584 2291 2321 2609 \nQ 2059 2928 1675 2928 \nQ 1300 2928 1048 2622 \nQ 797 2316 797 1656 \nz\n\" transform=\"scale(0.015625)\"/>\n      <path id=\"ArialMT-65\" d=\"M 2694 1069 \nL 3275 997 \nQ 3138 488 2766 206 \nQ 2394 -75 1816 -75 \nQ 1088 -75 661 373 \nQ 234 822 234 1631 \nQ 234 2469 665 2931 \nQ 1097 3394 1784 3394 \nQ 2450 3394 2872 2941 \nQ 3294 2488 3294 1666 \nQ 3294 1616 3291 1516 \nL 816 1516 \nQ 847 969 1125 678 \nQ 1403 388 1819 388 \nQ 2128 388 2347 550 \nQ 2566 713 2694 1069 \nz\nM 847 1978 \nL 2700 1978 \nQ 2663 2397 2488 2606 \nQ 2219 2931 1791 2931 \nQ 1403 2931 1139 2672 \nQ 875 2413 847 1978 \nz\n\" transform=\"scale(0.015625)\"/>\n      <path id=\"ArialMT-6c\" d=\"M 409 0 \nL 409 4581 \nL 972 4581 \nL 972 0 \nL 409 0 \nz\n\" transform=\"scale(0.015625)\"/>\n      <path id=\"ArialMT-20\" transform=\"scale(0.015625)\"/>\n     </defs>\n     <use xlink:href=\"#ArialMT-4d\"/>\n     <use xlink:href=\"#ArialMT-6f\" x=\"83.300781\"/>\n     <use xlink:href=\"#ArialMT-64\" x=\"138.916016\"/>\n     <use xlink:href=\"#ArialMT-65\" x=\"194.53125\"/>\n     <use xlink:href=\"#ArialMT-6c\" x=\"250.146484\"/>\n     <use xlink:href=\"#ArialMT-20\" x=\"272.363281\"/>\n     <use xlink:href=\"#ArialMT-6c\" x=\"300.146484\"/>\n     <use xlink:href=\"#ArialMT-6f\" x=\"322.363281\"/>\n     <use xlink:href=\"#ArialMT-73\" x=\"377.978516\"/>\n     <use xlink:href=\"#ArialMT-73\" x=\"427.978516\"/>\n    </g>\n   </g>\n  </g>\n  <g id=\"axes_2\">\n   <g id=\"patch_7\">\n    <path d=\"M 345.608949 243.695625 \nL 599.245312 243.695625 \nL 599.245312 21.935625 \nL 345.608949 21.935625 \nz\n\" style=\"fill: #ffffff\"/>\n   </g>\n   <g id=\"matplotlib.axis_3\">\n    <g id=\"xtick_7\">\n     <g id=\"line2d_13\">\n      <path d=\"M 357.137874 243.695625 \nL 357.137874 21.935625 \n\" clip-path=\"url(#pf8725fdfc6)\" style=\"fill: none; stroke: #cccccc; stroke-width: 0.8; stroke-linecap: round\"/>\n     </g>\n     <g id=\"text_15\">\n      <!-- 0 -->\n      <g style=\"fill: #262626\" transform=\"translate(354.357406 257.853437) scale(0.1 -0.1)\">\n       <use xlink:href=\"#ArialMT-30\"/>\n      </g>\n     </g>\n    </g>\n    <g id=\"xtick_8\">\n     <g id=\"line2d_14\">\n      <path d=\"M 403.719392 243.695625 \nL 403.719392 21.935625 \n\" clip-path=\"url(#pf8725fdfc6)\" style=\"fill: none; stroke: #cccccc; stroke-width: 0.8; stroke-linecap: round\"/>\n     </g>\n     <g id=\"text_16\">\n      <!-- 20 -->\n      <g style=\"fill: #262626\" transform=\"translate(398.158455 257.853437) scale(0.1 -0.1)\">\n       <use xlink:href=\"#ArialMT-32\"/>\n       <use xlink:href=\"#ArialMT-30\" x=\"55.615234\"/>\n      </g>\n     </g>\n    </g>\n    <g id=\"xtick_9\">\n     <g id=\"line2d_15\">\n      <path d=\"M 450.30091 243.695625 \nL 450.30091 21.935625 \n\" clip-path=\"url(#pf8725fdfc6)\" style=\"fill: none; stroke: #cccccc; stroke-width: 0.8; stroke-linecap: round\"/>\n     </g>\n     <g id=\"text_17\">\n      <!-- 40 -->\n      <g style=\"fill: #262626\" transform=\"translate(444.739972 257.853437) scale(0.1 -0.1)\">\n       <use xlink:href=\"#ArialMT-34\"/>\n       <use xlink:href=\"#ArialMT-30\" x=\"55.615234\"/>\n      </g>\n     </g>\n    </g>\n    <g id=\"xtick_10\">\n     <g id=\"line2d_16\">\n      <path d=\"M 496.882427 243.695625 \nL 496.882427 21.935625 \n\" clip-path=\"url(#pf8725fdfc6)\" style=\"fill: none; stroke: #cccccc; stroke-width: 0.8; stroke-linecap: round\"/>\n     </g>\n     <g id=\"text_18\">\n      <!-- 60 -->\n      <g style=\"fill: #262626\" transform=\"translate(491.32149 257.853437) scale(0.1 -0.1)\">\n       <use xlink:href=\"#ArialMT-36\"/>\n       <use xlink:href=\"#ArialMT-30\" x=\"55.615234\"/>\n      </g>\n     </g>\n    </g>\n    <g id=\"xtick_11\">\n     <g id=\"line2d_17\">\n      <path d=\"M 543.463945 243.695625 \nL 543.463945 21.935625 \n\" clip-path=\"url(#pf8725fdfc6)\" style=\"fill: none; stroke: #cccccc; stroke-width: 0.8; stroke-linecap: round\"/>\n     </g>\n     <g id=\"text_19\">\n      <!-- 80 -->\n      <g style=\"fill: #262626\" transform=\"translate(537.903008 257.853437) scale(0.1 -0.1)\">\n       <use xlink:href=\"#ArialMT-38\"/>\n       <use xlink:href=\"#ArialMT-30\" x=\"55.615234\"/>\n      </g>\n     </g>\n    </g>\n    <g id=\"xtick_12\">\n     <g id=\"line2d_18\">\n      <path d=\"M 590.045463 243.695625 \nL 590.045463 21.935625 \n\" clip-path=\"url(#pf8725fdfc6)\" style=\"fill: none; stroke: #cccccc; stroke-width: 0.8; stroke-linecap: round\"/>\n     </g>\n     <g id=\"text_20\">\n      <!-- 100 -->\n      <g style=\"fill: #262626\" transform=\"translate(581.704057 257.853437) scale(0.1 -0.1)\">\n       <use xlink:href=\"#ArialMT-31\"/>\n       <use xlink:href=\"#ArialMT-30\" x=\"55.615234\"/>\n       <use xlink:href=\"#ArialMT-30\" x=\"111.230469\"/>\n      </g>\n     </g>\n    </g>\n    <g id=\"text_21\">\n     <!-- Epoch -->\n     <g style=\"fill: #262626\" transform=\"translate(458.250568 270.99875) scale(0.1 -0.1)\">\n      <use xlink:href=\"#ArialMT-45\"/>\n      <use xlink:href=\"#ArialMT-70\" x=\"66.699219\"/>\n      <use xlink:href=\"#ArialMT-6f\" x=\"122.314453\"/>\n      <use xlink:href=\"#ArialMT-63\" x=\"177.929688\"/>\n      <use xlink:href=\"#ArialMT-68\" x=\"227.929688\"/>\n     </g>\n    </g>\n   </g>\n   <g id=\"matplotlib.axis_4\">\n    <g id=\"ytick_6\">\n     <g id=\"line2d_19\">\n      <path d=\"M 345.608949 236.717144 \nL 599.245312 236.717144 \n\" clip-path=\"url(#pf8725fdfc6)\" style=\"fill: none; stroke: #cccccc; stroke-width: 0.8; stroke-linecap: round\"/>\n     </g>\n     <g id=\"text_22\">\n      <!-- 65 -->\n      <g style=\"fill: #262626\" transform=\"translate(327.487074 240.29605) scale(0.1 -0.1)\">\n       <use xlink:href=\"#ArialMT-36\"/>\n       <use xlink:href=\"#ArialMT-35\" x=\"55.615234\"/>\n      </g>\n     </g>\n    </g>\n    <g id=\"ytick_7\">\n     <g id=\"line2d_20\">\n      <path d=\"M 345.608949 199.498686 \nL 599.245312 199.498686 \n\" clip-path=\"url(#pf8725fdfc6)\" style=\"fill: none; stroke: #cccccc; stroke-width: 0.8; stroke-linecap: round\"/>\n     </g>\n     <g id=\"text_23\">\n      <!-- 70 -->\n      <g style=\"fill: #262626\" transform=\"translate(327.487074 203.077592) scale(0.1 -0.1)\">\n       <defs>\n        <path id=\"ArialMT-37\" d=\"M 303 3981 \nL 303 4522 \nL 3269 4522 \nL 3269 4084 \nQ 2831 3619 2401 2847 \nQ 1972 2075 1738 1259 \nQ 1569 684 1522 0 \nL 944 0 \nQ 953 541 1156 1306 \nQ 1359 2072 1739 2783 \nQ 2119 3494 2547 3981 \nL 303 3981 \nz\n\" transform=\"scale(0.015625)\"/>\n       </defs>\n       <use xlink:href=\"#ArialMT-37\"/>\n       <use xlink:href=\"#ArialMT-30\" x=\"55.615234\"/>\n      </g>\n     </g>\n    </g>\n    <g id=\"ytick_8\">\n     <g id=\"line2d_21\">\n      <path d=\"M 345.608949 162.280228 \nL 599.245312 162.280228 \n\" clip-path=\"url(#pf8725fdfc6)\" style=\"fill: none; stroke: #cccccc; stroke-width: 0.8; stroke-linecap: round\"/>\n     </g>\n     <g id=\"text_24\">\n      <!-- 75 -->\n      <g style=\"fill: #262626\" transform=\"translate(327.487074 165.859134) scale(0.1 -0.1)\">\n       <use xlink:href=\"#ArialMT-37\"/>\n       <use xlink:href=\"#ArialMT-35\" x=\"55.615234\"/>\n      </g>\n     </g>\n    </g>\n    <g id=\"ytick_9\">\n     <g id=\"line2d_22\">\n      <path d=\"M 345.608949 125.06177 \nL 599.245312 125.06177 \n\" clip-path=\"url(#pf8725fdfc6)\" style=\"fill: none; stroke: #cccccc; stroke-width: 0.8; stroke-linecap: round\"/>\n     </g>\n     <g id=\"text_25\">\n      <!-- 80 -->\n      <g style=\"fill: #262626\" transform=\"translate(327.487074 128.640676) scale(0.1 -0.1)\">\n       <use xlink:href=\"#ArialMT-38\"/>\n       <use xlink:href=\"#ArialMT-30\" x=\"55.615234\"/>\n      </g>\n     </g>\n    </g>\n    <g id=\"ytick_10\">\n     <g id=\"line2d_23\">\n      <path d=\"M 345.608949 87.843312 \nL 599.245312 87.843312 \n\" clip-path=\"url(#pf8725fdfc6)\" style=\"fill: none; stroke: #cccccc; stroke-width: 0.8; stroke-linecap: round\"/>\n     </g>\n     <g id=\"text_26\">\n      <!-- 85 -->\n      <g style=\"fill: #262626\" transform=\"translate(327.487074 91.422218) scale(0.1 -0.1)\">\n       <use xlink:href=\"#ArialMT-38\"/>\n       <use xlink:href=\"#ArialMT-35\" x=\"55.615234\"/>\n      </g>\n     </g>\n    </g>\n    <g id=\"ytick_11\">\n     <g id=\"line2d_24\">\n      <path d=\"M 345.608949 50.624854 \nL 599.245312 50.624854 \n\" clip-path=\"url(#pf8725fdfc6)\" style=\"fill: none; stroke: #cccccc; stroke-width: 0.8; stroke-linecap: round\"/>\n     </g>\n     <g id=\"text_27\">\n      <!-- 90 -->\n      <g style=\"fill: #262626\" transform=\"translate(327.487074 54.20376) scale(0.1 -0.1)\">\n       <defs>\n        <path id=\"ArialMT-39\" d=\"M 350 1059 \nL 891 1109 \nQ 959 728 1153 556 \nQ 1347 384 1650 384 \nQ 1909 384 2104 503 \nQ 2300 622 2425 820 \nQ 2550 1019 2634 1356 \nQ 2719 1694 2719 2044 \nQ 2719 2081 2716 2156 \nQ 2547 1888 2255 1720 \nQ 1963 1553 1622 1553 \nQ 1053 1553 659 1965 \nQ 266 2378 266 3053 \nQ 266 3750 677 4175 \nQ 1088 4600 1706 4600 \nQ 2153 4600 2523 4359 \nQ 2894 4119 3086 3673 \nQ 3278 3228 3278 2384 \nQ 3278 1506 3087 986 \nQ 2897 466 2520 194 \nQ 2144 -78 1638 -78 \nQ 1100 -78 759 220 \nQ 419 519 350 1059 \nz\nM 2653 3081 \nQ 2653 3566 2395 3850 \nQ 2138 4134 1775 4134 \nQ 1400 4134 1122 3828 \nQ 844 3522 844 3034 \nQ 844 2597 1108 2323 \nQ 1372 2050 1759 2050 \nQ 2150 2050 2401 2323 \nQ 2653 2597 2653 3081 \nz\n\" transform=\"scale(0.015625)\"/>\n       </defs>\n       <use xlink:href=\"#ArialMT-39\"/>\n       <use xlink:href=\"#ArialMT-30\" x=\"55.615234\"/>\n      </g>\n     </g>\n    </g>\n    <g id=\"text_28\">\n     <!-- Accuracy [%] -->\n     <g style=\"fill: #262626\" transform=\"translate(321.382386 161.989844) rotate(-90) scale(0.1 -0.1)\">\n      <defs>\n       <path id=\"ArialMT-41\" d=\"M -9 0 \nL 1750 4581 \nL 2403 4581 \nL 4278 0 \nL 3588 0 \nL 3053 1388 \nL 1138 1388 \nL 634 0 \nL -9 0 \nz\nM 1313 1881 \nL 2866 1881 \nL 2388 3150 \nQ 2169 3728 2063 4100 \nQ 1975 3659 1816 3225 \nL 1313 1881 \nz\n\" transform=\"scale(0.015625)\"/>\n       <path id=\"ArialMT-75\" d=\"M 2597 0 \nL 2597 488 \nQ 2209 -75 1544 -75 \nQ 1250 -75 995 37 \nQ 741 150 617 320 \nQ 494 491 444 738 \nQ 409 903 409 1263 \nL 409 3319 \nL 972 3319 \nL 972 1478 \nQ 972 1038 1006 884 \nQ 1059 663 1231 536 \nQ 1403 409 1656 409 \nQ 1909 409 2131 539 \nQ 2353 669 2445 892 \nQ 2538 1116 2538 1541 \nL 2538 3319 \nL 3100 3319 \nL 3100 0 \nL 2597 0 \nz\n\" transform=\"scale(0.015625)\"/>\n       <path id=\"ArialMT-72\" d=\"M 416 0 \nL 416 3319 \nL 922 3319 \nL 922 2816 \nQ 1116 3169 1280 3281 \nQ 1444 3394 1641 3394 \nQ 1925 3394 2219 3213 \nL 2025 2691 \nQ 1819 2813 1613 2813 \nQ 1428 2813 1281 2702 \nQ 1134 2591 1072 2394 \nQ 978 2094 978 1738 \nL 978 0 \nL 416 0 \nz\n\" transform=\"scale(0.015625)\"/>\n       <path id=\"ArialMT-61\" d=\"M 2588 409 \nQ 2275 144 1986 34 \nQ 1697 -75 1366 -75 \nQ 819 -75 525 192 \nQ 231 459 231 875 \nQ 231 1119 342 1320 \nQ 453 1522 633 1644 \nQ 813 1766 1038 1828 \nQ 1203 1872 1538 1913 \nQ 2219 1994 2541 2106 \nQ 2544 2222 2544 2253 \nQ 2544 2597 2384 2738 \nQ 2169 2928 1744 2928 \nQ 1347 2928 1158 2789 \nQ 969 2650 878 2297 \nL 328 2372 \nQ 403 2725 575 2942 \nQ 747 3159 1072 3276 \nQ 1397 3394 1825 3394 \nQ 2250 3394 2515 3294 \nQ 2781 3194 2906 3042 \nQ 3031 2891 3081 2659 \nQ 3109 2516 3109 2141 \nL 3109 1391 \nQ 3109 606 3145 398 \nQ 3181 191 3288 0 \nL 2700 0 \nQ 2613 175 2588 409 \nz\nM 2541 1666 \nQ 2234 1541 1622 1453 \nQ 1275 1403 1131 1340 \nQ 988 1278 909 1158 \nQ 831 1038 831 891 \nQ 831 666 1001 516 \nQ 1172 366 1500 366 \nQ 1825 366 2078 508 \nQ 2331 650 2450 897 \nQ 2541 1088 2541 1459 \nL 2541 1666 \nz\n\" transform=\"scale(0.015625)\"/>\n       <path id=\"ArialMT-79\" d=\"M 397 -1278 \nL 334 -750 \nQ 519 -800 656 -800 \nQ 844 -800 956 -737 \nQ 1069 -675 1141 -563 \nQ 1194 -478 1313 -144 \nQ 1328 -97 1363 -6 \nL 103 3319 \nL 709 3319 \nL 1400 1397 \nQ 1534 1031 1641 628 \nQ 1738 1016 1872 1384 \nL 2581 3319 \nL 3144 3319 \nL 1881 -56 \nQ 1678 -603 1566 -809 \nQ 1416 -1088 1222 -1217 \nQ 1028 -1347 759 -1347 \nQ 597 -1347 397 -1278 \nz\n\" transform=\"scale(0.015625)\"/>\n       <path id=\"ArialMT-5b\" d=\"M 434 -1272 \nL 434 4581 \nL 1675 4581 \nL 1675 4116 \nL 997 4116 \nL 997 -806 \nL 1675 -806 \nL 1675 -1272 \nL 434 -1272 \nz\n\" transform=\"scale(0.015625)\"/>\n       <path id=\"ArialMT-25\" d=\"M 372 3481 \nQ 372 3972 619 4315 \nQ 866 4659 1334 4659 \nQ 1766 4659 2048 4351 \nQ 2331 4044 2331 3447 \nQ 2331 2866 2045 2552 \nQ 1759 2238 1341 2238 \nQ 925 2238 648 2547 \nQ 372 2856 372 3481 \nz\nM 1350 4272 \nQ 1141 4272 1002 4090 \nQ 863 3909 863 3425 \nQ 863 2984 1003 2804 \nQ 1144 2625 1350 2625 \nQ 1563 2625 1702 2806 \nQ 1841 2988 1841 3469 \nQ 1841 3913 1700 4092 \nQ 1559 4272 1350 4272 \nz\nM 1353 -169 \nL 3859 4659 \nL 4316 4659 \nL 1819 -169 \nL 1353 -169 \nz\nM 3334 1075 \nQ 3334 1569 3581 1911 \nQ 3828 2253 4300 2253 \nQ 4731 2253 5014 1945 \nQ 5297 1638 5297 1041 \nQ 5297 459 5011 145 \nQ 4725 -169 4303 -169 \nQ 3888 -169 3611 142 \nQ 3334 453 3334 1075 \nz\nM 4316 1866 \nQ 4103 1866 3964 1684 \nQ 3825 1503 3825 1019 \nQ 3825 581 3965 400 \nQ 4106 219 4313 219 \nQ 4528 219 4667 400 \nQ 4806 581 4806 1063 \nQ 4806 1506 4665 1686 \nQ 4525 1866 4316 1866 \nz\n\" transform=\"scale(0.015625)\"/>\n       <path id=\"ArialMT-5d\" d=\"M 1363 -1272 \nL 122 -1272 \nL 122 -806 \nL 800 -806 \nL 800 4116 \nL 122 4116 \nL 122 4581 \nL 1363 4581 \nL 1363 -1272 \nz\n\" transform=\"scale(0.015625)\"/>\n      </defs>\n      <use xlink:href=\"#ArialMT-41\"/>\n      <use xlink:href=\"#ArialMT-63\" x=\"66.699219\"/>\n      <use xlink:href=\"#ArialMT-63\" x=\"116.699219\"/>\n      <use xlink:href=\"#ArialMT-75\" x=\"166.699219\"/>\n      <use xlink:href=\"#ArialMT-72\" x=\"222.314453\"/>\n      <use xlink:href=\"#ArialMT-61\" x=\"255.615234\"/>\n      <use xlink:href=\"#ArialMT-63\" x=\"311.230469\"/>\n      <use xlink:href=\"#ArialMT-79\" x=\"361.230469\"/>\n      <use xlink:href=\"#ArialMT-20\" x=\"411.230469\"/>\n      <use xlink:href=\"#ArialMT-5b\" x=\"439.013672\"/>\n      <use xlink:href=\"#ArialMT-25\" x=\"466.796875\"/>\n      <use xlink:href=\"#ArialMT-5d\" x=\"555.712891\"/>\n     </g>\n    </g>\n   </g>\n   <g id=\"line2d_25\">\n    <path d=\"M 357.137874 233.615625 \nL 359.46695 156.077133 \nL 361.796026 112.655636 \nL 364.125102 115.757156 \nL 366.454178 121.960251 \nL 368.783254 125.06177 \nL 371.11233 125.06177 \nL 373.441406 112.655636 \nL 375.770482 112.655636 \nL 378.099557 90.944831 \nL 380.428633 109.55406 \nL 382.757709 112.655636 \nL 385.086785 100.249446 \nL 387.415861 112.655636 \nL 389.744937 84.741793 \nL 392.074013 94.046407 \nL 394.403089 75.437178 \nL 396.732164 90.944831 \nL 399.06124 78.538698 \nL 401.390316 81.640217 \nL 403.719392 75.437178 \nL 406.048468 84.741793 \nL 408.377544 66.132564 \nL 410.70662 81.640217 \nL 413.035696 97.147927 \nL 415.364772 84.741793 \nL 417.693847 72.335602 \nL 420.022923 75.437178 \nL 422.351999 63.030988 \nL 424.681075 78.538698 \nL 427.010151 59.929469 \nL 429.339227 72.335602 \nL 431.668303 69.234083 \nL 433.997379 84.741793 \nL 436.326454 69.234083 \nL 438.65553 63.030988 \nL 440.984606 87.843312 \nL 443.313682 66.132564 \nL 445.642758 106.452541 \nL 447.971834 56.827949 \nL 450.30091 90.944831 \nL 452.629986 63.030988 \nL 454.959062 78.538698 \nL 457.288137 84.741793 \nL 459.617213 78.538698 \nL 461.946289 84.741793 \nL 464.275365 69.234083 \nL 466.604441 87.843312 \nL 468.933517 59.929469 \nL 471.262593 50.624854 \nL 473.591669 50.624854 \nL 475.920745 53.726373 \nL 478.24982 63.030988 \nL 480.578896 69.234083 \nL 482.907972 66.132564 \nL 485.237048 78.538698 \nL 487.566124 56.827949 \nL 489.8952 66.132564 \nL 492.224276 63.030988 \nL 494.553352 90.944831 \nL 496.882427 66.132564 \nL 499.211503 69.234083 \nL 501.540579 75.437178 \nL 503.869655 69.234083 \nL 506.198731 75.437178 \nL 508.527807 50.624854 \nL 510.856883 50.624854 \nL 513.185959 56.827949 \nL 515.515035 59.929469 \nL 517.84411 59.929469 \nL 520.173186 53.726373 \nL 522.502262 50.624854 \nL 524.831338 69.234083 \nL 527.160414 53.726373 \nL 529.48949 59.929469 \nL 531.818566 56.827949 \nL 534.147642 56.827949 \nL 536.476717 69.234083 \nL 538.805793 47.523335 \nL 541.134869 50.624854 \nL 543.463945 72.335602 \nL 545.793021 84.741793 \nL 548.122097 32.015625 \nL 550.451173 56.827949 \nL 552.780249 50.624854 \nL 555.109325 56.827949 \nL 557.4384 56.827949 \nL 559.767476 53.726373 \nL 562.096552 59.929469 \nL 564.425628 63.030988 \nL 566.754704 53.726373 \nL 569.08378 41.32024 \nL 571.412856 78.538698 \nL 573.741932 50.624854 \nL 576.071007 38.21872 \nL 578.400083 63.030988 \nL 580.729159 72.335602 \nL 583.058235 44.421759 \nL 585.387311 47.523335 \nL 587.716387 75.437178 \n\" clip-path=\"url(#pf8725fdfc6)\" style=\"fill: none; stroke: #1f77b4; stroke-width: 1.5; stroke-linecap: round\"/>\n   </g>\n   <g id=\"line2d_26\">\n    <path d=\"M 357.137874 169.72392 \nL 359.46695 154.836537 \nL 361.796026 139.949153 \nL 364.125102 125.06177 \nL 366.454178 110.174387 \nL 368.783254 80.39962 \nL 371.11233 110.174387 \nL 373.441406 65.512237 \nL 375.770482 65.512237 \nL 378.099557 80.39962 \nL 380.428633 80.39962 \nL 382.757709 35.737471 \nL 385.086785 80.39962 \nL 387.415861 50.624854 \nL 389.744937 50.624854 \nL 392.074013 65.512237 \nL 394.403089 80.39962 \nL 396.732164 80.39962 \nL 399.06124 50.624854 \nL 401.390316 50.624854 \nL 403.719392 50.624854 \nL 406.048468 65.512237 \nL 408.377544 50.624854 \nL 410.70662 50.624854 \nL 413.035696 50.624854 \nL 415.364772 50.624854 \nL 417.693847 50.624854 \nL 420.022923 50.624854 \nL 422.351999 50.624854 \nL 424.681075 50.624854 \nL 427.010151 50.624854 \nL 429.339227 65.512237 \nL 431.668303 50.624854 \nL 433.997379 50.624854 \nL 436.326454 50.624854 \nL 438.65553 50.624854 \nL 440.984606 50.624854 \nL 443.313682 50.624854 \nL 445.642758 50.624854 \nL 447.971834 65.512237 \nL 450.30091 50.624854 \nL 452.629986 50.624854 \nL 454.959062 50.624854 \nL 457.288137 65.512237 \nL 459.617213 50.624854 \nL 461.946289 65.512237 \nL 464.275365 50.624854 \nL 466.604441 65.512237 \nL 468.933517 50.624854 \nL 471.262593 65.512237 \nL 473.591669 65.512237 \nL 475.920745 65.512237 \nL 478.24982 80.39962 \nL 480.578896 80.39962 \nL 482.907972 80.39962 \nL 485.237048 80.39962 \nL 487.566124 65.512237 \nL 489.8952 80.39962 \nL 492.224276 80.39962 \nL 494.553352 65.512237 \nL 496.882427 65.512237 \nL 499.211503 80.39962 \nL 501.540579 65.512237 \nL 503.869655 65.512237 \nL 506.198731 65.512237 \nL 508.527807 65.512237 \nL 510.856883 65.512237 \nL 513.185959 50.624854 \nL 515.515035 50.624854 \nL 517.84411 65.512237 \nL 520.173186 65.512237 \nL 522.502262 65.512237 \nL 524.831338 65.512237 \nL 527.160414 50.624854 \nL 529.48949 50.624854 \nL 531.818566 65.512237 \nL 534.147642 65.512237 \nL 536.476717 65.512237 \nL 538.805793 50.624854 \nL 541.134869 65.512237 \nL 543.463945 50.624854 \nL 545.793021 65.512237 \nL 548.122097 65.512237 \nL 550.451173 65.512237 \nL 552.780249 80.39962 \nL 555.109325 95.287004 \nL 557.4384 80.39962 \nL 559.767476 50.624854 \nL 562.096552 80.39962 \nL 564.425628 80.39962 \nL 566.754704 50.624854 \nL 569.08378 50.624854 \nL 571.412856 65.512237 \nL 573.741932 65.512237 \nL 576.071007 65.512237 \nL 578.400083 50.624854 \nL 580.729159 80.39962 \nL 583.058235 65.512237 \nL 585.387311 65.512237 \nL 587.716387 80.39962 \n\" clip-path=\"url(#pf8725fdfc6)\" style=\"fill: none; stroke: #ff7f0e; stroke-width: 1.5; stroke-linecap: round\"/>\n   </g>\n   <g id=\"patch_8\">\n    <path d=\"M 345.608949 243.695625 \nL 345.608949 21.935625 \n\" style=\"fill: none; stroke: #cccccc; stroke-width: 0.8; stroke-linejoin: miter; stroke-linecap: square\"/>\n   </g>\n   <g id=\"patch_9\">\n    <path d=\"M 599.245312 243.695625 \nL 599.245312 21.935625 \n\" style=\"fill: none; stroke: #cccccc; stroke-width: 0.8; stroke-linejoin: miter; stroke-linecap: square\"/>\n   </g>\n   <g id=\"patch_10\">\n    <path d=\"M 345.608949 243.695625 \nL 599.245312 243.695625 \n\" style=\"fill: none; stroke: #cccccc; stroke-width: 0.8; stroke-linejoin: miter; stroke-linecap: square\"/>\n   </g>\n   <g id=\"patch_11\">\n    <path d=\"M 345.608949 21.935625 \nL 599.245312 21.935625 \n\" style=\"fill: none; stroke: #cccccc; stroke-width: 0.8; stroke-linejoin: miter; stroke-linecap: square\"/>\n   </g>\n   <g id=\"text_29\">\n    <!-- Final model test accuracy: 86.00% -->\n    <g style=\"fill: #262626\" transform=\"translate(380.721818 15.935625) scale(0.12 -0.12)\">\n     <defs>\n      <path id=\"ArialMT-46\" d=\"M 525 0 \nL 525 4581 \nL 3616 4581 \nL 3616 4041 \nL 1131 4041 \nL 1131 2622 \nL 3281 2622 \nL 3281 2081 \nL 1131 2081 \nL 1131 0 \nL 525 0 \nz\n\" transform=\"scale(0.015625)\"/>\n      <path id=\"ArialMT-69\" d=\"M 425 3934 \nL 425 4581 \nL 988 4581 \nL 988 3934 \nL 425 3934 \nz\nM 425 0 \nL 425 3319 \nL 988 3319 \nL 988 0 \nL 425 0 \nz\n\" transform=\"scale(0.015625)\"/>\n      <path id=\"ArialMT-6e\" d=\"M 422 0 \nL 422 3319 \nL 928 3319 \nL 928 2847 \nQ 1294 3394 1984 3394 \nQ 2284 3394 2536 3286 \nQ 2788 3178 2913 3003 \nQ 3038 2828 3088 2588 \nQ 3119 2431 3119 2041 \nL 3119 0 \nL 2556 0 \nL 2556 2019 \nQ 2556 2363 2490 2533 \nQ 2425 2703 2258 2804 \nQ 2091 2906 1866 2906 \nQ 1506 2906 1245 2678 \nQ 984 2450 984 1813 \nL 984 0 \nL 422 0 \nz\n\" transform=\"scale(0.015625)\"/>\n      <path id=\"ArialMT-6d\" d=\"M 422 0 \nL 422 3319 \nL 925 3319 \nL 925 2853 \nQ 1081 3097 1340 3245 \nQ 1600 3394 1931 3394 \nQ 2300 3394 2536 3241 \nQ 2772 3088 2869 2813 \nQ 3263 3394 3894 3394 \nQ 4388 3394 4653 3120 \nQ 4919 2847 4919 2278 \nL 4919 0 \nL 4359 0 \nL 4359 2091 \nQ 4359 2428 4304 2576 \nQ 4250 2725 4106 2815 \nQ 3963 2906 3769 2906 \nQ 3419 2906 3187 2673 \nQ 2956 2441 2956 1928 \nL 2956 0 \nL 2394 0 \nL 2394 2156 \nQ 2394 2531 2256 2718 \nQ 2119 2906 1806 2906 \nQ 1569 2906 1367 2781 \nQ 1166 2656 1075 2415 \nQ 984 2175 984 1722 \nL 984 0 \nL 422 0 \nz\n\" transform=\"scale(0.015625)\"/>\n      <path id=\"ArialMT-74\" d=\"M 1650 503 \nL 1731 6 \nQ 1494 -44 1306 -44 \nQ 1000 -44 831 53 \nQ 663 150 594 308 \nQ 525 466 525 972 \nL 525 2881 \nL 113 2881 \nL 113 3319 \nL 525 3319 \nL 525 4141 \nL 1084 4478 \nL 1084 3319 \nL 1650 3319 \nL 1650 2881 \nL 1084 2881 \nL 1084 941 \nQ 1084 700 1114 631 \nQ 1144 563 1211 522 \nQ 1278 481 1403 481 \nQ 1497 481 1650 503 \nz\n\" transform=\"scale(0.015625)\"/>\n      <path id=\"ArialMT-3a\" d=\"M 578 2678 \nL 578 3319 \nL 1219 3319 \nL 1219 2678 \nL 578 2678 \nz\nM 578 0 \nL 578 641 \nL 1219 641 \nL 1219 0 \nL 578 0 \nz\n\" transform=\"scale(0.015625)\"/>\n     </defs>\n     <use xlink:href=\"#ArialMT-46\"/>\n     <use xlink:href=\"#ArialMT-69\" x=\"61.083984\"/>\n     <use xlink:href=\"#ArialMT-6e\" x=\"83.300781\"/>\n     <use xlink:href=\"#ArialMT-61\" x=\"138.916016\"/>\n     <use xlink:href=\"#ArialMT-6c\" x=\"194.53125\"/>\n     <use xlink:href=\"#ArialMT-20\" x=\"216.748047\"/>\n     <use xlink:href=\"#ArialMT-6d\" x=\"244.53125\"/>\n     <use xlink:href=\"#ArialMT-6f\" x=\"327.832031\"/>\n     <use xlink:href=\"#ArialMT-64\" x=\"383.447266\"/>\n     <use xlink:href=\"#ArialMT-65\" x=\"439.0625\"/>\n     <use xlink:href=\"#ArialMT-6c\" x=\"494.677734\"/>\n     <use xlink:href=\"#ArialMT-20\" x=\"516.894531\"/>\n     <use xlink:href=\"#ArialMT-74\" x=\"544.677734\"/>\n     <use xlink:href=\"#ArialMT-65\" x=\"572.460938\"/>\n     <use xlink:href=\"#ArialMT-73\" x=\"628.076172\"/>\n     <use xlink:href=\"#ArialMT-74\" x=\"678.076172\"/>\n     <use xlink:href=\"#ArialMT-20\" x=\"705.859375\"/>\n     <use xlink:href=\"#ArialMT-61\" x=\"733.642578\"/>\n     <use xlink:href=\"#ArialMT-63\" x=\"789.257812\"/>\n     <use xlink:href=\"#ArialMT-63\" x=\"839.257812\"/>\n     <use xlink:href=\"#ArialMT-75\" x=\"889.257812\"/>\n     <use xlink:href=\"#ArialMT-72\" x=\"944.873047\"/>\n     <use xlink:href=\"#ArialMT-61\" x=\"978.173828\"/>\n     <use xlink:href=\"#ArialMT-63\" x=\"1033.789062\"/>\n     <use xlink:href=\"#ArialMT-79\" x=\"1083.789062\"/>\n     <use xlink:href=\"#ArialMT-3a\" x=\"1133.789062\"/>\n     <use xlink:href=\"#ArialMT-20\" x=\"1161.572266\"/>\n     <use xlink:href=\"#ArialMT-38\" x=\"1189.355469\"/>\n     <use xlink:href=\"#ArialMT-36\" x=\"1244.970703\"/>\n     <use xlink:href=\"#ArialMT-2e\" x=\"1300.585938\"/>\n     <use xlink:href=\"#ArialMT-30\" x=\"1328.369141\"/>\n     <use xlink:href=\"#ArialMT-30\" x=\"1383.984375\"/>\n     <use xlink:href=\"#ArialMT-25\" x=\"1439.599609\"/>\n    </g>\n   </g>\n   <g id=\"legend_1\">\n    <g id=\"patch_12\">\n     <path d=\"M 537.839062 238.695625 \nL 592.245312 238.695625 \nQ 594.245312 238.695625 594.245312 236.695625 \nL 594.245312 209.405 \nQ 594.245312 207.405 592.245312 207.405 \nL 537.839062 207.405 \nQ 535.839062 207.405 535.839062 209.405 \nL 535.839062 236.695625 \nQ 535.839062 238.695625 537.839062 238.695625 \nz\n\" style=\"fill: #ffffff; opacity: 0.8; stroke: #cccccc; stroke-linejoin: miter\"/>\n    </g>\n    <g id=\"line2d_27\">\n     <path d=\"M 539.839062 215.062812 \nL 549.839062 215.062812 \nL 559.839062 215.062812 \n\" style=\"fill: none; stroke: #1f77b4; stroke-width: 1.5; stroke-linecap: round\"/>\n    </g>\n    <g id=\"text_30\">\n     <!-- Train -->\n     <g style=\"fill: #262626\" transform=\"translate(567.839062 218.562812) scale(0.1 -0.1)\">\n      <defs>\n       <path id=\"ArialMT-54\" d=\"M 1659 0 \nL 1659 4041 \nL 150 4041 \nL 150 4581 \nL 3781 4581 \nL 3781 4041 \nL 2266 4041 \nL 2266 0 \nL 1659 0 \nz\n\" transform=\"scale(0.015625)\"/>\n      </defs>\n      <use xlink:href=\"#ArialMT-54\"/>\n      <use xlink:href=\"#ArialMT-72\" x=\"57.333984\"/>\n      <use xlink:href=\"#ArialMT-61\" x=\"90.634766\"/>\n      <use xlink:href=\"#ArialMT-69\" x=\"146.25\"/>\n      <use xlink:href=\"#ArialMT-6e\" x=\"168.466797\"/>\n     </g>\n    </g>\n    <g id=\"line2d_28\">\n     <path d=\"M 539.839062 229.208125 \nL 549.839062 229.208125 \nL 559.839062 229.208125 \n\" style=\"fill: none; stroke: #ff7f0e; stroke-width: 1.5; stroke-linecap: round\"/>\n    </g>\n    <g id=\"text_31\">\n     <!-- Test -->\n     <g style=\"fill: #262626\" transform=\"translate(567.839062 232.708125) scale(0.1 -0.1)\">\n      <use xlink:href=\"#ArialMT-54\"/>\n      <use xlink:href=\"#ArialMT-65\" x=\"49.958984\"/>\n      <use xlink:href=\"#ArialMT-73\" x=\"105.574219\"/>\n      <use xlink:href=\"#ArialMT-74\" x=\"155.574219\"/>\n     </g>\n    </g>\n   </g>\n  </g>\n </g>\n <defs>\n  <clipPath id=\"p4bd89851d2\">\n   <rect x=\"41.245313\" y=\"21.935625\" width=\"253.636364\" height=\"221.76\"/>\n  </clipPath>\n  <clipPath id=\"pf8725fdfc6\">\n   <rect x=\"345.608949\" y=\"21.935625\" width=\"253.636364\" height=\"221.76\"/>\n  </clipPath>\n </defs>\n</svg>\n"
     },
     "metadata": {},
     "output_type": "display_data"
    }
   ],
   "source": [
    "plt.figure(figsize=(10, 4))\n",
    "\n",
    "plt.subplot(121)\n",
    "plt.plot(losses)\n",
    "plt.ylabel(\"Loss\")\n",
    "plt.xlabel(\"Epoch\")\n",
    "plt.title(\"Model loss\")\n",
    "\n",
    "plt.subplot(122)\n",
    "plt.plot(trainAcc, label=\"Train\")\n",
    "plt.plot(testAcc, label=\"Test\")\n",
    "plt.legend()\n",
    "plt.ylabel(\"Accuracy [%]\")\n",
    "plt.xlabel(\"Epoch\")\n",
    "plt.title(f\"Final model test accuracy: {testAcc[-1]:.2f}%\")\n",
    "\n",
    "plt.show()"
   ],
   "metadata": {
    "collapsed": false
   }
  },
  {
   "cell_type": "code",
   "execution_count": 370,
   "outputs": [],
   "source": [
    "# for _ in range(20):\n",
    "#     net, lossfun, optimzer = createTheNet()\n",
    "#     _,testAcc,_ = trainTheModel(train_loader, test_loader, net, lossfun, optimzer)\n",
    "#     print(f\"Final model test accuracy: {testAcc[-1]}%\")"
   ],
   "metadata": {
    "collapsed": false
   }
  },
  {
   "cell_type": "code",
   "execution_count": 370,
   "outputs": [],
   "source": [],
   "metadata": {
    "collapsed": false
   }
  }
 ],
 "metadata": {
  "kernelspec": {
   "display_name": "Python 3",
   "language": "python",
   "name": "python3"
  },
  "language_info": {
   "codemirror_mode": {
    "name": "ipython",
    "version": 2
   },
   "file_extension": ".py",
   "mimetype": "text/x-python",
   "name": "python",
   "nbconvert_exporter": "python",
   "pygments_lexer": "ipython2",
   "version": "2.7.6"
  }
 },
 "nbformat": 4,
 "nbformat_minor": 0
}
